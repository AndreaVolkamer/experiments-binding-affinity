{
 "cells": [
  {
   "cell_type": "markdown",
   "metadata": {
    "papermill": {
     "duration": 0.011041,
     "end_time": "2020-12-07T11:00:14.295271",
     "exception": false,
     "start_time": "2020-12-07T11:00:14.284230",
     "status": "completed"
    },
    "tags": []
   },
   "source": [
    "# Featurize a dataset\n",
    "\n",
    "Any machine learning model will expect tensorial representations of the chemical data. This notebooks provides a workflow to achieve such goal.\n",
    "\n",
    "`kinoml.dataset.DatasetProvider` objects need to be available to deal with your collection of raw measurements for protein:ligand systems. These objects are, roughly, a list of `kinoml.core.BaseMeasurement`, each containing a set of `.values` and a some extra metadata, like the `system` objects to be featurized here.\n",
    "\n",
    "In ligand-based models, protein information is only considered marginally, and most of the action happens at the ligand level. Usually starting with a string representation such as SMILES, or a database identifier such as a PubChem ID, these are promoted to (usually) RDKit objects and then transformed into a tensor of some form (e.g. fingerprints, molecular graph as an adjacency matrix, etc).\n",
    "\n",
    "Available featurizers can be found under `kinoml.features`."
   ]
  },
  {
   "cell_type": "markdown",
   "metadata": {
    "papermill": {
     "duration": 0.010498,
     "end_time": "2020-12-07T11:00:14.316385",
     "exception": false,
     "start_time": "2020-12-07T11:00:14.305887",
     "status": "completed"
    },
    "tags": []
   },
   "source": [
    "## How to use\n",
    "\n",
    "Run `python run_notebook.py --help` for more information."
   ]
  },
  {
   "cell_type": "code",
   "execution_count": 1,
   "metadata": {
    "execution": {
     "iopub.execute_input": "2020-12-07T11:00:14.343222Z",
     "iopub.status.busy": "2020-12-07T11:00:14.342777Z",
     "iopub.status.idle": "2020-12-07T11:00:14.345749Z",
     "shell.execute_reply": "2020-12-07T11:00:14.345332Z"
    },
    "papermill": {
     "duration": 0.018616,
     "end_time": "2020-12-07T11:00:14.345900",
     "exception": false,
     "start_time": "2020-12-07T11:00:14.327284",
     "status": "completed"
    },
    "tags": []
   },
   "outputs": [],
   "source": [
    "# If this is the template file (and not a copy) and you are introducing changes,\n",
    "# update VERSION with the current date (YYYY.MM.DD)\n",
    "VERSION = \"2020.12.07\" "
   ]
  },
  {
   "cell_type": "markdown",
   "metadata": {
    "papermill": {
     "duration": 0.011466,
     "end_time": "2020-12-07T11:00:14.367951",
     "exception": false,
     "start_time": "2020-12-07T11:00:14.356485",
     "status": "completed"
    },
    "tags": []
   },
   "source": [
    "## ✏ Define hyper parameters"
   ]
  },
  {
   "cell_type": "code",
   "execution_count": 2,
   "metadata": {
    "execution": {
     "iopub.execute_input": "2020-12-07T11:00:14.392326Z",
     "iopub.status.busy": "2020-12-07T11:00:14.391871Z",
     "iopub.status.idle": "2020-12-07T11:00:14.394454Z",
     "shell.execute_reply": "2020-12-07T11:00:14.394055Z"
    },
    "papermill": {
     "duration": 0.016706,
     "end_time": "2020-12-07T11:00:14.394580",
     "exception": false,
     "start_time": "2020-12-07T11:00:14.377874",
     "status": "completed"
    },
    "tags": [
     "parameters"
    ]
   },
   "outputs": [],
   "source": [
    "# TEMPLATE VALUES -- these are overriden (see below if executed) by papermill using a YAML or Python file as input\n",
    "DATASET_CLS = \"import.path.to.DatasetProvider\"\n",
    "DATASET_KWARGS = {\"option\": \"value\", \"option2\": \"value2\"}\n",
    "\n",
    "PIPELINE = {\n",
    "    \"someuniquekey\": [\n",
    "        (\"import.path.to.SomeFeaturizer\", {\"option\": \"value\", \"option2\": \"value2\"}),\n",
    "        (\"import.path.to.SomeOtherFeaturizer\", {\"option\": \"value\", \"option2\": \"value2\"}),\n",
    "    ]\n",
    "}\n",
    "PIPELINE_AGG = \"kinoml.features.core.Concatenated\"\n",
    "PIPELINE_AGG_KWARGS = {}\n",
    "\n",
    "FEATURIZE_KWARGS = {\"processes\": 1}\n",
    "\n",
    "GROUPS = [\n",
    "    (\"kinoml.datasets.groups.CallableGrouper\", {\"function\": \"lambda something: something.attribute\"}),\n",
    "    (\"kinoml.datasets.groups.CallableGrouper\", {\"function\": \"lambda otherthing: otherthing.attribute2\"})\n",
    "]\n",
    "\n",
    "TRAIN_TEST_VAL_KWARGS = {\"idx_train\": 0.8, \"idx_test\": 0.1, \"idx_val\": 0.1}\n",
    "\n",
    "## IGNORE THIS ONE\n",
    "HERE = _dh[-1]"
   ]
  },
  {
   "cell_type": "code",
   "execution_count": 3,
   "metadata": {
    "execution": {
     "iopub.execute_input": "2020-12-07T11:00:14.422850Z",
     "iopub.status.busy": "2020-12-07T11:00:14.422390Z",
     "iopub.status.idle": "2020-12-07T11:00:14.424781Z",
     "shell.execute_reply": "2020-12-07T11:00:14.425100Z"
    },
    "papermill": {
     "duration": 0.020996,
     "end_time": "2020-12-07T11:00:14.425258",
     "exception": false,
     "start_time": "2020-12-07T11:00:14.404262",
     "status": "completed"
    },
    "tags": [
     "injected-parameters"
    ]
   },
   "outputs": [],
   "source": [
    "# Parameters\n",
    "DATASET_CLS = \"kinoml.datasets.kinomescan.pkis2.PKIS2DatasetProvider\"\n",
    "DATASET_KWARGS = {}\n",
    "PIPELINE = {\n",
    "    \"ligand\": [\n",
    "        [\"kinoml.features.ligand.SmilesToLigandFeaturizer\", {\"style\": \"rdkit\"}],\n",
    "        [\n",
    "            \"kinoml.features.ligand.MorganFingerprintFeaturizer\",\n",
    "            {\"nbits\": 512, \"radius\": 2},\n",
    "        ],\n",
    "    ]\n",
    "}\n",
    "PIPELINE_AGG = \"kinoml.features.core.Concatenated\"\n",
    "PIPELINE_AGG_KWARGS = {}\n",
    "FEATURIZE_KWARGS = {\"processes\": 1}\n",
    "GROUPS = [\n",
    "    [\n",
    "        \"kinoml.datasets.groups.CallableGrouper\",\n",
    "        {\"function\": \"lambda measurement: measurement.system.protein.name\"},\n",
    "    ],\n",
    "    [\n",
    "        \"kinoml.datasets.groups.CallableGrouper\",\n",
    "        {\"function\": \"lambda measurement: type(measurement).__name__\"},\n",
    "    ],\n",
    "]\n",
    "TRAIN_TEST_VAL_KWARGS = {\"idx_train\": 0.8, \"idx_test\": 0.1, \"idx_val\": 0.1}\n",
    "HERE = \"/home/jaime/devel/py/openkinome/experiments-binding-affinity/features/ligand-only-morgan512\"\n"
   ]
  },
  {
   "cell_type": "markdown",
   "metadata": {
    "papermill": {
     "duration": 0.010874,
     "end_time": "2020-12-07T11:00:14.446899",
     "exception": false,
     "start_time": "2020-12-07T11:00:14.436025",
     "status": "completed"
    },
    "tags": []
   },
   "source": [
    "⚠ From here on, you should _not_ need to modify anything else 🤞\n",
    "\n",
    "---\n",
    "\n",
    "Define key paths for data and outputs:"
   ]
  },
  {
   "cell_type": "code",
   "execution_count": 4,
   "metadata": {
    "execution": {
     "iopub.execute_input": "2020-12-07T11:00:14.476089Z",
     "iopub.status.busy": "2020-12-07T11:00:14.475404Z",
     "iopub.status.idle": "2020-12-07T11:00:14.481211Z",
     "shell.execute_reply": "2020-12-07T11:00:14.480879Z"
    },
    "papermill": {
     "duration": 0.023946,
     "end_time": "2020-12-07T11:00:14.481329",
     "exception": false,
     "start_time": "2020-12-07T11:00:14.457383",
     "status": "completed"
    },
    "tags": []
   },
   "outputs": [
    {
     "name": "stdout",
     "output_type": "stream",
     "text": [
      "This notebook:           HERE = ~/devel/py/openkinome/experiments-binding-affinity/features/ligand-only-morgan512\n",
      "This repo:               REPO = ~/devel/py/openkinome/experiments-binding-affinity\n",
      "Outputs in:               OUT = ~/devel/py/openkinome/experiments-binding-affinity/features/ligand-only-morgan512/_output/ligand__SmilesToLigandFeaturizer_style=rdkit__MorganFingerprintFeaturizer_nbits=512_radius=2/PKIS2DatasetProvider\n"
     ]
    }
   ],
   "source": [
    "from pathlib import Path\n",
    "\n",
    "HERE = Path(HERE)\n",
    "for parent in HERE.parents:\n",
    "    if next(parent.glob(\".github/\"), None):\n",
    "        REPO = parent\n",
    "        break\n",
    "\n",
    "# Generate paths for this pipeline\n",
    "featurizer_path = []\n",
    "for name, branch in PIPELINE.items():\n",
    "    featurizer_path.append(name)\n",
    "    for clsname, kwargs in branch:\n",
    "        clsname = clsname.rsplit(\".\", 1)[1]\n",
    "        kwargs = [f\"{k}={''.join(c for c in str(v) if c.isalnum())}\" for k,v in kwargs.items()]\n",
    "        featurizer_path.append(\"_\".join([clsname] + kwargs))\n",
    "\n",
    "OUT = HERE / \"_output\"  / \"__\".join(featurizer_path) / DATASET_CLS.rsplit('.', 1)[1]\n",
    "OUT.mkdir(parents=True, exist_ok=True)\n",
    "\n",
    "print(f\"This notebook:           HERE = ~/{HERE.relative_to(Path.home())}\")\n",
    "print(f\"This repo:               REPO = ~/{REPO.relative_to(Path.home())}\")\n",
    "print(f\"Outputs in:               OUT = ~/{OUT.relative_to(Path.home())}\")"
   ]
  },
  {
   "cell_type": "code",
   "execution_count": 5,
   "metadata": {
    "execution": {
     "iopub.execute_input": "2020-12-07T11:00:14.507294Z",
     "iopub.status.busy": "2020-12-07T11:00:14.506918Z",
     "iopub.status.idle": "2020-12-07T11:00:14.510195Z",
     "shell.execute_reply": "2020-12-07T11:00:14.509818Z"
    },
    "papermill": {
     "duration": 0.017249,
     "end_time": "2020-12-07T11:00:14.510292",
     "exception": false,
     "start_time": "2020-12-07T11:00:14.493043",
     "status": "completed"
    },
    "tags": []
   },
   "outputs": [],
   "source": [
    "# Nasty trick: save all-caps local variables (CONSTANTS working as hyperparametrs) so far in a dict to save it later\n",
    "_hparams = {key: value for key, value in locals().items() if key.upper() == key and not key.startswith((\"_\", \"OE_\"))}"
   ]
  },
  {
   "cell_type": "markdown",
   "metadata": {
    "papermill": {
     "duration": 0.010455,
     "end_time": "2020-12-07T11:00:14.530798",
     "exception": false,
     "start_time": "2020-12-07T11:00:14.520343",
     "status": "completed"
    },
    "tags": []
   },
   "source": [
    "## Setup is finished, start working"
   ]
  },
  {
   "cell_type": "code",
   "execution_count": 6,
   "metadata": {
    "execution": {
     "iopub.execute_input": "2020-12-07T11:00:14.556620Z",
     "iopub.status.busy": "2020-12-07T11:00:14.555980Z",
     "iopub.status.idle": "2020-12-07T11:00:14.951164Z",
     "shell.execute_reply": "2020-12-07T11:00:14.951435Z"
    },
    "papermill": {
     "duration": 0.409509,
     "end_time": "2020-12-07T11:00:14.951560",
     "exception": false,
     "start_time": "2020-12-07T11:00:14.542051",
     "status": "completed"
    },
    "tags": []
   },
   "outputs": [
    {
     "name": "stdout",
     "output_type": "stream",
     "text": [
      "Run started at 2020-12-07 12:00:14.946374\n"
     ]
    }
   ],
   "source": [
    "from warnings import warn\n",
    "import os\n",
    "import sys\n",
    "from pathlib import Path\n",
    "from datetime import datetime\n",
    "\n",
    "import numpy as np\n",
    "\n",
    "from kinoml.utils import seed_everything, import_object\n",
    "seed_everything();\n",
    "print(\"Run started at\", datetime.now())"
   ]
  },
  {
   "cell_type": "markdown",
   "metadata": {
    "papermill": {
     "duration": 0.010382,
     "end_time": "2020-12-07T11:00:14.972381",
     "exception": false,
     "start_time": "2020-12-07T11:00:14.961999",
     "status": "completed"
    },
    "tags": []
   },
   "source": [
    "## Load raw data"
   ]
  },
  {
   "cell_type": "code",
   "execution_count": 7,
   "metadata": {
    "execution": {
     "iopub.execute_input": "2020-12-07T11:00:14.999924Z",
     "iopub.status.busy": "2020-12-07T11:00:14.999525Z",
     "iopub.status.idle": "2020-12-07T11:00:22.533235Z",
     "shell.execute_reply": "2020-12-07T11:00:22.532801Z"
    },
    "papermill": {
     "duration": 7.55138,
     "end_time": "2020-12-07T11:00:22.533341",
     "exception": false,
     "start_time": "2020-12-07T11:00:14.981961",
     "status": "completed"
    },
    "tags": []
   },
   "outputs": [
    {
     "data": {
      "application/vnd.jupyter.widget-view+json": {
       "model_id": "aee8b0b7cb78406b914fe3afb4a8f570",
       "version_major": 2,
       "version_minor": 0
      },
      "text/plain": []
     },
     "metadata": {},
     "output_type": "display_data"
    },
    {
     "data": {
      "text/plain": [
       "<PKIS2DatasetProvider with 261870 PercentageDisplacementMeasurement measurements and 257920 systems (AminoAcidSequence=403, SmilesLigand=640)>"
      ]
     },
     "execution_count": 7,
     "metadata": {},
     "output_type": "execute_result"
    }
   ],
   "source": [
    "dataset = import_object(DATASET_CLS).from_source(**DATASET_KWARGS)\n",
    "dataset"
   ]
  },
  {
   "cell_type": "code",
   "execution_count": 8,
   "metadata": {
    "execution": {
     "iopub.execute_input": "2020-12-07T11:00:22.574782Z",
     "iopub.status.busy": "2020-12-07T11:00:22.569370Z",
     "iopub.status.idle": "2020-12-07T11:00:24.223316Z",
     "shell.execute_reply": "2020-12-07T11:00:24.222956Z"
    },
    "papermill": {
     "duration": 1.678498,
     "end_time": "2020-12-07T11:00:24.223408",
     "exception": false,
     "start_time": "2020-12-07T11:00:22.544910",
     "status": "completed"
    },
    "tags": []
   },
   "outputs": [
    {
     "data": {
      "text/html": [
       "<div>\n",
       "<style scoped>\n",
       "    .dataframe tbody tr th:only-of-type {\n",
       "        vertical-align: middle;\n",
       "    }\n",
       "\n",
       "    .dataframe tbody tr th {\n",
       "        vertical-align: top;\n",
       "    }\n",
       "\n",
       "    .dataframe thead th {\n",
       "        text-align: right;\n",
       "    }\n",
       "</style>\n",
       "<table border=\"1\" class=\"dataframe\">\n",
       "  <thead>\n",
       "    <tr style=\"text-align: right;\">\n",
       "      <th></th>\n",
       "      <th>Systems</th>\n",
       "      <th>n_components</th>\n",
       "      <th>PercentageDisplacementMeasurement</th>\n",
       "    </tr>\n",
       "  </thead>\n",
       "  <tbody>\n",
       "    <tr>\n",
       "      <th>0</th>\n",
       "      <td>AAK1 &amp; Clc1cccc(Cn2c(nn3c2nc(cc3=O)N2CCOCC2)C2...</td>\n",
       "      <td>2</td>\n",
       "      <td>14.0</td>\n",
       "    </tr>\n",
       "    <tr>\n",
       "      <th>1</th>\n",
       "      <td>ABL1-nonphosphorylated &amp; Clc1cccc(Cn2c(nn3c2nc...</td>\n",
       "      <td>2</td>\n",
       "      <td>28.0</td>\n",
       "    </tr>\n",
       "    <tr>\n",
       "      <th>2</th>\n",
       "      <td>ABL1-nonphosphorylated &amp; Clc1cccc(Cn2c(nn3c2nc...</td>\n",
       "      <td>2</td>\n",
       "      <td>20.0</td>\n",
       "    </tr>\n",
       "    <tr>\n",
       "      <th>3</th>\n",
       "      <td>ABL2 &amp; Clc1cccc(Cn2c(nn3c2nc(cc3=O)N2CCOCC2)C2...</td>\n",
       "      <td>2</td>\n",
       "      <td>5.0</td>\n",
       "    </tr>\n",
       "    <tr>\n",
       "      <th>4</th>\n",
       "      <td>ACVR1 &amp; Clc1cccc(Cn2c(nn3c2nc(cc3=O)N2CCOCC2)C...</td>\n",
       "      <td>2</td>\n",
       "      <td>0.0</td>\n",
       "    </tr>\n",
       "    <tr>\n",
       "      <th>...</th>\n",
       "      <td>...</td>\n",
       "      <td>...</td>\n",
       "      <td>...</td>\n",
       "    </tr>\n",
       "    <tr>\n",
       "      <th>261865</th>\n",
       "      <td>ZAP70 &amp; CCn1c(nc2c(nc(OC[C@H](N)c3ccccc3)cc12)...</td>\n",
       "      <td>2</td>\n",
       "      <td>0.0</td>\n",
       "    </tr>\n",
       "    <tr>\n",
       "      <th>261866</th>\n",
       "      <td>p38-alpha &amp; CCn1c(nc2c(nc(OC[C@H](N)c3ccccc3)c...</td>\n",
       "      <td>2</td>\n",
       "      <td>0.0</td>\n",
       "    </tr>\n",
       "    <tr>\n",
       "      <th>261867</th>\n",
       "      <td>p38-beta &amp; CCn1c(nc2c(nc(OC[C@H](N)c3ccccc3)cc...</td>\n",
       "      <td>2</td>\n",
       "      <td>0.0</td>\n",
       "    </tr>\n",
       "    <tr>\n",
       "      <th>261868</th>\n",
       "      <td>p38-delta &amp; CCn1c(nc2c(nc(OC[C@H](N)c3ccccc3)c...</td>\n",
       "      <td>2</td>\n",
       "      <td>0.0</td>\n",
       "    </tr>\n",
       "    <tr>\n",
       "      <th>261869</th>\n",
       "      <td>p38-gamma &amp; CCn1c(nc2c(nc(OC[C@H](N)c3ccccc3)c...</td>\n",
       "      <td>2</td>\n",
       "      <td>34.0</td>\n",
       "    </tr>\n",
       "  </tbody>\n",
       "</table>\n",
       "<p>261870 rows × 3 columns</p>\n",
       "</div>"
      ],
      "text/plain": [
       "                                                  Systems  n_components  \\\n",
       "0       AAK1 & Clc1cccc(Cn2c(nn3c2nc(cc3=O)N2CCOCC2)C2...             2   \n",
       "1       ABL1-nonphosphorylated & Clc1cccc(Cn2c(nn3c2nc...             2   \n",
       "2       ABL1-nonphosphorylated & Clc1cccc(Cn2c(nn3c2nc...             2   \n",
       "3       ABL2 & Clc1cccc(Cn2c(nn3c2nc(cc3=O)N2CCOCC2)C2...             2   \n",
       "4       ACVR1 & Clc1cccc(Cn2c(nn3c2nc(cc3=O)N2CCOCC2)C...             2   \n",
       "...                                                   ...           ...   \n",
       "261865  ZAP70 & CCn1c(nc2c(nc(OC[C@H](N)c3ccccc3)cc12)...             2   \n",
       "261866  p38-alpha & CCn1c(nc2c(nc(OC[C@H](N)c3ccccc3)c...             2   \n",
       "261867  p38-beta & CCn1c(nc2c(nc(OC[C@H](N)c3ccccc3)cc...             2   \n",
       "261868  p38-delta & CCn1c(nc2c(nc(OC[C@H](N)c3ccccc3)c...             2   \n",
       "261869  p38-gamma & CCn1c(nc2c(nc(OC[C@H](N)c3ccccc3)c...             2   \n",
       "\n",
       "        PercentageDisplacementMeasurement  \n",
       "0                                    14.0  \n",
       "1                                    28.0  \n",
       "2                                    20.0  \n",
       "3                                     5.0  \n",
       "4                                     0.0  \n",
       "...                                   ...  \n",
       "261865                                0.0  \n",
       "261866                                0.0  \n",
       "261867                                0.0  \n",
       "261868                                0.0  \n",
       "261869                               34.0  \n",
       "\n",
       "[261870 rows x 3 columns]"
      ]
     },
     "execution_count": 8,
     "metadata": {},
     "output_type": "execute_result"
    }
   ],
   "source": [
    "df = dataset.to_dataframe()\n",
    "df"
   ]
  },
  {
   "cell_type": "markdown",
   "metadata": {
    "papermill": {
     "duration": 0.012523,
     "end_time": "2020-12-07T11:00:24.247112",
     "exception": false,
     "start_time": "2020-12-07T11:00:24.234589",
     "status": "completed"
    },
    "tags": []
   },
   "source": [
    "## Featurize"
   ]
  },
  {
   "cell_type": "code",
   "execution_count": 9,
   "metadata": {
    "execution": {
     "iopub.execute_input": "2020-12-07T11:00:24.276223Z",
     "iopub.status.busy": "2020-12-07T11:00:24.275857Z",
     "iopub.status.idle": "2020-12-07T11:00:24.278385Z",
     "shell.execute_reply": "2020-12-07T11:00:24.278006Z"
    },
    "papermill": {
     "duration": 0.018355,
     "end_time": "2020-12-07T11:00:24.278479",
     "exception": false,
     "start_time": "2020-12-07T11:00:24.260124",
     "status": "completed"
    },
    "tags": []
   },
   "outputs": [],
   "source": [
    "# build pipeline\n",
    "from kinoml.features.core import Pipeline\n",
    "\n",
    "featurizers = []\n",
    "for key, featurizer_instructions in PIPELINE.items():\n",
    "    featurizers.append(Pipeline([import_object(import_str)(**kwargs) for import_str, kwargs in featurizer_instructions]))\n",
    "featurizer = import_object(PIPELINE_AGG)(featurizers, **PIPELINE_AGG_KWARGS)"
   ]
  },
  {
   "cell_type": "code",
   "execution_count": 10,
   "metadata": {
    "execution": {
     "iopub.execute_input": "2020-12-07T11:00:24.315869Z",
     "iopub.status.busy": "2020-12-07T11:00:24.309045Z",
     "iopub.status.idle": "2020-12-07T11:09:10.556794Z",
     "shell.execute_reply": "2020-12-07T11:09:10.557086Z"
    },
    "papermill": {
     "duration": 526.267622,
     "end_time": "2020-12-07T11:09:10.557272",
     "exception": false,
     "start_time": "2020-12-07T11:00:24.289650",
     "status": "completed"
    },
    "tags": []
   },
   "outputs": [
    {
     "data": {
      "application/vnd.jupyter.widget-view+json": {
       "model_id": "0164c575ccc44a1494434c803e1ac979",
       "version_major": 2,
       "version_minor": 0
      },
      "text/plain": [
       "HBox(children=(HTML(value=''), FloatProgress(value=0.0, max=257920.0), HTML(value='')))"
      ]
     },
     "metadata": {},
     "output_type": "display_data"
    },
    {
     "name": "stdout",
     "output_type": "stream",
     "text": [
      "\n"
     ]
    }
   ],
   "source": [
    "# prefeaturize everything\n",
    "dataset.featurize(featurizer, **FEATURIZE_KWARGS);"
   ]
  },
  {
   "cell_type": "markdown",
   "metadata": {
    "papermill": {
     "duration": 0.013009,
     "end_time": "2020-12-07T11:09:10.582513",
     "exception": false,
     "start_time": "2020-12-07T11:09:10.569504",
     "status": "completed"
    },
    "tags": []
   },
   "source": [
    "## Filter"
   ]
  },
  {
   "cell_type": "markdown",
   "metadata": {
    "papermill": {
     "duration": 0.012531,
     "end_time": "2020-12-07T11:09:10.608695",
     "exception": false,
     "start_time": "2020-12-07T11:09:10.596164",
     "status": "completed"
    },
    "tags": []
   },
   "source": [
    "Remove systems that couldn't be featurized. Successful featurizations are stored in `measurement.system.featurizations['last']` so we test for that key existence."
   ]
  },
  {
   "cell_type": "code",
   "execution_count": 11,
   "metadata": {
    "execution": {
     "iopub.execute_input": "2020-12-07T11:09:10.648070Z",
     "iopub.status.busy": "2020-12-07T11:09:10.642912Z",
     "iopub.status.idle": "2020-12-07T11:09:10.874286Z",
     "shell.execute_reply": "2020-12-07T11:09:10.873884Z"
    },
    "papermill": {
     "duration": 0.253758,
     "end_time": "2020-12-07T11:09:10.874390",
     "exception": false,
     "start_time": "2020-12-07T11:09:10.620632",
     "status": "completed"
    },
    "tags": []
   },
   "outputs": [],
   "source": [
    "from kinoml.datasets.groups import CallableGrouper, RandomGrouper\n",
    "grouper = CallableGrouper(lambda measurement: 'invalid' if 'last' not in measurement.system.featurizations else 'valid')\n",
    "grouper.assign(dataset, overwrite=True, progress=False)\n",
    "groups = dataset.split_by_groups()\n",
    "if \"invalid\" in groups:\n",
    "    _invalid = groups.pop(\"invalid\")\n",
    "    warn(f\"{len(_invalid)} entries could not be featurized!. Possible errors:\")\n",
    "    warn(f\"{_invalid[0].system.featurizations}\")"
   ]
  },
  {
   "cell_type": "markdown",
   "metadata": {
    "papermill": {
     "duration": 0.013524,
     "end_time": "2020-12-07T11:09:10.900874",
     "exception": false,
     "start_time": "2020-12-07T11:09:10.887350",
     "status": "completed"
    },
    "tags": []
   },
   "source": [
    "## Groups\n",
    "\n",
    "Cumulatively apply groups."
   ]
  },
  {
   "cell_type": "code",
   "execution_count": 12,
   "metadata": {
    "execution": {
     "iopub.execute_input": "2020-12-07T11:09:10.941192Z",
     "iopub.status.busy": "2020-12-07T11:09:10.936148Z",
     "iopub.status.idle": "2020-12-07T11:09:11.694613Z",
     "shell.execute_reply": "2020-12-07T11:09:11.694111Z"
    },
    "papermill": {
     "duration": 0.783002,
     "end_time": "2020-12-07T11:09:11.694752",
     "exception": false,
     "start_time": "2020-12-07T11:09:10.911750",
     "status": "completed"
    },
    "tags": []
   },
   "outputs": [
    {
     "name": "stdout",
     "output_type": "stream",
     "text": [
      "10 groups to show keys:\n",
      "('valid', 'AAK1', 'PercentageDisplacementMeasurement')\n",
      "('valid', 'ABL1-nonphosphorylated', 'PercentageDisplacementMeasurement')\n",
      "('valid', 'ABL2', 'PercentageDisplacementMeasurement')\n",
      "('valid', 'ACVR1', 'PercentageDisplacementMeasurement')\n",
      "('valid', 'ACVR1B', 'PercentageDisplacementMeasurement')\n",
      "('valid', 'ACVR2A', 'PercentageDisplacementMeasurement')\n",
      "('valid', 'ACVR2B', 'PercentageDisplacementMeasurement')\n",
      "('valid', 'ACVRL1', 'PercentageDisplacementMeasurement')\n",
      "('valid', 'ADCK3', 'PercentageDisplacementMeasurement')\n",
      "('valid', 'ADCK4', 'PercentageDisplacementMeasurement')\n"
     ]
    }
   ],
   "source": [
    "groups[(\"valid\",)] = groups.pop(\"valid\")\n",
    "for grouper_str, grouper_kwargs in GROUPS:\n",
    "    grouper_cls = import_object(grouper_str)\n",
    "    ## We need this because lambda functions are not JSON-serializable\n",
    "    if issubclass(grouper_cls, CallableGrouper):\n",
    "        for k, v in list(grouper_kwargs.items()):\n",
    "            if k == \"function\" and isinstance(v, str):\n",
    "                grouper_kwargs[k] = eval(v)  # sorry :)\n",
    "    ## End of lambda hack\n",
    "    grouper = grouper_cls(**grouper_kwargs)        \n",
    "    for group_key in list(groups.keys()):\n",
    "        grouper.assign(groups[group_key], overwrite=True, progress=False)\n",
    "        for subkey, subgroup in groups.pop(group_key).split_by_groups().items():\n",
    "            groups[group_key + (subkey,)] = subgroup\n",
    "print(\"10 groups to show keys:\", *list(groups.keys())[:10], sep=\"\\n\")"
   ]
  },
  {
   "cell_type": "markdown",
   "metadata": {
    "papermill": {
     "duration": 0.017521,
     "end_time": "2020-12-07T11:09:11.729554",
     "exception": false,
     "start_time": "2020-12-07T11:09:11.712033",
     "status": "completed"
    },
    "tags": []
   },
   "source": [
    "## Write tensors to disk\n",
    "\n",
    "Output files are written to `_output/<PIPELINE>/<DATASET>/<GROUP>.npz` files.\n",
    "\n",
    "Each `npz` will contain two `np.ndarray` objects: `X` (featurized systems) and `y` (associated measurements), plus the train/test/validation indices."
   ]
  },
  {
   "cell_type": "code",
   "execution_count": 13,
   "metadata": {
    "execution": {
     "iopub.execute_input": "2020-12-07T11:09:11.775306Z",
     "iopub.status.busy": "2020-12-07T11:09:11.774633Z",
     "iopub.status.idle": "2020-12-07T11:09:14.730845Z",
     "shell.execute_reply": "2020-12-07T11:09:14.730417Z"
    },
    "papermill": {
     "duration": 2.984142,
     "end_time": "2020-12-07T11:09:14.730966",
     "exception": false,
     "start_time": "2020-12-07T11:09:11.746824",
     "status": "completed"
    },
    "tags": []
   },
   "outputs": [],
   "source": [
    "random_grouper = RandomGrouper(TRAIN_TEST_VAL_KWARGS)\n",
    "\n",
    "for group, ds in sorted(groups.items(), key=lambda kv: len(kv[1]), reverse=True):\n",
    "    indices = random_grouper.indices(ds)\n",
    "    X = np.asarray(ds.featurized_systems())\n",
    "    y = ds.measurements_as_array()\n",
    "    np.savez(OUT / f\"{'__'.join([g for g in group if g != 'valid'])}.npz\", X=X, y=y.astype(\"float32\"), **indices)"
   ]
  },
  {
   "cell_type": "code",
   "execution_count": 14,
   "metadata": {
    "execution": {
     "iopub.execute_input": "2020-12-07T11:09:14.768468Z",
     "iopub.status.busy": "2020-12-07T11:09:14.767815Z",
     "iopub.status.idle": "2020-12-07T11:09:14.771777Z",
     "shell.execute_reply": "2020-12-07T11:09:14.771152Z"
    },
    "papermill": {
     "duration": 0.024563,
     "end_time": "2020-12-07T11:09:14.771909",
     "exception": false,
     "start_time": "2020-12-07T11:09:14.747346",
     "status": "completed"
    },
    "tags": []
   },
   "outputs": [
    {
     "name": "stdout",
     "output_type": "stream",
     "text": [
      "Run finished at 2020-12-07 12:09:14.766504\n"
     ]
    }
   ],
   "source": [
    "print(\"Run finished at\", datetime.now())"
   ]
  },
  {
   "cell_type": "markdown",
   "metadata": {
    "papermill": {
     "duration": 0.015809,
     "end_time": "2020-12-07T11:09:14.804654",
     "exception": false,
     "start_time": "2020-12-07T11:09:14.788845",
     "status": "completed"
    },
    "tags": []
   },
   "source": [
    "# Reproducibility logs"
   ]
  },
  {
   "cell_type": "code",
   "execution_count": 15,
   "metadata": {
    "execution": {
     "iopub.execute_input": "2020-12-07T11:09:14.841513Z",
     "iopub.status.busy": "2020-12-07T11:09:14.841023Z",
     "iopub.status.idle": "2020-12-07T11:09:18.817658Z",
     "shell.execute_reply": "2020-12-07T11:09:18.817044Z"
    },
    "papermill": {
     "duration": 3.996581,
     "end_time": "2020-12-07T11:09:18.817776",
     "exception": false,
     "start_time": "2020-12-07T11:09:14.821195",
     "status": "completed"
    },
    "tags": []
   },
   "outputs": [
    {
     "name": "stdout",
     "output_type": "stream",
     "text": [
      "Watermark\n",
      "---------\n",
      "numpy 1.18.5\n",
      "last updated: 2020-12-07 12:09:15 CET 2020-12-07T12:09:15+01:00\n",
      "\n",
      "CPython 3.7.8\n",
      "IPython 7.18.1\n",
      "\n",
      "compiler   : GCC 7.5.0\n",
      "system     : Linux\n",
      "release    : 4.19.128-microsoft-standard\n",
      "machine    : x86_64\n",
      "processor  : x86_64\n",
      "CPU cores  : 8\n",
      "interpreter: 64bit\n",
      "host name  : jrodriguez\n",
      "Git hash   : 0c851d0b018bd4259c68517889ccd7f8c3dda212\n",
      "watermark 2.0.2\n",
      "\n",
      "conda\n",
      "-----\n"
     ]
    },
    {
     "name": "stdout",
     "output_type": "stream",
     "text": [
      "sys.version: 3.7.6 | packaged by conda-forge | (defau...\n",
      "sys.prefix: /opt/miniconda\n",
      "sys.executable: /opt/miniconda/bin/python\n",
      "conda location: /opt/miniconda/lib/python3.7/site-packages/conda\n",
      "conda-build: /opt/miniconda/bin/conda-build\n",
      "conda-convert: /opt/miniconda/bin/conda-convert\n",
      "conda-debug: /opt/miniconda/bin/conda-debug\n",
      "conda-develop: /opt/miniconda/bin/conda-develop\n",
      "conda-env: /opt/miniconda/bin/conda-env\n",
      "conda-index: /opt/miniconda/bin/conda-index\n",
      "conda-inspect: /opt/miniconda/bin/conda-inspect\n",
      "conda-metapackage: /opt/miniconda/bin/conda-metapackage\n",
      "conda-render: /opt/miniconda/bin/conda-render\n",
      "conda-server: /opt/miniconda/bin/conda-server\n",
      "conda-skeleton: /opt/miniconda/bin/conda-skeleton\n",
      "conda-smithy: /opt/miniconda/bin/conda-smithy\n",
      "user site dirs: ~/.local/lib/python3.8\n",
      "\n",
      "CIO_TEST: <not set>\n",
      "CONDA_DEFAULT_ENV: kinoml-ci\n",
      "CONDA_EXE: /opt/miniconda/bin/conda\n",
      "CONDA_PREFIX: /home/jaime/.conda/envs/kinoml-ci\n",
      "CONDA_PREFIX_1: /opt/miniconda\n",
      "CONDA_PREFIX_2: /home/jaime/.conda/envs/teachopencadd-ci\n",
      "CONDA_PROMPT_MODIFIER: (kinoml-ci) \n",
      "CONDA_PYTHON_EXE: /opt/miniconda/bin/python\n",
      "CONDA_ROOT: /opt/miniconda\n",
      "CONDA_SHLVL: 3\n",
      "CURL_CA_BUNDLE: <not set>\n",
      "PATH: /home/jaime/.conda/envs/kinoml-ci/bin:/opt/miniconda/condabin:/home/jaime/.local/bin:/usr/local/sbin:/usr/local/bin:/usr/sbin:/usr/bin:/sbin:/bin:/usr/games:/usr/local/games:/mnt/c/Program Files/NVIDIA GPU Computing Toolkit/CUDA/v11.0/bin:/mnt/c/Program Files/NVIDIA GPU Computing Toolkit/CUDA/v11.0/libnvvp:/mnt/c/Program Files/NVIDIA GPU Computing Toolkit/CUDA/v10.1/bin:/mnt/c/Program Files/NVIDIA GPU Computing Toolkit/CUDA/v10.1/libnvvp:/mnt/c/Windows/system32:/mnt/c/Windows:/mnt/c/Windows/System32/Wbem:/mnt/c/Windows/System32/WindowsPowerShell/v1.0:/mnt/c/Windows/System32/OpenSSH:/mnt/c/Program Files (x86)/NVIDIA Corporation/PhysX/Common:/mnt/c/WINDOWS/system32:/mnt/c/WINDOWS:/mnt/c/WINDOWS/System32/Wbem:/mnt/c/WINDOWS/System32/WindowsPowerShell/v1.0:/mnt/c/WINDOWS/System32/OpenSSH:/mnt/c/Program Files (x86)/Windows Kits/10/Windows Performance Toolkit:/mnt/c/Program Files/Intel/WiFi/bin:/mnt/c/Program Files/Common Files/Intel/WirelessCommon:/mnt/c/Android:/mnt/c/Program Files (x86)/Intel/Intel(R) Management Engine Components/DAL:/mnt/c/Program Files/Intel/Intel(R) Management Engine Components/DAL:/mnt/c/Program Files/NVIDIA Corporation/Nsight Compute 2020.1.2:/mnt/c/WINDOWS/system32:/mnt/c/WINDOWS:/mnt/c/WINDOWS/System32/Wbem:/mnt/c/WINDOWS/System32/WindowsPowerShell/v1.0:/mnt/c/WINDOWS/System32/OpenSSH:/mnt/c/Program Files/Docker/Docker/resources/bin:/mnt/c/ProgramData/DockerDesktop/version-bin:/mnt/c/Users/Jaime/AppData/Local/Microsoft/WindowsApps:/mnt/c/Users/Jaime/AppData/Local/Programs/Microsoft VS Code/bin:/mnt/c/Program Files (x86)/mingw-w64/i686-8.1.0-posix-dwarf-rt_v6-rev0/mingw32/bin:/mnt/c/G09W:/mnt/c/Program Files (x86)/FAHClient:/mnt/c/Program Files/7-Zip:/mnt/c/Users/Jaime/AppData/Local/atom/bin:/mnt/c/Users/Jaime/AppData/Local/Microsoft/WindowsApps\n",
      "PYTHONHASHSEED: 1234\n",
      "REQUESTS_CA_BUNDLE: <not set>\n",
      "SSL_CERT_FILE: <not set>\n",
      "\n",
      "\n"
     ]
    },
    {
     "name": "stdout",
     "output_type": "stream",
     "text": [
      "# packages in environment at /home/jaime/.conda/envs/kinoml-ci:\n",
      "#\n",
      "# Name                    Version                   Build  Channel\n",
      "_libgcc_mutex             0.1                 conda_forge    conda-forge\n",
      "_openmp_mutex             4.5                       1_gnu    conda-forge\n",
      "_py-xgboost-mutex         2.0                       cpu_0    conda-forge\n",
      "absl-py                   0.10.0                   pypi_0    pypi\n",
      "alabaster                 0.7.12                   pypi_0    pypi\n",
      "amberlite                 16.0                     pypi_0    pypi\n",
      "ambertools                20.9                     pypi_0    pypi\n",
      "ansiwrap                  0.8.4                      py_0    conda-forge\n",
      "appdirs                   1.4.4              pyh9f0ad1d_0    conda-forge\n",
      "argon2-cffi               20.1.0           py37h8f50634_2    conda-forge\n",
      "arpack                    3.7.0                hc6cf775_2    conda-forge\n",
      "ase                       3.20.1                   pypi_0    pypi\n",
      "astroid                   2.4.2                    pypi_0    pypi\n",
      "astunparse                1.6.3                    pypi_0    pypi\n",
      "async_generator           1.10                       py_0    conda-forge\n",
      "attrs                     20.2.0             pyh9f0ad1d_0    conda-forge\n",
      "babel                     2.8.0                    pypi_0    pypi\n",
      "backcall                  0.2.0              pyh9f0ad1d_0    conda-forge\n",
      "backports                 1.0                        py_2    conda-forge\n",
      "backports.functools_lru_cache 1.6.1                      py_0    conda-forge\n",
      "biopandas                 0.2.7                    pypi_0    pypi\n",
      "biopython                 1.78             py37h8f50634_1    conda-forge\n",
      "black                     20.8b1                     py_1    conda-forge\n",
      "blas                      1.0                         mkl    conda-forge\n",
      "bleach                    3.2.1              pyh9f0ad1d_0    conda-forge\n",
      "boost                     1.74.0           py37h48f8a5e_1    conda-forge\n",
      "boost-cpp                 1.74.0               h9359b55_0    conda-forge\n",
      "bravado                   11.0.2                   pypi_0    pypi\n",
      "bravado-core              5.17.0                   pypi_0    pypi\n",
      "brotlipy                  0.7.0           py37hb5d75c8_1001    conda-forge\n",
      "bson                      0.5.9                      py_0    conda-forge\n",
      "bzip2                     1.0.8                h516909a_3    conda-forge\n",
      "c-ares                    1.16.1               h516909a_3    conda-forge\n",
      "ca-certificates           2020.11.8            ha878542_0    conda-forge\n",
      "cachetools                4.1.1                    pypi_0    pypi\n",
      "cairo                     1.16.0            h488836b_1006    conda-forge\n",
      "certifi                   2020.11.8        py37h89c1867_0    conda-forge\n",
      "cffi                      1.14.3           py37h00ebd2e_1    conda-forge\n",
      "cftime                    1.2.1            py37h161383b_1    conda-forge\n",
      "chardet                   3.0.4           py37he5f6b98_1008    conda-forge\n",
      "click                     7.1.2              pyh9f0ad1d_0    conda-forge\n",
      "codecov                   2.1.10             pyh9f0ad1d_0    conda-forge\n",
      "coverage                  5.3              py37h8f50634_1    conda-forge\n",
      "cryptography              3.1.1            py37hff6837a_1    conda-forge\n",
      "cudatoolkit               10.2.89              hfd86e86_1  \n",
      "curl                      7.71.1               he644dc0_8    conda-forge\n",
      "cycler                    0.10.0                     py_2    conda-forge\n",
      "cython                    0.29.21          py37hb892b2f_1    conda-forge\n",
      "dataclasses               0.7                      py37_0    conda-forge\n",
      "decorator                 4.4.2                      py_0    conda-forge\n",
      "defusedxml                0.6.0                      py_0    conda-forge\n",
      "docutils                  0.16                     pypi_0    pypi\n",
      "entrypoints               0.3             py37hc8dfbb8_1002    conda-forge\n",
      "fftw                      3.3.8           nompi_h7f3a6c3_1112    conda-forge\n",
      "fftw3f                    3.3.4                         2    omnia\n",
      "fontconfig                2.13.1            h1056068_1002    conda-forge\n",
      "freetype                  2.10.4               he06d7ca_0    conda-forge\n",
      "fsspec                    0.8.4                    pypi_0    pypi\n",
      "future                    0.18.2                   pypi_0    pypi\n",
      "gast                      0.3.3                    pypi_0    pypi\n",
      "gettext                   0.19.8.1          hf34092f_1004    conda-forge\n",
      "gitdb                     4.0.5                    pypi_0    pypi\n",
      "gitpython                 3.1.11                   pypi_0    pypi\n",
      "google-auth               1.22.1                   pypi_0    pypi\n",
      "google-auth-oauthlib      0.4.1                    pypi_0    pypi\n",
      "google-pasta              0.2.0                    pypi_0    pypi\n",
      "googledrivedownloader     0.4                      pypi_0    pypi\n",
      "griddataformats           0.5.0                      py_0    conda-forge\n",
      "grpcio                    1.33.1                   pypi_0    pypi\n",
      "gsd                       2.2.0            py37h161383b_1    conda-forge\n",
      "h5py                      2.10.0                   pypi_0    pypi\n",
      "hdf4                      4.2.13            hf30be14_1003    conda-forge\n",
      "hdf5                      1.10.6          nompi_h54c07f9_1110    conda-forge\n",
      "hdf5-1820                 1.8.20                        0    omnia\n",
      "htmlmin                   0.1.12                   pypi_0    pypi\n",
      "icu                       67.1                 he1b5a44_0    conda-forge\n",
      "idna                      2.10               pyh9f0ad1d_0    conda-forge\n",
      "imagesize                 1.2.0                    pypi_0    pypi\n",
      "importlib-metadata        2.0.0            py37hc8dfbb8_0    conda-forge\n",
      "importlib_metadata        2.0.0                         1    conda-forge\n",
      "importlib_resources       3.2.0            py37hc8dfbb8_0    conda-forge\n",
      "iniconfig                 1.1.1              pyh9f0ad1d_0    conda-forge\n",
      "intel-openmp              2020.2                      254  \n",
      "ipykernel                 5.3.4            py37hc6149b9_1    conda-forge\n",
      "ipython                   7.18.1           py37hc6149b9_1    conda-forge\n",
      "ipython_genutils          0.2.0                      py_1    conda-forge\n",
      "ipywidgets                7.5.1              pyh9f0ad1d_1    conda-forge\n",
      "isodate                   0.6.0                    pypi_0    pypi\n",
      "isort                     5.6.4                    pypi_0    pypi\n",
      "jedi                      0.17.2           py37hc8dfbb8_1    conda-forge\n",
      "jinja2                    2.11.2             pyh9f0ad1d_0    conda-forge\n",
      "joblib                    0.17.0                     py_0    conda-forge\n",
      "jpeg                      9d                   h516909a_0    conda-forge\n",
      "jsmin                     2.2.2                    pypi_0    pypi\n",
      "json5                     0.9.5              pyh9f0ad1d_0    conda-forge\n",
      "jsonpointer               2.0                      pypi_0    pypi\n",
      "jsonref                   0.2                      pypi_0    pypi\n",
      "jsonschema                3.2.0            py37hc8dfbb8_1    conda-forge\n",
      "jupyter_client            6.1.7                      py_0    conda-forge\n",
      "jupyter_core              4.6.3            py37hc8dfbb8_2    conda-forge\n",
      "jupyterlab                2.2.9                      py_0    conda-forge\n",
      "jupyterlab_pygments       0.1.2              pyh9f0ad1d_0    conda-forge\n",
      "jupyterlab_server         1.2.0                      py_0    conda-forge\n",
      "keras-preprocessing       1.1.2                    pypi_0    pypi\n",
      "kinoml                    0+untagged.323.g6373931.dirty           dev_0    <develop>\n",
      "kiwisolver                1.2.0            py37h99015e2_1    conda-forge\n",
      "klifs-utils               0+unknown                pypi_0    pypi\n",
      "krb5                      1.17.1               hfafb76e_3    conda-forge\n",
      "lazy-object-proxy         1.4.3                    pypi_0    pypi\n",
      "lcms2                     2.11                 hbd6801e_0    conda-forge\n",
      "ld_impl_linux-64          2.35                 h769bd43_9    conda-forge\n",
      "libblas                   3.9.0           1_h6e990d7_netlib    conda-forge\n",
      "libcblas                  3.9.0           2_h6e990d7_netlib    conda-forge\n",
      "libcurl                   7.71.1               hcdd3856_8    conda-forge\n",
      "libedit                   3.1.20191231         he28a2e2_2    conda-forge\n",
      "libev                     4.33                 h516909a_1    conda-forge\n",
      "libffi                    3.2.1             he1b5a44_1007    conda-forge\n",
      "libgcc-ng                 9.3.0               h5dbcf3e_17    conda-forge\n",
      "libgfortran-ng            7.5.0               hae1eefd_17    conda-forge\n",
      "libgfortran4              7.5.0               hae1eefd_17    conda-forge\n",
      "libglib                   2.66.2               h0dae87d_0    conda-forge\n",
      "libgomp                   9.3.0               h5dbcf3e_17    conda-forge\n",
      "libiconv                  1.16                 h516909a_0    conda-forge\n",
      "liblapack                 3.9.0           2_h6e990d7_netlib    conda-forge\n",
      "libnetcdf                 4.7.4           nompi_hefab0ff_106    conda-forge\n",
      "libnghttp2                1.41.0               h8cfc5f6_2    conda-forge\n",
      "libpng                    1.6.37               hed695b0_2    conda-forge\n",
      "libsodium                 1.0.18               h516909a_1    conda-forge\n",
      "libssh2                   1.9.0                hab1572f_5    conda-forge\n",
      "libstdcxx-ng              9.3.0               h2ae2ef3_17    conda-forge\n",
      "libtiff                   4.1.0                hc7e4089_6    conda-forge\n",
      "libuuid                   2.32.1            h14c3975_1000    conda-forge\n",
      "libwebp-base              1.1.0                h516909a_3    conda-forge\n",
      "libxcb                    1.13              h14c3975_1002    conda-forge\n",
      "libxgboost                1.2.0                he1b5a44_0    conda-forge\n",
      "libxml2                   2.9.10               h68273f3_2    conda-forge\n",
      "livereload                2.6.3                    pypi_0    pypi\n",
      "llvmlite                  0.34.0                   pypi_0    pypi\n",
      "lz4-c                     1.9.2                he1b5a44_3    conda-forge\n",
      "markdown                  3.3.3                    pypi_0    pypi\n",
      "markupsafe                1.1.1            py37hb5d75c8_2    conda-forge\n",
      "matplotlib-base           3.3.2            py37hc9afd2a_1    conda-forge\n",
      "mccabe                    0.6.1                    pypi_0    pypi\n",
      "mdanalysis                1.0.0            py37h3340039_0    conda-forge\n",
      "mistune                   0.8.4           py37h8f50634_1002    conda-forge\n",
      "mkdocs                    1.0.4                    pypi_0    pypi\n",
      "mkdocs-git-revision-date-localized-plugin 0.5.0                    pypi_0    pypi\n",
      "mkdocs-material           4.6.3                    pypi_0    pypi\n",
      "mkdocs-minify-plugin      0.2.3                    pypi_0    pypi\n",
      "mkdocstrings              0.7.1                    pypi_0    pypi\n",
      "mkl                       2020.2                      256  \n",
      "mmpbsa-py                 16.0                     pypi_0    pypi\n",
      "mmtf-python               1.1.2                      py_0    conda-forge\n",
      "modeller                  9.20                     py37_1    omnia\n",
      "monotonic                 1.5                      pypi_0    pypi\n",
      "more-itertools            8.5.0                      py_0    conda-forge\n",
      "msgpack-python            1.0.0            py37h99015e2_2    conda-forge\n",
      "mypy_extensions           0.4.3            py37hc8dfbb8_2    conda-forge\n",
      "nbclient                  0.5.1                      py_0    conda-forge\n",
      "nbconvert                 6.0.7            py37hc8dfbb8_2    conda-forge\n",
      "nbformat                  5.0.8                      py_0    conda-forge\n",
      "ncurses                   6.2                  he1b5a44_2    conda-forge\n",
      "nest-asyncio              1.4.1                      py_0    conda-forge\n",
      "netcdf-fortran            4.5.3           nompi_hfef6a68_101    conda-forge\n",
      "netcdf4                   1.5.4           nompi_py37hcbfd489_103    conda-forge\n",
      "networkx                  2.5                        py_0    conda-forge\n",
      "nglview                   2.7.7              pyh5ca1d4c_1    conda-forge\n",
      "ninja                     1.10.1               hfc4b9b4_2    conda-forge\n",
      "notebook                  6.1.4            py37hc8dfbb8_1    conda-forge\n",
      "numba                     0.51.2                   pypi_0    pypi\n",
      "numpy                     1.18.5                   pypi_0    pypi\n",
      "oauthlib                  3.1.0                    pypi_0    pypi\n",
      "olefile                   0.46               pyh9f0ad1d_1    conda-forge\n",
      "opencadd                  superposer-352.gb0fa3cf.dirty           dev_0    <develop>\n",
      "openeye-toolkits          2020.1.0                 py37_0    openeye\n",
      "openforcefield            refs-pull-583-head          pypi_0    pypi\n",
      "openforcefields           1.3.0                      py_0    omnia\n",
      "openmm                    7.4.2           py37_cuda101_rc_1    omnia\n",
      "openssl                   1.1.1h               h516909a_0    conda-forge\n",
      "opt-einsum                3.3.0                    pypi_0    pypi\n",
      "packaging                 20.4               pyh9f0ad1d_0    conda-forge\n",
      "packmol-memgen            1.1.0rc0                 pypi_0    pypi\n",
      "pandas                    1.1.3            py37hb33c840_2    conda-forge\n",
      "pandoc                    2.11.0.4             hd18ef5c_0    conda-forge\n",
      "pandocfilters             1.4.2                      py_1    conda-forge\n",
      "papermill                 2.2.2              pyhd8ed1ab_0    conda-forge\n",
      "parmed                    at20RC5+54.g5702a232fe.dirty          pypi_0    pypi\n",
      "parso                     0.7.1              pyh9f0ad1d_0    conda-forge\n",
      "pathspec                  0.8.0                    pypi_0    pypi\n",
      "patsy                     0.5.1                      py_0    conda-forge\n",
      "pcre                      8.44                 he1b5a44_0    conda-forge\n",
      "pdb4amber                 1.7.dev0                 pypi_0    pypi\n",
      "perl                      5.30.3               h516909a_1    conda-forge\n",
      "pexpect                   4.8.0            py37hc8dfbb8_1    conda-forge\n",
      "pickleshare               0.7.5           py37hc8dfbb8_1002    conda-forge\n",
      "pillow                    8.0.1            py37h718be6c_0    conda-forge\n",
      "pint                      0.16.1                     py_0    conda-forge\n",
      "pip                       20.2.4                     py_0    conda-forge\n",
      "pixman                    0.38.0            h516909a_1003    conda-forge\n",
      "pluggy                    0.13.1           py37he5f6b98_3    conda-forge\n",
      "prody                     1.10.11                  pypi_0    pypi\n",
      "prometheus_client         0.8.0              pyh9f0ad1d_0    conda-forge\n",
      "prompt-toolkit            3.0.8                      py_0    conda-forge\n",
      "protobuf                  3.13.0                   pypi_0    pypi\n",
      "pthread-stubs             0.4               h14c3975_1001    conda-forge\n",
      "ptyprocess                0.6.0                 py37_1000    conda-forge\n",
      "py                        1.9.0              pyh9f0ad1d_0    conda-forge\n",
      "py-xgboost                1.2.0            py37hc8dfbb8_0    conda-forge\n",
      "pyasn1                    0.4.8                    pypi_0    pypi\n",
      "pyasn1-modules            0.2.8                    pypi_0    pypi\n",
      "pycairo                   1.20.0           py37h01af8b0_1    conda-forge\n",
      "pycparser                 2.20               pyh9f0ad1d_2    conda-forge\n",
      "pygments                  2.7.2                      py_0    conda-forge\n",
      "pylint                    2.6.0                    pypi_0    pypi\n",
      "pymdown-extensions        6.3                      pypi_0    pypi\n",
      "pyopenssl                 19.1.0                   py37_0    conda-forge\n",
      "pyparsing                 2.4.7              pyh9f0ad1d_0    conda-forge\n",
      "pyrsistent                0.17.3           py37h8f50634_1    conda-forge\n",
      "pysocks                   1.7.1            py37he5f6b98_2    conda-forge\n",
      "pytest                    6.1.1            py37he5f6b98_1    conda-forge\n",
      "pytest-cov                2.10.1             pyh9f0ad1d_0    conda-forge\n",
      "python                    3.7.8           h425cb1d_1_cpython    conda-forge\n",
      "python-dateutil           2.8.1                      py_0    conda-forge\n",
      "python_abi                3.7                     1_cp37m    conda-forge\n",
      "pytorch                   1.6.0           py3.7_cuda10.2.89_cudnn7.6.5_0    pytorch\n",
      "pytorch-lightning         1.0.4                    pypi_0    pypi\n",
      "pytraj                    2.0.5                    pypi_0    pypi\n",
      "pytz                      2020.1             pyh9f0ad1d_0    conda-forge\n",
      "pyyaml                    5.3.1            py37hb5d75c8_1    conda-forge\n",
      "pyzmq                     19.0.2           py37hac76be4_2    conda-forge\n",
      "rdflib                    5.0.0                    pypi_0    pypi\n",
      "rdkit                     2020.09.1        py37h0c252aa_0    conda-forge\n",
      "readline                  8.0                  he28a2e2_2    conda-forge\n",
      "regex                     2020.10.23               pypi_0    pypi\n",
      "requests                  2.24.0             pyh9f0ad1d_0    conda-forge\n",
      "requests-oauthlib         1.3.0                    pypi_0    pypi\n",
      "rfc3987                   1.3.8                    pypi_0    pypi\n",
      "rsa                       4.6                      pypi_0    pypi\n",
      "sander                    16.0                     pypi_0    pypi\n",
      "scikit-learn              0.23.2           py37hbb8adca_1    conda-forge\n",
      "scipy                     1.5.2            py37hf97831b_2    conda-forge\n",
      "seaborn                   0.11.0                        0    conda-forge\n",
      "seaborn-base              0.11.0                     py_0    conda-forge\n",
      "send2trash                1.5.0                      py_0    conda-forge\n",
      "setuptools                49.6.0           py37he5f6b98_2    conda-forge\n",
      "simplejson                3.17.2                   pypi_0    pypi\n",
      "six                       1.15.0             pyh9f0ad1d_0    conda-forge\n",
      "sklearn-pytorch           0.1.0                    pypi_0    pypi\n",
      "smirnoff99frosst          1.1.0                    py37_1    omnia\n",
      "smmap                     3.0.4                    pypi_0    pypi\n",
      "snowballstemmer           2.0.0                    pypi_0    pypi\n",
      "sphinx                    3.2.1                    pypi_0    pypi\n",
      "sphinxcontrib-applehelp   1.0.2                    pypi_0    pypi\n",
      "sphinxcontrib-devhelp     1.0.2                    pypi_0    pypi\n",
      "sphinxcontrib-htmlhelp    1.0.3                    pypi_0    pypi\n",
      "sphinxcontrib-jsmath      1.0.1                    pypi_0    pypi\n",
      "sphinxcontrib-qthelp      1.0.3                    pypi_0    pypi\n",
      "sphinxcontrib-serializinghtml 1.1.4                    pypi_0    pypi\n",
      "sqlite                    3.33.0               h4cf870e_1    conda-forge\n",
      "statsmodels               0.12.0           py37h161383b_1    conda-forge\n",
      "strict-rfc3339            0.7                      pypi_0    pypi\n",
      "swagger-spec-validator    2.7.3                    pypi_0    pypi\n",
      "tenacity                  6.2.0            py37hc8dfbb8_0    conda-forge\n",
      "tensorboard               2.3.0                    pypi_0    pypi\n",
      "tensorboard-plugin-wit    1.7.0                    pypi_0    pypi\n",
      "tensorflow                2.3.1                    pypi_0    pypi\n",
      "tensorflow-estimator      2.3.0                    pypi_0    pypi\n",
      "termcolor                 1.1.0                    pypi_0    pypi\n",
      "terminado                 0.9.1            py37hc8dfbb8_1    conda-forge\n",
      "testpath                  0.4.4                      py_0    conda-forge\n",
      "textwrap3                 0.9.2                      py_0    conda-forge\n",
      "threadpoolctl             2.1.0              pyh5ca1d4c_0    conda-forge\n",
      "tk                        8.6.10               hed695b0_1    conda-forge\n",
      "toml                      0.10.1             pyh9f0ad1d_0    conda-forge\n",
      "torch-cluster             1.5.7                    pypi_0    pypi\n",
      "torch-geometric           1.6.1                    pypi_0    pypi\n",
      "torch-scatter             2.0.5                    pypi_0    pypi\n",
      "torch-sparse              0.6.7                    pypi_0    pypi\n",
      "torch-spline-conv         1.2.0                    pypi_0    pypi\n",
      "torchvision               0.7.0                py37_cu102    pytorch\n",
      "tornado                   6.0.4            py37h8f50634_2    conda-forge\n",
      "tqdm                      4.51.0             pyh9f0ad1d_0    conda-forge\n",
      "traitlets                 5.0.5                      py_0    conda-forge\n",
      "typed-ast                 1.4.1            py37h4abf009_1    conda-forge\n",
      "typing_extensions         3.7.4.3                    py_0    conda-forge\n",
      "urllib3                   1.25.11                    py_0    conda-forge\n",
      "watermark                 2.0.2                      py_0    conda-forge\n",
      "wcwidth                   0.2.5              pyh9f0ad1d_2    conda-forge\n",
      "webcolors                 1.11.1                   pypi_0    pypi\n",
      "webencodings              0.5.1                      py_1    conda-forge\n",
      "werkzeug                  1.0.1                    pypi_0    pypi\n",
      "wheel                     0.35.1             pyh9f0ad1d_0    conda-forge\n",
      "widgetsnbextension        3.5.1            py37hc8dfbb8_4    conda-forge\n",
      "wrapt                     1.12.1                   pypi_0    pypi\n",
      "xgboost                   1.2.0            py37h3340039_0    conda-forge\n",
      "xlrd                      1.2.0                    pypi_0    pypi\n",
      "xmltodict                 0.12.0                     py_0    conda-forge\n",
      "xorg-kbproto              1.0.7             h14c3975_1002    conda-forge\n",
      "xorg-libice               1.0.10               h516909a_0    conda-forge\n",
      "xorg-libsm                1.2.3             h84519dc_1000    conda-forge\n",
      "xorg-libx11               1.6.12               h516909a_0    conda-forge\n",
      "xorg-libxau               1.0.9                h14c3975_0    conda-forge\n",
      "xorg-libxdmcp             1.1.3                h516909a_0    conda-forge\n",
      "xorg-libxext              1.3.4                h516909a_0    conda-forge\n",
      "xorg-libxrender           0.9.10            h516909a_1002    conda-forge\n",
      "xorg-libxt                1.2.0                h516909a_0    conda-forge\n",
      "xorg-renderproto          0.11.1            h14c3975_1002    conda-forge\n",
      "xorg-xextproto            7.3.0             h14c3975_1002    conda-forge\n",
      "xorg-xproto               7.0.31            h14c3975_1007    conda-forge\n",
      "xz                        5.2.5                h516909a_1    conda-forge\n",
      "yaml                      0.2.5                h516909a_0    conda-forge\n",
      "zeromq                    4.3.3                he1b5a44_2    conda-forge\n",
      "zipp                      3.4.0                      py_0    conda-forge\n",
      "zlib                      1.2.11            h516909a_1010    conda-forge\n",
      "zstd                      1.4.5                h6597ccf_2    conda-forge\n",
      "\n"
     ]
    }
   ],
   "source": [
    "from kinoml.utils import watermark\n",
    "w = watermark()"
   ]
  },
  {
   "cell_type": "code",
   "execution_count": 16,
   "metadata": {
    "execution": {
     "iopub.execute_input": "2020-12-07T11:09:18.869436Z",
     "iopub.status.busy": "2020-12-07T11:09:18.868418Z",
     "iopub.status.idle": "2020-12-07T11:09:22.162644Z",
     "shell.execute_reply": "2020-12-07T11:09:22.162198Z"
    },
    "papermill": {
     "duration": 3.32888,
     "end_time": "2020-12-07T11:09:22.162752",
     "exception": false,
     "start_time": "2020-12-07T11:09:18.833872",
     "status": "completed"
    },
    "tags": []
   },
   "outputs": [],
   "source": [
    "%%capture cap --no-stderr\n",
    "w = watermark()"
   ]
  },
  {
   "cell_type": "code",
   "execution_count": 17,
   "metadata": {
    "execution": {
     "iopub.execute_input": "2020-12-07T11:09:22.200268Z",
     "iopub.status.busy": "2020-12-07T11:09:22.199800Z",
     "iopub.status.idle": "2020-12-07T11:09:22.203875Z",
     "shell.execute_reply": "2020-12-07T11:09:22.203486Z"
    },
    "papermill": {
     "duration": 0.02513,
     "end_time": "2020-12-07T11:09:22.203991",
     "exception": false,
     "start_time": "2020-12-07T11:09:22.178861",
     "status": "completed"
    },
    "tags": []
   },
   "outputs": [],
   "source": [
    "import json\n",
    "\n",
    "with open(OUT/ \"watermark.txt\", \"w\") as f:\n",
    "    f.write(cap.stdout)\n",
    "\n",
    "with open(OUT / \"hparams.json\", \"w\") as f:\n",
    "    json.dump(_hparams, f, default=str, indent=2)"
   ]
  }
 ],
 "metadata": {
  "kernelspec": {
   "display_name": "Python 3",
   "language": "python",
   "name": "python3"
  },
  "language_info": {
   "codemirror_mode": {
    "name": "ipython",
    "version": 3
   },
   "file_extension": ".py",
   "mimetype": "text/x-python",
   "name": "python",
   "nbconvert_exporter": "python",
   "pygments_lexer": "ipython3",
   "version": "3.7.8"
  },
  "papermill": {
   "default_parameters": {},
   "duration": 550.325636,
   "end_time": "2020-12-07T11:09:23.835287",
   "environment_variables": {},
   "exception": null,
   "input_path": "features/featurize-template.ipynb",
   "output_path": "features/ligand-only-morgan512/featurize.ipynb",
   "parameters": {
    "DATASET_CLS": "kinoml.datasets.kinomescan.pkis2.PKIS2DatasetProvider",
    "DATASET_KWARGS": {},
    "FEATURIZE_KWARGS": {
     "processes": 1
    },
    "GROUPS": [
     [
      "kinoml.datasets.groups.CallableGrouper",
      {
       "function": "lambda measurement: measurement.system.protein.name"
      }
     ],
     [
      "kinoml.datasets.groups.CallableGrouper",
      {
       "function": "lambda measurement: type(measurement).__name__"
      }
     ]
    ],
    "HERE": "/home/jaime/devel/py/openkinome/experiments-binding-affinity/features/ligand-only-morgan512",
    "PIPELINE": {
     "ligand": [
      [
       "kinoml.features.ligand.SmilesToLigandFeaturizer",
       {
        "style": "rdkit"
       }
      ],
      [
       "kinoml.features.ligand.MorganFingerprintFeaturizer",
       {
        "nbits": 512,
        "radius": 2
       }
      ]
     ]
    },
    "PIPELINE_AGG": "kinoml.features.core.Concatenated",
    "PIPELINE_AGG_KWARGS": {},
    "TRAIN_TEST_VAL_KWARGS": {
     "idx_test": 0.1,
     "idx_train": 0.8,
     "idx_val": 0.1
    }
   },
   "start_time": "2020-12-07T11:00:13.509651",
   "version": "2.2.2"
  },
  "widgets": {
   "application/vnd.jupyter.widget-state+json": {
    "state": {
     "0164c575ccc44a1494434c803e1ac979": {
      "model_module": "@jupyter-widgets/controls",
      "model_module_version": "1.5.0",
      "model_name": "HBoxModel",
      "state": {
       "_dom_classes": [],
       "_model_module": "@jupyter-widgets/controls",
       "_model_module_version": "1.5.0",
       "_model_name": "HBoxModel",
       "_view_count": null,
       "_view_module": "@jupyter-widgets/controls",
       "_view_module_version": "1.5.0",
       "_view_name": "HBoxView",
       "box_style": "",
       "children": [
        "IPY_MODEL_1339ea0aff6d4f78b58d41fa54baaa12",
        "IPY_MODEL_05a6b9ebf1ec41bdb3bcee51265ba8ca",
        "IPY_MODEL_bcab9b60b5dc4dcba0752681bd1841a9"
       ],
       "layout": "IPY_MODEL_d56767180e2148d9ab52a5ecaf576eb0"
      }
     },
     "05a6b9ebf1ec41bdb3bcee51265ba8ca": {
      "model_module": "@jupyter-widgets/controls",
      "model_module_version": "1.5.0",
      "model_name": "FloatProgressModel",
      "state": {
       "_dom_classes": [],
       "_model_module": "@jupyter-widgets/controls",
       "_model_module_version": "1.5.0",
       "_model_name": "FloatProgressModel",
       "_view_count": null,
       "_view_module": "@jupyter-widgets/controls",
       "_view_module_version": "1.5.0",
       "_view_name": "ProgressView",
       "bar_style": "success",
       "description": "",
       "description_tooltip": null,
       "layout": "IPY_MODEL_49805edc01034213824dcea71b281949",
       "max": 257920.0,
       "min": 0.0,
       "orientation": "horizontal",
       "style": "IPY_MODEL_4c39326eae8a41eaa7e7e2ace5feffee",
       "value": 257920.0
      }
     },
     "1339ea0aff6d4f78b58d41fa54baaa12": {
      "model_module": "@jupyter-widgets/controls",
      "model_module_version": "1.5.0",
      "model_name": "HTMLModel",
      "state": {
       "_dom_classes": [],
       "_model_module": "@jupyter-widgets/controls",
       "_model_module_version": "1.5.0",
       "_model_name": "HTMLModel",
       "_view_count": null,
       "_view_module": "@jupyter-widgets/controls",
       "_view_module_version": "1.5.0",
       "_view_name": "HTMLView",
       "description": "",
       "description_tooltip": null,
       "layout": "IPY_MODEL_14869f4ad46d498db7e79ad88f1e322b",
       "placeholder": "​",
       "style": "IPY_MODEL_d158f1df49604ee993607a0bd4cf2445",
       "value": "100%"
      }
     },
     "14869f4ad46d498db7e79ad88f1e322b": {
      "model_module": "@jupyter-widgets/base",
      "model_module_version": "1.2.0",
      "model_name": "LayoutModel",
      "state": {
       "_model_module": "@jupyter-widgets/base",
       "_model_module_version": "1.2.0",
       "_model_name": "LayoutModel",
       "_view_count": null,
       "_view_module": "@jupyter-widgets/base",
       "_view_module_version": "1.2.0",
       "_view_name": "LayoutView",
       "align_content": null,
       "align_items": null,
       "align_self": null,
       "border": null,
       "bottom": null,
       "display": null,
       "flex": null,
       "flex_flow": null,
       "grid_area": null,
       "grid_auto_columns": null,
       "grid_auto_flow": null,
       "grid_auto_rows": null,
       "grid_column": null,
       "grid_gap": null,
       "grid_row": null,
       "grid_template_areas": null,
       "grid_template_columns": null,
       "grid_template_rows": null,
       "height": null,
       "justify_content": null,
       "justify_items": null,
       "left": null,
       "margin": null,
       "max_height": null,
       "max_width": null,
       "min_height": null,
       "min_width": null,
       "object_fit": null,
       "object_position": null,
       "order": null,
       "overflow": null,
       "overflow_x": null,
       "overflow_y": null,
       "padding": null,
       "right": null,
       "top": null,
       "visibility": null,
       "width": null
      }
     },
     "35d659d1ef6844cfa732d04408e90d20": {
      "model_module": "@jupyter-widgets/base",
      "model_module_version": "1.2.0",
      "model_name": "LayoutModel",
      "state": {
       "_model_module": "@jupyter-widgets/base",
       "_model_module_version": "1.2.0",
       "_model_name": "LayoutModel",
       "_view_count": null,
       "_view_module": "@jupyter-widgets/base",
       "_view_module_version": "1.2.0",
       "_view_name": "LayoutView",
       "align_content": null,
       "align_items": null,
       "align_self": null,
       "border": null,
       "bottom": null,
       "display": null,
       "flex": null,
       "flex_flow": null,
       "grid_area": null,
       "grid_auto_columns": null,
       "grid_auto_flow": null,
       "grid_auto_rows": null,
       "grid_column": null,
       "grid_gap": null,
       "grid_row": null,
       "grid_template_areas": null,
       "grid_template_columns": null,
       "grid_template_rows": null,
       "height": null,
       "justify_content": null,
       "justify_items": null,
       "left": null,
       "margin": null,
       "max_height": null,
       "max_width": null,
       "min_height": null,
       "min_width": null,
       "object_fit": null,
       "object_position": null,
       "order": null,
       "overflow": null,
       "overflow_x": null,
       "overflow_y": null,
       "padding": null,
       "right": null,
       "top": null,
       "visibility": null,
       "width": null
      }
     },
     "49805edc01034213824dcea71b281949": {
      "model_module": "@jupyter-widgets/base",
      "model_module_version": "1.2.0",
      "model_name": "LayoutModel",
      "state": {
       "_model_module": "@jupyter-widgets/base",
       "_model_module_version": "1.2.0",
       "_model_name": "LayoutModel",
       "_view_count": null,
       "_view_module": "@jupyter-widgets/base",
       "_view_module_version": "1.2.0",
       "_view_name": "LayoutView",
       "align_content": null,
       "align_items": null,
       "align_self": null,
       "border": null,
       "bottom": null,
       "display": null,
       "flex": null,
       "flex_flow": null,
       "grid_area": null,
       "grid_auto_columns": null,
       "grid_auto_flow": null,
       "grid_auto_rows": null,
       "grid_column": null,
       "grid_gap": null,
       "grid_row": null,
       "grid_template_areas": null,
       "grid_template_columns": null,
       "grid_template_rows": null,
       "height": null,
       "justify_content": null,
       "justify_items": null,
       "left": null,
       "margin": null,
       "max_height": null,
       "max_width": null,
       "min_height": null,
       "min_width": null,
       "object_fit": null,
       "object_position": null,
       "order": null,
       "overflow": null,
       "overflow_x": null,
       "overflow_y": null,
       "padding": null,
       "right": null,
       "top": null,
       "visibility": null,
       "width": null
      }
     },
     "4c39326eae8a41eaa7e7e2ace5feffee": {
      "model_module": "@jupyter-widgets/controls",
      "model_module_version": "1.5.0",
      "model_name": "ProgressStyleModel",
      "state": {
       "_model_module": "@jupyter-widgets/controls",
       "_model_module_version": "1.5.0",
       "_model_name": "ProgressStyleModel",
       "_view_count": null,
       "_view_module": "@jupyter-widgets/base",
       "_view_module_version": "1.2.0",
       "_view_name": "StyleView",
       "bar_color": null,
       "description_width": ""
      }
     },
     "50c34b9c4122428dbfa30fa7adc08b1e": {
      "model_module": "@jupyter-widgets/controls",
      "model_module_version": "1.5.0",
      "model_name": "DescriptionStyleModel",
      "state": {
       "_model_module": "@jupyter-widgets/controls",
       "_model_module_version": "1.5.0",
       "_model_name": "DescriptionStyleModel",
       "_view_count": null,
       "_view_module": "@jupyter-widgets/base",
       "_view_module_version": "1.2.0",
       "_view_name": "StyleView",
       "description_width": ""
      }
     },
     "aee8b0b7cb78406b914fe3afb4a8f570": {
      "model_module": "nglview-js-widgets",
      "model_module_version": "2.7.7",
      "model_name": "ColormakerRegistryModel",
      "state": {
       "_dom_classes": [],
       "_model_module": "nglview-js-widgets",
       "_model_module_version": "2.7.7",
       "_model_name": "ColormakerRegistryModel",
       "_msg_ar": [],
       "_msg_q": [],
       "_ready": false,
       "_view_count": null,
       "_view_module": "nglview-js-widgets",
       "_view_module_version": "2.7.7",
       "_view_name": "ColormakerRegistryView",
       "layout": "IPY_MODEL_c4e52144a6e04acfad4799508dce2382"
      }
     },
     "bcab9b60b5dc4dcba0752681bd1841a9": {
      "model_module": "@jupyter-widgets/controls",
      "model_module_version": "1.5.0",
      "model_name": "HTMLModel",
      "state": {
       "_dom_classes": [],
       "_model_module": "@jupyter-widgets/controls",
       "_model_module_version": "1.5.0",
       "_model_name": "HTMLModel",
       "_view_count": null,
       "_view_module": "@jupyter-widgets/controls",
       "_view_module_version": "1.5.0",
       "_view_name": "HTMLView",
       "description": "",
       "description_tooltip": null,
       "layout": "IPY_MODEL_35d659d1ef6844cfa732d04408e90d20",
       "placeholder": "​",
       "style": "IPY_MODEL_50c34b9c4122428dbfa30fa7adc08b1e",
       "value": " 257920/257920 [08:45&lt;00:00, 490.50it/s]"
      }
     },
     "c4e52144a6e04acfad4799508dce2382": {
      "model_module": "@jupyter-widgets/base",
      "model_module_version": "1.2.0",
      "model_name": "LayoutModel",
      "state": {
       "_model_module": "@jupyter-widgets/base",
       "_model_module_version": "1.2.0",
       "_model_name": "LayoutModel",
       "_view_count": null,
       "_view_module": "@jupyter-widgets/base",
       "_view_module_version": "1.2.0",
       "_view_name": "LayoutView",
       "align_content": null,
       "align_items": null,
       "align_self": null,
       "border": null,
       "bottom": null,
       "display": null,
       "flex": null,
       "flex_flow": null,
       "grid_area": null,
       "grid_auto_columns": null,
       "grid_auto_flow": null,
       "grid_auto_rows": null,
       "grid_column": null,
       "grid_gap": null,
       "grid_row": null,
       "grid_template_areas": null,
       "grid_template_columns": null,
       "grid_template_rows": null,
       "height": null,
       "justify_content": null,
       "justify_items": null,
       "left": null,
       "margin": null,
       "max_height": null,
       "max_width": null,
       "min_height": null,
       "min_width": null,
       "object_fit": null,
       "object_position": null,
       "order": null,
       "overflow": null,
       "overflow_x": null,
       "overflow_y": null,
       "padding": null,
       "right": null,
       "top": null,
       "visibility": null,
       "width": null
      }
     },
     "d158f1df49604ee993607a0bd4cf2445": {
      "model_module": "@jupyter-widgets/controls",
      "model_module_version": "1.5.0",
      "model_name": "DescriptionStyleModel",
      "state": {
       "_model_module": "@jupyter-widgets/controls",
       "_model_module_version": "1.5.0",
       "_model_name": "DescriptionStyleModel",
       "_view_count": null,
       "_view_module": "@jupyter-widgets/base",
       "_view_module_version": "1.2.0",
       "_view_name": "StyleView",
       "description_width": ""
      }
     },
     "d56767180e2148d9ab52a5ecaf576eb0": {
      "model_module": "@jupyter-widgets/base",
      "model_module_version": "1.2.0",
      "model_name": "LayoutModel",
      "state": {
       "_model_module": "@jupyter-widgets/base",
       "_model_module_version": "1.2.0",
       "_model_name": "LayoutModel",
       "_view_count": null,
       "_view_module": "@jupyter-widgets/base",
       "_view_module_version": "1.2.0",
       "_view_name": "LayoutView",
       "align_content": null,
       "align_items": null,
       "align_self": null,
       "border": null,
       "bottom": null,
       "display": null,
       "flex": null,
       "flex_flow": null,
       "grid_area": null,
       "grid_auto_columns": null,
       "grid_auto_flow": null,
       "grid_auto_rows": null,
       "grid_column": null,
       "grid_gap": null,
       "grid_row": null,
       "grid_template_areas": null,
       "grid_template_columns": null,
       "grid_template_rows": null,
       "height": null,
       "justify_content": null,
       "justify_items": null,
       "left": null,
       "margin": null,
       "max_height": null,
       "max_width": null,
       "min_height": null,
       "min_width": null,
       "object_fit": null,
       "object_position": null,
       "order": null,
       "overflow": null,
       "overflow_x": null,
       "overflow_y": null,
       "padding": null,
       "right": null,
       "top": null,
       "visibility": null,
       "width": null
      }
     }
    },
    "version_major": 2,
    "version_minor": 0
   }
  }
 },
 "nbformat": 4,
 "nbformat_minor": 4
}