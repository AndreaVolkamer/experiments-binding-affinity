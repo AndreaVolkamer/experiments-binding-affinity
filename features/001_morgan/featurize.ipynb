{
 "cells": [
  {
   "cell_type": "markdown",
   "metadata": {
    "papermill": {
     "duration": 0.008657,
     "end_time": "2020-12-05T15:02:30.541409",
     "exception": false,
     "start_time": "2020-12-05T15:02:30.532752",
     "status": "completed"
    },
    "tags": []
   },
   "source": [
    "# Featurize a dataset\n",
    "\n",
    "Any machine learning model will expect tensorial representations of the chemical data. This notebooks provides a workflow to achieve such goal.\n",
    "\n",
    "`kinoml.dataset.DatasetProvider` objects need to be available to deal with your collection of raw measurements for protein:ligand systems. These objects are, roughly, a list of `kinoml.core.BaseMeasurement`, each containing a set of `.values` and a some extra metadata, like the `system` objects to be featurized here.\n",
    "\n",
    "In ligand-based models, protein information is only considered marginally, and most of the action happens at the ligand level. Usually starting with a string representation such as SMILES, or a database identifier such as a PubChem ID, these are promoted to (usually) RDKit objects and then transformed into a tensor of some form (e.g. fingerprints, molecular graph as an adjacency matrix, etc).\n",
    "\n",
    "Available featurizers can be found under `kinoml.features`."
   ]
  },
  {
   "cell_type": "markdown",
   "metadata": {
    "papermill": {
     "duration": 0.00843,
     "end_time": "2020-12-05T15:02:30.559115",
     "exception": false,
     "start_time": "2020-12-05T15:02:30.550685",
     "status": "completed"
    },
    "tags": []
   },
   "source": [
    "## How to use\n",
    "\n",
    "Create a copy of this template into a new subdirectory under `features/`. Since the tensor files are not pushed to GitHub for size reasons, they will stay in your machine. Use a unique name for that subdirectory so people can identify creators, preferrably your GitHub username. Each subdirectory should ONLY contain a single notebook and featurization exercise. Then, define the hyperparameters below."
   ]
  },
  {
   "cell_type": "code",
   "execution_count": 1,
   "metadata": {
    "execution": {
     "iopub.execute_input": "2020-12-05T15:02:30.580706Z",
     "iopub.status.busy": "2020-12-05T15:02:30.580266Z",
     "iopub.status.idle": "2020-12-05T15:02:30.582599Z",
     "shell.execute_reply": "2020-12-05T15:02:30.582183Z"
    },
    "papermill": {
     "duration": 0.015281,
     "end_time": "2020-12-05T15:02:30.582741",
     "exception": false,
     "start_time": "2020-12-05T15:02:30.567460",
     "status": "completed"
    },
    "tags": []
   },
   "outputs": [],
   "source": [
    "# If this is the template file (and not a copy) and you are introducing changes,\n",
    "# update VERSION with the current date (YYYY.MM.DD)\n",
    "VERSION = \"2020.12.05\" "
   ]
  },
  {
   "cell_type": "markdown",
   "metadata": {
    "papermill": {
     "duration": 0.009084,
     "end_time": "2020-12-05T15:02:30.599681",
     "exception": false,
     "start_time": "2020-12-05T15:02:30.590597",
     "status": "completed"
    },
    "tags": []
   },
   "source": [
    "## ✏ Define hyper parameters"
   ]
  },
  {
   "cell_type": "code",
   "execution_count": 2,
   "metadata": {
    "execution": {
     "iopub.execute_input": "2020-12-05T15:02:30.623600Z",
     "iopub.status.busy": "2020-12-05T15:02:30.623113Z",
     "iopub.status.idle": "2020-12-05T15:02:30.626311Z",
     "shell.execute_reply": "2020-12-05T15:02:30.625932Z"
    },
    "papermill": {
     "duration": 0.017596,
     "end_time": "2020-12-05T15:02:30.626405",
     "exception": false,
     "start_time": "2020-12-05T15:02:30.608809",
     "status": "completed"
    },
    "tags": [
     "parameters"
    ]
   },
   "outputs": [],
   "source": [
    "# TEMPLATE VALUES -- these are overriden (see below if executed) by papermill using a YAML or Python file as input\n",
    "DATASET_CLS = \"import.path.to.DatasetProvider\"\n",
    "DATASET_KWARGS = {\"option\": \"value\", \"option2\": \"value2\"}\n",
    "\n",
    "PIPELINE = {\n",
    "    \"someuniquekey\": [\n",
    "        (\"import.path.to.SomeFeaturizer\", {\"option\": \"value\", \"option2\": \"value2\"}),\n",
    "        (\"import.path.to.SomeOtherFeaturizer\", {\"option\": \"value\", \"option2\": \"value2\"}),\n",
    "    ]\n",
    "}\n",
    "PIPELINE_AGG = \"kinoml.features.core.Concatenated\"\n",
    "PIPELINE_AGG_KWARGS = {}\n",
    "\n",
    "FEATURIZE_KWARGS = {\"processes\": 1}\n",
    "\n",
    "GROUPS = [\n",
    "    (\"kinoml.datasets.groups.CallableGrouper\", {\"function\": \"lambda something: something.attribute\"}),\n",
    "    (\"kinoml.datasets.groups.CallableGrouper\", {\"function\": \"lambda otherthing: otherthing.attribute2\"})\n",
    "]\n",
    "\n",
    "TRAIN_TEST_VAL_KWARGS = {\"idx_train\": 0.8, \"idx_test\": 0.1, \"idx_val\": 0.1}\n",
    "\n",
    "## IGNORE THIS ONE\n",
    "from pathlib import Path\n",
    "HERE = Path(_dh[-1])"
   ]
  },
  {
   "cell_type": "code",
   "execution_count": 3,
   "metadata": {
    "execution": {
     "iopub.execute_input": "2020-12-05T15:02:30.647014Z",
     "iopub.status.busy": "2020-12-05T15:02:30.646646Z",
     "iopub.status.idle": "2020-12-05T15:02:30.648959Z",
     "shell.execute_reply": "2020-12-05T15:02:30.648679Z"
    },
    "papermill": {
     "duration": 0.014633,
     "end_time": "2020-12-05T15:02:30.649049",
     "exception": false,
     "start_time": "2020-12-05T15:02:30.634416",
     "status": "completed"
    },
    "tags": [
     "injected-parameters"
    ]
   },
   "outputs": [],
   "source": [
    "# Parameters\n",
    "DATASET_CLS = \"kinoml.datasets.kinomescan.pkis2.PKIS2DatasetProvider\"\n",
    "DATASET_KWARGS = {}\n",
    "PIPELINE = {\n",
    "    \"ligand\": [\n",
    "        [\"kinoml.features.ligand.SmilesToLigandFeaturizer\", {\"style\": \"rdkit\"}],\n",
    "        [\n",
    "            \"kinoml.features.ligand.MorganFingerprintFeaturizer\",\n",
    "            {\"nbits\": 512, \"radius\": 2},\n",
    "        ],\n",
    "    ]\n",
    "}\n",
    "PIPELINE_AGG = \"kinoml.features.core.Concatenated\"\n",
    "PIPELINE_AGG_KWARGS = {}\n",
    "FEATURIZE_KWARGS = {\"processes\": 1}\n",
    "GROUPS = [\n",
    "    [\n",
    "        \"kinoml.datasets.groups.CallableGrouper\",\n",
    "        {\"function\": \"lambda measurement: measurement.system.protein.name\"},\n",
    "    ],\n",
    "    [\n",
    "        \"kinoml.datasets.groups.CallableGrouper\",\n",
    "        {\"function\": \"lambda measurement: type(measurement).__name__\"},\n",
    "    ],\n",
    "]\n",
    "TRAIN_TEST_VAL_KWARGS = {\"idx_train\": 0.8, \"idx_test\": 0.1, \"idx_val\": 0.1}\n",
    "HERE = (\n",
    "    \"/home/jaime/devel/py/openkinome/experiments-binding-affinity/features/001_morgan\"\n",
    ")\n"
   ]
  },
  {
   "cell_type": "markdown",
   "metadata": {
    "papermill": {
     "duration": 0.008879,
     "end_time": "2020-12-05T15:02:30.666098",
     "exception": false,
     "start_time": "2020-12-05T15:02:30.657219",
     "status": "completed"
    },
    "tags": []
   },
   "source": [
    "⚠ From here on, you should _not_ need to modify anything else 🤞\n",
    "\n",
    "---\n",
    "\n",
    "Define key paths for data and outputs:"
   ]
  },
  {
   "cell_type": "code",
   "execution_count": 4,
   "metadata": {
    "execution": {
     "iopub.execute_input": "2020-12-05T15:02:30.693909Z",
     "iopub.status.busy": "2020-12-05T15:02:30.693268Z",
     "iopub.status.idle": "2020-12-05T15:02:30.697100Z",
     "shell.execute_reply": "2020-12-05T15:02:30.697393Z"
    },
    "papermill": {
     "duration": 0.020757,
     "end_time": "2020-12-05T15:02:30.697517",
     "exception": false,
     "start_time": "2020-12-05T15:02:30.676760",
     "status": "completed"
    },
    "tags": []
   },
   "outputs": [
    {
     "name": "stdout",
     "output_type": "stream",
     "text": [
      "This notebook:           HERE = ~/devel/py/openkinome/experiments-binding-affinity/features/001_morgan\n",
      "This repo:               REPO = ~/devel/py/openkinome/experiments-binding-affinity\n",
      "Outputs in:               OUT = ~/devel/py/openkinome/experiments-binding-affinity/features/001_morgan/_output/ligand__SmilesToLigandFeaturizer_style=rdkit__MorganFingerprintFeaturizer_nbits=512_radius=2/PKIS2DatasetProvider\n"
     ]
    }
   ],
   "source": [
    "HERE = Path(HERE)\n",
    "for parent in HERE.parents:\n",
    "    if next(parent.glob(\".github/\"), None):\n",
    "        REPO = parent\n",
    "        break\n",
    "\n",
    "# Generate paths for this pipeline\n",
    "featurizer_path = []\n",
    "for name, branch in PIPELINE.items():\n",
    "    featurizer_path.append(name)\n",
    "    for clsname, kwargs in branch:\n",
    "        clsname = clsname.rsplit(\".\", 1)[1]\n",
    "        kwargs = [f\"{k}={''.join(c for c in str(v) if c.isalnum())}\" for k,v in kwargs.items()]\n",
    "        featurizer_path.append(\"_\".join([clsname] + kwargs))\n",
    "\n",
    "OUT = HERE / \"_output\"  / \"__\".join(featurizer_path) / DATASET_CLS.rsplit('.', 1)[1]\n",
    "OUT.mkdir(parents=True, exist_ok=True)\n",
    "\n",
    "print(f\"This notebook:           HERE = ~/{HERE.relative_to(Path.home())}\")\n",
    "print(f\"This repo:               REPO = ~/{REPO.relative_to(Path.home())}\")\n",
    "print(f\"Outputs in:               OUT = ~/{OUT.relative_to(Path.home())}\")"
   ]
  },
  {
   "cell_type": "code",
   "execution_count": 5,
   "metadata": {
    "execution": {
     "iopub.execute_input": "2020-12-05T15:02:30.719482Z",
     "iopub.status.busy": "2020-12-05T15:02:30.719129Z",
     "iopub.status.idle": "2020-12-05T15:02:30.722039Z",
     "shell.execute_reply": "2020-12-05T15:02:30.722357Z"
    },
    "papermill": {
     "duration": 0.015297,
     "end_time": "2020-12-05T15:02:30.722479",
     "exception": false,
     "start_time": "2020-12-05T15:02:30.707182",
     "status": "completed"
    },
    "tags": []
   },
   "outputs": [],
   "source": [
    "# Nasty trick: save all-caps local variables (CONSTANTS working as hyperparametrs) so far in a dict to save it later\n",
    "_hparams = {key: value for key, value in locals().items() if key.upper() == key and not key.startswith((\"_\", \"OE_\"))}"
   ]
  },
  {
   "cell_type": "code",
   "execution_count": 6,
   "metadata": {
    "execution": {
     "iopub.execute_input": "2020-12-05T15:02:30.745554Z",
     "iopub.status.busy": "2020-12-05T15:02:30.745166Z",
     "iopub.status.idle": "2020-12-05T15:02:31.151316Z",
     "shell.execute_reply": "2020-12-05T15:02:31.151600Z"
    },
    "papermill": {
     "duration": 0.419978,
     "end_time": "2020-12-05T15:02:31.151723",
     "exception": false,
     "start_time": "2020-12-05T15:02:30.731745",
     "status": "completed"
    },
    "tags": []
   },
   "outputs": [],
   "source": [
    "# Filter out some warnings thrown by openforcefield and rdkit\n",
    "import warnings\n",
    "warnings.simplefilter(\"ignore\")\n",
    "import logging\n",
    "logging.basicConfig(level=logging.ERROR)\n",
    "import os\n",
    "import sys\n",
    "from pathlib import Path\n",
    "\n",
    "import numpy as np\n",
    "\n",
    "from kinoml.utils import seed_everything, import_object\n",
    "seed_everything();"
   ]
  },
  {
   "cell_type": "markdown",
   "metadata": {
    "papermill": {
     "duration": 0.009125,
     "end_time": "2020-12-05T15:02:31.169492",
     "exception": false,
     "start_time": "2020-12-05T15:02:31.160367",
     "status": "completed"
    },
    "tags": []
   },
   "source": [
    "## Load raw data"
   ]
  },
  {
   "cell_type": "code",
   "execution_count": 7,
   "metadata": {
    "execution": {
     "iopub.execute_input": "2020-12-05T15:02:31.193158Z",
     "iopub.status.busy": "2020-12-05T15:02:31.192771Z",
     "iopub.status.idle": "2020-12-05T15:02:38.172288Z",
     "shell.execute_reply": "2020-12-05T15:02:38.171692Z"
    },
    "papermill": {
     "duration": 6.994218,
     "end_time": "2020-12-05T15:02:38.172426",
     "exception": false,
     "start_time": "2020-12-05T15:02:31.178208",
     "status": "completed"
    },
    "tags": []
   },
   "outputs": [
    {
     "data": {
      "application/vnd.jupyter.widget-view+json": {
       "model_id": "a8932651365a4b32b6764dbb7b211f82",
       "version_major": 2,
       "version_minor": 0
      },
      "text/plain": []
     },
     "metadata": {},
     "output_type": "display_data"
    },
    {
     "data": {
      "text/plain": [
       "<PKIS2DatasetProvider with 10 PercentageDisplacementMeasurement measurements and 9 systems (AminoAcidSequence=9, SmilesLigand=1)>"
      ]
     },
     "execution_count": 7,
     "metadata": {},
     "output_type": "execute_result"
    }
   ],
   "source": [
    "dataset = import_object(DATASET_CLS).from_source(**DATASET_KWARGS)[:10]\n",
    "dataset"
   ]
  },
  {
   "cell_type": "code",
   "execution_count": 8,
   "metadata": {
    "execution": {
     "iopub.execute_input": "2020-12-05T15:02:38.206090Z",
     "iopub.status.busy": "2020-12-05T15:02:38.205660Z",
     "iopub.status.idle": "2020-12-05T15:02:38.209237Z",
     "shell.execute_reply": "2020-12-05T15:02:38.209521Z"
    },
    "papermill": {
     "duration": 0.025644,
     "end_time": "2020-12-05T15:02:38.209670",
     "exception": false,
     "start_time": "2020-12-05T15:02:38.184026",
     "status": "completed"
    },
    "tags": []
   },
   "outputs": [
    {
     "data": {
      "text/html": [
       "<div>\n",
       "<style scoped>\n",
       "    .dataframe tbody tr th:only-of-type {\n",
       "        vertical-align: middle;\n",
       "    }\n",
       "\n",
       "    .dataframe tbody tr th {\n",
       "        vertical-align: top;\n",
       "    }\n",
       "\n",
       "    .dataframe thead th {\n",
       "        text-align: right;\n",
       "    }\n",
       "</style>\n",
       "<table border=\"1\" class=\"dataframe\">\n",
       "  <thead>\n",
       "    <tr style=\"text-align: right;\">\n",
       "      <th></th>\n",
       "      <th>Systems</th>\n",
       "      <th>n_components</th>\n",
       "      <th>PercentageDisplacementMeasurement</th>\n",
       "    </tr>\n",
       "  </thead>\n",
       "  <tbody>\n",
       "    <tr>\n",
       "      <th>0</th>\n",
       "      <td>AAK1 &amp; Clc1cccc(Cn2c(nn3c2nc(cc3=O)N2CCOCC2)C2...</td>\n",
       "      <td>2</td>\n",
       "      <td>14.0</td>\n",
       "    </tr>\n",
       "    <tr>\n",
       "      <th>1</th>\n",
       "      <td>ABL1-nonphosphorylated &amp; Clc1cccc(Cn2c(nn3c2nc...</td>\n",
       "      <td>2</td>\n",
       "      <td>28.0</td>\n",
       "    </tr>\n",
       "    <tr>\n",
       "      <th>2</th>\n",
       "      <td>ABL1-nonphosphorylated &amp; Clc1cccc(Cn2c(nn3c2nc...</td>\n",
       "      <td>2</td>\n",
       "      <td>20.0</td>\n",
       "    </tr>\n",
       "    <tr>\n",
       "      <th>3</th>\n",
       "      <td>ABL2 &amp; Clc1cccc(Cn2c(nn3c2nc(cc3=O)N2CCOCC2)C2...</td>\n",
       "      <td>2</td>\n",
       "      <td>5.0</td>\n",
       "    </tr>\n",
       "    <tr>\n",
       "      <th>4</th>\n",
       "      <td>ACVR1 &amp; Clc1cccc(Cn2c(nn3c2nc(cc3=O)N2CCOCC2)C...</td>\n",
       "      <td>2</td>\n",
       "      <td>0.0</td>\n",
       "    </tr>\n",
       "    <tr>\n",
       "      <th>5</th>\n",
       "      <td>ACVR1B &amp; Clc1cccc(Cn2c(nn3c2nc(cc3=O)N2CCOCC2)...</td>\n",
       "      <td>2</td>\n",
       "      <td>0.0</td>\n",
       "    </tr>\n",
       "    <tr>\n",
       "      <th>6</th>\n",
       "      <td>ACVR2A &amp; Clc1cccc(Cn2c(nn3c2nc(cc3=O)N2CCOCC2)...</td>\n",
       "      <td>2</td>\n",
       "      <td>0.0</td>\n",
       "    </tr>\n",
       "    <tr>\n",
       "      <th>7</th>\n",
       "      <td>ACVR2B &amp; Clc1cccc(Cn2c(nn3c2nc(cc3=O)N2CCOCC2)...</td>\n",
       "      <td>2</td>\n",
       "      <td>0.0</td>\n",
       "    </tr>\n",
       "    <tr>\n",
       "      <th>8</th>\n",
       "      <td>ACVRL1 &amp; Clc1cccc(Cn2c(nn3c2nc(cc3=O)N2CCOCC2)...</td>\n",
       "      <td>2</td>\n",
       "      <td>9.0</td>\n",
       "    </tr>\n",
       "    <tr>\n",
       "      <th>9</th>\n",
       "      <td>ADCK3 &amp; Clc1cccc(Cn2c(nn3c2nc(cc3=O)N2CCOCC2)C...</td>\n",
       "      <td>2</td>\n",
       "      <td>11.0</td>\n",
       "    </tr>\n",
       "  </tbody>\n",
       "</table>\n",
       "</div>"
      ],
      "text/plain": [
       "                                             Systems  n_components  \\\n",
       "0  AAK1 & Clc1cccc(Cn2c(nn3c2nc(cc3=O)N2CCOCC2)C2...             2   \n",
       "1  ABL1-nonphosphorylated & Clc1cccc(Cn2c(nn3c2nc...             2   \n",
       "2  ABL1-nonphosphorylated & Clc1cccc(Cn2c(nn3c2nc...             2   \n",
       "3  ABL2 & Clc1cccc(Cn2c(nn3c2nc(cc3=O)N2CCOCC2)C2...             2   \n",
       "4  ACVR1 & Clc1cccc(Cn2c(nn3c2nc(cc3=O)N2CCOCC2)C...             2   \n",
       "5  ACVR1B & Clc1cccc(Cn2c(nn3c2nc(cc3=O)N2CCOCC2)...             2   \n",
       "6  ACVR2A & Clc1cccc(Cn2c(nn3c2nc(cc3=O)N2CCOCC2)...             2   \n",
       "7  ACVR2B & Clc1cccc(Cn2c(nn3c2nc(cc3=O)N2CCOCC2)...             2   \n",
       "8  ACVRL1 & Clc1cccc(Cn2c(nn3c2nc(cc3=O)N2CCOCC2)...             2   \n",
       "9  ADCK3 & Clc1cccc(Cn2c(nn3c2nc(cc3=O)N2CCOCC2)C...             2   \n",
       "\n",
       "   PercentageDisplacementMeasurement  \n",
       "0                               14.0  \n",
       "1                               28.0  \n",
       "2                               20.0  \n",
       "3                                5.0  \n",
       "4                                0.0  \n",
       "5                                0.0  \n",
       "6                                0.0  \n",
       "7                                0.0  \n",
       "8                                9.0  \n",
       "9                               11.0  "
      ]
     },
     "execution_count": 8,
     "metadata": {},
     "output_type": "execute_result"
    }
   ],
   "source": [
    "df = dataset.to_dataframe()\n",
    "df"
   ]
  },
  {
   "cell_type": "markdown",
   "metadata": {
    "papermill": {
     "duration": 0.010683,
     "end_time": "2020-12-05T15:02:38.231911",
     "exception": false,
     "start_time": "2020-12-05T15:02:38.221228",
     "status": "completed"
    },
    "tags": []
   },
   "source": [
    "## Featurize"
   ]
  },
  {
   "cell_type": "code",
   "execution_count": 9,
   "metadata": {
    "execution": {
     "iopub.execute_input": "2020-12-05T15:02:38.257591Z",
     "iopub.status.busy": "2020-12-05T15:02:38.257196Z",
     "iopub.status.idle": "2020-12-05T15:02:38.259917Z",
     "shell.execute_reply": "2020-12-05T15:02:38.259521Z"
    },
    "papermill": {
     "duration": 0.017891,
     "end_time": "2020-12-05T15:02:38.260019",
     "exception": false,
     "start_time": "2020-12-05T15:02:38.242128",
     "status": "completed"
    },
    "tags": []
   },
   "outputs": [],
   "source": [
    "# build pipeline\n",
    "from kinoml.features.core import Pipeline\n",
    "\n",
    "featurizers = []\n",
    "for key, featurizer_instructions in PIPELINE.items():\n",
    "    featurizers.append(Pipeline([import_object(import_str)(**kwargs) for import_str, kwargs in featurizer_instructions]))\n",
    "featurizer = import_object(PIPELINE_AGG)(featurizers, **PIPELINE_AGG_KWARGS)"
   ]
  },
  {
   "cell_type": "code",
   "execution_count": 10,
   "metadata": {
    "execution": {
     "iopub.execute_input": "2020-12-05T15:02:38.287225Z",
     "iopub.status.busy": "2020-12-05T15:02:38.286518Z",
     "iopub.status.idle": "2020-12-05T15:02:38.401553Z",
     "shell.execute_reply": "2020-12-05T15:02:38.401216Z"
    },
    "papermill": {
     "duration": 0.130776,
     "end_time": "2020-12-05T15:02:38.401647",
     "exception": false,
     "start_time": "2020-12-05T15:02:38.270871",
     "status": "completed"
    },
    "tags": []
   },
   "outputs": [
    {
     "data": {
      "application/vnd.jupyter.widget-view+json": {
       "model_id": "e556cf2fc0ae472ba52885ead100b302",
       "version_major": 2,
       "version_minor": 0
      },
      "text/plain": [
       "HBox(children=(HTML(value=''), FloatProgress(value=0.0, max=9.0), HTML(value='')))"
      ]
     },
     "metadata": {},
     "output_type": "display_data"
    },
    {
     "name": "stdout",
     "output_type": "stream",
     "text": [
      "\n"
     ]
    }
   ],
   "source": [
    "# prefeaturize everything\n",
    "dataset.featurize(featurizer, **FEATURIZE_KWARGS);"
   ]
  },
  {
   "cell_type": "markdown",
   "metadata": {
    "papermill": {
     "duration": 0.010975,
     "end_time": "2020-12-05T15:02:38.423005",
     "exception": false,
     "start_time": "2020-12-05T15:02:38.412030",
     "status": "completed"
    },
    "tags": []
   },
   "source": [
    "## Filter"
   ]
  },
  {
   "cell_type": "markdown",
   "metadata": {
    "papermill": {
     "duration": 0.011415,
     "end_time": "2020-12-05T15:02:38.446939",
     "exception": false,
     "start_time": "2020-12-05T15:02:38.435524",
     "status": "completed"
    },
    "tags": []
   },
   "source": [
    "Remove systems that couldn't be featurized. Successful featurizations are stored in `measurement.system.featurizations['last']` so we test for that key existence."
   ]
  },
  {
   "cell_type": "code",
   "execution_count": 11,
   "metadata": {
    "execution": {
     "iopub.execute_input": "2020-12-05T15:02:38.473106Z",
     "iopub.status.busy": "2020-12-05T15:02:38.472623Z",
     "iopub.status.idle": "2020-12-05T15:02:38.475530Z",
     "shell.execute_reply": "2020-12-05T15:02:38.475111Z"
    },
    "papermill": {
     "duration": 0.018285,
     "end_time": "2020-12-05T15:02:38.475623",
     "exception": false,
     "start_time": "2020-12-05T15:02:38.457338",
     "status": "completed"
    },
    "tags": []
   },
   "outputs": [],
   "source": [
    "from kinoml.datasets.groups import CallableGrouper, RandomGrouper\n",
    "grouper = CallableGrouper(lambda measurement: 'invalid' if 'last' not in measurement.system.featurizations else 'valid')\n",
    "grouper.assign(dataset, overwrite=True, progress=False)\n",
    "groups = dataset.split_by_groups()\n",
    "if \"invalid\" in groups:\n",
    "    _invalid = groups.pop(\"invalid\")\n",
    "    print(len(_invalid.measurements), \"entries could not be featurized!\", file=sys.stderr)\n",
    "    print(_invalid.measurements[0].system.featurizations)"
   ]
  },
  {
   "cell_type": "markdown",
   "metadata": {
    "papermill": {
     "duration": 0.009916,
     "end_time": "2020-12-05T15:02:38.496356",
     "exception": false,
     "start_time": "2020-12-05T15:02:38.486440",
     "status": "completed"
    },
    "tags": []
   },
   "source": [
    "## Groups\n",
    "\n",
    "Cumulatively apply groups."
   ]
  },
  {
   "cell_type": "code",
   "execution_count": 12,
   "metadata": {
    "execution": {
     "iopub.execute_input": "2020-12-05T15:02:38.524216Z",
     "iopub.status.busy": "2020-12-05T15:02:38.523788Z",
     "iopub.status.idle": "2020-12-05T15:02:38.526437Z",
     "shell.execute_reply": "2020-12-05T15:02:38.526137Z"
    },
    "papermill": {
     "duration": 0.019577,
     "end_time": "2020-12-05T15:02:38.526525",
     "exception": false,
     "start_time": "2020-12-05T15:02:38.506948",
     "status": "completed"
    },
    "tags": []
   },
   "outputs": [
    {
     "name": "stdout",
     "output_type": "stream",
     "text": [
      "10 groups to show keys:\n",
      "('valid', 'AAK1', 'PercentageDisplacementMeasurement')\n",
      "('valid', 'ABL1-nonphosphorylated', 'PercentageDisplacementMeasurement')\n",
      "('valid', 'ABL2', 'PercentageDisplacementMeasurement')\n",
      "('valid', 'ACVR1', 'PercentageDisplacementMeasurement')\n",
      "('valid', 'ACVR1B', 'PercentageDisplacementMeasurement')\n",
      "('valid', 'ACVR2A', 'PercentageDisplacementMeasurement')\n",
      "('valid', 'ACVR2B', 'PercentageDisplacementMeasurement')\n",
      "('valid', 'ACVRL1', 'PercentageDisplacementMeasurement')\n",
      "('valid', 'ADCK3', 'PercentageDisplacementMeasurement')\n"
     ]
    }
   ],
   "source": [
    "groups[(\"valid\",)] = groups.pop(\"valid\")\n",
    "for grouper_str, grouper_kwargs in GROUPS:\n",
    "    grouper_cls = import_object(grouper_str)\n",
    "    ## We need this because lambda functions are not JSON-serializable\n",
    "    if issubclass(grouper_cls, CallableGrouper):\n",
    "        for k, v in list(grouper_kwargs.items()):\n",
    "            if k == \"function\" and isinstance(v, str):\n",
    "                grouper_kwargs[k] = eval(v)  # sorry :)\n",
    "    ## End of lambda hack\n",
    "    grouper = grouper_cls(**grouper_kwargs)        \n",
    "    for group_key in list(groups.keys()):\n",
    "        grouper.assign(groups[group_key], overwrite=True, progress=False)\n",
    "        for subkey, subgroup in groups.pop(group_key).split_by_groups().items():\n",
    "            groups[group_key + (subkey,)] = subgroup\n",
    "print(\"10 groups to show keys:\", *list(groups.keys())[:10], sep=\"\\n\")"
   ]
  },
  {
   "cell_type": "markdown",
   "metadata": {
    "papermill": {
     "duration": 0.012013,
     "end_time": "2020-12-05T15:02:38.549059",
     "exception": false,
     "start_time": "2020-12-05T15:02:38.537046",
     "status": "completed"
    },
    "tags": []
   },
   "source": [
    "## Write tensors to disk\n",
    "\n",
    "Output files are written to `_output/<PIPELINE>/<DATASET>/<GROUP>.npz` files.\n",
    "\n",
    "Each `npz` will contain two `np.ndarray` objects: `X` (featurized systems) and `y` (associated measurements), plus the train/test/validation indices."
   ]
  },
  {
   "cell_type": "code",
   "execution_count": 13,
   "metadata": {
    "execution": {
     "iopub.execute_input": "2020-12-05T15:02:38.578122Z",
     "iopub.status.busy": "2020-12-05T15:02:38.577686Z",
     "iopub.status.idle": "2020-12-05T15:02:38.592147Z",
     "shell.execute_reply": "2020-12-05T15:02:38.591734Z"
    },
    "papermill": {
     "duration": 0.031041,
     "end_time": "2020-12-05T15:02:38.592249",
     "exception": false,
     "start_time": "2020-12-05T15:02:38.561208",
     "status": "completed"
    },
    "tags": []
   },
   "outputs": [],
   "source": [
    "random_grouper = RandomGrouper(TRAIN_TEST_VAL_KWARGS)\n",
    "\n",
    "for group, ds in sorted(groups.items(), key=lambda kv: len(kv[1]), reverse=True):\n",
    "    indices = random_grouper.indices(ds)\n",
    "    X = np.asarray(ds.featurized_systems())\n",
    "    y = ds.measurements_as_array()\n",
    "    np.savez(OUT / f\"{'__'.join([g for g in group if g != 'valid'])}.npz\", X=X, y=y.astype(\"float32\"), **indices)"
   ]
  },
  {
   "cell_type": "markdown",
   "metadata": {
    "papermill": {
     "duration": 0.010469,
     "end_time": "2020-12-05T15:02:38.613570",
     "exception": false,
     "start_time": "2020-12-05T15:02:38.603101",
     "status": "completed"
    },
    "tags": []
   },
   "source": [
    "# Reproducibility logs"
   ]
  },
  {
   "cell_type": "code",
   "execution_count": 14,
   "metadata": {
    "execution": {
     "iopub.execute_input": "2020-12-05T15:02:38.641535Z",
     "iopub.status.busy": "2020-12-05T15:02:38.641175Z",
     "iopub.status.idle": "2020-12-05T15:02:42.153518Z",
     "shell.execute_reply": "2020-12-05T15:02:42.153792Z"
    },
    "papermill": {
     "duration": 3.529269,
     "end_time": "2020-12-05T15:02:42.153996",
     "exception": false,
     "start_time": "2020-12-05T15:02:38.624727",
     "status": "completed"
    },
    "tags": []
   },
   "outputs": [],
   "source": [
    "%%capture cap --no-stderr\n",
    "from kinoml.utils import watermark\n",
    "\n",
    "w = watermark()"
   ]
  },
  {
   "cell_type": "code",
   "execution_count": 15,
   "metadata": {
    "execution": {
     "iopub.execute_input": "2020-12-05T15:02:42.181779Z",
     "iopub.status.busy": "2020-12-05T15:02:42.181274Z",
     "iopub.status.idle": "2020-12-05T15:02:42.186391Z",
     "shell.execute_reply": "2020-12-05T15:02:42.185968Z"
    },
    "papermill": {
     "duration": 0.021365,
     "end_time": "2020-12-05T15:02:42.186492",
     "exception": false,
     "start_time": "2020-12-05T15:02:42.165127",
     "status": "completed"
    },
    "tags": []
   },
   "outputs": [],
   "source": [
    "import json\n",
    "\n",
    "with open(OUT/ \"watermark.txt\", \"w\") as f:\n",
    "    f.write(cap.stdout)\n",
    "\n",
    "with open(OUT / \"hparams.json\", \"w\") as f:\n",
    "    json.dump(_hparams, f, default=str, indent=2)"
   ]
  }
 ],
 "metadata": {
  "kernelspec": {
   "display_name": "Python 3",
   "language": "python",
   "name": "python3"
  },
  "language_info": {
   "codemirror_mode": {
    "name": "ipython",
    "version": 3
   },
   "file_extension": ".py",
   "mimetype": "text/x-python",
   "name": "python",
   "nbconvert_exporter": "python",
   "pygments_lexer": "ipython3",
   "version": "3.7.8"
  },
  "papermill": {
   "default_parameters": {},
   "duration": 12.758532,
   "end_time": "2020-12-05T15:02:42.605544",
   "environment_variables": {},
   "exception": null,
   "input_path": "featurize-template.ipynb",
   "output_path": "001_morgan/featurize.ipynb",
   "parameters": {
    "DATASET_CLS": "kinoml.datasets.kinomescan.pkis2.PKIS2DatasetProvider",
    "DATASET_KWARGS": {},
    "FEATURIZE_KWARGS": {
     "processes": 1
    },
    "GROUPS": [
     [
      "kinoml.datasets.groups.CallableGrouper",
      {
       "function": "lambda measurement: measurement.system.protein.name"
      }
     ],
     [
      "kinoml.datasets.groups.CallableGrouper",
      {
       "function": "lambda measurement: type(measurement).__name__"
      }
     ]
    ],
    "HERE": "/home/jaime/devel/py/openkinome/experiments-binding-affinity/features/001_morgan",
    "PIPELINE": {
     "ligand": [
      [
       "kinoml.features.ligand.SmilesToLigandFeaturizer",
       {
        "style": "rdkit"
       }
      ],
      [
       "kinoml.features.ligand.MorganFingerprintFeaturizer",
       {
        "nbits": 512,
        "radius": 2
       }
      ]
     ]
    },
    "PIPELINE_AGG": "kinoml.features.core.Concatenated",
    "PIPELINE_AGG_KWARGS": {},
    "TRAIN_TEST_VAL_KWARGS": {
     "idx_test": 0.1,
     "idx_train": 0.8,
     "idx_val": 0.1
    }
   },
   "start_time": "2020-12-05T15:02:29.847012",
   "version": "2.2.2"
  },
  "widgets": {
   "application/vnd.jupyter.widget-state+json": {
    "state": {},
    "version_major": 2,
    "version_minor": 0
   }
  }
 },
 "nbformat": 4,
 "nbformat_minor": 4
}
