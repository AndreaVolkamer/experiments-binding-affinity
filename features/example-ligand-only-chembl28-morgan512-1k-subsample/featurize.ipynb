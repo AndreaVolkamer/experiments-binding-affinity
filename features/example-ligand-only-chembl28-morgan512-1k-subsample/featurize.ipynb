{
 "cells": [
  {
   "cell_type": "markdown",
   "metadata": {
    "papermill": {
     "duration": 0.005227,
     "end_time": "2021-04-09T13:56:37.575760",
     "exception": false,
     "start_time": "2021-04-09T13:56:37.570533",
     "status": "completed"
    },
    "tags": []
   },
   "source": [
    "# Featurize a dataset\n",
    "\n",
    "Any machine learning model will expect tensorial representations of the chemical data. This notebooks provides a workflow to achieve such goal.\n",
    "\n",
    "`kinoml.dataset.DatasetProvider` objects need to be available to deal with your collection of raw measurements for protein:ligand systems. These objects are, roughly, a list of `kinoml.core.BaseMeasurement`, each containing a set of `.values` and a some extra metadata, like the `system` objects to be featurized here.\n",
    "\n",
    "In ligand-based models, protein information is only considered marginally, and most of the action happens at the ligand level. Usually starting with a string representation such as SMILES, or a database identifier such as a PubChem ID, these are promoted to (usually) RDKit objects and then transformed into a tensor of some form (e.g. fingerprints, molecular graph as an adjacency matrix, etc).\n",
    "\n",
    "Available featurizers can be found under `kinoml.features`."
   ]
  },
  {
   "cell_type": "markdown",
   "metadata": {
    "papermill": {
     "duration": 0.004775,
     "end_time": "2021-04-09T13:56:37.584866",
     "exception": false,
     "start_time": "2021-04-09T13:56:37.580091",
     "status": "completed"
    },
    "tags": []
   },
   "source": [
    "## How to use\n",
    "\n",
    "Run `python run_notebook.py --help` for more information."
   ]
  },
  {
   "cell_type": "code",
   "execution_count": 1,
   "metadata": {
    "execution": {
     "iopub.execute_input": "2021-04-09T13:56:37.600287Z",
     "iopub.status.busy": "2021-04-09T13:56:37.599831Z",
     "iopub.status.idle": "2021-04-09T13:56:37.602103Z",
     "shell.execute_reply": "2021-04-09T13:56:37.601726Z"
    },
    "papermill": {
     "duration": 0.012886,
     "end_time": "2021-04-09T13:56:37.602192",
     "exception": false,
     "start_time": "2021-04-09T13:56:37.589306",
     "status": "completed"
    },
    "tags": []
   },
   "outputs": [],
   "source": [
    "# If this is the template file (and not a copy) and you are introducing changes,\n",
    "# update VERSION with the current date (YYYY.MM.DD)\n",
    "VERSION = \"2021.04.08\" "
   ]
  },
  {
   "cell_type": "markdown",
   "metadata": {
    "papermill": {
     "duration": 0.00481,
     "end_time": "2021-04-09T13:56:37.612274",
     "exception": false,
     "start_time": "2021-04-09T13:56:37.607464",
     "status": "completed"
    },
    "tags": []
   },
   "source": [
    "## ✏ Define hyper parameters"
   ]
  },
  {
   "cell_type": "code",
   "execution_count": 2,
   "metadata": {
    "execution": {
     "iopub.execute_input": "2021-04-09T13:56:37.625485Z",
     "iopub.status.busy": "2021-04-09T13:56:37.625123Z",
     "iopub.status.idle": "2021-04-09T13:56:37.627410Z",
     "shell.execute_reply": "2021-04-09T13:56:37.627109Z"
    },
    "papermill": {
     "duration": 0.011107,
     "end_time": "2021-04-09T13:56:37.627489",
     "exception": false,
     "start_time": "2021-04-09T13:56:37.616382",
     "status": "completed"
    },
    "tags": [
     "parameters"
    ]
   },
   "outputs": [],
   "source": [
    "# TEMPLATE VALUES -- these are overriden (see below if executed) by papermill using a YAML or Python file as input\n",
    "DATASET_CLS = \"import.path.to.DatasetProvider\"\n",
    "DATASET_KWARGS = {\"option\": \"value\", \"option2\": \"value2\"}\n",
    "\n",
    "PIPELINES = {\n",
    "    \"someuniquekey\": [\n",
    "        (\"import.path.to.SomeFeaturizer\", {\"option\": \"value\", \"option2\": \"value2\"}),\n",
    "        (\"import.path.to.SomeOtherFeaturizer\", {\"option\": \"value\", \"option2\": \"value2\"}),\n",
    "    ]\n",
    "}\n",
    "PIPELINES_AGG = \"kinoml.features.core.Concatenated\"\n",
    "PIPELINES_AGG_KWARGS = {}\n",
    "\n",
    "FEATURIZE_KWARGS = {\"processes\": 1}\n",
    "\n",
    "GROUPS = [\n",
    "    (\"kinoml.datasets.groups.CallableGrouper\", {\"function\": \"lambda something: something.attribute\"}),\n",
    "    (\"kinoml.datasets.groups.CallableGrouper\", {\"function\": \"lambda otherthing: otherthing.attribute2\"})\n",
    "]\n",
    "\n",
    "TRAIN_TEST_VAL_KWARGS = {\"idx_train\": 0.8, \"idx_test\": 0.1, \"idx_val\": 0.1}\n",
    "\n",
    "## IGNORE THIS ONE\n",
    "HERE = _dh[-1]"
   ]
  },
  {
   "cell_type": "code",
   "execution_count": 3,
   "id": "cc7cb725",
   "metadata": {
    "execution": {
     "iopub.execute_input": "2021-04-09T13:56:37.642130Z",
     "iopub.status.busy": "2021-04-09T13:56:37.641742Z",
     "iopub.status.idle": "2021-04-09T13:56:37.644076Z",
     "shell.execute_reply": "2021-04-09T13:56:37.643759Z"
    },
    "papermill": {
     "duration": 0.012607,
     "end_time": "2021-04-09T13:56:37.644159",
     "exception": false,
     "start_time": "2021-04-09T13:56:37.631552",
     "status": "completed"
    },
    "tags": [
     "injected-parameters"
    ]
   },
   "outputs": [],
   "source": [
    "# Parameters\n",
    "DATASET_CLS = \"kinoml.datasets.chembl.ChEMBLDatasetProvider\"\n",
    "DATASET_KWARGS = {\n",
    "    \"filename\": \"https://github.com/openkinome/kinodata/releases/download/v0.2/activities-chembl27_v0.2.zip\",\n",
    "    \"sample\": 1000,\n",
    "}\n",
    "PIPELINES = {\n",
    "    \"ligand\": [\n",
    "        [\"kinoml.features.ligand.SmilesToLigandFeaturizer\", {}],\n",
    "        [\n",
    "            \"kinoml.features.ligand.MorganFingerprintFeaturizer\",\n",
    "            {\"nbits\": 512, \"radius\": 2},\n",
    "        ],\n",
    "    ]\n",
    "}\n",
    "PIPELINES_AGG = \"kinoml.features.core.Concatenated\"\n",
    "PIPELINES_AGG_KWARGS = {}\n",
    "FEATURIZE_KWARGS = {\"processes\": 1}\n",
    "GROUPS = [\n",
    "    [\n",
    "        \"kinoml.datasets.groups.CallableGrouper\",\n",
    "        {\"function\": \"lambda measurement: measurement.system.protein.name\"},\n",
    "    ],\n",
    "    [\n",
    "        \"kinoml.datasets.groups.CallableGrouper\",\n",
    "        {\"function\": \"lambda measurement: type(measurement).__name__\"},\n",
    "    ],\n",
    "]\n",
    "TRAIN_TEST_VAL_KWARGS = {\"idx_train\": 0.8, \"idx_test\": 0.1, \"idx_val\": 0.1}\n",
    "HERE = \"/home/jaime/devel/py/openkinome/experiments-binding-affinity/features/example-ligand-only-chembl28-morgan512-1k-subsample\"\n"
   ]
  },
  {
   "cell_type": "markdown",
   "metadata": {
    "papermill": {
     "duration": 0.00411,
     "end_time": "2021-04-09T13:56:37.652648",
     "exception": false,
     "start_time": "2021-04-09T13:56:37.648538",
     "status": "completed"
    },
    "tags": []
   },
   "source": [
    "⚠ From here on, you should _not_ need to modify anything else 🤞\n",
    "\n",
    "---\n",
    "\n",
    "Define key paths for data and outputs:"
   ]
  },
  {
   "cell_type": "code",
   "execution_count": 4,
   "metadata": {
    "execution": {
     "iopub.execute_input": "2021-04-09T13:56:37.669570Z",
     "iopub.status.busy": "2021-04-09T13:56:37.669203Z",
     "iopub.status.idle": "2021-04-09T13:56:37.674362Z",
     "shell.execute_reply": "2021-04-09T13:56:37.674065Z"
    },
    "papermill": {
     "duration": 0.016287,
     "end_time": "2021-04-09T13:56:37.674450",
     "exception": false,
     "start_time": "2021-04-09T13:56:37.658163",
     "status": "completed"
    },
    "tags": []
   },
   "outputs": [
    {
     "name": "stdout",
     "output_type": "stream",
     "text": [
      "This notebook:           HERE = ~/devel/py/openkinome/experiments-binding-affinity/features/example-ligand-only-chembl28-morgan512-1k-subsample\n",
      "This repo:               REPO = ~/devel/py/openkinome/experiments-binding-affinity\n",
      "Outputs in:               OUT = ~/devel/py/openkinome/experiments-binding-affinity/features/example-ligand-only-chembl28-morgan512-1k-subsample/_output/ligand__SmilesToLigandFeaturizer__MorganFingerprintFeaturizer_nbits=512_radius=2/ChEMBLDatasetProvider\n"
     ]
    }
   ],
   "source": [
    "from pathlib import Path\n",
    "\n",
    "HERE = Path(HERE)\n",
    "for parent in HERE.parents:\n",
    "    if next(parent.glob(\".github/\"), None):\n",
    "        REPO = parent\n",
    "        break\n",
    "\n",
    "# Generate paths for this pipeline\n",
    "featurizer_path = []\n",
    "for name, branch in PIPELINES.items():\n",
    "    featurizer_path.append(name)\n",
    "    for clsname, kwargs in branch:\n",
    "        clsname = clsname.rsplit(\".\", 1)[1]\n",
    "        kwargs = [f\"{k}={''.join(c for c in str(v) if c.isalnum())}\" for k,v in kwargs.items()]\n",
    "        featurizer_path.append(\"_\".join([clsname] + kwargs))\n",
    "\n",
    "OUT = HERE / \"_output\"  / \"__\".join(featurizer_path) / DATASET_CLS.rsplit('.', 1)[1]\n",
    "OUT.mkdir(parents=True, exist_ok=True)\n",
    "\n",
    "print(f\"This notebook:           HERE = ~/{HERE.relative_to(Path.home())}\")\n",
    "print(f\"This repo:               REPO = ~/{REPO.relative_to(Path.home())}\")\n",
    "print(f\"Outputs in:               OUT = ~/{OUT.relative_to(Path.home())}\")"
   ]
  },
  {
   "cell_type": "code",
   "execution_count": 5,
   "metadata": {
    "execution": {
     "iopub.execute_input": "2021-04-09T13:56:37.687215Z",
     "iopub.status.busy": "2021-04-09T13:56:37.686832Z",
     "iopub.status.idle": "2021-04-09T13:56:37.689513Z",
     "shell.execute_reply": "2021-04-09T13:56:37.689133Z"
    },
    "papermill": {
     "duration": 0.01075,
     "end_time": "2021-04-09T13:56:37.689602",
     "exception": false,
     "start_time": "2021-04-09T13:56:37.678852",
     "status": "completed"
    },
    "tags": []
   },
   "outputs": [],
   "source": [
    "# Nasty trick: save all-caps local variables (CONSTANTS working as hyperparametrs) so far in a dict to save it later\n",
    "_hparams = {key: value for key, value in locals().items() if key.upper() == key and not key.startswith((\"_\", \"OE_\"))}"
   ]
  },
  {
   "cell_type": "markdown",
   "metadata": {
    "papermill": {
     "duration": 0.004929,
     "end_time": "2021-04-09T13:56:37.699460",
     "exception": false,
     "start_time": "2021-04-09T13:56:37.694531",
     "status": "completed"
    },
    "tags": []
   },
   "source": [
    "## Setup is finished, start working"
   ]
  },
  {
   "cell_type": "code",
   "execution_count": 6,
   "metadata": {
    "execution": {
     "iopub.execute_input": "2021-04-09T13:56:37.712904Z",
     "iopub.status.busy": "2021-04-09T13:56:37.712477Z",
     "iopub.status.idle": "2021-04-09T13:56:38.025974Z",
     "shell.execute_reply": "2021-04-09T13:56:38.026263Z"
    },
    "papermill": {
     "duration": 0.322395,
     "end_time": "2021-04-09T13:56:38.026410",
     "exception": false,
     "start_time": "2021-04-09T13:56:37.704015",
     "status": "completed"
    },
    "tags": []
   },
   "outputs": [
    {
     "name": "stdout",
     "output_type": "stream",
     "text": [
      "Run started at 2021-04-09 15:56:38.020900\n"
     ]
    }
   ],
   "source": [
    "from warnings import warn\n",
    "import os\n",
    "import sys\n",
    "from pathlib import Path\n",
    "from datetime import datetime\n",
    "\n",
    "import numpy as np\n",
    "\n",
    "from kinoml.utils import seed_everything, import_object\n",
    "seed_everything();\n",
    "print(\"Run started at\", datetime.now())"
   ]
  },
  {
   "cell_type": "markdown",
   "metadata": {
    "papermill": {
     "duration": 0.004242,
     "end_time": "2021-04-09T13:56:38.035327",
     "exception": false,
     "start_time": "2021-04-09T13:56:38.031085",
     "status": "completed"
    },
    "tags": []
   },
   "source": [
    "## Load raw data\n",
    "\n",
    "> This `import_object` function allows us to take a `str` containing a Python import path (e.g. `kinoml.datasets.chembl.ChEMBLDatasetProvider`) and obtain the imported object directly. That's how we can encode classes in JSON-only `papermill` inputs.\n",
    ">\n",
    "> See the help message `import_object?` for more info."
   ]
  },
  {
   "cell_type": "code",
   "execution_count": 7,
   "metadata": {
    "execution": {
     "iopub.execute_input": "2021-04-09T13:56:38.049015Z",
     "iopub.status.busy": "2021-04-09T13:56:38.048478Z",
     "iopub.status.idle": "2021-04-09T13:56:44.562122Z",
     "shell.execute_reply": "2021-04-09T13:56:44.561816Z"
    },
    "papermill": {
     "duration": 6.521619,
     "end_time": "2021-04-09T13:56:44.562232",
     "exception": false,
     "start_time": "2021-04-09T13:56:38.040613",
     "status": "completed"
    },
    "tags": []
   },
   "outputs": [
    {
     "name": "stderr",
     "output_type": "stream",
     "text": [
      "Warning: Unable to load toolkit 'OpenEye Toolkit'. The Open Force Field Toolkit does not require the OpenEye Toolkits, and can use RDKit/AmberTools instead. However, if you have a valid license for the OpenEye Toolkits, consider installing them for faster performance and additional file format support: https://docs.eyesopen.com/toolkits/python/quickstart-python/linuxosx.html OpenEye offers free Toolkit licenses for academics: https://www.eyesopen.com/academic-licensing\n"
     ]
    },
    {
     "data": {
      "application/vnd.jupyter.widget-view+json": {
       "model_id": "6818bc8e2d674594bd11385b5de97f79",
       "version_major": 2,
       "version_minor": 0
      },
      "text/plain": [
       "  0%|          | 0/1000 [00:00<?, ?it/s]"
      ]
     },
     "metadata": {},
     "output_type": "display_data"
    },
    {
     "data": {
      "text/plain": [
       "<ChEMBLDatasetProvider with 1000 measurements (pIC50Measurement=849, pKiMeasurement=84, pKdMeasurement=67), and 1000 systems (AminoAcidSequence=195, SmilesLigand=976)>"
      ]
     },
     "execution_count": 7,
     "metadata": {},
     "output_type": "execute_result"
    }
   ],
   "source": [
    "dataset = import_object(DATASET_CLS).from_source(**DATASET_KWARGS)\n",
    "dataset"
   ]
  },
  {
   "cell_type": "code",
   "execution_count": 8,
   "metadata": {
    "execution": {
     "iopub.execute_input": "2021-04-09T13:56:44.587094Z",
     "iopub.status.busy": "2021-04-09T13:56:44.579956Z",
     "iopub.status.idle": "2021-04-09T13:56:44.596082Z",
     "shell.execute_reply": "2021-04-09T13:56:44.595773Z"
    },
    "papermill": {
     "duration": 0.028822,
     "end_time": "2021-04-09T13:56:44.596196",
     "exception": false,
     "start_time": "2021-04-09T13:56:44.567374",
     "status": "completed"
    },
    "tags": []
   },
   "outputs": [
    {
     "data": {
      "text/html": [
       "<div>\n",
       "<style scoped>\n",
       "    .dataframe tbody tr th:only-of-type {\n",
       "        vertical-align: middle;\n",
       "    }\n",
       "\n",
       "    .dataframe tbody tr th {\n",
       "        vertical-align: top;\n",
       "    }\n",
       "\n",
       "    .dataframe thead th {\n",
       "        text-align: right;\n",
       "    }\n",
       "</style>\n",
       "<table border=\"1\" class=\"dataframe\">\n",
       "  <thead>\n",
       "    <tr style=\"text-align: right;\">\n",
       "      <th></th>\n",
       "      <th>Systems</th>\n",
       "      <th>n_components</th>\n",
       "      <th>Measurement</th>\n",
       "      <th>MeasurementType</th>\n",
       "    </tr>\n",
       "  </thead>\n",
       "  <tbody>\n",
       "    <tr>\n",
       "      <th>0</th>\n",
       "      <td>Q13627 &amp; CCN1/C(=C/C(C)=O)Sc2ccc(O)cc21</td>\n",
       "      <td>2</td>\n",
       "      <td>6.619789</td>\n",
       "      <td>pIC50Measurement</td>\n",
       "    </tr>\n",
       "    <tr>\n",
       "      <th>1</th>\n",
       "      <td>P00533 &amp; N#Cc1ccc(Nc2nncc3ccccc23)cc1</td>\n",
       "      <td>2</td>\n",
       "      <td>8.387216</td>\n",
       "      <td>pIC50Measurement</td>\n",
       "    </tr>\n",
       "    <tr>\n",
       "      <th>2</th>\n",
       "      <td>O60674 &amp; CN(C)S(=O)(=O)N1CCC[C@H](Nc2ncccc2-c2...</td>\n",
       "      <td>2</td>\n",
       "      <td>9.952725</td>\n",
       "      <td>pIC50Measurement</td>\n",
       "    </tr>\n",
       "    <tr>\n",
       "      <th>3</th>\n",
       "      <td>P07333 &amp; CN(C)CCNC(=O)Cc1ccc(NC(=O)c2nc(C#N)c[...</td>\n",
       "      <td>2</td>\n",
       "      <td>8.537602</td>\n",
       "      <td>pIC50Measurement</td>\n",
       "    </tr>\n",
       "    <tr>\n",
       "      <th>4</th>\n",
       "      <td>P78527 &amp; Cc1cccc2c(=O)cc(N3CCOCC3)oc12</td>\n",
       "      <td>2</td>\n",
       "      <td>5.782516</td>\n",
       "      <td>pIC50Measurement</td>\n",
       "    </tr>\n",
       "    <tr>\n",
       "      <th>...</th>\n",
       "      <td>...</td>\n",
       "      <td>...</td>\n",
       "      <td>...</td>\n",
       "      <td>...</td>\n",
       "    </tr>\n",
       "    <tr>\n",
       "      <th>995</th>\n",
       "      <td>P10721 &amp; Cc1ccc(C(=O)NC2CC2)cc1-c1cc2cnn(-c3cc...</td>\n",
       "      <td>2</td>\n",
       "      <td>4.886057</td>\n",
       "      <td>pKdMeasurement</td>\n",
       "    </tr>\n",
       "    <tr>\n",
       "      <th>996</th>\n",
       "      <td>P51955 &amp; CCOc1cc2ncc(C#N)c(Nc3ccc(F)c(Cl)c3)c2...</td>\n",
       "      <td>2</td>\n",
       "      <td>6.167491</td>\n",
       "      <td>pKdMeasurement</td>\n",
       "    </tr>\n",
       "    <tr>\n",
       "      <th>997</th>\n",
       "      <td>Q16832 &amp; COc1cc(N2CCC(N3CCN(C)CC3)CC2)ccc1Nc1n...</td>\n",
       "      <td>2</td>\n",
       "      <td>5.387216</td>\n",
       "      <td>pKdMeasurement</td>\n",
       "    </tr>\n",
       "    <tr>\n",
       "      <th>998</th>\n",
       "      <td>Q9Y616 &amp; c1nc(N[C@H]2CC[C@H](N3CCOCC3)CC2)c2c(...</td>\n",
       "      <td>2</td>\n",
       "      <td>7.031517</td>\n",
       "      <td>pKdMeasurement</td>\n",
       "    </tr>\n",
       "    <tr>\n",
       "      <th>999</th>\n",
       "      <td>Q9HC98 &amp; Cc1cnc(Nc2ccc(OCCN3CCCC3)cc2)nc1Nc1cc...</td>\n",
       "      <td>2</td>\n",
       "      <td>6.920819</td>\n",
       "      <td>pKdMeasurement</td>\n",
       "    </tr>\n",
       "  </tbody>\n",
       "</table>\n",
       "<p>1000 rows × 4 columns</p>\n",
       "</div>"
      ],
      "text/plain": [
       "                                               Systems  n_components  \\\n",
       "0              Q13627 & CCN1/C(=C/C(C)=O)Sc2ccc(O)cc21             2   \n",
       "1                P00533 & N#Cc1ccc(Nc2nncc3ccccc23)cc1             2   \n",
       "2    O60674 & CN(C)S(=O)(=O)N1CCC[C@H](Nc2ncccc2-c2...             2   \n",
       "3    P07333 & CN(C)CCNC(=O)Cc1ccc(NC(=O)c2nc(C#N)c[...             2   \n",
       "4               P78527 & Cc1cccc2c(=O)cc(N3CCOCC3)oc12             2   \n",
       "..                                                 ...           ...   \n",
       "995  P10721 & Cc1ccc(C(=O)NC2CC2)cc1-c1cc2cnn(-c3cc...             2   \n",
       "996  P51955 & CCOc1cc2ncc(C#N)c(Nc3ccc(F)c(Cl)c3)c2...             2   \n",
       "997  Q16832 & COc1cc(N2CCC(N3CCN(C)CC3)CC2)ccc1Nc1n...             2   \n",
       "998  Q9Y616 & c1nc(N[C@H]2CC[C@H](N3CCOCC3)CC2)c2c(...             2   \n",
       "999  Q9HC98 & Cc1cnc(Nc2ccc(OCCN3CCCC3)cc2)nc1Nc1cc...             2   \n",
       "\n",
       "     Measurement   MeasurementType  \n",
       "0       6.619789  pIC50Measurement  \n",
       "1       8.387216  pIC50Measurement  \n",
       "2       9.952725  pIC50Measurement  \n",
       "3       8.537602  pIC50Measurement  \n",
       "4       5.782516  pIC50Measurement  \n",
       "..           ...               ...  \n",
       "995     4.886057    pKdMeasurement  \n",
       "996     6.167491    pKdMeasurement  \n",
       "997     5.387216    pKdMeasurement  \n",
       "998     7.031517    pKdMeasurement  \n",
       "999     6.920819    pKdMeasurement  \n",
       "\n",
       "[1000 rows x 4 columns]"
      ]
     },
     "execution_count": 8,
     "metadata": {},
     "output_type": "execute_result"
    }
   ],
   "source": [
    "df = dataset.to_dataframe()\n",
    "df"
   ]
  },
  {
   "cell_type": "markdown",
   "metadata": {
    "papermill": {
     "duration": 0.006291,
     "end_time": "2021-04-09T13:56:44.609602",
     "exception": false,
     "start_time": "2021-04-09T13:56:44.603311",
     "status": "completed"
    },
    "tags": []
   },
   "source": [
    "## Featurize"
   ]
  },
  {
   "cell_type": "code",
   "execution_count": 9,
   "metadata": {
    "execution": {
     "iopub.execute_input": "2021-04-09T13:56:44.627899Z",
     "iopub.status.busy": "2021-04-09T13:56:44.626422Z",
     "iopub.status.idle": "2021-04-09T13:56:44.631008Z",
     "shell.execute_reply": "2021-04-09T13:56:44.630598Z"
    },
    "papermill": {
     "duration": 0.016418,
     "end_time": "2021-04-09T13:56:44.631099",
     "exception": false,
     "start_time": "2021-04-09T13:56:44.614681",
     "status": "completed"
    },
    "tags": []
   },
   "outputs": [
    {
     "name": "stdout",
     "output_type": "stream",
     "text": [
      "Building featurizer `ligand` with instructions:\n",
      "  Instantiating `kinoml.features.ligand.SmilesToLigandFeaturizer` with options `{}`\n",
      "  Instantiating `kinoml.features.ligand.MorganFingerprintFeaturizer` with options `{'nbits': 512, 'radius': 2}`\n",
      "Resulting pipelines: <Pipeline([SmilesToLigandFeaturizer, MorganFingerprintFeaturizer])>\n",
      "Aggregated pipelines: <Concatenated([Pipeline([SmilesToLigandFeaturizer, MorganFingerprintFeaturizer])])>\n"
     ]
    }
   ],
   "source": [
    "# build pipeline\n",
    "from kinoml.features.core import Pipeline\n",
    "\n",
    "pipelines = []\n",
    "for key, pipeline_instructions in PIPELINES.items():\n",
    "    print(f\"Building featurizer `{key}` with instructions:\")\n",
    "    featurizers = []\n",
    "    for featurizer_import_str, kwargs in pipeline_instructions:\n",
    "        kwargs = kwargs or {}  # make sure empty values (None, \"\") turn into {} so we can do **kwargs below\n",
    "        print(f\"  Instantiating `{featurizer_import_str}` with options `{kwargs}`\")\n",
    "        featurizers.append(import_object(featurizer_import_str)(**kwargs))\n",
    "    pipelines.append(Pipeline(featurizers))\n",
    "print(\"Resulting pipelines:\", *pipelines)\n",
    "featurizer = import_object(PIPELINES_AGG)(pipelines, **PIPELINES_AGG_KWARGS)\n",
    "print(\"Aggregated pipelines:\", featurizer)"
   ]
  },
  {
   "cell_type": "code",
   "execution_count": 10,
   "metadata": {
    "execution": {
     "iopub.execute_input": "2021-04-09T13:56:44.646473Z",
     "iopub.status.busy": "2021-04-09T13:56:44.646108Z",
     "iopub.status.idle": "2021-04-09T13:56:46.023794Z",
     "shell.execute_reply": "2021-04-09T13:56:46.024073Z"
    },
    "papermill": {
     "duration": 1.386414,
     "end_time": "2021-04-09T13:56:46.024209",
     "exception": false,
     "start_time": "2021-04-09T13:56:44.637795",
     "status": "completed"
    },
    "tags": []
   },
   "outputs": [
    {
     "data": {
      "application/vnd.jupyter.widget-view+json": {
       "model_id": "c4b2cedcebfb460abc4c5984e4b77d45",
       "version_major": 2,
       "version_minor": 0
      },
      "text/plain": [
       "  0%|          | 0/1000 [00:00<?, ?it/s]"
      ]
     },
     "metadata": {},
     "output_type": "display_data"
    }
   ],
   "source": [
    "# prefeaturize everything\n",
    "dataset.featurize(featurizer, **FEATURIZE_KWARGS);"
   ]
  },
  {
   "cell_type": "markdown",
   "metadata": {
    "papermill": {
     "duration": 0.006878,
     "end_time": "2021-04-09T13:56:46.036687",
     "exception": false,
     "start_time": "2021-04-09T13:56:46.029809",
     "status": "completed"
    },
    "tags": []
   },
   "source": [
    "## Filter"
   ]
  },
  {
   "cell_type": "markdown",
   "metadata": {
    "papermill": {
     "duration": 0.005886,
     "end_time": "2021-04-09T13:56:46.049222",
     "exception": false,
     "start_time": "2021-04-09T13:56:46.043336",
     "status": "completed"
    },
    "tags": []
   },
   "source": [
    "Remove systems that couldn't be featurized. Successful featurizations are stored in `measurement.system.featurizations['last']` so we test for that key existence."
   ]
  },
  {
   "cell_type": "code",
   "execution_count": 11,
   "metadata": {
    "execution": {
     "iopub.execute_input": "2021-04-09T13:56:46.068993Z",
     "iopub.status.busy": "2021-04-09T13:56:46.066615Z",
     "iopub.status.idle": "2021-04-09T13:56:46.071110Z",
     "shell.execute_reply": "2021-04-09T13:56:46.071481Z"
    },
    "papermill": {
     "duration": 0.016067,
     "end_time": "2021-04-09T13:56:46.071640",
     "exception": false,
     "start_time": "2021-04-09T13:56:46.055573",
     "status": "completed"
    },
    "tags": []
   },
   "outputs": [],
   "source": [
    "from kinoml.datasets.groups import CallableGrouper, RandomGrouper\n",
    "grouper = CallableGrouper(lambda measurement: 'invalid' if 'last' not in measurement.system.featurizations else 'valid')\n",
    "grouper.assign(dataset, overwrite=True, progress=False)\n",
    "groups = dataset.split_by_groups()\n",
    "if \"invalid\" in groups:\n",
    "    _invalid = groups.pop(\"invalid\")\n",
    "    warn(f\"{len(_invalid)} entries could not be featurized!. Possible errors:\")\n",
    "    warn(f\"{_invalid[0].system.featurizations}\")"
   ]
  },
  {
   "cell_type": "markdown",
   "metadata": {
    "papermill": {
     "duration": 0.006524,
     "end_time": "2021-04-09T13:56:46.083256",
     "exception": false,
     "start_time": "2021-04-09T13:56:46.076732",
     "status": "completed"
    },
    "tags": []
   },
   "source": [
    "## Groups\n",
    "\n",
    "Cumulatively apply groups."
   ]
  },
  {
   "cell_type": "code",
   "execution_count": 12,
   "metadata": {
    "execution": {
     "iopub.execute_input": "2021-04-09T13:56:46.108673Z",
     "iopub.status.busy": "2021-04-09T13:56:46.108316Z",
     "iopub.status.idle": "2021-04-09T13:56:46.116729Z",
     "shell.execute_reply": "2021-04-09T13:56:46.116324Z"
    },
    "papermill": {
     "duration": 0.023659,
     "end_time": "2021-04-09T13:56:46.116830",
     "exception": false,
     "start_time": "2021-04-09T13:56:46.093171",
     "status": "completed"
    },
    "tags": []
   },
   "outputs": [
    {
     "name": "stdout",
     "output_type": "stream",
     "text": [
      "10 groups to show keys:\n",
      "('valid', 'Q13627', 'pIC50Measurement')\n",
      "('valid', 'Q13627', 'pKdMeasurement')\n",
      "('valid', 'P00533', 'pIC50Measurement')\n",
      "('valid', 'P00533', 'pKiMeasurement')\n",
      "('valid', 'P00533', 'pKdMeasurement')\n",
      "('valid', 'O60674', 'pIC50Measurement')\n",
      "('valid', 'O60674', 'pKiMeasurement')\n",
      "('valid', 'P07333', 'pIC50Measurement')\n",
      "('valid', 'P07333', 'pKiMeasurement')\n",
      "('valid', 'P07333', 'pKdMeasurement')\n"
     ]
    }
   ],
   "source": [
    "groups[(\"valid\",)] = groups.pop(\"valid\")\n",
    "for grouper_str, grouper_kwargs in GROUPS:\n",
    "    grouper_cls = import_object(grouper_str)\n",
    "    ## We need this because lambda functions are not JSON-serializable\n",
    "    if issubclass(grouper_cls, CallableGrouper):\n",
    "        for k, v in list(grouper_kwargs.items()):\n",
    "            if k == \"function\" and isinstance(v, str):\n",
    "                grouper_kwargs[k] = eval(v)  # sorry :)\n",
    "    ## End of lambda hack\n",
    "    grouper = grouper_cls(**grouper_kwargs)        \n",
    "    for group_key in list(groups.keys()):\n",
    "        grouper.assign(groups[group_key], overwrite=True, progress=False)\n",
    "        for subkey, subgroup in groups.pop(group_key).split_by_groups().items():\n",
    "            groups[group_key + (subkey,)] = subgroup\n",
    "print(\"10 groups to show keys:\", *list(groups.keys())[:10], sep=\"\\n\")"
   ]
  },
  {
   "cell_type": "markdown",
   "metadata": {
    "papermill": {
     "duration": 0.005313,
     "end_time": "2021-04-09T13:56:46.127663",
     "exception": false,
     "start_time": "2021-04-09T13:56:46.122350",
     "status": "completed"
    },
    "tags": []
   },
   "source": [
    "## Write tensors to disk\n",
    "\n",
    "Output files are written to `_output/<PIPELINE>/<DATASET>/<GROUP>.npz` files.\n",
    "\n",
    "Each `npz` will contain two `np.ndarray` objects: `X` (featurized systems) and `y` (associated measurements), plus the train/test/validation indices."
   ]
  },
  {
   "cell_type": "code",
   "execution_count": 13,
   "metadata": {
    "execution": {
     "iopub.execute_input": "2021-04-09T13:56:46.145223Z",
     "iopub.status.busy": "2021-04-09T13:56:46.144626Z",
     "iopub.status.idle": "2021-04-09T13:56:46.476192Z",
     "shell.execute_reply": "2021-04-09T13:56:46.475844Z"
    },
    "papermill": {
     "duration": 0.342853,
     "end_time": "2021-04-09T13:56:46.476295",
     "exception": false,
     "start_time": "2021-04-09T13:56:46.133442",
     "status": "completed"
    },
    "tags": []
   },
   "outputs": [],
   "source": [
    "random_grouper = RandomGrouper(TRAIN_TEST_VAL_KWARGS)\n",
    "\n",
    "for group, ds in sorted(groups.items(), key=lambda kv: len(kv[1]), reverse=True):\n",
    "    indices = random_grouper.indices(ds)\n",
    "    X = np.asarray(ds.featurized_systems())\n",
    "    y = ds.measurements_as_array()\n",
    "    np.savez(OUT / f\"{'__'.join([g for g in group if g != 'valid'])}.npz\", X=X, y=y.astype(\"float32\"), **indices)"
   ]
  },
  {
   "cell_type": "code",
   "execution_count": 14,
   "metadata": {
    "execution": {
     "iopub.execute_input": "2021-04-09T13:56:46.492370Z",
     "iopub.status.busy": "2021-04-09T13:56:46.491954Z",
     "iopub.status.idle": "2021-04-09T13:56:46.495038Z",
     "shell.execute_reply": "2021-04-09T13:56:46.494708Z"
    },
    "papermill": {
     "duration": 0.01255,
     "end_time": "2021-04-09T13:56:46.495135",
     "exception": false,
     "start_time": "2021-04-09T13:56:46.482585",
     "status": "completed"
    },
    "tags": []
   },
   "outputs": [
    {
     "name": "stdout",
     "output_type": "stream",
     "text": [
      "Run finished at 2021-04-09 15:56:46.490819\n"
     ]
    }
   ],
   "source": [
    "print(\"Run finished at\", datetime.now())"
   ]
  },
  {
   "cell_type": "markdown",
   "metadata": {
    "papermill": {
     "duration": 0.006602,
     "end_time": "2021-04-09T13:56:46.507936",
     "exception": false,
     "start_time": "2021-04-09T13:56:46.501334",
     "status": "completed"
    },
    "tags": []
   },
   "source": [
    "# Reproducibility logs"
   ]
  },
  {
   "cell_type": "code",
   "execution_count": 15,
   "metadata": {
    "execution": {
     "iopub.execute_input": "2021-04-09T13:56:46.526922Z",
     "iopub.status.busy": "2021-04-09T13:56:46.526483Z",
     "iopub.status.idle": "2021-04-09T13:56:49.654580Z",
     "shell.execute_reply": "2021-04-09T13:56:49.654087Z"
    },
    "papermill": {
     "duration": 3.140098,
     "end_time": "2021-04-09T13:56:49.654684",
     "exception": false,
     "start_time": "2021-04-09T13:56:46.514586",
     "status": "completed"
    },
    "tags": []
   },
   "outputs": [
    {
     "name": "stdout",
     "output_type": "stream",
     "text": [
      "Watermark\n",
      "---------\n",
      "Last updated: 2021-04-09T15:56:46.535864+02:00\n",
      "\n",
      "Python implementation: CPython\n",
      "Python version       : 3.8.8\n",
      "IPython version      : 7.22.0\n",
      "\n",
      "Compiler    : GCC 9.3.0\n",
      "OS          : Linux\n",
      "Release     : 4.19.128-microsoft-standard\n",
      "Machine     : x86_64\n",
      "Processor   : x86_64\n",
      "CPU cores   : 8\n",
      "Architecture: 64bit\n",
      "\n",
      "Hostname: jrodriguez\n",
      "\n",
      "Git hash: d5cd0b3e0d894abb37c63da95d9a510eb6b1997d\n",
      "\n",
      "sys  : 3.8.8 | packaged by conda-forge | (default, Feb 20 2021, 16:22:27) \n",
      "[GCC 9.3.0]\n",
      "numpy: 1.20.2\n",
      "\n",
      "Watermark: 2.2.0\n",
      "\n",
      "\n",
      "nvidia-smi\n",
      "----------\n",
      "stdout:\n",
      "NVIDIA-SMI has failed because it couldn't communicate with the NVIDIA driver. Make sure that the latest NVIDIA driver is installed and running.\n",
      "\n",
      "conda info\n",
      "----------\n"
     ]
    },
    {
     "name": "stdout",
     "output_type": "stream",
     "text": [
      "sys.version: 3.7.6 | packaged by conda-forge | (defau...\n",
      "sys.prefix: /opt/miniconda\n",
      "sys.executable: /opt/miniconda/bin/python\n",
      "conda location: /opt/miniconda/lib/python3.7/site-packages/conda\n",
      "conda-build: /opt/miniconda/bin/conda-build\n",
      "conda-convert: /opt/miniconda/bin/conda-convert\n",
      "conda-debug: /opt/miniconda/bin/conda-debug\n",
      "conda-develop: /opt/miniconda/bin/conda-develop\n",
      "conda-env: /opt/miniconda/bin/conda-env\n",
      "conda-index: /opt/miniconda/bin/conda-index\n",
      "conda-inspect: /opt/miniconda/bin/conda-inspect\n",
      "conda-metapackage: /opt/miniconda/bin/conda-metapackage\n",
      "conda-render: /opt/miniconda/bin/conda-render\n",
      "conda-server: /opt/miniconda/bin/conda-server\n",
      "conda-skeleton: /opt/miniconda/bin/conda-skeleton\n",
      "conda-smithy: /opt/miniconda/bin/conda-smithy\n",
      "user site dirs: ~/.local/lib/python3.8\n",
      "                ~/.local/lib/python3.7\n",
      "                ~/.local/lib/python3.6\n",
      "\n",
      "CIO_TEST: <not set>\n",
      "CONDA_DEFAULT_ENV: experiments-binding-affinity\n",
      "CONDA_EXE: /opt/miniconda/bin/conda\n",
      "CONDA_PREFIX: /home/jaime/.conda/envs/experiments-binding-affinity\n",
      "CONDA_PREFIX_1: /opt/miniconda\n",
      "CONDA_PREFIX_2: /home/jaime/.conda/envs/kinoml-ci\n",
      "CONDA_PROMPT_MODIFIER: (experiments-binding-affinity) \n",
      "CONDA_PYTHON_EXE: /opt/miniconda/bin/python\n",
      "CONDA_ROOT: /opt/miniconda\n",
      "CONDA_SHLVL: 3\n",
      "CURL_CA_BUNDLE: <not set>\n",
      "PATH: /home/jaime/.conda/envs/experiments-binding-affinity/bin:/opt/miniconda/condabin:/home/jaime/.local/bin:/usr/local/sbin:/usr/local/bin:/usr/sbin:/usr/bin:/sbin:/bin:/usr/games:/usr/local/games:/usr/lib/wsl/lib:/mnt/c/Windows/system32:/mnt/c/Windows:/mnt/c/Windows/System32/Wbem:/mnt/c/Windows/System32/WindowsPowerShell/v1.0:/mnt/c/Windows/System32/OpenSSH:/mnt/c/Program Files (x86)/NVIDIA Corporation/PhysX/Common:/mnt/c/WINDOWS/system32:/mnt/c/WINDOWS:/mnt/c/WINDOWS/System32/Wbem:/mnt/c/WINDOWS/System32/WindowsPowerShell/v1.0:/mnt/c/WINDOWS/System32/OpenSSH:/mnt/c/Program Files (x86)/Windows Kits/10/Windows Performance Toolkit:/mnt/c/Program Files/Intel/WiFi/bin:/mnt/c/Program Files/Common Files/Intel/WirelessCommon:/mnt/c/Android:/mnt/c/Program Files (x86)/Intel/Intel(R) Management Engine Components/DAL:/mnt/c/Program Files/Intel/Intel(R) Management Engine Components/DAL:/mnt/c/Program Files/NVIDIA Corporation/Nsight Compute 2020.1.2:/mnt/c/WINDOWS/system32:/mnt/c/WINDOWS:/mnt/c/WINDOWS/System32/Wbem:/mnt/c/WINDOWS/System32/WindowsPowerShell/v1.0:/mnt/c/WINDOWS/System32/OpenSSH:/mnt/c/Program Files/Docker/Docker/resources/bin:/mnt/c/ProgramData/DockerDesktop/version-bin:/mnt/c/Users/Jaime/AppData/Local/Microsoft/WindowsApps:/mnt/c/Users/Jaime/AppData/Local/Programs/Microsoft VS Code/bin:/mnt/c/Program Files (x86)/mingw-w64/i686-8.1.0-posix-dwarf-rt_v6-rev0/mingw32/bin:/mnt/c/G09W:/mnt/c/Program Files (x86)/FAHClient:/mnt/c/Program Files/7-Zip:/mnt/c/Users/Jaime/AppData/Local/atom/bin:/mnt/c/Users/Jaime/AppData/Local/Microsoft/WindowsApps:/snap/bin\n",
      "PYTHONHASHSEED: 1234\n",
      "REQUESTS_CA_BUNDLE: <not set>\n",
      "SSL_CERT_FILE: <not set>\n",
      "\n",
      "conda list\n",
      "----------\n"
     ]
    },
    {
     "name": "stdout",
     "output_type": "stream",
     "text": [
      "# packages in environment at /home/jaime/.conda/envs/experiments-binding-affinity:\n",
      "#\n",
      "# Name                    Version                   Build  Channel\n",
      "_libgcc_mutex             0.1                 conda_forge    conda-forge\n",
      "_openmp_mutex             4.5                      1_llvm    conda-forge\n",
      "_py-xgboost-mutex         2.0                       cpu_0    conda-forge\n",
      "absl-py                   0.12.0             pyhd8ed1ab_0    conda-forge\n",
      "aiohttp                   3.7.4            py38h497a2fe_0    conda-forge\n",
      "alabaster                 0.7.12                   pypi_0    pypi\n",
      "amberlite                 16.0                     pypi_0    pypi\n",
      "ambertools                20.15                    pypi_0    pypi\n",
      "ansiwrap                  0.8.4                      py_0    conda-forge\n",
      "anyio                     2.2.0            py38h578d9bd_0    conda-forge\n",
      "appdirs                   1.4.4              pyh9f0ad1d_0    conda-forge\n",
      "argon2-cffi               20.1.0           py38h497a2fe_2    conda-forge\n",
      "arpack                    3.7.0                hdefa2d7_2    conda-forge\n",
      "ase                       3.21.1                   pypi_0    pypi\n",
      "astunparse                1.6.2                      py_0    conda-forge\n",
      "async-timeout             3.0.1                   py_1000    conda-forge\n",
      "async_generator           1.10                       py_0    conda-forge\n",
      "attrs                     20.3.0             pyhd3deb0d_0    conda-forge\n",
      "babel                     2.9.0              pyhd3deb0d_0    conda-forge\n",
      "backcall                  0.2.0              pyh9f0ad1d_0    conda-forge\n",
      "backports                 1.0                        py_2    conda-forge\n",
      "backports.functools_lru_cache 1.6.3              pyhd8ed1ab_0    conda-forge\n",
      "black                     20.8b1                     py_1    conda-forge\n",
      "bleach                    3.3.0              pyh44b312d_0    conda-forge\n",
      "blinker                   1.4                        py_1    conda-forge\n",
      "blosc                     1.21.0               h9c3ff4c_0    conda-forge\n",
      "boost                     1.74.0           py38hc10631b_3    conda-forge\n",
      "boost-cpp                 1.74.0               hc6e9bd1_2    conda-forge\n",
      "brotlipy                  0.7.0           py38h497a2fe_1001    conda-forge\n",
      "bzip2                     1.0.8                h7f98852_4    conda-forge\n",
      "c-ares                    1.17.1               h7f98852_1    conda-forge\n",
      "ca-certificates           2021.1.19            h06a4308_1  \n",
      "cachetools                4.2.1              pyhd8ed1ab_0    conda-forge\n",
      "cairo                     1.16.0            h6cf1ce9_1008    conda-forge\n",
      "certifi                   2020.12.5        py38h578d9bd_1    conda-forge\n",
      "cffi                      1.14.5           py38ha65f79e_0    conda-forge\n",
      "chardet                   4.0.0            py38h578d9bd_1    conda-forge\n",
      "click                     7.1.2              pyh9f0ad1d_0    conda-forge\n",
      "cryptography              3.4.7            py38ha5dfef3_0    conda-forge\n",
      "cudatoolkit               10.1.243             h036e899_8    conda-forge\n",
      "curl                      7.76.0               h979ede3_0    conda-forge\n",
      "cycler                    0.10.0                     py_2    conda-forge\n",
      "cython                    0.29.22          py38h709712a_0    conda-forge\n",
      "dataclasses               0.8                pyhc8e2a94_1    conda-forge\n",
      "decorator                 4.4.2                      py_0    conda-forge\n",
      "defusedxml                0.7.1              pyhd8ed1ab_0    conda-forge\n",
      "docutils                  0.17                     pypi_0    pypi\n",
      "entrypoints               0.3             py38h32f6830_1002    conda-forge\n",
      "fftw                      3.3.9           nompi_hcdd671c_101    conda-forge\n",
      "fontconfig                2.13.1            hba837de_1004    conda-forge\n",
      "freetype                  2.10.4               h0708190_1    conda-forge\n",
      "fsspec                    0.9.0              pyhd8ed1ab_0    conda-forge\n",
      "future                    0.18.2           py38h578d9bd_3    conda-forge\n",
      "gettext                   0.21.0               hf68c758_0  \n",
      "google-auth               1.28.0             pyh44b312d_0    conda-forge\n",
      "google-auth-oauthlib      0.4.1                      py_2    conda-forge\n",
      "googledrivedownloader     0.4                      pypi_0    pypi\n",
      "greenlet                  1.0.0            py38h709712a_0    conda-forge\n",
      "grpcio                    1.37.0           py38hdd6454d_0    conda-forge\n",
      "h5py                      3.2.1                    pypi_0    pypi\n",
      "hdf4                      4.2.13            h10796ff_1004    conda-forge\n",
      "hdf5                      1.10.6          nompi_h6a2412b_1114    conda-forge\n",
      "icu                       68.1                 h58526e2_0    conda-forge\n",
      "idna                      2.10               pyh9f0ad1d_0    conda-forge\n",
      "imagesize                 1.2.0                    pypi_0    pypi\n",
      "importlib-metadata        3.10.0           py38h578d9bd_0    conda-forge\n",
      "importlib_metadata        3.10.0               hd8ed1ab_0    conda-forge\n",
      "importlib_resources       5.1.2            py38h578d9bd_0    conda-forge\n",
      "ipykernel                 5.5.3            py38hd0cf306_0    conda-forge\n",
      "ipython                   7.22.0           py38hd0cf306_0    conda-forge\n",
      "ipython_genutils          0.2.0                      py_1    conda-forge\n",
      "ipywidgets                7.6.3              pyhd3deb0d_0    conda-forge\n",
      "isodate                   0.6.0                    pypi_0    pypi\n",
      "jedi                      0.18.0           py38h578d9bd_2    conda-forge\n",
      "jinja2                    2.11.3             pyh44b312d_0    conda-forge\n",
      "joblib                    1.0.1              pyhd8ed1ab_0    conda-forge\n",
      "jpeg                      9d                   h516909a_0    conda-forge\n",
      "json5                     0.9.5              pyh9f0ad1d_0    conda-forge\n",
      "jsonschema                3.2.0            py38h32f6830_1    conda-forge\n",
      "jupyter-packaging         0.7.12             pyhd8ed1ab_0    conda-forge\n",
      "jupyter_client            6.1.12             pyhd8ed1ab_0    conda-forge\n",
      "jupyter_core              4.7.1            py38h578d9bd_0    conda-forge\n",
      "jupyter_server            1.5.1            py38h578d9bd_0    conda-forge\n",
      "jupyterlab                3.0.12             pyhd8ed1ab_0    conda-forge\n",
      "jupyterlab_pygments       0.1.2              pyh9f0ad1d_0    conda-forge\n",
      "jupyterlab_server         2.4.0              pyhd8ed1ab_0    conda-forge\n",
      "jupyterlab_widgets        1.0.0              pyhd8ed1ab_1    conda-forge\n",
      "kinoml                    0+untagged.409.gc193ba7          pypi_0    pypi\n",
      "kiwisolver                1.3.1            py38h1fd1430_1    conda-forge\n",
      "krb5                      1.17.2               h926e7f8_0    conda-forge\n",
      "lcms2                     2.12                 hddcbb42_0    conda-forge\n",
      "ld_impl_linux-64          2.35.1               hea4e1c9_2    conda-forge\n",
      "libblas                   3.9.0                     8_mkl    conda-forge\n",
      "libcblas                  3.9.0                     8_mkl    conda-forge\n",
      "libcurl                   7.76.0               hc4aaa36_0    conda-forge\n",
      "libedit                   3.1.20210216         h27cfd23_1  \n",
      "libev                     4.33                 h516909a_1    conda-forge\n",
      "libffi                    3.3                  h58526e2_2    conda-forge\n",
      "libgcc-ng                 9.3.0               h2828fa1_18    conda-forge\n",
      "libgfortran-ng            9.3.0               hff62375_18    conda-forge\n",
      "libgfortran5              9.3.0               hff62375_18    conda-forge\n",
      "libglib                   2.68.0               h3e27bee_2    conda-forge\n",
      "libgomp                   9.3.0               h2828fa1_18    conda-forge\n",
      "libiconv                  1.16                 h516909a_0    conda-forge\n",
      "liblapack                 3.9.0                     8_mkl    conda-forge\n",
      "libnetcdf                 4.7.4           nompi_h56d31a8_107    conda-forge\n",
      "libnghttp2                1.43.0               h812cca2_0    conda-forge\n",
      "libpng                    1.6.37               hed695b0_2    conda-forge\n",
      "libprotobuf               3.15.7               h780b84a_0    conda-forge\n",
      "libsodium                 1.0.18               h516909a_1    conda-forge\n",
      "libssh2                   1.9.0                ha56f1ee_6    conda-forge\n",
      "libstdcxx-ng              9.3.0               h6de172a_18    conda-forge\n",
      "libtiff                   4.2.0                hdc55705_0    conda-forge\n",
      "libuuid                   2.32.1            h14c3975_1000    conda-forge\n",
      "libwebp-base              1.2.0                h7f98852_2    conda-forge\n",
      "libxcb                    1.14                 h7b6447c_0  \n",
      "libxgboost                1.3.3                h9c3ff4c_2    conda-forge\n",
      "libxml2                   2.9.10               h72842e0_3    conda-forge\n",
      "llvm-openmp               11.1.0               h4bd325d_1    conda-forge\n",
      "llvmlite                  0.36.0                   pypi_0    pypi\n",
      "lz4-c                     1.9.3                h9c3ff4c_0    conda-forge\n",
      "lzo                       2.10              h516909a_1000    conda-forge\n",
      "markdown                  3.3.4              pyhd8ed1ab_0    conda-forge\n",
      "markupsafe                1.1.1            py38h497a2fe_3    conda-forge\n",
      "matplotlib-base           3.4.1            py38hcc49a3a_0    conda-forge\n",
      "mdtraj                    1.9.5            py38hbcc7ddf_1    conda-forge\n",
      "mistune                   0.8.4           py38h497a2fe_1003    conda-forge\n",
      "mkl                       2020.4             h726a3e6_304    conda-forge\n",
      "mmpbsa-py                 16.0                     pypi_0    pypi\n",
      "mock                      4.0.3            py38h578d9bd_1    conda-forge\n",
      "multidict                 5.1.0            py38h497a2fe_1    conda-forge\n",
      "mypy_extensions           0.4.3            py38h578d9bd_3    conda-forge\n",
      "nbclassic                 0.2.7              pyhd8ed1ab_0    conda-forge\n",
      "nbclient                  0.5.3              pyhd8ed1ab_0    conda-forge\n",
      "nbconvert                 6.0.7            py38h578d9bd_3    conda-forge\n",
      "nbformat                  5.1.3              pyhd8ed1ab_0    conda-forge\n",
      "ncurses                   6.2                  h58526e2_4    conda-forge\n",
      "nest-asyncio              1.5.1              pyhd8ed1ab_0    conda-forge\n",
      "netcdf-fortran            4.5.3           nompi_h996563d_103    conda-forge\n",
      "networkx                  2.5.1              pyhd8ed1ab_0    conda-forge\n",
      "nglview                   2.7.8              pyh59e0f4d_0    conda-forge\n",
      "nglview-js-widgets        2.7.7                    pypi_0    pypi\n",
      "ninja                     1.10.2               h4bd325d_0    conda-forge\n",
      "notebook                  6.3.0            py38h578d9bd_0    conda-forge\n",
      "numba                     0.53.1                   pypi_0    pypi\n",
      "numexpr                   2.7.3            py38h51da96c_0    conda-forge\n",
      "numpy                     1.20.2           py38h9894fe3_0    conda-forge\n",
      "oauthlib                  3.1.0                      py_0  \n",
      "ocl-icd                   2.3.0                h7f98852_0    conda-forge\n",
      "ocl-icd-system            1.0.0                         1    conda-forge\n",
      "olefile                   0.46               pyh9f0ad1d_1    conda-forge\n",
      "openff-forcefields        1.3.0              pyh44b312d_0    conda-forge\n",
      "openff-toolkit            0.9.1              pyhd8ed1ab_2    conda-forge\n",
      "openff-toolkit-base       0.9.1              pyhd8ed1ab_2    conda-forge\n",
      "openmm                    7.5.0            py38hc16d3cc_6    conda-forge\n",
      "openssl                   1.1.1k               h7f98852_0    conda-forge\n",
      "packaging                 20.9               pyh44b312d_0    conda-forge\n",
      "packmol-memgen            1.1.0rc0                 pypi_0    pypi\n",
      "pandas                    1.2.3            py38h51da96c_0    conda-forge\n",
      "pandoc                    2.12                 h7f98852_0    conda-forge\n",
      "pandocfilters             1.4.3            py38h06a4308_1  \n",
      "papermill                 2.2.2              pyhd8ed1ab_0    conda-forge\n",
      "parmed                    3.4.0            py38h709712a_1    conda-forge\n",
      "parso                     0.8.2              pyhd8ed1ab_0    conda-forge\n",
      "pathspec                  0.8.1              pyhd3deb0d_0    conda-forge\n",
      "pcre                      8.44                 he1b5a44_0    conda-forge\n",
      "pdb4amber                 1.7.dev0                 pypi_0    pypi\n",
      "perl                      5.32.0               h36c2ea0_0    conda-forge\n",
      "pexpect                   4.8.0            py38h32f6830_1    conda-forge\n",
      "pickleshare               0.7.5           py38h32f6830_1002    conda-forge\n",
      "pillow                    8.2.0            py38he98fc37_0  \n",
      "pint                      0.17               pyhd8ed1ab_0    conda-forge\n",
      "pip                       21.0.1             pyhd8ed1ab_0    conda-forge\n",
      "pixman                    0.40.0               h36c2ea0_0    conda-forge\n",
      "prometheus_client         0.10.0             pyhd8ed1ab_0    conda-forge\n",
      "prompt-toolkit            3.0.18             pyha770c72_0    conda-forge\n",
      "protobuf                  3.15.7           py38h709712a_0    conda-forge\n",
      "ptyprocess                0.7.0              pyhd3deb0d_0    conda-forge\n",
      "py-xgboost                1.3.3            py38h578d9bd_2    conda-forge\n",
      "pyasn1                    0.4.8                      py_0    conda-forge\n",
      "pyasn1-modules            0.2.8                      py_0  \n",
      "pycairo                   1.20.0           py38h323dad1_1    conda-forge\n",
      "pycparser                 2.20               pyh9f0ad1d_2    conda-forge\n",
      "pygments                  2.8.1              pyhd8ed1ab_0    conda-forge\n",
      "pyjwt                     2.0.1              pyhd8ed1ab_1    conda-forge\n",
      "pyopenssl                 20.0.1             pyhd8ed1ab_0    conda-forge\n",
      "pyparsing                 2.4.7              pyh9f0ad1d_0    conda-forge\n",
      "pyrsistent                0.17.3           py38h497a2fe_2    conda-forge\n",
      "pysocks                   1.7.1            py38h578d9bd_3    conda-forge\n",
      "pytables                  3.6.1            py38hf9f05d5_3    conda-forge\n",
      "python                    3.8.8           hffdb5ce_0_cpython    conda-forge\n",
      "python-dateutil           2.8.1                      py_0    conda-forge\n",
      "python-louvain            0.15                     pypi_0    pypi\n",
      "python_abi                3.8                      1_cp38    conda-forge\n",
      "pytorch                   1.7.1           cpu_py38h36eccb8_2    conda-forge\n",
      "pytorch-lightning         1.2.7              pyhd8ed1ab_0    conda-forge\n",
      "pytraj                    2.0.5                    pypi_0    pypi\n",
      "pytz                      2021.1             pyhd8ed1ab_0    conda-forge\n",
      "pyyaml                    5.4.1            py38h497a2fe_0    conda-forge\n",
      "pyzmq                     22.0.3           py38h2035c66_1    conda-forge\n",
      "rdflib                    5.0.0                    pypi_0    pypi\n",
      "rdkit                     2021.03.1        py38hf8acc3d_0    conda-forge\n",
      "readline                  8.1                  h27cfd23_0  \n",
      "regex                     2021.4.4         py38h497a2fe_0    conda-forge\n",
      "reportlab                 3.5.66           py38hadf75a6_0    conda-forge\n",
      "requests                  2.25.1             pyhd3deb0d_0    conda-forge\n",
      "requests-oauthlib         1.3.0              pyh9f0ad1d_0    conda-forge\n",
      "rsa                       4.7.2              pyh44b312d_0    conda-forge\n",
      "ruamel.yaml               0.16.12          py38h497a2fe_2    conda-forge\n",
      "ruamel.yaml.clib          0.2.2            py38h497a2fe_2    conda-forge\n",
      "sander                    16.0                     pypi_0    pypi\n",
      "scikit-learn              0.24.1           py38h658cfdd_0    conda-forge\n",
      "scipy                     1.6.2            py38h7b17777_0    conda-forge\n",
      "send2trash                1.5.0                      py_0    conda-forge\n",
      "setuptools                52.0.0           py38h06a4308_0  \n",
      "six                       1.15.0             pyh9f0ad1d_0    conda-forge\n",
      "sklearn-pytorch           0.1.0                    pypi_0    pypi\n",
      "smirnoff99frosst          1.1.0              pyh44b312d_0    conda-forge\n",
      "snappy                    1.1.8                he1b5a44_3    conda-forge\n",
      "sniffio                   1.2.0            py38h578d9bd_1    conda-forge\n",
      "snowballstemmer           2.1.0                    pypi_0    pypi\n",
      "sphinx                    3.5.3                    pypi_0    pypi\n",
      "sphinxcontrib-applehelp   1.0.2                    pypi_0    pypi\n",
      "sphinxcontrib-devhelp     1.0.2                    pypi_0    pypi\n",
      "sphinxcontrib-htmlhelp    1.0.3                    pypi_0    pypi\n",
      "sphinxcontrib-jsmath      1.0.1                    pypi_0    pypi\n",
      "sphinxcontrib-qthelp      1.0.3                    pypi_0    pypi\n",
      "sphinxcontrib-serializinghtml 1.1.4                    pypi_0    pypi\n",
      "sqlalchemy                1.4.6            py38h497a2fe_0    conda-forge\n",
      "sqlite                    3.35.4               h74cdb3f_0    conda-forge\n",
      "tenacity                  7.0.0              pyhd8ed1ab_0    conda-forge\n",
      "tensorboard               2.4.1              pyhd8ed1ab_0    conda-forge\n",
      "tensorboard-plugin-wit    1.8.0              pyh44b312d_0    conda-forge\n",
      "terminado                 0.9.4            py38h578d9bd_0    conda-forge\n",
      "testpath                  0.4.4                      py_0    conda-forge\n",
      "textwrap3                 0.9.2                      py_0    conda-forge\n",
      "threadpoolctl             2.1.0              pyh5ca1d4c_0    conda-forge\n",
      "tk                        8.6.10               hed695b0_1    conda-forge\n",
      "toml                      0.10.2             pyhd8ed1ab_0    conda-forge\n",
      "torch-cluster             1.5.9                    pypi_0    pypi\n",
      "torch-geometric           1.6.3                    pypi_0    pypi\n",
      "torch-scatter             2.0.6                    pypi_0    pypi\n",
      "torch-sparse              0.6.9                    pypi_0    pypi\n",
      "torch-spline-conv         1.2.1                    pypi_0    pypi\n",
      "torchmetrics              0.2.0              pyhd8ed1ab_0    conda-forge\n",
      "torchvision               0.8.2           py38h89b28b9_1_cpu    conda-forge\n",
      "tornado                   6.1              py38h497a2fe_1    conda-forge\n",
      "tqdm                      4.60.0             pyhd8ed1ab_0    conda-forge\n",
      "traitlets                 5.0.5                      py_0    conda-forge\n",
      "typed-ast                 1.4.2            py38h497a2fe_0    conda-forge\n",
      "typing-extensions         3.7.4.3                       0    conda-forge\n",
      "typing_extensions         3.7.4.3                    py_0    conda-forge\n",
      "urllib3                   1.26.4             pyhd8ed1ab_0    conda-forge\n",
      "watermark                 2.2.0              pyhd8ed1ab_0    conda-forge\n",
      "wcwidth                   0.2.5              pyh9f0ad1d_2    conda-forge\n",
      "webencodings              0.5.1                      py_1    conda-forge\n",
      "werkzeug                  1.0.1              pyh9f0ad1d_0    conda-forge\n",
      "wheel                     0.36.2             pyhd3deb0d_0    conda-forge\n",
      "widgetsnbextension        3.5.1            py38h578d9bd_4    conda-forge\n",
      "xgboost                   1.3.3            py38h578d9bd_2    conda-forge\n",
      "xmltodict                 0.12.0                     py_0    conda-forge\n",
      "xorg-kbproto              1.0.7             h14c3975_1002    conda-forge\n",
      "xorg-libice               1.0.10               h516909a_0    conda-forge\n",
      "xorg-libsm                1.2.3             hd9c2040_1000    conda-forge\n",
      "xorg-libx11               1.7.0                h36c2ea0_0    conda-forge\n",
      "xorg-libxext              1.3.4                h7f98852_1    conda-forge\n",
      "xorg-libxrender           0.9.10            h7f98852_1003    conda-forge\n",
      "xorg-libxt                1.2.1                h7f98852_2    conda-forge\n",
      "xorg-renderproto          0.11.1            h14c3975_1002    conda-forge\n",
      "xorg-xextproto            7.3.0             h14c3975_1002    conda-forge\n",
      "xorg-xproto               7.0.31            h14c3975_1007    conda-forge\n",
      "xz                        5.2.5                h516909a_1    conda-forge\n",
      "yaml                      0.2.5                h516909a_0    conda-forge\n",
      "yarl                      1.6.3            py38h497a2fe_1    conda-forge\n",
      "zeromq                    4.3.4                h9c3ff4c_0    conda-forge\n",
      "zipp                      3.4.1              pyhd8ed1ab_0    conda-forge\n",
      "zlib                      1.2.11            h516909a_1010    conda-forge\n",
      "zstd                      1.4.9                ha95c52a_0    conda-forge\n"
     ]
    }
   ],
   "source": [
    "from kinoml.utils import watermark\n",
    "w = watermark()"
   ]
  },
  {
   "cell_type": "code",
   "execution_count": 16,
   "metadata": {
    "execution": {
     "iopub.execute_input": "2021-04-09T13:56:49.681987Z",
     "iopub.status.busy": "2021-04-09T13:56:49.677554Z",
     "iopub.status.idle": "2021-04-09T13:56:52.199076Z",
     "shell.execute_reply": "2021-04-09T13:56:52.199403Z"
    },
    "papermill": {
     "duration": 2.536446,
     "end_time": "2021-04-09T13:56:52.199529",
     "exception": false,
     "start_time": "2021-04-09T13:56:49.663083",
     "status": "completed"
    },
    "tags": []
   },
   "outputs": [],
   "source": [
    "%%capture cap --no-stderr\n",
    "w = watermark()"
   ]
  },
  {
   "cell_type": "code",
   "execution_count": 17,
   "metadata": {
    "execution": {
     "iopub.execute_input": "2021-04-09T13:56:52.217128Z",
     "iopub.status.busy": "2021-04-09T13:56:52.216739Z",
     "iopub.status.idle": "2021-04-09T13:56:52.221040Z",
     "shell.execute_reply": "2021-04-09T13:56:52.221372Z"
    },
    "papermill": {
     "duration": 0.015498,
     "end_time": "2021-04-09T13:56:52.221497",
     "exception": false,
     "start_time": "2021-04-09T13:56:52.205999",
     "status": "completed"
    },
    "tags": []
   },
   "outputs": [],
   "source": [
    "import json\n",
    "\n",
    "with open(OUT/ \"watermark.txt\", \"w\") as f:\n",
    "    f.write(cap.stdout)\n",
    "\n",
    "with open(OUT / \"hparams.json\", \"w\") as f:\n",
    "    json.dump(_hparams, f, default=str, indent=2)"
   ]
  }
 ],
 "metadata": {
  "kernelspec": {
   "display_name": "Python 3",
   "language": "python",
   "name": "python3"
  },
  "language_info": {
   "codemirror_mode": {
    "name": "ipython",
    "version": 3
   },
   "file_extension": ".py",
   "mimetype": "text/x-python",
   "name": "python",
   "nbconvert_exporter": "python",
   "pygments_lexer": "ipython3",
   "version": "3.8.8"
  },
  "papermill": {
   "default_parameters": {},
   "duration": 16.041098,
   "end_time": "2021-04-09T13:56:52.636804",
   "environment_variables": {},
   "exception": null,
   "input_path": "features/featurize-template.ipynb",
   "output_path": "features/example-ligand-only-chembl28-morgan512-1k-subsample/featurize.ipynb",
   "parameters": {
    "DATASET_CLS": "kinoml.datasets.chembl.ChEMBLDatasetProvider",
    "DATASET_KWARGS": {
     "filename": "https://github.com/openkinome/kinodata/releases/download/v0.2/activities-chembl27_v0.2.zip",
     "sample": 1000
    },
    "FEATURIZE_KWARGS": {
     "processes": 1
    },
    "GROUPS": [
     [
      "kinoml.datasets.groups.CallableGrouper",
      {
       "function": "lambda measurement: measurement.system.protein.name"
      }
     ],
     [
      "kinoml.datasets.groups.CallableGrouper",
      {
       "function": "lambda measurement: type(measurement).__name__"
      }
     ]
    ],
    "HERE": "/home/jaime/devel/py/openkinome/experiments-binding-affinity/features/example-ligand-only-chembl28-morgan512-1k-subsample",
    "PIPELINES": {
     "ligand": [
      [
       "kinoml.features.ligand.SmilesToLigandFeaturizer",
       {}
      ],
      [
       "kinoml.features.ligand.MorganFingerprintFeaturizer",
       {
        "nbits": 512,
        "radius": 2
       }
      ]
     ]
    },
    "PIPELINES_AGG": "kinoml.features.core.Concatenated",
    "PIPELINES_AGG_KWARGS": {},
    "TRAIN_TEST_VAL_KWARGS": {
     "idx_test": 0.1,
     "idx_train": 0.8,
     "idx_val": 0.1
    }
   },
   "start_time": "2021-04-09T13:56:36.595706",
   "version": "2.2.2"
  },
  "widgets": {
   "application/vnd.jupyter.widget-state+json": {
    "state": {
     "009dd514cd414728b4b5c3167f49283b": {
      "model_module": "@jupyter-widgets/controls",
      "model_module_version": "1.5.0",
      "model_name": "DescriptionStyleModel",
      "state": {
       "_model_module": "@jupyter-widgets/controls",
       "_model_module_version": "1.5.0",
       "_model_name": "DescriptionStyleModel",
       "_view_count": null,
       "_view_module": "@jupyter-widgets/base",
       "_view_module_version": "1.2.0",
       "_view_name": "StyleView",
       "description_width": ""
      }
     },
     "025057e7d59d4a1fb0ba2086ecd61d10": {
      "model_module": "@jupyter-widgets/base",
      "model_module_version": "1.2.0",
      "model_name": "LayoutModel",
      "state": {
       "_model_module": "@jupyter-widgets/base",
       "_model_module_version": "1.2.0",
       "_model_name": "LayoutModel",
       "_view_count": null,
       "_view_module": "@jupyter-widgets/base",
       "_view_module_version": "1.2.0",
       "_view_name": "LayoutView",
       "align_content": null,
       "align_items": null,
       "align_self": null,
       "border": null,
       "bottom": null,
       "display": null,
       "flex": null,
       "flex_flow": null,
       "grid_area": null,
       "grid_auto_columns": null,
       "grid_auto_flow": null,
       "grid_auto_rows": null,
       "grid_column": null,
       "grid_gap": null,
       "grid_row": null,
       "grid_template_areas": null,
       "grid_template_columns": null,
       "grid_template_rows": null,
       "height": null,
       "justify_content": null,
       "justify_items": null,
       "left": null,
       "margin": null,
       "max_height": null,
       "max_width": null,
       "min_height": null,
       "min_width": null,
       "object_fit": null,
       "object_position": null,
       "order": null,
       "overflow": null,
       "overflow_x": null,
       "overflow_y": null,
       "padding": null,
       "right": null,
       "top": null,
       "visibility": null,
       "width": null
      }
     },
     "30ff300797e1448886fbb58721e37178": {
      "model_module": "@jupyter-widgets/base",
      "model_module_version": "1.2.0",
      "model_name": "LayoutModel",
      "state": {
       "_model_module": "@jupyter-widgets/base",
       "_model_module_version": "1.2.0",
       "_model_name": "LayoutModel",
       "_view_count": null,
       "_view_module": "@jupyter-widgets/base",
       "_view_module_version": "1.2.0",
       "_view_name": "LayoutView",
       "align_content": null,
       "align_items": null,
       "align_self": null,
       "border": null,
       "bottom": null,
       "display": null,
       "flex": null,
       "flex_flow": null,
       "grid_area": null,
       "grid_auto_columns": null,
       "grid_auto_flow": null,
       "grid_auto_rows": null,
       "grid_column": null,
       "grid_gap": null,
       "grid_row": null,
       "grid_template_areas": null,
       "grid_template_columns": null,
       "grid_template_rows": null,
       "height": null,
       "justify_content": null,
       "justify_items": null,
       "left": null,
       "margin": null,
       "max_height": null,
       "max_width": null,
       "min_height": null,
       "min_width": null,
       "object_fit": null,
       "object_position": null,
       "order": null,
       "overflow": null,
       "overflow_x": null,
       "overflow_y": null,
       "padding": null,
       "right": null,
       "top": null,
       "visibility": null,
       "width": null
      }
     },
     "419777fbc47649b69d79bce34e4fc31e": {
      "model_module": "@jupyter-widgets/controls",
      "model_module_version": "1.5.0",
      "model_name": "FloatProgressModel",
      "state": {
       "_dom_classes": [],
       "_model_module": "@jupyter-widgets/controls",
       "_model_module_version": "1.5.0",
       "_model_name": "FloatProgressModel",
       "_view_count": null,
       "_view_module": "@jupyter-widgets/controls",
       "_view_module_version": "1.5.0",
       "_view_name": "ProgressView",
       "bar_style": "success",
       "description": "",
       "description_tooltip": null,
       "layout": "IPY_MODEL_b4af75c2a4c8429e8f1cd57ab699ede9",
       "max": 1000.0,
       "min": 0.0,
       "orientation": "horizontal",
       "style": "IPY_MODEL_62e117f103174aa780388dee94e0901a",
       "value": 1000.0
      }
     },
     "4faa2a5dd7a649f78cb3ca2967bfb003": {
      "model_module": "@jupyter-widgets/controls",
      "model_module_version": "1.5.0",
      "model_name": "DescriptionStyleModel",
      "state": {
       "_model_module": "@jupyter-widgets/controls",
       "_model_module_version": "1.5.0",
       "_model_name": "DescriptionStyleModel",
       "_view_count": null,
       "_view_module": "@jupyter-widgets/base",
       "_view_module_version": "1.2.0",
       "_view_name": "StyleView",
       "description_width": ""
      }
     },
     "62e117f103174aa780388dee94e0901a": {
      "model_module": "@jupyter-widgets/controls",
      "model_module_version": "1.5.0",
      "model_name": "ProgressStyleModel",
      "state": {
       "_model_module": "@jupyter-widgets/controls",
       "_model_module_version": "1.5.0",
       "_model_name": "ProgressStyleModel",
       "_view_count": null,
       "_view_module": "@jupyter-widgets/base",
       "_view_module_version": "1.2.0",
       "_view_name": "StyleView",
       "bar_color": null,
       "description_width": ""
      }
     },
     "6818bc8e2d674594bd11385b5de97f79": {
      "model_module": "@jupyter-widgets/controls",
      "model_module_version": "1.5.0",
      "model_name": "HBoxModel",
      "state": {
       "_dom_classes": [],
       "_model_module": "@jupyter-widgets/controls",
       "_model_module_version": "1.5.0",
       "_model_name": "HBoxModel",
       "_view_count": null,
       "_view_module": "@jupyter-widgets/controls",
       "_view_module_version": "1.5.0",
       "_view_name": "HBoxView",
       "box_style": "",
       "children": [
        "IPY_MODEL_82b73aeba5cb4ec9b8795b3446c36ef5",
        "IPY_MODEL_419777fbc47649b69d79bce34e4fc31e",
        "IPY_MODEL_aa9d1cc092a84f9d858946879c854c41"
       ],
       "layout": "IPY_MODEL_cb59f46e2a0e4aeab5732918e09569c8"
      }
     },
     "709d31a63ff44777887f1b46c9e9a3fe": {
      "model_module": "@jupyter-widgets/base",
      "model_module_version": "1.2.0",
      "model_name": "LayoutModel",
      "state": {
       "_model_module": "@jupyter-widgets/base",
       "_model_module_version": "1.2.0",
       "_model_name": "LayoutModel",
       "_view_count": null,
       "_view_module": "@jupyter-widgets/base",
       "_view_module_version": "1.2.0",
       "_view_name": "LayoutView",
       "align_content": null,
       "align_items": null,
       "align_self": null,
       "border": null,
       "bottom": null,
       "display": null,
       "flex": null,
       "flex_flow": null,
       "grid_area": null,
       "grid_auto_columns": null,
       "grid_auto_flow": null,
       "grid_auto_rows": null,
       "grid_column": null,
       "grid_gap": null,
       "grid_row": null,
       "grid_template_areas": null,
       "grid_template_columns": null,
       "grid_template_rows": null,
       "height": null,
       "justify_content": null,
       "justify_items": null,
       "left": null,
       "margin": null,
       "max_height": null,
       "max_width": null,
       "min_height": null,
       "min_width": null,
       "object_fit": null,
       "object_position": null,
       "order": null,
       "overflow": null,
       "overflow_x": null,
       "overflow_y": null,
       "padding": null,
       "right": null,
       "top": null,
       "visibility": null,
       "width": null
      }
     },
     "7d7f606add974653906bd2c226cab15b": {
      "model_module": "@jupyter-widgets/controls",
      "model_module_version": "1.5.0",
      "model_name": "DescriptionStyleModel",
      "state": {
       "_model_module": "@jupyter-widgets/controls",
       "_model_module_version": "1.5.0",
       "_model_name": "DescriptionStyleModel",
       "_view_count": null,
       "_view_module": "@jupyter-widgets/base",
       "_view_module_version": "1.2.0",
       "_view_name": "StyleView",
       "description_width": ""
      }
     },
     "82b73aeba5cb4ec9b8795b3446c36ef5": {
      "model_module": "@jupyter-widgets/controls",
      "model_module_version": "1.5.0",
      "model_name": "HTMLModel",
      "state": {
       "_dom_classes": [],
       "_model_module": "@jupyter-widgets/controls",
       "_model_module_version": "1.5.0",
       "_model_name": "HTMLModel",
       "_view_count": null,
       "_view_module": "@jupyter-widgets/controls",
       "_view_module_version": "1.5.0",
       "_view_name": "HTMLView",
       "description": "",
       "description_tooltip": null,
       "layout": "IPY_MODEL_8a5e1ae876fd4b9c8f608305f6f7fcf1",
       "placeholder": "​",
       "style": "IPY_MODEL_82c7b548a73944e6b1f9f4dea1f5aca4",
       "value": "100%"
      }
     },
     "82c7b548a73944e6b1f9f4dea1f5aca4": {
      "model_module": "@jupyter-widgets/controls",
      "model_module_version": "1.5.0",
      "model_name": "DescriptionStyleModel",
      "state": {
       "_model_module": "@jupyter-widgets/controls",
       "_model_module_version": "1.5.0",
       "_model_name": "DescriptionStyleModel",
       "_view_count": null,
       "_view_module": "@jupyter-widgets/base",
       "_view_module_version": "1.2.0",
       "_view_name": "StyleView",
       "description_width": ""
      }
     },
     "83034eb8494d4afb9dc2b50a1e367ede": {
      "model_module": "@jupyter-widgets/controls",
      "model_module_version": "1.5.0",
      "model_name": "HTMLModel",
      "state": {
       "_dom_classes": [],
       "_model_module": "@jupyter-widgets/controls",
       "_model_module_version": "1.5.0",
       "_model_name": "HTMLModel",
       "_view_count": null,
       "_view_module": "@jupyter-widgets/controls",
       "_view_module_version": "1.5.0",
       "_view_name": "HTMLView",
       "description": "",
       "description_tooltip": null,
       "layout": "IPY_MODEL_025057e7d59d4a1fb0ba2086ecd61d10",
       "placeholder": "​",
       "style": "IPY_MODEL_009dd514cd414728b4b5c3167f49283b",
       "value": "100%"
      }
     },
     "8a5e1ae876fd4b9c8f608305f6f7fcf1": {
      "model_module": "@jupyter-widgets/base",
      "model_module_version": "1.2.0",
      "model_name": "LayoutModel",
      "state": {
       "_model_module": "@jupyter-widgets/base",
       "_model_module_version": "1.2.0",
       "_model_name": "LayoutModel",
       "_view_count": null,
       "_view_module": "@jupyter-widgets/base",
       "_view_module_version": "1.2.0",
       "_view_name": "LayoutView",
       "align_content": null,
       "align_items": null,
       "align_self": null,
       "border": null,
       "bottom": null,
       "display": null,
       "flex": null,
       "flex_flow": null,
       "grid_area": null,
       "grid_auto_columns": null,
       "grid_auto_flow": null,
       "grid_auto_rows": null,
       "grid_column": null,
       "grid_gap": null,
       "grid_row": null,
       "grid_template_areas": null,
       "grid_template_columns": null,
       "grid_template_rows": null,
       "height": null,
       "justify_content": null,
       "justify_items": null,
       "left": null,
       "margin": null,
       "max_height": null,
       "max_width": null,
       "min_height": null,
       "min_width": null,
       "object_fit": null,
       "object_position": null,
       "order": null,
       "overflow": null,
       "overflow_x": null,
       "overflow_y": null,
       "padding": null,
       "right": null,
       "top": null,
       "visibility": null,
       "width": null
      }
     },
     "8d4b5bbffb16451bacb1186e302bb20f": {
      "model_module": "@jupyter-widgets/controls",
      "model_module_version": "1.5.0",
      "model_name": "HTMLModel",
      "state": {
       "_dom_classes": [],
       "_model_module": "@jupyter-widgets/controls",
       "_model_module_version": "1.5.0",
       "_model_name": "HTMLModel",
       "_view_count": null,
       "_view_module": "@jupyter-widgets/controls",
       "_view_module_version": "1.5.0",
       "_view_name": "HTMLView",
       "description": "",
       "description_tooltip": null,
       "layout": "IPY_MODEL_a438b7c7eda94bd39590297f88b5184c",
       "placeholder": "​",
       "style": "IPY_MODEL_7d7f606add974653906bd2c226cab15b",
       "value": " 1000/1000 [00:01&lt;00:00, 766.68it/s]"
      }
     },
     "a438b7c7eda94bd39590297f88b5184c": {
      "model_module": "@jupyter-widgets/base",
      "model_module_version": "1.2.0",
      "model_name": "LayoutModel",
      "state": {
       "_model_module": "@jupyter-widgets/base",
       "_model_module_version": "1.2.0",
       "_model_name": "LayoutModel",
       "_view_count": null,
       "_view_module": "@jupyter-widgets/base",
       "_view_module_version": "1.2.0",
       "_view_name": "LayoutView",
       "align_content": null,
       "align_items": null,
       "align_self": null,
       "border": null,
       "bottom": null,
       "display": null,
       "flex": null,
       "flex_flow": null,
       "grid_area": null,
       "grid_auto_columns": null,
       "grid_auto_flow": null,
       "grid_auto_rows": null,
       "grid_column": null,
       "grid_gap": null,
       "grid_row": null,
       "grid_template_areas": null,
       "grid_template_columns": null,
       "grid_template_rows": null,
       "height": null,
       "justify_content": null,
       "justify_items": null,
       "left": null,
       "margin": null,
       "max_height": null,
       "max_width": null,
       "min_height": null,
       "min_width": null,
       "object_fit": null,
       "object_position": null,
       "order": null,
       "overflow": null,
       "overflow_x": null,
       "overflow_y": null,
       "padding": null,
       "right": null,
       "top": null,
       "visibility": null,
       "width": null
      }
     },
     "aa9d1cc092a84f9d858946879c854c41": {
      "model_module": "@jupyter-widgets/controls",
      "model_module_version": "1.5.0",
      "model_name": "HTMLModel",
      "state": {
       "_dom_classes": [],
       "_model_module": "@jupyter-widgets/controls",
       "_model_module_version": "1.5.0",
       "_model_name": "HTMLModel",
       "_view_count": null,
       "_view_module": "@jupyter-widgets/controls",
       "_view_module_version": "1.5.0",
       "_view_name": "HTMLView",
       "description": "",
       "description_tooltip": null,
       "layout": "IPY_MODEL_d5ad71f35fc34b3abafa976b10834898",
       "placeholder": "​",
       "style": "IPY_MODEL_4faa2a5dd7a649f78cb3ca2967bfb003",
       "value": " 1000/1000 [00:00&lt;00:00, 19303.06it/s]"
      }
     },
     "b3809098b387470a9d3cb349ebd4fc7a": {
      "model_module": "@jupyter-widgets/controls",
      "model_module_version": "1.5.0",
      "model_name": "FloatProgressModel",
      "state": {
       "_dom_classes": [],
       "_model_module": "@jupyter-widgets/controls",
       "_model_module_version": "1.5.0",
       "_model_name": "FloatProgressModel",
       "_view_count": null,
       "_view_module": "@jupyter-widgets/controls",
       "_view_module_version": "1.5.0",
       "_view_name": "ProgressView",
       "bar_style": "success",
       "description": "",
       "description_tooltip": null,
       "layout": "IPY_MODEL_709d31a63ff44777887f1b46c9e9a3fe",
       "max": 1000.0,
       "min": 0.0,
       "orientation": "horizontal",
       "style": "IPY_MODEL_fc411b2045b242fa99270a3d954a59dd",
       "value": 1000.0
      }
     },
     "b4af75c2a4c8429e8f1cd57ab699ede9": {
      "model_module": "@jupyter-widgets/base",
      "model_module_version": "1.2.0",
      "model_name": "LayoutModel",
      "state": {
       "_model_module": "@jupyter-widgets/base",
       "_model_module_version": "1.2.0",
       "_model_name": "LayoutModel",
       "_view_count": null,
       "_view_module": "@jupyter-widgets/base",
       "_view_module_version": "1.2.0",
       "_view_name": "LayoutView",
       "align_content": null,
       "align_items": null,
       "align_self": null,
       "border": null,
       "bottom": null,
       "display": null,
       "flex": null,
       "flex_flow": null,
       "grid_area": null,
       "grid_auto_columns": null,
       "grid_auto_flow": null,
       "grid_auto_rows": null,
       "grid_column": null,
       "grid_gap": null,
       "grid_row": null,
       "grid_template_areas": null,
       "grid_template_columns": null,
       "grid_template_rows": null,
       "height": null,
       "justify_content": null,
       "justify_items": null,
       "left": null,
       "margin": null,
       "max_height": null,
       "max_width": null,
       "min_height": null,
       "min_width": null,
       "object_fit": null,
       "object_position": null,
       "order": null,
       "overflow": null,
       "overflow_x": null,
       "overflow_y": null,
       "padding": null,
       "right": null,
       "top": null,
       "visibility": null,
       "width": null
      }
     },
     "c4b2cedcebfb460abc4c5984e4b77d45": {
      "model_module": "@jupyter-widgets/controls",
      "model_module_version": "1.5.0",
      "model_name": "HBoxModel",
      "state": {
       "_dom_classes": [],
       "_model_module": "@jupyter-widgets/controls",
       "_model_module_version": "1.5.0",
       "_model_name": "HBoxModel",
       "_view_count": null,
       "_view_module": "@jupyter-widgets/controls",
       "_view_module_version": "1.5.0",
       "_view_name": "HBoxView",
       "box_style": "",
       "children": [
        "IPY_MODEL_83034eb8494d4afb9dc2b50a1e367ede",
        "IPY_MODEL_b3809098b387470a9d3cb349ebd4fc7a",
        "IPY_MODEL_8d4b5bbffb16451bacb1186e302bb20f"
       ],
       "layout": "IPY_MODEL_30ff300797e1448886fbb58721e37178"
      }
     },
     "cb59f46e2a0e4aeab5732918e09569c8": {
      "model_module": "@jupyter-widgets/base",
      "model_module_version": "1.2.0",
      "model_name": "LayoutModel",
      "state": {
       "_model_module": "@jupyter-widgets/base",
       "_model_module_version": "1.2.0",
       "_model_name": "LayoutModel",
       "_view_count": null,
       "_view_module": "@jupyter-widgets/base",
       "_view_module_version": "1.2.0",
       "_view_name": "LayoutView",
       "align_content": null,
       "align_items": null,
       "align_self": null,
       "border": null,
       "bottom": null,
       "display": null,
       "flex": null,
       "flex_flow": null,
       "grid_area": null,
       "grid_auto_columns": null,
       "grid_auto_flow": null,
       "grid_auto_rows": null,
       "grid_column": null,
       "grid_gap": null,
       "grid_row": null,
       "grid_template_areas": null,
       "grid_template_columns": null,
       "grid_template_rows": null,
       "height": null,
       "justify_content": null,
       "justify_items": null,
       "left": null,
       "margin": null,
       "max_height": null,
       "max_width": null,
       "min_height": null,
       "min_width": null,
       "object_fit": null,
       "object_position": null,
       "order": null,
       "overflow": null,
       "overflow_x": null,
       "overflow_y": null,
       "padding": null,
       "right": null,
       "top": null,
       "visibility": null,
       "width": null
      }
     },
     "d5ad71f35fc34b3abafa976b10834898": {
      "model_module": "@jupyter-widgets/base",
      "model_module_version": "1.2.0",
      "model_name": "LayoutModel",
      "state": {
       "_model_module": "@jupyter-widgets/base",
       "_model_module_version": "1.2.0",
       "_model_name": "LayoutModel",
       "_view_count": null,
       "_view_module": "@jupyter-widgets/base",
       "_view_module_version": "1.2.0",
       "_view_name": "LayoutView",
       "align_content": null,
       "align_items": null,
       "align_self": null,
       "border": null,
       "bottom": null,
       "display": null,
       "flex": null,
       "flex_flow": null,
       "grid_area": null,
       "grid_auto_columns": null,
       "grid_auto_flow": null,
       "grid_auto_rows": null,
       "grid_column": null,
       "grid_gap": null,
       "grid_row": null,
       "grid_template_areas": null,
       "grid_template_columns": null,
       "grid_template_rows": null,
       "height": null,
       "justify_content": null,
       "justify_items": null,
       "left": null,
       "margin": null,
       "max_height": null,
       "max_width": null,
       "min_height": null,
       "min_width": null,
       "object_fit": null,
       "object_position": null,
       "order": null,
       "overflow": null,
       "overflow_x": null,
       "overflow_y": null,
       "padding": null,
       "right": null,
       "top": null,
       "visibility": null,
       "width": null
      }
     },
     "fc411b2045b242fa99270a3d954a59dd": {
      "model_module": "@jupyter-widgets/controls",
      "model_module_version": "1.5.0",
      "model_name": "ProgressStyleModel",
      "state": {
       "_model_module": "@jupyter-widgets/controls",
       "_model_module_version": "1.5.0",
       "_model_name": "ProgressStyleModel",
       "_view_count": null,
       "_view_module": "@jupyter-widgets/base",
       "_view_module_version": "1.2.0",
       "_view_name": "StyleView",
       "bar_color": null,
       "description_width": ""
      }
     }
    },
    "version_major": 2,
    "version_minor": 0
   }
  }
 },
 "nbformat": 4,
 "nbformat_minor": 4
}