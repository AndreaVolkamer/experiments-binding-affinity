{
 "cells": [
  {
   "cell_type": "markdown",
   "metadata": {},
   "source": [
    "# Run the LNN model\n",
    "\n",
    "First, we have to create the PyTorch objects out of the NPZ files. NPZ files behave like dictionaries of arrays. In our case, they contain two keys:\n",
    "\n",
    "- `X`: the featurized systems\n",
    "- `y`: the associated measurements\n",
    "\n",
    "We can pass those dict-like arrays to an adapter class for Torch Datasets, which will be ingested by the DataLoaders. We also need the corresponding observation models."
   ]
  },
  {
   "cell_type": "code",
   "execution_count": null,
   "metadata": {},
   "outputs": [],
   "source": [
    "%load_ext autoreload\n",
    "%autoreload 2"
   ]
  },
  {
   "cell_type": "code",
   "execution_count": 2,
   "metadata": {},
   "outputs": [
    {
     "data": {
      "application/vnd.jupyter.widget-view+json": {
       "model_id": "b2d87da6f71c415c923383a384db6933",
       "version_major": 2,
       "version_minor": 0
      },
      "text/plain": []
     },
     "metadata": {},
     "output_type": "display_data"
    }
   ],
   "source": [
    "from pathlib import Path\n",
    "from collections import defaultdict\n",
    "import numpy as np\n",
    "\n",
    "import torch\n",
    "from torch.utils.data import DataLoader, SubsetRandomSampler\n",
    "import pytorch_lightning as pl\n",
    "\n",
    "from kinoml.utils import seed_everything\n",
    "from kinoml.core import measurements as measurement_types\n",
    "from kinoml.datasets.torch_datasets import XyNpzTorchDataset\n",
    "\n",
    "HERE = Path(_dh[-1])\n",
    "OUT = HERE / \"_output/\"\n",
    "OUT.mkdir(parents=True, exist_ok=True)\n",
    "\n",
    "# Fix the seed for reproducible random splits -- otherwise we get mixed train/test groups every time, biasing the model evaluation\n",
    "seed_everything(1234);"
   ]
  },
  {
   "cell_type": "markdown",
   "metadata": {},
   "source": [
    "## Load featurized data and create observation models"
   ]
  },
  {
   "cell_type": "code",
   "execution_count": 3,
   "metadata": {},
   "outputs": [],
   "source": [
    "datasets = defaultdict(dict)\n",
    "for npz in HERE.glob(\"../_output/PKIS2__*.npz\"):\n",
    "    _, kinase, measurement_type = str(npz.stem).split(\"__\")\n",
    "    datasets[kinase][measurement_type] = XyNpzTorchDataset(npz)"
   ]
  },
  {
   "cell_type": "code",
   "execution_count": 4,
   "metadata": {},
   "outputs": [
    {
     "data": {
      "text/plain": [
       "{'PercentageDisplacementMeasurement': <function kinoml.core.measurements.PercentageDisplacementMeasurement._observation_model_pytorch(dG_over_KT, inhibitor_conc=1, standard_conc=1, **kwargs)>}"
      ]
     },
     "execution_count": 4,
     "metadata": {},
     "output_type": "execute_result"
    }
   ],
   "source": [
    "obs_models = {k: getattr(measurement_types, k).observation_model(backend=\"pytorch\") for k in [\"PercentageDisplacementMeasurement\"]}\n",
    "obs_models"
   ]
  },
  {
   "cell_type": "markdown",
   "metadata": {},
   "source": [
    "Now that we have all the data-dependent objects, we can start with the model-specific definitions."
   ]
  },
  {
   "cell_type": "code",
   "execution_count": 5,
   "metadata": {},
   "outputs": [],
   "source": [
    "one_kinase = \"ABL2\"\n",
    "datamodules =  {}\n",
    "for mtype in [\"PercentageDisplacementMeasurement\"]:\n",
    "    datamodules[mtype] = datasets[one_kinase][mtype].as_datamodule(observation_model=obs_models[mtype], batch_size=128)"
   ]
  },
  {
   "cell_type": "markdown",
   "metadata": {},
   "source": [
    "## Train the model"
   ]
  },
  {
   "cell_type": "code",
   "execution_count": 6,
   "metadata": {},
   "outputs": [],
   "source": [
    "from kinoml.ml.torch_models import NeuralNetworkRegression\n",
    "from kinoml.ml.lightning_modules import ObservationModelModule"
   ]
  },
  {
   "cell_type": "code",
   "execution_count": 7,
   "metadata": {},
   "outputs": [
    {
     "name": "stderr",
     "output_type": "stream",
     "text": [
      "GPU available: False, used: False\n",
      "TPU available: False, using: 0 TPU cores\n",
      "/home/jaime/.conda/envs/kinoml-ci/lib/python3.7/site-packages/pytorch_lightning/utilities/distributed.py:45: UserWarning: you passed in a val_dataloader but have no validation_step. Skipping validation loop\n",
      "  warnings.warn(*args, **kwargs)\n",
      "\n",
      "  | Name          | Type                    | Params\n",
      "----------------------------------------------------------\n",
      "0 | nn_model      | NeuralNetworkRegression | 179 K \n",
      "1 | loss_function | MSELoss                 | 0     \n",
      "2 | metric_mae    | MeanAbsoluteError       | 0     \n",
      "3 | metric_mse    | MeanSquaredError        | 0     \n",
      "4 | metric_rmse   | RootMeanSquaredError    | 0     \n",
      "/home/jaime/.conda/envs/kinoml-ci/lib/python3.7/site-packages/pytorch_lightning/utilities/distributed.py:45: UserWarning: The dataloader, train dataloader, does not have many workers which may be a bottleneck. Consider increasing the value of the `num_workers` argument` (try 8 which is the number of cpus on this machine) in the `DataLoader` init to improve performance.\n",
      "  warnings.warn(*args, **kwargs)\n"
     ]
    },
    {
     "data": {
      "application/vnd.jupyter.widget-view+json": {
       "model_id": "28f73c12ff4f4e5ca2feb96b7a9fd382",
       "version_major": 2,
       "version_minor": 0
      },
      "text/plain": [
       "HBox(children=(HTML(value='Training'), FloatProgress(value=1.0, bar_style='info', layout=Layout(flex='2'), max…"
      ]
     },
     "metadata": {},
     "output_type": "display_data"
    },
    {
     "name": "stdout",
     "output_type": "stream",
     "text": [
      "\n"
     ]
    },
    {
     "name": "stderr",
     "output_type": "stream",
     "text": [
      "/home/jaime/.conda/envs/kinoml-ci/lib/python3.7/site-packages/pytorch_lightning/utilities/distributed.py:45: UserWarning: The dataloader, test dataloader 0, does not have many workers which may be a bottleneck. Consider increasing the value of the `num_workers` argument` (try 8 which is the number of cpus on this machine) in the `DataLoader` init to improve performance.\n",
      "  warnings.warn(*args, **kwargs)\n"
     ]
    },
    {
     "data": {
      "application/vnd.jupyter.widget-view+json": {
       "model_id": "75bc543d6a04487b92d12a580660d21c",
       "version_major": 2,
       "version_minor": 0
      },
      "text/plain": [
       "HBox(children=(HTML(value='Testing'), FloatProgress(value=1.0, bar_style='info', layout=Layout(flex='2'), max=…"
      ]
     },
     "metadata": {},
     "output_type": "display_data"
    },
    {
     "name": "stdout",
     "output_type": "stream",
     "text": [
      "--------------------------------------------------------------------------------\n",
      "DATALOADER:0 TEST RESULTS\n",
      "{'MAE': tensor(15.9561),\n",
      " 'MSE': tensor(630.9850),\n",
      " 'R2': tensor(-0.5069),\n",
      " 'RMSE': tensor(1.5958),\n",
      " 'test_loss': tensor(630.9850),\n",
      " 'train_loss': tensor(5.0415)}\n",
      "--------------------------------------------------------------------------------\n",
      "\n"
     ]
    }
   ],
   "source": [
    "input_size = datasets[one_kinase][\"PercentageDisplacementMeasurement\"].input_size()\n",
    "model = NeuralNetworkRegression(input_size=input_size, hidden_size=350)\n",
    "optimizer = torch.optim.Adam(model.parameters(), lr=0.005)\n",
    "loss_function = torch.nn.MSELoss()  # Mean squared error\n",
    "\n",
    "trainer = pl.Trainer(max_epochs=100, progress_bar_refresh_rate=50, logger=pl.loggers.TensorBoardLogger(OUT / \"tensorboard_logs\", name=\"\"))\n",
    "module = ObservationModelModule(nn_model=model, optimizer=optimizer, loss_function=loss_function, validate=False)\n",
    "for mtype, dm in sorted(datamodules.items(), key=lambda kv: len(kv[1].dataset), reverse=True):\n",
    "    module.observation_model = dm.observation_model\n",
    "    trainer.fit(model=module, datamodule=dm)\n",
    "    trainer.test(ckpt_path=None)"
   ]
  },
  {
   "cell_type": "markdown",
   "metadata": {},
   "source": [
    "Save model to disk!"
   ]
  },
  {
   "cell_type": "code",
   "execution_count": 8,
   "metadata": {},
   "outputs": [],
   "source": [
    "torch.save(model, OUT / \"pkis2_model.pt\")"
   ]
  },
  {
   "cell_type": "code",
   "execution_count": 9,
   "metadata": {},
   "outputs": [
    {
     "name": "stderr",
     "output_type": "stream",
     "text": [
      "/home/jaime/.conda/envs/kinoml-ci/lib/python3.7/site-packages/pytorch_lightning/utilities/distributed.py:45: UserWarning: The dataloader, test dataloader 0, does not have many workers which may be a bottleneck. Consider increasing the value of the `num_workers` argument` (try 8 which is the number of cpus on this machine) in the `DataLoader` init to improve performance.\n",
      "  warnings.warn(*args, **kwargs)\n"
     ]
    },
    {
     "data": {
      "application/vnd.jupyter.widget-view+json": {
       "model_id": "84acb4af3d6849d797f37130e0b9bc91",
       "version_major": 2,
       "version_minor": 0
      },
      "text/plain": [
       "HBox(children=(HTML(value='Testing'), FloatProgress(value=1.0, bar_style='info', layout=Layout(flex='2'), max=…"
      ]
     },
     "metadata": {},
     "output_type": "display_data"
    },
    {
     "name": "stdout",
     "output_type": "stream",
     "text": [
      "--------------------------------------------------------------------------------\n",
      "DATALOADER:0 TEST RESULTS\n",
      "{'MAE': tensor(15.9561),\n",
      " 'MSE': tensor(630.9850),\n",
      " 'R2': tensor(-0.5039),\n",
      " 'RMSE': tensor(1.5955),\n",
      " 'test_loss': tensor(630.9850),\n",
      " 'train_loss': tensor(5.0415)}\n",
      "--------------------------------------------------------------------------------\n",
      "\n"
     ]
    },
    {
     "data": {
      "text/plain": [
       "[{'train_loss': 5.041500091552734,\n",
       "  'test_loss': 630.9849853515625,\n",
       "  'R2': -0.5038644671440125,\n",
       "  'MAE': 15.956089973449707,\n",
       "  'MSE': 630.9849853515625,\n",
       "  'RMSE': 1.5955357551574707}]"
      ]
     },
     "execution_count": 9,
     "metadata": {},
     "output_type": "execute_result"
    }
   ],
   "source": [
    "trainer.test(model=module, datamodule=datamodules[\"PercentageDisplacementMeasurement\"])"
   ]
  },
  {
   "cell_type": "markdown",
   "metadata": {},
   "source": [
    "## Analysis"
   ]
  },
  {
   "cell_type": "code",
   "execution_count": 10,
   "metadata": {},
   "outputs": [
    {
     "data": {
      "text/html": [
       "\n",
       "      <iframe id=\"tensorboard-frame-c735df5ef7697fb9\" width=\"100%\" height=\"800\" frameborder=\"0\">\n",
       "      </iframe>\n",
       "      <script>\n",
       "        (function() {\n",
       "          const frame = document.getElementById(\"tensorboard-frame-c735df5ef7697fb9\");\n",
       "          const url = new URL(\"/\", window.location);\n",
       "          const port = 6012;\n",
       "          if (port) {\n",
       "            url.port = port;\n",
       "          }\n",
       "          frame.src = url;\n",
       "        })();\n",
       "      </script>\n",
       "    "
      ],
      "text/plain": [
       "<IPython.core.display.HTML object>"
      ]
     },
     "metadata": {},
     "output_type": "display_data"
    }
   ],
   "source": [
    "%load_ext tensorboard\n",
    "%tensorboard --logdir {trainer.logger.log_dir}"
   ]
  },
  {
   "cell_type": "markdown",
   "metadata": {},
   "source": [
    "Load model back if it was not trained in the same session:"
   ]
  },
  {
   "cell_type": "code",
   "execution_count": 11,
   "metadata": {},
   "outputs": [],
   "source": [
    "try: \n",
    "    model = model\n",
    "except NameError:\n",
    "    model = torch.load(OUT / \"pkis2_model.pt\")"
   ]
  },
  {
   "cell_type": "markdown",
   "metadata": {},
   "source": [
    "Loss  timeseries"
   ]
  },
  {
   "cell_type": "code",
   "execution_count": 12,
   "metadata": {},
   "outputs": [
    {
     "data": {
      "text/plain": [
       "{'train_loss': 5.041500091552734,\n",
       " 'epoch': 99,\n",
       " 'test_loss': 630.9849853515625,\n",
       " 'R2': -0.5038644671440125,\n",
       " 'MAE': 15.956089973449707,\n",
       " 'MSE': 630.9849853515625,\n",
       " 'RMSE': 1.5955357551574707}"
      ]
     },
     "execution_count": 12,
     "metadata": {},
     "output_type": "execute_result"
    }
   ],
   "source": [
    "trainer.logged_metrics"
   ]
  },
  {
   "cell_type": "markdown",
   "metadata": {},
   "source": [
    "Measure performance against all data"
   ]
  },
  {
   "cell_type": "code",
   "execution_count": 13,
   "metadata": {},
   "outputs": [],
   "source": [
    "from kinoml.analysis.plots import predicted_vs_observed"
   ]
  },
  {
   "cell_type": "code",
   "execution_count": 14,
   "metadata": {},
   "outputs": [
    {
     "name": "stdout",
     "output_type": "stream",
     "text": [
      "PercentageDisplacementMeasurement train\n",
      "---------------------------------------\n",
      " MAE: 1.49±0.07 95CI=(1.38, 1.60)\n",
      " MSE: 4.09±0.44 95CI=(3.42, 4.74)\n",
      "  R2: 0.99±0.00 95CI=(0.99, 1.00)\n",
      "RMSE: 2.02±0.11 95CI=(1.85, 2.18)\n"
     ]
    },
    {
     "data": {
      "image/png": "[encoded data removed]",
      "text/plain": [
       "<Figure size 432x288 with 1 Axes>"
      ]
     },
     "metadata": {},
     "output_type": "display_data"
    },
    {
     "name": "stdout",
     "output_type": "stream",
     "text": [
      "PercentageDisplacementMeasurement test\n",
      "--------------------------------------\n",
      " MAE: 16.19±1.89 95CI=(12.97, 19.18)\n",
      " MSE: 650.36±152.31 95CI=(392.22, 896.62)\n",
      "  R2: 0.02±0.20 95CI=(-0.34, 0.31)\n",
      "RMSE: 25.32±3.03 95CI=(19.80, 29.94)\n"
     ]
    },
    {
     "data": {
      "image/png": "[encoded data removed]",
      "text/plain": [
       "<Figure size 432x288 with 1 Axes>"
      ]
     },
     "metadata": {},
     "output_type": "display_data"
    },
    {
     "name": "stdout",
     "output_type": "stream",
     "text": [
      "\n",
      "****************\n"
     ]
    }
   ],
   "source": [
    "for mtype in [\"PercentageDisplacementMeasurement\"]:\n",
    "    for ttype in [\"train\", \"test\"]:\n",
    "        indices = getattr(datamodules[mtype], f\"{ttype}_dataloader\")().sampler.indices\n",
    "        observed = datamodules[mtype].dataset.data_y[indices]\n",
    "        model_input = datamodules[mtype].dataset.data_X[indices]\n",
    "\n",
    "        delta_g = model(model_input)\n",
    "        prediction = obs_models[mtype](delta_g).detach().numpy()\n",
    "\n",
    "        print(mtype, ttype)\n",
    "        print(\"-\"*(len(mtype)+len(ttype)+1))\n",
    "        display(predicted_vs_observed(prediction, observed, limits=(-5, 105), title=f\"{prediction.shape[0]} {mtype}s\", n_boot=100, sample_ratio=0.75))\n",
    "    print(\"\\n****************\")"
   ]
  },
  {
   "cell_type": "code",
   "execution_count": 15,
   "metadata": {},
   "outputs": [
    {
     "name": "stdout",
     "output_type": "stream",
     "text": [
      "Watermark\n",
      "---------\n",
      "pytorch_lightning 1.0.3\n",
      "torch             1.6.0\n",
      "numpy             1.19.2\n",
      "last updated: 2020-10-27 20:02:50 CET 2020-10-27T20:02:50+01:00\n",
      "\n",
      "CPython 3.7.8\n",
      "IPython 7.18.1\n",
      "\n",
      "compiler   : GCC 7.5.0\n",
      "system     : Linux\n",
      "release    : 4.19.128-microsoft-standard\n",
      "machine    : x86_64\n",
      "processor  : x86_64\n",
      "CPU cores  : 8\n",
      "interpreter: 64bit\n",
      "host name  : jrodriguez\n",
      "Git hash   : fc320bcf36713a8f8e136b75fffe4a2b1c36283f\n",
      "watermark 2.0.2\n",
      "\n",
      "conda\n",
      "-----\n",
      "sys.version: 3.7.6 | packaged by conda-forge | (defau...\n",
      "sys.prefix: /opt/miniconda\n",
      "sys.executable: /opt/miniconda/bin/python\n",
      "conda location: /opt/miniconda/lib/python3.7/site-packages/conda\n",
      "conda-build: /opt/miniconda/bin/conda-build\n",
      "conda-convert: /opt/miniconda/bin/conda-convert\n",
      "conda-debug: /opt/miniconda/bin/conda-debug\n",
      "conda-develop: /opt/miniconda/bin/conda-develop\n",
      "conda-env: /opt/miniconda/bin/conda-env\n",
      "conda-index: /opt/miniconda/bin/conda-index\n",
      "conda-inspect: /opt/miniconda/bin/conda-inspect\n",
      "conda-metapackage: /opt/miniconda/bin/conda-metapackage\n",
      "conda-render: /opt/miniconda/bin/conda-render\n",
      "conda-server: /opt/miniconda/bin/conda-server\n",
      "conda-skeleton: /opt/miniconda/bin/conda-skeleton\n",
      "conda-smithy: /opt/miniconda/bin/conda-smithy\n",
      "user site dirs: ~/.local/lib/python3.8\n",
      "\n",
      "CIO_TEST: <not set>\n",
      "CONDA_DEFAULT_ENV: kinoml-ci\n",
      "CONDA_EXE: /opt/miniconda/bin/conda\n",
      "CONDA_PREFIX: /home/jaime/.conda/envs/kinoml-ci\n",
      "CONDA_PREFIX_1: /opt/miniconda\n",
      "CONDA_PROMPT_MODIFIER: (kinoml-ci) \n",
      "CONDA_PYTHON_EXE: /opt/miniconda/bin/python\n",
      "CONDA_ROOT: /opt/miniconda\n",
      "CONDA_SHLVL: 2\n",
      "CURL_CA_BUNDLE: <not set>\n",
      "PATH: /home/jaime/.conda/envs/kinoml-ci/bin:/opt/miniconda/condabin:/home/jaime/.local/bin:/usr/local/sbin:/usr/local/bin:/usr/sbin:/usr/bin:/sbin:/bin:/usr/games:/usr/local/games:/mnt/c/Program Files/NVIDIA GPU Computing Toolkit/CUDA/v10.1/bin:/mnt/c/Program Files/NVIDIA GPU Computing Toolkit/CUDA/v10.1/libnvvp:/mnt/c/Windows/system32:/mnt/c/Windows:/mnt/c/Windows/System32/Wbem:/mnt/c/Windows/System32/WindowsPowerShell/v1.0:/mnt/c/Windows/System32/OpenSSH:/mnt/c/Program Files (x86)/NVIDIA Corporation/PhysX/Common:/mnt/c/WINDOWS/system32:/mnt/c/WINDOWS:/mnt/c/WINDOWS/System32/Wbem:/mnt/c/WINDOWS/System32/WindowsPowerShell/v1.0:/mnt/c/WINDOWS/System32/OpenSSH:/mnt/c/Program Files (x86)/Windows Kits/10/Windows Performance Toolkit:/mnt/c/Program Files/NVIDIA Corporation/Nsight Compute 2019.3.0:/mnt/c/Program Files/Intel/WiFi/bin:/mnt/c/Program Files/Common Files/Intel/WirelessCommon:/mnt/c/Program Files/NVIDIA Corporation/NVIDIA NvDLISR:/mnt/c/Android:/mnt/c/WINDOWS/system32:/mnt/c/WINDOWS:/mnt/c/WINDOWS/System32/Wbem:/mnt/c/WINDOWS/System32/WindowsPowerShell/v1.0:/mnt/c/WINDOWS/System32/OpenSSH:/mnt/c/Program Files (x86)/Intel/Intel(R) Management Engine Components/DAL:/mnt/c/Program Files/Intel/Intel(R) Management Engine Components/DAL:/mnt/c/Program Files/Docker/Docker/resources/bin:/mnt/c/ProgramData/DockerDesktop/version-bin:/mnt/c/Users/Jaime/AppData/Local/Microsoft/WindowsApps:/mnt/c/Users/Jaime/AppData/Local/Programs/Microsoft VS Code/bin:/mnt/c/Program Files (x86)/mingw-w64/i686-8.1.0-posix-dwarf-rt_v6-rev0/mingw32/bin:/mnt/c/G09W:/mnt/c/Program Files (x86)/FAHClient:/mnt/c/Program Files/7-Zip:/mnt/c/Users/Jaime/AppData/Local/atom/bin:/mnt/c/Users/Jaime/AppData/Local/Microsoft/WindowsApps\n",
      "PYTHONHASHSEED: 1234\n",
      "PYTHONWARNINGS: ignore:semaphore_tracker:UserWarning\n",
      "REQUESTS_CA_BUNDLE: <not set>\n",
      "SSL_CERT_FILE: <not set>\n",
      "\n",
      "\n",
      "# packages in environment at /home/jaime/.conda/envs/kinoml-ci:\n",
      "#\n",
      "# Name                    Version                   Build  Channel\n",
      "_libgcc_mutex             0.1                 conda_forge    conda-forge\n",
      "_openmp_mutex             4.5                       1_gnu    conda-forge\n",
      "_py-xgboost-mutex         2.0                       cpu_0    conda-forge\n",
      "absl-py                   0.10.0                   pypi_0    pypi\n",
      "alabaster                 0.7.12                   pypi_0    pypi\n",
      "amberlite                 16.0                     pypi_0    pypi\n",
      "ambertools                20.9                     pypi_0    pypi\n",
      "appdirs                   1.4.4              pyh9f0ad1d_0    conda-forge\n",
      "argon2-cffi               20.1.0           py37h8f50634_2    conda-forge\n",
      "arpack                    3.7.0                hc6cf775_2    conda-forge\n",
      "ase                       3.20.1                   pypi_0    pypi\n",
      "astroid                   2.4.2                    pypi_0    pypi\n",
      "async_generator           1.10                       py_0    conda-forge\n",
      "attrs                     20.2.0             pyh9f0ad1d_0    conda-forge\n",
      "babel                     2.8.0                    pypi_0    pypi\n",
      "backcall                  0.2.0              pyh9f0ad1d_0    conda-forge\n",
      "backports                 1.0                        py_2    conda-forge\n",
      "backports.functools_lru_cache 1.6.1                      py_0    conda-forge\n",
      "biopandas                 0.2.7                    pypi_0    pypi\n",
      "biopython                 1.78             py37h8f50634_1    conda-forge\n",
      "black                     20.8b1                   pypi_0    pypi\n",
      "blas                      1.0                         mkl    conda-forge\n",
      "bleach                    3.2.1              pyh9f0ad1d_0    conda-forge\n",
      "boost                     1.74.0           py37h48f8a5e_1    conda-forge\n",
      "boost-cpp                 1.74.0               h9359b55_0    conda-forge\n",
      "bravado                   11.0.2                   pypi_0    pypi\n",
      "bravado-core              5.17.0                   pypi_0    pypi\n",
      "brotlipy                  0.7.0           py37hb5d75c8_1001    conda-forge\n",
      "bson                      0.5.9                      py_0    conda-forge\n",
      "bzip2                     1.0.8                h516909a_3    conda-forge\n",
      "c-ares                    1.16.1               h516909a_3    conda-forge\n",
      "ca-certificates           2020.10.14                    0  \n",
      "cachetools                4.1.1                    pypi_0    pypi\n",
      "cairo                     1.16.0            h488836b_1006    conda-forge\n",
      "certifi                   2020.6.20        py37he5f6b98_2    conda-forge\n",
      "cffi                      1.14.3           py37h00ebd2e_1    conda-forge\n",
      "cftime                    1.2.1            py37h161383b_1    conda-forge\n",
      "chardet                   3.0.4           py37he5f6b98_1008    conda-forge\n",
      "click                     7.1.2                    pypi_0    pypi\n",
      "codecov                   2.1.10             pyh9f0ad1d_0    conda-forge\n",
      "coverage                  5.3              py37h8f50634_1    conda-forge\n",
      "cryptography              3.1.1            py37hff6837a_1    conda-forge\n",
      "cudatoolkit               10.2.89              hfd86e86_1  \n",
      "curl                      7.71.1               he644dc0_8    conda-forge\n",
      "cycler                    0.10.0                     py_2    conda-forge\n",
      "cython                    0.29.21          py37hb892b2f_1    conda-forge\n",
      "decorator                 4.4.2                      py_0    conda-forge\n",
      "defusedxml                0.6.0                      py_0    conda-forge\n",
      "docutils                  0.16                     pypi_0    pypi\n",
      "entrypoints               0.3             py37hc8dfbb8_1002    conda-forge\n",
      "fftw                      3.3.8           nompi_h7f3a6c3_1112    conda-forge\n",
      "fftw3f                    3.3.4                         2    omnia\n",
      "fontconfig                2.13.1            h1056068_1002    conda-forge\n",
      "freetype                  2.10.4               he06d7ca_0    conda-forge\n",
      "fsspec                    0.8.4                    pypi_0    pypi\n",
      "future                    0.18.2                   pypi_0    pypi\n",
      "gettext                   0.19.8.1          hf34092f_1004    conda-forge\n",
      "gitdb                     4.0.5                    pypi_0    pypi\n",
      "gitpython                 3.1.11                   pypi_0    pypi\n",
      "google-auth               1.22.1                   pypi_0    pypi\n",
      "google-auth-oauthlib      0.4.1                    pypi_0    pypi\n",
      "googledrivedownloader     0.4                      pypi_0    pypi\n",
      "griddataformats           0.5.0                      py_0    conda-forge\n",
      "grpcio                    1.33.1                   pypi_0    pypi\n",
      "gsd                       2.2.0            py37h161383b_1    conda-forge\n",
      "h5py                      2.10.0                   pypi_0    pypi\n",
      "hdf4                      4.2.13            hf30be14_1003    conda-forge\n",
      "hdf5                      1.10.6          nompi_h54c07f9_1110    conda-forge\n",
      "hdf5-1820                 1.8.20                        0    omnia\n",
      "htmlmin                   0.1.12                   pypi_0    pypi\n",
      "icu                       67.1                 he1b5a44_0    conda-forge\n",
      "idna                      2.10               pyh9f0ad1d_0    conda-forge\n",
      "imagesize                 1.2.0                    pypi_0    pypi\n",
      "importlib-metadata        2.0.0            py37hc8dfbb8_0    conda-forge\n",
      "importlib_metadata        2.0.0                         1    conda-forge\n",
      "importlib_resources       3.2.0            py37hc8dfbb8_0    conda-forge\n",
      "iniconfig                 1.1.1              pyh9f0ad1d_0    conda-forge\n",
      "intel-openmp              2020.2                      254  \n",
      "ipykernel                 5.3.4            py37hc6149b9_1    conda-forge\n",
      "ipython                   7.18.1           py37hc6149b9_1    conda-forge\n",
      "ipython_genutils          0.2.0                      py_1    conda-forge\n",
      "ipywidgets                7.5.1              pyh9f0ad1d_1    conda-forge\n",
      "isodate                   0.6.0                    pypi_0    pypi\n",
      "isort                     5.6.4                    pypi_0    pypi\n",
      "jedi                      0.17.2           py37hc8dfbb8_1    conda-forge\n",
      "jinja2                    2.11.2             pyh9f0ad1d_0    conda-forge\n",
      "joblib                    0.17.0                     py_0    conda-forge\n",
      "jpeg                      9d                   h516909a_0    conda-forge\n",
      "jsmin                     2.2.2                    pypi_0    pypi\n",
      "json5                     0.9.5              pyh9f0ad1d_0    conda-forge\n",
      "jsonpointer               2.0                      pypi_0    pypi\n",
      "jsonref                   0.2                      pypi_0    pypi\n",
      "jsonschema                3.2.0            py37hc8dfbb8_1    conda-forge\n",
      "jupyter_client            6.1.7                      py_0    conda-forge\n",
      "jupyter_core              4.6.3            py37hc8dfbb8_2    conda-forge\n",
      "jupyterlab                2.2.9                      py_0    conda-forge\n",
      "jupyterlab_pygments       0.1.2              pyh9f0ad1d_0    conda-forge\n",
      "jupyterlab_server         1.2.0                      py_0    conda-forge\n",
      "kinoml                    0+untagged.323.g6373931.dirty           dev_0    <develop>\n",
      "kiwisolver                1.2.0            py37h99015e2_1    conda-forge\n",
      "klifs-utils               0+unknown                pypi_0    pypi\n",
      "krb5                      1.17.1               hfafb76e_3    conda-forge\n",
      "lazy-object-proxy         1.4.3                    pypi_0    pypi\n",
      "lcms2                     2.11                 hbd6801e_0    conda-forge\n",
      "ld_impl_linux-64          2.35                 h769bd43_9    conda-forge\n",
      "libblas                   3.9.0           1_h6e990d7_netlib    conda-forge\n",
      "libcblas                  3.9.0           2_h6e990d7_netlib    conda-forge\n",
      "libcurl                   7.71.1               hcdd3856_8    conda-forge\n",
      "libedit                   3.1.20191231         he28a2e2_2    conda-forge\n",
      "libev                     4.33                 h516909a_1    conda-forge\n",
      "libffi                    3.2.1             he1b5a44_1007    conda-forge\n",
      "libgcc-ng                 9.3.0               h5dbcf3e_17    conda-forge\n",
      "libgfortran-ng            7.5.0               hae1eefd_17    conda-forge\n",
      "libgfortran4              7.5.0               hae1eefd_17    conda-forge\n",
      "libglib                   2.66.2               h0dae87d_0    conda-forge\n",
      "libgomp                   9.3.0               h5dbcf3e_17    conda-forge\n",
      "libiconv                  1.16                 h516909a_0    conda-forge\n",
      "liblapack                 3.9.0           2_h6e990d7_netlib    conda-forge\n",
      "libnetcdf                 4.7.4           nompi_hefab0ff_106    conda-forge\n",
      "libnghttp2                1.41.0               h8cfc5f6_2    conda-forge\n",
      "libpng                    1.6.37               hed695b0_2    conda-forge\n",
      "libsodium                 1.0.18               h516909a_1    conda-forge\n",
      "libssh2                   1.9.0                hab1572f_5    conda-forge\n",
      "libstdcxx-ng              9.3.0               h2ae2ef3_17    conda-forge\n",
      "libtiff                   4.1.0                hc7e4089_6    conda-forge\n",
      "libuuid                   2.32.1            h14c3975_1000    conda-forge\n",
      "libwebp-base              1.1.0                h516909a_3    conda-forge\n",
      "libxcb                    1.13              h14c3975_1002    conda-forge\n",
      "libxgboost                1.2.0                he1b5a44_0    conda-forge\n",
      "libxml2                   2.9.10               h68273f3_2    conda-forge\n",
      "livereload                2.6.3                    pypi_0    pypi\n",
      "llvmlite                  0.34.0                   pypi_0    pypi\n",
      "lz4-c                     1.9.2                he1b5a44_3    conda-forge\n",
      "markdown                  3.3.3                    pypi_0    pypi\n",
      "markupsafe                1.1.1            py37hb5d75c8_2    conda-forge\n",
      "matplotlib-base           3.3.2            py37hc9afd2a_1    conda-forge\n",
      "mccabe                    0.6.1                    pypi_0    pypi\n",
      "mdanalysis                1.0.0            py37h3340039_0    conda-forge\n",
      "mistune                   0.8.4           py37h8f50634_1002    conda-forge\n",
      "mkdocs                    1.0.4                    pypi_0    pypi\n",
      "mkdocs-git-revision-date-localized-plugin 0.5.0                    pypi_0    pypi\n",
      "mkdocs-material           4.6.3                    pypi_0    pypi\n",
      "mkdocs-minify-plugin      0.2.3                    pypi_0    pypi\n",
      "mkdocstrings              0.7.1                    pypi_0    pypi\n",
      "mkl                       2020.2                      256  \n",
      "mmpbsa-py                 16.0                     pypi_0    pypi\n",
      "mmtf-python               1.1.2                      py_0    conda-forge\n",
      "modeller                  9.20                     py37_1    omnia\n",
      "monotonic                 1.5                      pypi_0    pypi\n",
      "more-itertools            8.5.0                      py_0    conda-forge\n",
      "msgpack-python            1.0.0            py37h99015e2_2    conda-forge\n",
      "mypy-extensions           0.4.3                    pypi_0    pypi\n",
      "nbclient                  0.5.1                      py_0    conda-forge\n",
      "nbconvert                 6.0.7            py37hc8dfbb8_2    conda-forge\n",
      "nbformat                  5.0.8                      py_0    conda-forge\n",
      "ncurses                   6.2                  he1b5a44_2    conda-forge\n",
      "nest-asyncio              1.4.1                      py_0    conda-forge\n",
      "netcdf-fortran            4.5.3           nompi_hfef6a68_101    conda-forge\n",
      "netcdf4                   1.5.4           nompi_py37hcbfd489_103    conda-forge\n",
      "networkx                  2.5                        py_0    conda-forge\n",
      "nglview                   2.7.7              pyh5ca1d4c_1    conda-forge\n",
      "ninja                     1.10.1               hfc4b9b4_2    conda-forge\n",
      "notebook                  6.1.4            py37hc8dfbb8_1    conda-forge\n",
      "numba                     0.51.2                   pypi_0    pypi\n",
      "numpy                     1.19.2           py37h7008fea_1    conda-forge\n",
      "oauthlib                  3.1.0                    pypi_0    pypi\n",
      "olefile                   0.46               pyh9f0ad1d_1    conda-forge\n",
      "openeye-toolkits          2020.1.0                 py37_0    openeye\n",
      "openforcefield            refs-pull-583-head          pypi_0    pypi\n",
      "openforcefields           1.3.0                      py_0    omnia\n",
      "openmm                    7.4.2           py37_cuda101_rc_1    omnia\n",
      "openssl                   1.1.1h               h516909a_0    conda-forge\n",
      "packaging                 20.4               pyh9f0ad1d_0    conda-forge\n",
      "packmol-memgen            1.1.0rc0                 pypi_0    pypi\n",
      "pandas                    1.1.3            py37hb33c840_2    conda-forge\n",
      "pandoc                    2.11.0.4             hd18ef5c_0    conda-forge\n",
      "pandocfilters             1.4.2                      py_1    conda-forge\n",
      "parmed                    at20RC5+54.g5702a232fe.dirty          pypi_0    pypi\n",
      "parso                     0.7.1              pyh9f0ad1d_0    conda-forge\n",
      "pathspec                  0.8.0                    pypi_0    pypi\n",
      "patsy                     0.5.1                      py_0    conda-forge\n",
      "pcre                      8.44                 he1b5a44_0    conda-forge\n",
      "pdb4amber                 1.7.dev0                 pypi_0    pypi\n",
      "perl                      5.30.3               h516909a_1    conda-forge\n",
      "pexpect                   4.8.0            py37hc8dfbb8_1    conda-forge\n",
      "pickleshare               0.7.5           py37hc8dfbb8_1002    conda-forge\n",
      "pillow                    8.0.1            py37h718be6c_0    conda-forge\n",
      "pint                      0.16.1                     py_0    conda-forge\n",
      "pip                       20.2.4                     py_0    conda-forge\n",
      "pixman                    0.38.0            h516909a_1003    conda-forge\n",
      "pluggy                    0.13.1           py37he5f6b98_3    conda-forge\n",
      "prody                     1.10.11                  pypi_0    pypi\n",
      "prometheus_client         0.8.0              pyh9f0ad1d_0    conda-forge\n",
      "prompt-toolkit            3.0.8                      py_0    conda-forge\n",
      "protobuf                  3.13.0                   pypi_0    pypi\n",
      "pthread-stubs             0.4               h14c3975_1001    conda-forge\n",
      "ptyprocess                0.6.0                 py37_1000    conda-forge\n",
      "py                        1.9.0              pyh9f0ad1d_0    conda-forge\n",
      "py-xgboost                1.2.0            py37hc8dfbb8_0    conda-forge\n",
      "pyasn1                    0.4.8                    pypi_0    pypi\n",
      "pyasn1-modules            0.2.8                    pypi_0    pypi\n",
      "pycairo                   1.20.0           py37h01af8b0_1    conda-forge\n",
      "pycparser                 2.20               pyh9f0ad1d_2    conda-forge\n",
      "pygments                  2.7.2                      py_0    conda-forge\n",
      "pylint                    2.6.0                    pypi_0    pypi\n",
      "pymdown-extensions        6.3                      pypi_0    pypi\n",
      "pyopenssl                 19.1.0                   py37_0    conda-forge\n",
      "pyparsing                 2.4.7              pyh9f0ad1d_0    conda-forge\n",
      "pyrsistent                0.17.3           py37h8f50634_1    conda-forge\n",
      "pysocks                   1.7.1            py37he5f6b98_2    conda-forge\n",
      "pytest                    6.1.1            py37he5f6b98_1    conda-forge\n",
      "pytest-cov                2.10.1             pyh9f0ad1d_0    conda-forge\n",
      "python                    3.7.8           h425cb1d_1_cpython    conda-forge\n",
      "python-dateutil           2.8.1                      py_0    conda-forge\n",
      "python_abi                3.7                     1_cp37m    conda-forge\n",
      "pytorch                   1.6.0           py3.7_cuda10.2.89_cudnn7.6.5_0    pytorch\n",
      "pytorch-lightning         1.0.3                    pypi_0    pypi\n",
      "pytraj                    2.0.5                    pypi_0    pypi\n",
      "pytz                      2020.1             pyh9f0ad1d_0    conda-forge\n",
      "pyyaml                    5.3.1            py37hb5d75c8_1    conda-forge\n",
      "pyzmq                     19.0.2           py37hac76be4_2    conda-forge\n",
      "rdflib                    5.0.0                    pypi_0    pypi\n",
      "rdkit                     2020.09.1        py37h0c252aa_0    conda-forge\n",
      "readline                  8.0                  he28a2e2_2    conda-forge\n",
      "regex                     2020.10.23               pypi_0    pypi\n",
      "requests                  2.24.0             pyh9f0ad1d_0    conda-forge\n",
      "requests-oauthlib         1.3.0                    pypi_0    pypi\n",
      "rfc3987                   1.3.8                    pypi_0    pypi\n",
      "rsa                       4.6                      pypi_0    pypi\n",
      "sander                    16.0                     pypi_0    pypi\n",
      "scikit-learn              0.23.2           py37hbb8adca_1    conda-forge\n",
      "scipy                     1.5.2            py37hf97831b_2    conda-forge\n",
      "seaborn                   0.11.0                        0    conda-forge\n",
      "seaborn-base              0.11.0                     py_0    conda-forge\n",
      "send2trash                1.5.0                      py_0    conda-forge\n",
      "setuptools                49.6.0           py37he5f6b98_2    conda-forge\n",
      "simplejson                3.17.2                   pypi_0    pypi\n",
      "six                       1.15.0             pyh9f0ad1d_0    conda-forge\n",
      "sklearn-pytorch           0.1.0                    pypi_0    pypi\n",
      "smirnoff99frosst          1.1.0                    py37_1    omnia\n",
      "smmap                     3.0.4                    pypi_0    pypi\n",
      "snowballstemmer           2.0.0                    pypi_0    pypi\n",
      "sphinx                    3.2.1                    pypi_0    pypi\n",
      "sphinxcontrib-applehelp   1.0.2                    pypi_0    pypi\n",
      "sphinxcontrib-devhelp     1.0.2                    pypi_0    pypi\n",
      "sphinxcontrib-htmlhelp    1.0.3                    pypi_0    pypi\n",
      "sphinxcontrib-jsmath      1.0.1                    pypi_0    pypi\n",
      "sphinxcontrib-qthelp      1.0.3                    pypi_0    pypi\n",
      "sphinxcontrib-serializinghtml 1.1.4                    pypi_0    pypi\n",
      "sqlite                    3.33.0               h4cf870e_1    conda-forge\n",
      "statsmodels               0.12.0           py37h161383b_1    conda-forge\n",
      "strict-rfc3339            0.7                      pypi_0    pypi\n",
      "swagger-spec-validator    2.7.3                    pypi_0    pypi\n",
      "tensorboard               2.3.0                    pypi_0    pypi\n",
      "tensorboard-plugin-wit    1.7.0                    pypi_0    pypi\n",
      "terminado                 0.9.1            py37hc8dfbb8_1    conda-forge\n",
      "testpath                  0.4.4                      py_0    conda-forge\n",
      "threadpoolctl             2.1.0              pyh5ca1d4c_0    conda-forge\n",
      "tk                        8.6.10               hed695b0_1    conda-forge\n",
      "toml                      0.10.1             pyh9f0ad1d_0    conda-forge\n",
      "torch-cluster             1.5.7                    pypi_0    pypi\n",
      "torch-geometric           1.6.1                    pypi_0    pypi\n",
      "torch-scatter             2.0.5                    pypi_0    pypi\n",
      "torch-sparse              0.6.7                    pypi_0    pypi\n",
      "torch-spline-conv         1.2.0                    pypi_0    pypi\n",
      "torchvision               0.7.0                py37_cu102    pytorch\n",
      "tornado                   6.0.4            py37h8f50634_2    conda-forge\n",
      "tqdm                      4.51.0             pyh9f0ad1d_0    conda-forge\n",
      "traitlets                 5.0.5                      py_0    conda-forge\n",
      "typed-ast                 1.4.1                    pypi_0    pypi\n",
      "typing-extensions         3.7.4.3                  pypi_0    pypi\n",
      "urllib3                   1.25.11                    py_0    conda-forge\n",
      "watermark                 2.0.2                      py_0    conda-forge\n",
      "wcwidth                   0.2.5              pyh9f0ad1d_2    conda-forge\n",
      "webcolors                 1.11.1                   pypi_0    pypi\n",
      "webencodings              0.5.1                      py_1    conda-forge\n",
      "werkzeug                  1.0.1                    pypi_0    pypi\n",
      "wheel                     0.35.1             pyh9f0ad1d_0    conda-forge\n",
      "widgetsnbextension        3.5.1            py37hc8dfbb8_4    conda-forge\n",
      "wrapt                     1.12.1                   pypi_0    pypi\n",
      "xgboost                   1.2.0            py37h3340039_0    conda-forge\n",
      "xmltodict                 0.12.0                     py_0    conda-forge\n",
      "xorg-kbproto              1.0.7             h14c3975_1002    conda-forge\n",
      "xorg-libice               1.0.10               h516909a_0    conda-forge\n",
      "xorg-libsm                1.2.3             h84519dc_1000    conda-forge\n",
      "xorg-libx11               1.6.12               h516909a_0    conda-forge\n",
      "xorg-libxau               1.0.9                h14c3975_0    conda-forge\n",
      "xorg-libxdmcp             1.1.3                h516909a_0    conda-forge\n",
      "xorg-libxext              1.3.4                h516909a_0    conda-forge\n",
      "xorg-libxrender           0.9.10            h516909a_1002    conda-forge\n",
      "xorg-libxt                1.2.0                h516909a_0    conda-forge\n",
      "xorg-renderproto          0.11.1            h14c3975_1002    conda-forge\n",
      "xorg-xextproto            7.3.0             h14c3975_1002    conda-forge\n",
      "xorg-xproto               7.0.31            h14c3975_1007    conda-forge\n",
      "xz                        5.2.5                h516909a_1    conda-forge\n",
      "yaml                      0.2.5                h516909a_0    conda-forge\n",
      "zeromq                    4.3.3                he1b5a44_2    conda-forge\n",
      "zipp                      3.4.0                      py_0    conda-forge\n",
      "zlib                      1.2.11            h516909a_1010    conda-forge\n",
      "zstd                      1.4.5                h6597ccf_2    conda-forge\n",
      "\n"
     ]
    }
   ],
   "source": [
    "from kinoml.utils import watermark\n",
    "watermark()"
   ]
  }
 ],
 "metadata": {
  "kernelspec": {
   "display_name": "Python 3",
   "language": "python",
   "name": "python3"
  },
  "language_info": {
   "codemirror_mode": {
    "name": "ipython",
    "version": 3
   },
   "file_extension": ".py",
   "mimetype": "text/x-python",
   "name": "python",
   "nbconvert_exporter": "python",
   "pygments_lexer": "ipython3",
   "version": "3.7.8"
  }
 },
 "nbformat": 4,
 "nbformat_minor": 4
}
