{
 "cells": [
  {
   "cell_type": "markdown",
   "metadata": {},
   "source": [
    "# Run the XGBoost model\n",
    "\n",
    "First, we have to create the XGBoost objects out of the NPZ files. NPZ files behave like dictionaries of arrays. In our case, they contain two keys:\n",
    "\n",
    "- `X`: the featurized systems\n",
    "- `y`: the associated measurements\n",
    "\n",
    "We can pass those dict-like arrays to an adapter class for Torch Datasets, which will be ingested by the DataLoaders. We also need the corresponding observation models."
   ]
  },
  {
   "cell_type": "code",
   "execution_count": 1,
   "metadata": {},
   "outputs": [],
   "source": [
    "%load_ext autoreload\n",
    "%autoreload 2"
   ]
  },
  {
   "cell_type": "code",
   "execution_count": 2,
   "metadata": {},
   "outputs": [],
   "source": [
    "DATASET = \"PKIS2\"\n",
    "N_ESTIMATORS = 100\n",
    "N_SPLITS = 5\n",
    "ITEMS_PER_ROW = 3"
   ]
  },
  {
   "cell_type": "code",
   "execution_count": 3,
   "metadata": {},
   "outputs": [],
   "source": [
    "MEASUREMENT_TYPES = {\n",
    "    \"ChEMBL\": [\"pKiMeasurement\", \"pIC50Measurement\", \"pKdMeasurement\"],\n",
    "    \"PKIS2\": [\"PercentageDisplacementMeasurement\"]\n",
    "}[DATASET]\n",
    "\n",
    "ONE_KINASE = {\n",
    "    \"ChEMBL\": \"P35968\",\n",
    "    \"PKIS2\": \"ABL2\",\n",
    "}[DATASET]"
   ]
  },
  {
   "cell_type": "code",
   "execution_count": 4,
   "metadata": {},
   "outputs": [
    {
     "data": {
      "application/vnd.jupyter.widget-view+json": {
       "model_id": "e6a81599ddf24c00b71c0e58a8c571f9",
       "version_major": 2,
       "version_minor": 0
      },
      "text/plain": []
     },
     "metadata": {},
     "output_type": "display_data"
    },
    {
     "name": "stdout",
     "output_type": "stream",
     "text": [
      "Reporting results at path: /home/jaime/devel/py/openkinome/experiments-binding-affinity/ligand-based/MorganFingerprint/XGB/_output/PKIS2/1605006844\n"
     ]
    }
   ],
   "source": [
    "from pathlib import Path\n",
    "from collections import defaultdict\n",
    "import numpy as np\n",
    "import shutil\n",
    "import time\n",
    "\n",
    "from kinoml.utils import seed_everything\n",
    "from kinoml.core import measurements as measurement_types\n",
    "\n",
    "HERE = Path(_dh[-1])\n",
    "_trial = 0\n",
    "OUT = HERE / \"_output\" / DATASET / f\"{time.time():.0f}\"\n",
    "OUT.mkdir(parents=True, exist_ok=True)\n",
    "print(\"Reporting results at path:\", OUT)\n",
    "# Fix the seed for reproducible random splits -- otherwise we get mixed train/test groups every time, biasing the model evaluation\n",
    "seed_everything()"
   ]
  },
  {
   "cell_type": "markdown",
   "metadata": {},
   "source": [
    "## Load featurized data and create observation models"
   ]
  },
  {
   "cell_type": "code",
   "execution_count": 5,
   "metadata": {},
   "outputs": [],
   "source": [
    "datasets = defaultdict(dict)\n",
    "for npz in HERE.glob(f\"../_output/{DATASET}__*.npz\"):\n",
    "    _, kinase, measurement_type = str(npz.stem).split(\"__\")\n",
    "    datasets[kinase][measurement_type] = ds = np.load(npz)"
   ]
  },
  {
   "cell_type": "code",
   "execution_count": 11,
   "metadata": {},
   "outputs": [
    {
     "data": {
      "text/plain": [
       "{'PercentageDisplacementMeasurement': <function kinoml.core.measurements.PercentageDisplacementMeasurement._loss_adapter_xgboost__mse(labels, dG_over_KT, inhibitor_conc=1, standard_conc=1, **kwargs)>}"
      ]
     },
     "execution_count": 11,
     "metadata": {},
     "output_type": "execute_result"
    }
   ],
   "source": [
    "obs_models = {k: getattr(measurement_types, k).observation_model(backend=\"numpy\") for k in MEASUREMENT_TYPES}\n",
    "objectives = {k: getattr(measurement_types, k).loss_adapter(backend=\"xgboost\", loss=\"mse\") for k in MEASUREMENT_TYPES}\n",
    "objectives"
   ]
  },
  {
   "cell_type": "markdown",
   "metadata": {},
   "source": [
    "Now that we have all the data-dependent objects, we can start with the model-specific definitions."
   ]
  },
  {
   "cell_type": "markdown",
   "metadata": {},
   "source": [
    "## Train the model"
   ]
  },
  {
   "cell_type": "code",
   "execution_count": 14,
   "metadata": {},
   "outputs": [],
   "source": [
    "from xgboost import XGBRegressor\n",
    "import pandas as pd\n",
    "from sklearn.model_selection import KFold\n",
    "from kinoml.analysis.plots import predicted_vs_observed\n",
    "from kinoml.analysis.metrics import performance\n",
    "from ipywidgets import HBox, VBox, Output, HTML\n",
    "from matplotlib import pyplot as plt"
   ]
  },
  {
   "cell_type": "code",
   "execution_count": 18,
   "metadata": {},
   "outputs": [
    {
     "data": {
      "application/vnd.jupyter.widget-view+json": {
       "model_id": "2ca93a1ef2c2466eae8cf0aeb7915f50",
       "version_major": 2,
       "version_minor": 0
      },
      "text/plain": [
       "HTML(value='<h3>PercentageDisplacementMeasurement</h3>')"
      ]
     },
     "metadata": {},
     "output_type": "display_data"
    },
    {
     "name": "stderr",
     "output_type": "stream",
     "text": [
      "/home/jaime/.conda/envs/kinoml-ci/lib/python3.7/site-packages/xgboost/sklearn.py:390: UserWarning: objective is not saved in Scikit-Learn meta.\n",
      "  warnings.warn(str(k) + ' is not saved in Scikit-Learn meta.')\n",
      "/home/jaime/.conda/envs/kinoml-ci/lib/python3.7/site-packages/xgboost/sklearn.py:390: UserWarning: objective is not saved in Scikit-Learn meta.\n",
      "  warnings.warn(str(k) + ' is not saved in Scikit-Learn meta.')\n",
      "/home/jaime/.conda/envs/kinoml-ci/lib/python3.7/site-packages/xgboost/sklearn.py:390: UserWarning: objective is not saved in Scikit-Learn meta.\n",
      "  warnings.warn(str(k) + ' is not saved in Scikit-Learn meta.')\n",
      "/home/jaime/.conda/envs/kinoml-ci/lib/python3.7/site-packages/xgboost/sklearn.py:390: UserWarning: objective is not saved in Scikit-Learn meta.\n",
      "  warnings.warn(str(k) + ' is not saved in Scikit-Learn meta.')\n",
      "/home/jaime/.conda/envs/kinoml-ci/lib/python3.7/site-packages/xgboost/sklearn.py:390: UserWarning: objective is not saved in Scikit-Learn meta.\n",
      "  warnings.warn(str(k) + ' is not saved in Scikit-Learn meta.')\n"
     ]
    },
    {
     "data": {
      "application/vnd.jupyter.widget-view+json": {
       "model_id": "18c38bed84fd4854a2a9ea848bba3faf",
       "version_major": 2,
       "version_minor": 0
      },
      "text/plain": [
       "VBox(children=(HBox(children=(Output(), Output(), Output())), HBox(children=(Output(), Output(), Output()))))"
      ]
     },
     "metadata": {},
     "output_type": "display_data"
    },
    {
     "data": {
      "application/vnd.jupyter.widget-view+json": {
       "model_id": "223ef24184204bc4a253b75d1615568e",
       "version_major": 2,
       "version_minor": 0
      },
      "text/plain": [
       "HTML(value='Average across folds:')"
      ]
     },
     "metadata": {},
     "output_type": "display_data"
    },
    {
     "data": {
      "text/html": [
       "<div>\n",
       "<style scoped>\n",
       "    .dataframe tbody tr th:only-of-type {\n",
       "        vertical-align: middle;\n",
       "    }\n",
       "\n",
       "    .dataframe tbody tr th {\n",
       "        vertical-align: top;\n",
       "    }\n",
       "\n",
       "    .dataframe thead th {\n",
       "        text-align: right;\n",
       "    }\n",
       "</style>\n",
       "<table border=\"1\" class=\"dataframe\">\n",
       "  <thead>\n",
       "    <tr style=\"text-align: right;\">\n",
       "      <th></th>\n",
       "      <th>mae</th>\n",
       "      <th>mse</th>\n",
       "      <th>r2</th>\n",
       "      <th>rmse</th>\n",
       "    </tr>\n",
       "  </thead>\n",
       "  <tbody>\n",
       "    <tr>\n",
       "      <th>mean</th>\n",
       "      <td>14.637787</td>\n",
       "      <td>805.334070</td>\n",
       "      <td>-0.391336</td>\n",
       "      <td>24.049429</td>\n",
       "    </tr>\n",
       "    <tr>\n",
       "      <th>std</th>\n",
       "      <td>7.909544</td>\n",
       "      <td>482.311536</td>\n",
       "      <td>0.289459</td>\n",
       "      <td>13.125641</td>\n",
       "    </tr>\n",
       "  </tbody>\n",
       "</table>\n",
       "</div>"
      ],
      "text/plain": [
       "            mae         mse        r2       rmse\n",
       "mean  14.637787  805.334070 -0.391336  24.049429\n",
       "std    7.909544  482.311536  0.289459  13.125641"
      ]
     },
     "metadata": {},
     "output_type": "display_data"
    }
   ],
   "source": [
    "for mtype in MEASUREMENT_TYPES:\n",
    "    display(HTML(f\"<h3>{mtype}</h3>\"))\n",
    "    \n",
    "    kfold = KFold(n_splits=N_SPLITS)\n",
    "    mtype_class = getattr(measurement_types, mtype)\n",
    "    X = datasets[ONE_KINASE][mtype][\"X\"]\n",
    "    y = datasets[ONE_KINASE][mtype][\"y\"]\n",
    "\n",
    "    plots, metrics = [], []\n",
    "    for fold, (train, test) in enumerate(kfold.split(X)):\n",
    "        model = XGBRegressor(n_estimators=N_ESTIMATORS, objective=objectives[mtype])\n",
    "        model.fit(X[train], y[train])\n",
    "        delta_g_over_kt = model.predict(X[test])\n",
    "        predicted = obs_models[mtype](delta_g_over_kt)\n",
    "        observed = y[test]\n",
    "        output = Output()\n",
    "        with output:\n",
    "            title = f\"{mtype} (test={observed.shape[0]}), fold={fold}\"\n",
    "            print(title)\n",
    "            print(\"-\"*(len(title)))\n",
    "            display(predicted_vs_observed(prediction, observed, mtype_class, n_boot=100, sample_ratio=0.75))\n",
    "            metrics.append(performance(prediction, observed))\n",
    "        plots.append(output)\n",
    "        model.save_model(OUT / f\"XGBRegressor__fold{fold}.model\")\n",
    "\n",
    "    # Fill with empty objects until the next multiple of ITEMS_PER_ROW\n",
    "    for _ in range((ITEMS_PER_ROW - (N_SPLITS % ITEMS_PER_ROW)) % ITEMS_PER_ROW):\n",
    "        plots.append(Output())\n",
    "\n",
    "    # Plot in ITEMS_PER_ROW-column table\n",
    "    display(VBox([HBox(row) for row in np.reshape(plots, (-1, ITEMS_PER_ROW)).tolist()]))\n",
    "\n",
    "    # Average performances\n",
    "    average = {}\n",
    "    for key in metrics[0]:\n",
    "        values =  [fold[key] for fold in metrics]\n",
    "        average[key] = {\n",
    "            \"mean\": np.mean(values),\n",
    "            \"std\": np.std(values)\n",
    "        }\n",
    "    display(HTML(\"Average across folds:\"))\n",
    "    display(pd.DataFrame.from_dict(average))"
   ]
  },
  {
   "cell_type": "code",
   "execution_count": 9,
   "metadata": {},
   "outputs": [
    {
     "name": "stdout",
     "output_type": "stream",
     "text": [
      "Watermark\n",
      "---------\n",
      "pandas 1.1.3\n",
      "numpy  1.19.2\n",
      "last updated: 2020-11-10 12:14:09 CET 2020-11-10T12:14:09+01:00\n",
      "\n",
      "CPython 3.7.8\n",
      "IPython 7.18.1\n",
      "\n",
      "compiler   : GCC 7.5.0\n",
      "system     : Linux\n",
      "release    : 4.19.128-microsoft-standard\n",
      "machine    : x86_64\n",
      "processor  : x86_64\n",
      "CPU cores  : 8\n",
      "interpreter: 64bit\n",
      "host name  : jrodriguez\n",
      "Git hash   : ca22362209f451ea3674b423bfd2ca018a82e913\n",
      "watermark 2.0.2\n",
      "\n",
      "conda\n",
      "-----\n",
      "sys.version: 3.7.6 | packaged by conda-forge | (defau...\n",
      "sys.prefix: /opt/miniconda\n",
      "sys.executable: /opt/miniconda/bin/python\n",
      "conda location: /opt/miniconda/lib/python3.7/site-packages/conda\n",
      "conda-build: /opt/miniconda/bin/conda-build\n",
      "conda-convert: /opt/miniconda/bin/conda-convert\n",
      "conda-debug: /opt/miniconda/bin/conda-debug\n",
      "conda-develop: /opt/miniconda/bin/conda-develop\n",
      "conda-env: /opt/miniconda/bin/conda-env\n",
      "conda-index: /opt/miniconda/bin/conda-index\n",
      "conda-inspect: /opt/miniconda/bin/conda-inspect\n",
      "conda-metapackage: /opt/miniconda/bin/conda-metapackage\n",
      "conda-render: /opt/miniconda/bin/conda-render\n",
      "conda-server: /opt/miniconda/bin/conda-server\n",
      "conda-skeleton: /opt/miniconda/bin/conda-skeleton\n",
      "conda-smithy: /opt/miniconda/bin/conda-smithy\n",
      "user site dirs: ~/.local/lib/python3.8\n",
      "\n",
      "CIO_TEST: <not set>\n",
      "CONDA_DEFAULT_ENV: kinoml-ci\n",
      "CONDA_EXE: /opt/miniconda/bin/conda\n",
      "CONDA_PREFIX: /home/jaime/.conda/envs/kinoml-ci\n",
      "CONDA_PREFIX_1: /opt/miniconda\n",
      "CONDA_PROMPT_MODIFIER: (kinoml-ci) \n",
      "CONDA_PYTHON_EXE: /opt/miniconda/bin/python\n",
      "CONDA_ROOT: /opt/miniconda\n",
      "CONDA_SHLVL: 2\n",
      "CURL_CA_BUNDLE: <not set>\n",
      "PATH: /home/jaime/.conda/envs/kinoml-ci/bin:/opt/miniconda/condabin:/home/jaime/.local/bin:/usr/local/sbin:/usr/local/bin:/usr/sbin:/usr/bin:/sbin:/bin:/usr/games:/usr/local/games:/mnt/c/Program Files/NVIDIA GPU Computing Toolkit/CUDA/v11.0/bin:/mnt/c/Program Files/NVIDIA GPU Computing Toolkit/CUDA/v11.0/libnvvp:/mnt/c/Program Files/NVIDIA GPU Computing Toolkit/CUDA/v10.1/bin:/mnt/c/Program Files/NVIDIA GPU Computing Toolkit/CUDA/v10.1/libnvvp:/mnt/c/Windows/system32:/mnt/c/Windows:/mnt/c/Windows/System32/Wbem:/mnt/c/Windows/System32/WindowsPowerShell/v1.0:/mnt/c/Windows/System32/OpenSSH:/mnt/c/Program Files (x86)/NVIDIA Corporation/PhysX/Common:/mnt/c/WINDOWS/system32:/mnt/c/WINDOWS:/mnt/c/WINDOWS/System32/Wbem:/mnt/c/WINDOWS/System32/WindowsPowerShell/v1.0:/mnt/c/WINDOWS/System32/OpenSSH:/mnt/c/Program Files (x86)/Windows Kits/10/Windows Performance Toolkit:/mnt/c/Program Files/Intel/WiFi/bin:/mnt/c/Program Files/Common Files/Intel/WirelessCommon:/mnt/c/Android:/mnt/c/Program Files (x86)/Intel/Intel(R) Management Engine Components/DAL:/mnt/c/Program Files/Intel/Intel(R) Management Engine Components/DAL:/mnt/c/Program Files/Docker/Docker/resources/bin:/mnt/c/ProgramData/DockerDesktop/version-bin:/mnt/c/Program Files/NVIDIA Corporation/Nsight Compute 2020.1.2:/mnt/c/WINDOWS/system32:/mnt/c/WINDOWS:/mnt/c/WINDOWS/System32/Wbem:/mnt/c/WINDOWS/System32/WindowsPowerShell/v1.0:/mnt/c/WINDOWS/System32/OpenSSH:/mnt/c/Users/Jaime/AppData/Local/Microsoft/WindowsApps:/mnt/c/Users/Jaime/AppData/Local/Programs/Microsoft VS Code/bin:/mnt/c/Program Files (x86)/mingw-w64/i686-8.1.0-posix-dwarf-rt_v6-rev0/mingw32/bin:/mnt/c/G09W:/mnt/c/Program Files (x86)/FAHClient:/mnt/c/Program Files/7-Zip:/mnt/c/Users/Jaime/AppData/Local/atom/bin:/mnt/c/Users/Jaime/AppData/Local/Microsoft/WindowsApps\n",
      "PYTHONHASHSEED: 1234\n",
      "REQUESTS_CA_BUNDLE: <not set>\n",
      "SSL_CERT_FILE: <not set>\n",
      "\n",
      "\n",
      "# packages in environment at /home/jaime/.conda/envs/kinoml-ci:\n",
      "#\n",
      "# Name                    Version                   Build  Channel\n",
      "_libgcc_mutex             0.1                 conda_forge    conda-forge\n",
      "_openmp_mutex             4.5                       1_gnu    conda-forge\n",
      "_py-xgboost-mutex         2.0                       cpu_0    conda-forge\n",
      "absl-py                   0.10.0                   pypi_0    pypi\n",
      "alabaster                 0.7.12                   pypi_0    pypi\n",
      "amberlite                 16.0                     pypi_0    pypi\n",
      "ambertools                20.9                     pypi_0    pypi\n",
      "appdirs                   1.4.4              pyh9f0ad1d_0    conda-forge\n",
      "argon2-cffi               20.1.0           py37h8f50634_2    conda-forge\n",
      "arpack                    3.7.0                hc6cf775_2    conda-forge\n",
      "ase                       3.20.1                   pypi_0    pypi\n",
      "astroid                   2.4.2                    pypi_0    pypi\n",
      "async_generator           1.10                       py_0    conda-forge\n",
      "attrs                     20.2.0             pyh9f0ad1d_0    conda-forge\n",
      "babel                     2.8.0                    pypi_0    pypi\n",
      "backcall                  0.2.0              pyh9f0ad1d_0    conda-forge\n",
      "backports                 1.0                        py_2    conda-forge\n",
      "backports.functools_lru_cache 1.6.1                      py_0    conda-forge\n",
      "biopandas                 0.2.7                    pypi_0    pypi\n",
      "biopython                 1.78             py37h8f50634_1    conda-forge\n",
      "black                     20.8b1                   pypi_0    pypi\n",
      "blas                      1.0                         mkl    conda-forge\n",
      "bleach                    3.2.1              pyh9f0ad1d_0    conda-forge\n",
      "boost                     1.74.0           py37h48f8a5e_1    conda-forge\n",
      "boost-cpp                 1.74.0               h9359b55_0    conda-forge\n",
      "bravado                   11.0.2                   pypi_0    pypi\n",
      "bravado-core              5.17.0                   pypi_0    pypi\n",
      "brotlipy                  0.7.0           py37hb5d75c8_1001    conda-forge\n",
      "bson                      0.5.9                      py_0    conda-forge\n",
      "bzip2                     1.0.8                h516909a_3    conda-forge\n",
      "c-ares                    1.16.1               h516909a_3    conda-forge\n",
      "ca-certificates           2020.10.14                    0  \n",
      "cachetools                4.1.1                    pypi_0    pypi\n",
      "cairo                     1.16.0            h488836b_1006    conda-forge\n",
      "certifi                   2020.6.20        py37he5f6b98_2    conda-forge\n",
      "cffi                      1.14.3           py37h00ebd2e_1    conda-forge\n",
      "cftime                    1.2.1            py37h161383b_1    conda-forge\n",
      "chardet                   3.0.4           py37he5f6b98_1008    conda-forge\n",
      "click                     7.1.2                    pypi_0    pypi\n",
      "codecov                   2.1.10             pyh9f0ad1d_0    conda-forge\n",
      "coverage                  5.3              py37h8f50634_1    conda-forge\n",
      "cryptography              3.1.1            py37hff6837a_1    conda-forge\n",
      "cudatoolkit               10.2.89              hfd86e86_1  \n",
      "curl                      7.71.1               he644dc0_8    conda-forge\n",
      "cycler                    0.10.0                     py_2    conda-forge\n",
      "cython                    0.29.21          py37hb892b2f_1    conda-forge\n",
      "decorator                 4.4.2                      py_0    conda-forge\n",
      "defusedxml                0.6.0                      py_0    conda-forge\n",
      "docutils                  0.16                     pypi_0    pypi\n",
      "entrypoints               0.3             py37hc8dfbb8_1002    conda-forge\n",
      "fftw                      3.3.8           nompi_h7f3a6c3_1112    conda-forge\n",
      "fftw3f                    3.3.4                         2    omnia\n",
      "fontconfig                2.13.1            h1056068_1002    conda-forge\n",
      "freetype                  2.10.4               he06d7ca_0    conda-forge\n",
      "fsspec                    0.8.4                    pypi_0    pypi\n",
      "future                    0.18.2                   pypi_0    pypi\n",
      "gettext                   0.19.8.1          hf34092f_1004    conda-forge\n",
      "gitdb                     4.0.5                    pypi_0    pypi\n",
      "gitpython                 3.1.11                   pypi_0    pypi\n",
      "google-auth               1.22.1                   pypi_0    pypi\n",
      "google-auth-oauthlib      0.4.1                    pypi_0    pypi\n",
      "googledrivedownloader     0.4                      pypi_0    pypi\n",
      "griddataformats           0.5.0                      py_0    conda-forge\n",
      "grpcio                    1.33.1                   pypi_0    pypi\n",
      "gsd                       2.2.0            py37h161383b_1    conda-forge\n",
      "h5py                      2.10.0                   pypi_0    pypi\n",
      "hdf4                      4.2.13            hf30be14_1003    conda-forge\n",
      "hdf5                      1.10.6          nompi_h54c07f9_1110    conda-forge\n",
      "hdf5-1820                 1.8.20                        0    omnia\n",
      "htmlmin                   0.1.12                   pypi_0    pypi\n",
      "icu                       67.1                 he1b5a44_0    conda-forge\n",
      "idna                      2.10               pyh9f0ad1d_0    conda-forge\n",
      "imagesize                 1.2.0                    pypi_0    pypi\n",
      "importlib-metadata        2.0.0            py37hc8dfbb8_0    conda-forge\n",
      "importlib_metadata        2.0.0                         1    conda-forge\n",
      "importlib_resources       3.2.0            py37hc8dfbb8_0    conda-forge\n",
      "iniconfig                 1.1.1              pyh9f0ad1d_0    conda-forge\n",
      "intel-openmp              2020.2                      254  \n",
      "ipykernel                 5.3.4            py37hc6149b9_1    conda-forge\n",
      "ipython                   7.18.1           py37hc6149b9_1    conda-forge\n",
      "ipython_genutils          0.2.0                      py_1    conda-forge\n",
      "ipywidgets                7.5.1              pyh9f0ad1d_1    conda-forge\n",
      "isodate                   0.6.0                    pypi_0    pypi\n",
      "isort                     5.6.4                    pypi_0    pypi\n",
      "jedi                      0.17.2           py37hc8dfbb8_1    conda-forge\n",
      "jinja2                    2.11.2             pyh9f0ad1d_0    conda-forge\n",
      "joblib                    0.17.0                     py_0    conda-forge\n",
      "jpeg                      9d                   h516909a_0    conda-forge\n",
      "jsmin                     2.2.2                    pypi_0    pypi\n",
      "json5                     0.9.5              pyh9f0ad1d_0    conda-forge\n",
      "jsonpointer               2.0                      pypi_0    pypi\n",
      "jsonref                   0.2                      pypi_0    pypi\n",
      "jsonschema                3.2.0            py37hc8dfbb8_1    conda-forge\n",
      "jupyter_client            6.1.7                      py_0    conda-forge\n",
      "jupyter_core              4.6.3            py37hc8dfbb8_2    conda-forge\n",
      "jupyterlab                2.2.9                      py_0    conda-forge\n",
      "jupyterlab_pygments       0.1.2              pyh9f0ad1d_0    conda-forge\n",
      "jupyterlab_server         1.2.0                      py_0    conda-forge\n",
      "kinoml                    0+untagged.323.g6373931.dirty           dev_0    <develop>\n",
      "kiwisolver                1.2.0            py37h99015e2_1    conda-forge\n",
      "klifs-utils               0+unknown                pypi_0    pypi\n",
      "krb5                      1.17.1               hfafb76e_3    conda-forge\n",
      "lazy-object-proxy         1.4.3                    pypi_0    pypi\n",
      "lcms2                     2.11                 hbd6801e_0    conda-forge\n",
      "ld_impl_linux-64          2.35                 h769bd43_9    conda-forge\n",
      "libblas                   3.9.0           1_h6e990d7_netlib    conda-forge\n",
      "libcblas                  3.9.0           2_h6e990d7_netlib    conda-forge\n",
      "libcurl                   7.71.1               hcdd3856_8    conda-forge\n",
      "libedit                   3.1.20191231         he28a2e2_2    conda-forge\n",
      "libev                     4.33                 h516909a_1    conda-forge\n",
      "libffi                    3.2.1             he1b5a44_1007    conda-forge\n",
      "libgcc-ng                 9.3.0               h5dbcf3e_17    conda-forge\n",
      "libgfortran-ng            7.5.0               hae1eefd_17    conda-forge\n",
      "libgfortran4              7.5.0               hae1eefd_17    conda-forge\n",
      "libglib                   2.66.2               h0dae87d_0    conda-forge\n",
      "libgomp                   9.3.0               h5dbcf3e_17    conda-forge\n",
      "libiconv                  1.16                 h516909a_0    conda-forge\n",
      "liblapack                 3.9.0           2_h6e990d7_netlib    conda-forge\n",
      "libnetcdf                 4.7.4           nompi_hefab0ff_106    conda-forge\n",
      "libnghttp2                1.41.0               h8cfc5f6_2    conda-forge\n",
      "libpng                    1.6.37               hed695b0_2    conda-forge\n",
      "libsodium                 1.0.18               h516909a_1    conda-forge\n",
      "libssh2                   1.9.0                hab1572f_5    conda-forge\n",
      "libstdcxx-ng              9.3.0               h2ae2ef3_17    conda-forge\n",
      "libtiff                   4.1.0                hc7e4089_6    conda-forge\n",
      "libuuid                   2.32.1            h14c3975_1000    conda-forge\n",
      "libwebp-base              1.1.0                h516909a_3    conda-forge\n",
      "libxcb                    1.13              h14c3975_1002    conda-forge\n",
      "libxgboost                1.2.0                he1b5a44_0    conda-forge\n",
      "libxml2                   2.9.10               h68273f3_2    conda-forge\n",
      "livereload                2.6.3                    pypi_0    pypi\n",
      "llvmlite                  0.34.0                   pypi_0    pypi\n",
      "lz4-c                     1.9.2                he1b5a44_3    conda-forge\n",
      "markdown                  3.3.3                    pypi_0    pypi\n",
      "markupsafe                1.1.1            py37hb5d75c8_2    conda-forge\n",
      "matplotlib-base           3.3.2            py37hc9afd2a_1    conda-forge\n",
      "mccabe                    0.6.1                    pypi_0    pypi\n",
      "mdanalysis                1.0.0            py37h3340039_0    conda-forge\n",
      "mistune                   0.8.4           py37h8f50634_1002    conda-forge\n",
      "mkdocs                    1.0.4                    pypi_0    pypi\n",
      "mkdocs-git-revision-date-localized-plugin 0.5.0                    pypi_0    pypi\n",
      "mkdocs-material           4.6.3                    pypi_0    pypi\n",
      "mkdocs-minify-plugin      0.2.3                    pypi_0    pypi\n",
      "mkdocstrings              0.7.1                    pypi_0    pypi\n",
      "mkl                       2020.2                      256  \n",
      "mmpbsa-py                 16.0                     pypi_0    pypi\n",
      "mmtf-python               1.1.2                      py_0    conda-forge\n",
      "modeller                  9.20                     py37_1    omnia\n",
      "monotonic                 1.5                      pypi_0    pypi\n",
      "more-itertools            8.5.0                      py_0    conda-forge\n",
      "msgpack-python            1.0.0            py37h99015e2_2    conda-forge\n",
      "mypy-extensions           0.4.3                    pypi_0    pypi\n",
      "nbclient                  0.5.1                      py_0    conda-forge\n",
      "nbconvert                 6.0.7            py37hc8dfbb8_2    conda-forge\n",
      "nbformat                  5.0.8                      py_0    conda-forge\n",
      "ncurses                   6.2                  he1b5a44_2    conda-forge\n",
      "nest-asyncio              1.4.1                      py_0    conda-forge\n",
      "netcdf-fortran            4.5.3           nompi_hfef6a68_101    conda-forge\n",
      "netcdf4                   1.5.4           nompi_py37hcbfd489_103    conda-forge\n",
      "networkx                  2.5                        py_0    conda-forge\n",
      "nglview                   2.7.7              pyh5ca1d4c_1    conda-forge\n",
      "ninja                     1.10.1               hfc4b9b4_2    conda-forge\n",
      "notebook                  6.1.4            py37hc8dfbb8_1    conda-forge\n",
      "numba                     0.51.2                   pypi_0    pypi\n",
      "numpy                     1.19.2           py37h7008fea_1    conda-forge\n",
      "oauthlib                  3.1.0                    pypi_0    pypi\n",
      "olefile                   0.46               pyh9f0ad1d_1    conda-forge\n",
      "openeye-toolkits          2020.1.0                 py37_0    openeye\n",
      "openforcefield            refs-pull-583-head          pypi_0    pypi\n",
      "openforcefields           1.3.0                      py_0    omnia\n",
      "openmm                    7.4.2           py37_cuda101_rc_1    omnia\n",
      "openssl                   1.1.1h               h516909a_0    conda-forge\n",
      "packaging                 20.4               pyh9f0ad1d_0    conda-forge\n",
      "packmol-memgen            1.1.0rc0                 pypi_0    pypi\n",
      "pandas                    1.1.3            py37hb33c840_2    conda-forge\n",
      "pandoc                    2.11.0.4             hd18ef5c_0    conda-forge\n",
      "pandocfilters             1.4.2                      py_1    conda-forge\n",
      "parmed                    at20RC5+54.g5702a232fe.dirty          pypi_0    pypi\n",
      "parso                     0.7.1              pyh9f0ad1d_0    conda-forge\n",
      "pathspec                  0.8.0                    pypi_0    pypi\n",
      "patsy                     0.5.1                      py_0    conda-forge\n",
      "pcre                      8.44                 he1b5a44_0    conda-forge\n",
      "pdb4amber                 1.7.dev0                 pypi_0    pypi\n",
      "perl                      5.30.3               h516909a_1    conda-forge\n",
      "pexpect                   4.8.0            py37hc8dfbb8_1    conda-forge\n",
      "pickleshare               0.7.5           py37hc8dfbb8_1002    conda-forge\n",
      "pillow                    8.0.1            py37h718be6c_0    conda-forge\n",
      "pint                      0.16.1                     py_0    conda-forge\n",
      "pip                       20.2.4                     py_0    conda-forge\n",
      "pixman                    0.38.0            h516909a_1003    conda-forge\n",
      "pluggy                    0.13.1           py37he5f6b98_3    conda-forge\n",
      "prody                     1.10.11                  pypi_0    pypi\n",
      "prometheus_client         0.8.0              pyh9f0ad1d_0    conda-forge\n",
      "prompt-toolkit            3.0.8                      py_0    conda-forge\n",
      "protobuf                  3.13.0                   pypi_0    pypi\n",
      "pthread-stubs             0.4               h14c3975_1001    conda-forge\n",
      "ptyprocess                0.6.0                 py37_1000    conda-forge\n",
      "py                        1.9.0              pyh9f0ad1d_0    conda-forge\n",
      "py-xgboost                1.2.0            py37hc8dfbb8_0    conda-forge\n",
      "pyasn1                    0.4.8                    pypi_0    pypi\n",
      "pyasn1-modules            0.2.8                    pypi_0    pypi\n",
      "pycairo                   1.20.0           py37h01af8b0_1    conda-forge\n",
      "pycparser                 2.20               pyh9f0ad1d_2    conda-forge\n",
      "pygments                  2.7.2                      py_0    conda-forge\n",
      "pylint                    2.6.0                    pypi_0    pypi\n",
      "pymdown-extensions        6.3                      pypi_0    pypi\n",
      "pyopenssl                 19.1.0                   py37_0    conda-forge\n",
      "pyparsing                 2.4.7              pyh9f0ad1d_0    conda-forge\n",
      "pyrsistent                0.17.3           py37h8f50634_1    conda-forge\n",
      "pysocks                   1.7.1            py37he5f6b98_2    conda-forge\n",
      "pytest                    6.1.1            py37he5f6b98_1    conda-forge\n",
      "pytest-cov                2.10.1             pyh9f0ad1d_0    conda-forge\n",
      "python                    3.7.8           h425cb1d_1_cpython    conda-forge\n",
      "python-dateutil           2.8.1                      py_0    conda-forge\n",
      "python_abi                3.7                     1_cp37m    conda-forge\n",
      "pytorch                   1.6.0           py3.7_cuda10.2.89_cudnn7.6.5_0    pytorch\n",
      "pytorch-lightning         1.0.4                    pypi_0    pypi\n",
      "pytraj                    2.0.5                    pypi_0    pypi\n",
      "pytz                      2020.1             pyh9f0ad1d_0    conda-forge\n",
      "pyyaml                    5.3.1            py37hb5d75c8_1    conda-forge\n",
      "pyzmq                     19.0.2           py37hac76be4_2    conda-forge\n",
      "rdflib                    5.0.0                    pypi_0    pypi\n",
      "rdkit                     2020.09.1        py37h0c252aa_0    conda-forge\n",
      "readline                  8.0                  he28a2e2_2    conda-forge\n",
      "regex                     2020.10.23               pypi_0    pypi\n",
      "requests                  2.24.0             pyh9f0ad1d_0    conda-forge\n",
      "requests-oauthlib         1.3.0                    pypi_0    pypi\n",
      "rfc3987                   1.3.8                    pypi_0    pypi\n",
      "rsa                       4.6                      pypi_0    pypi\n",
      "sander                    16.0                     pypi_0    pypi\n",
      "scikit-learn              0.23.2           py37hbb8adca_1    conda-forge\n",
      "scipy                     1.5.2            py37hf97831b_2    conda-forge\n",
      "seaborn                   0.11.0                        0    conda-forge\n",
      "seaborn-base              0.11.0                     py_0    conda-forge\n",
      "send2trash                1.5.0                      py_0    conda-forge\n",
      "setuptools                49.6.0           py37he5f6b98_2    conda-forge\n",
      "simplejson                3.17.2                   pypi_0    pypi\n",
      "six                       1.15.0             pyh9f0ad1d_0    conda-forge\n",
      "sklearn-pytorch           0.1.0                    pypi_0    pypi\n",
      "smirnoff99frosst          1.1.0                    py37_1    omnia\n",
      "smmap                     3.0.4                    pypi_0    pypi\n",
      "snowballstemmer           2.0.0                    pypi_0    pypi\n",
      "sphinx                    3.2.1                    pypi_0    pypi\n",
      "sphinxcontrib-applehelp   1.0.2                    pypi_0    pypi\n",
      "sphinxcontrib-devhelp     1.0.2                    pypi_0    pypi\n",
      "sphinxcontrib-htmlhelp    1.0.3                    pypi_0    pypi\n",
      "sphinxcontrib-jsmath      1.0.1                    pypi_0    pypi\n",
      "sphinxcontrib-qthelp      1.0.3                    pypi_0    pypi\n",
      "sphinxcontrib-serializinghtml 1.1.4                    pypi_0    pypi\n",
      "sqlite                    3.33.0               h4cf870e_1    conda-forge\n",
      "statsmodels               0.12.0           py37h161383b_1    conda-forge\n",
      "strict-rfc3339            0.7                      pypi_0    pypi\n",
      "swagger-spec-validator    2.7.3                    pypi_0    pypi\n",
      "tensorboard               2.3.0                    pypi_0    pypi\n",
      "tensorboard-plugin-wit    1.7.0                    pypi_0    pypi\n",
      "terminado                 0.9.1            py37hc8dfbb8_1    conda-forge\n",
      "testpath                  0.4.4                      py_0    conda-forge\n",
      "threadpoolctl             2.1.0              pyh5ca1d4c_0    conda-forge\n",
      "tk                        8.6.10               hed695b0_1    conda-forge\n",
      "toml                      0.10.1             pyh9f0ad1d_0    conda-forge\n",
      "torch-cluster             1.5.7                    pypi_0    pypi\n",
      "torch-geometric           1.6.1                    pypi_0    pypi\n",
      "torch-scatter             2.0.5                    pypi_0    pypi\n",
      "torch-sparse              0.6.7                    pypi_0    pypi\n",
      "torch-spline-conv         1.2.0                    pypi_0    pypi\n",
      "torchvision               0.7.0                py37_cu102    pytorch\n",
      "tornado                   6.0.4            py37h8f50634_2    conda-forge\n",
      "tqdm                      4.51.0             pyh9f0ad1d_0    conda-forge\n",
      "traitlets                 5.0.5                      py_0    conda-forge\n",
      "typed-ast                 1.4.1                    pypi_0    pypi\n",
      "typing-extensions         3.7.4.3                  pypi_0    pypi\n",
      "urllib3                   1.25.11                    py_0    conda-forge\n",
      "watermark                 2.0.2                      py_0    conda-forge\n",
      "wcwidth                   0.2.5              pyh9f0ad1d_2    conda-forge\n",
      "webcolors                 1.11.1                   pypi_0    pypi\n",
      "webencodings              0.5.1                      py_1    conda-forge\n",
      "werkzeug                  1.0.1                    pypi_0    pypi\n",
      "wheel                     0.35.1             pyh9f0ad1d_0    conda-forge\n",
      "widgetsnbextension        3.5.1            py37hc8dfbb8_4    conda-forge\n",
      "wrapt                     1.12.1                   pypi_0    pypi\n",
      "xgboost                   1.2.0            py37h3340039_0    conda-forge\n",
      "xmltodict                 0.12.0                     py_0    conda-forge\n",
      "xorg-kbproto              1.0.7             h14c3975_1002    conda-forge\n",
      "xorg-libice               1.0.10               h516909a_0    conda-forge\n",
      "xorg-libsm                1.2.3             h84519dc_1000    conda-forge\n",
      "xorg-libx11               1.6.12               h516909a_0    conda-forge\n",
      "xorg-libxau               1.0.9                h14c3975_0    conda-forge\n",
      "xorg-libxdmcp             1.1.3                h516909a_0    conda-forge\n",
      "xorg-libxext              1.3.4                h516909a_0    conda-forge\n",
      "xorg-libxrender           0.9.10            h516909a_1002    conda-forge\n",
      "xorg-libxt                1.2.0                h516909a_0    conda-forge\n",
      "xorg-renderproto          0.11.1            h14c3975_1002    conda-forge\n",
      "xorg-xextproto            7.3.0             h14c3975_1002    conda-forge\n",
      "xorg-xproto               7.0.31            h14c3975_1007    conda-forge\n",
      "xz                        5.2.5                h516909a_1    conda-forge\n",
      "yaml                      0.2.5                h516909a_0    conda-forge\n",
      "zeromq                    4.3.3                he1b5a44_2    conda-forge\n",
      "zipp                      3.4.0                      py_0    conda-forge\n",
      "zlib                      1.2.11            h516909a_1010    conda-forge\n",
      "zstd                      1.4.5                h6597ccf_2    conda-forge\n",
      "\n"
     ]
    }
   ],
   "source": [
    "from kinoml.utils import watermark\n",
    "watermark()"
   ]
  }
 ],
 "metadata": {
  "kernelspec": {
   "display_name": "Python 3",
   "language": "python",
   "name": "python3"
  },
  "language_info": {
   "codemirror_mode": {
    "name": "ipython",
    "version": 3
   },
   "file_extension": ".py",
   "mimetype": "text/x-python",
   "name": "python",
   "nbconvert_exporter": "python",
   "pygments_lexer": "ipython3",
   "version": "3.7.8"
  },
  "widgets": {
   "application/vnd.jupyter.widget-state+json": {
    "state": {
     "03b2fd3bdd3846e588a88b1b385d50de": {
      "model_module": "@jupyter-widgets/controls",
      "model_module_version": "1.5.0",
      "model_name": "DescriptionStyleModel",
      "state": {
       "description_width": ""
      }
     },
     "0abec894f51e459abf0bd1a56ff993bc": {
      "model_module": "@jupyter-widgets/base",
      "model_module_version": "1.2.0",
      "model_name": "LayoutModel",
      "state": {}
     },
     "0c39c51098fb41a78f3838c77051f83b": {
      "model_module": "@jupyter-widgets/controls",
      "model_module_version": "1.5.0",
      "model_name": "HBoxModel",
      "state": {
       "children": [
        "IPY_MODEL_1ca998f8d0b04d2d837e675bea1b772a",
        "IPY_MODEL_250dc9238fc7437493564ccad885f9b5",
        "IPY_MODEL_c96329464b614fcea9fec15bcbe46a92"
       ],
       "layout": "IPY_MODEL_fbe1aa3c194e4f7db1ecdf70af803533"
      }
     },
     "0d70c760ebc14069a3e68eca4077e131": {
      "model_module": "@jupyter-widgets/base",
      "model_module_version": "1.2.0",
      "model_name": "LayoutModel",
      "state": {}
     },
     "0ef4ed16ad2a499090f4e8d6c9b71fab": {
      "model_module": "@jupyter-widgets/base",
      "model_module_version": "1.2.0",
      "model_name": "LayoutModel",
      "state": {}
     },
     "18c38bed84fd4854a2a9ea848bba3faf": {
      "model_module": "@jupyter-widgets/controls",
      "model_module_version": "1.5.0",
      "model_name": "VBoxModel",
      "state": {
       "children": [
        "IPY_MODEL_51d5ab1292774de79c1d12dd26d7c6c8",
        "IPY_MODEL_1912c92179e14517ae3f57e63d95413a"
       ],
       "layout": "IPY_MODEL_86b4cd449d574db787773113997acc06"
      }
     },
     "1912c92179e14517ae3f57e63d95413a": {
      "model_module": "@jupyter-widgets/controls",
      "model_module_version": "1.5.0",
      "model_name": "HBoxModel",
      "state": {
       "children": [
        "IPY_MODEL_90d3c34c809f4b15b3517f69bb49e235",
        "IPY_MODEL_a51c78f559a14c39bb54c0f862e12698",
        "IPY_MODEL_2afe15bb40c04b8b81326f6acf1b2ddd"
       ],
       "layout": "IPY_MODEL_5f24eaddbb0f4ff0b32e30f35e97e225"
      }
     },
     "1b227a20168c495bb95e58678e5abac7": {
      "model_module": "@jupyter-widgets/output",
      "model_module_version": "1.0.0",
      "model_name": "OutputModel",
      "state": {
       "layout": "IPY_MODEL_588b1ab020134db9bd2d4c6d7e48e685",
       "outputs": [
        {
         "name": "stdout",
         "output_type": "stream",
         "text": "PercentageDisplacementMeasurement (test=129), fold=3\n----------------------------------------------------\n MAE: 14.60±1.92 95CI=(11.51, 17.74)\n MSE: 574.85±150.35 95CI=(324.56, 797.62)\n  R2: -0.58±0.10 95CI=(-0.73, -0.43)\nRMSE: 23.77±3.15 95CI=(18.02, 28.24)\n"
        },
        {
         "data": {
          "image/png": "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\n",
          "text/plain": "<Figure size 432x288 with 1 Axes>"
         },
         "metadata": {},
         "output_type": "display_data"
        },
        {
         "name": "stdout",
         "output_type": "stream",
         "text": " MAE: 14.55±1.81 95CI=(11.65, 17.61)\n MSE: 569.49±145.26 95CI=(324.74, 786.12)\n  R2: -0.58±0.09 95CI=(-0.75, -0.44)\nRMSE: 23.67±3.06 95CI=(18.02, 28.04)\n"
        }
       ]
      }
     },
     "1ca998f8d0b04d2d837e675bea1b772a": {
      "model_module": "@jupyter-widgets/output",
      "model_module_version": "1.0.0",
      "model_name": "OutputModel",
      "state": {
       "layout": "IPY_MODEL_0ef4ed16ad2a499090f4e8d6c9b71fab",
       "outputs": [
        {
         "name": "stdout",
         "output_type": "stream",
         "text": "PercentageDisplacementMeasurement (test=129), fold=3\n----------------------------------------------------\n MAE: 14.60±1.92 95CI=(11.51, 17.74)\n MSE: 574.85±150.35 95CI=(324.56, 797.62)\n  R2: -0.58±0.10 95CI=(-0.73, -0.43)\nRMSE: 23.77±3.15 95CI=(18.02, 28.24)\n"
        },
        {
         "data": {
          "image/png": "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\n",
          "text/plain": "<Figure size 432x288 with 1 Axes>"
         },
         "metadata": {},
         "output_type": "display_data"
        },
        {
         "name": "stdout",
         "output_type": "stream",
         "text": " MAE: 14.55±1.81 95CI=(11.65, 17.61)\n MSE: 569.49±145.26 95CI=(324.74, 786.12)\n  R2: -0.58±0.09 95CI=(-0.75, -0.44)\nRMSE: 23.67±3.06 95CI=(18.02, 28.04)\n"
        }
       ]
      }
     },
     "1db05f71b9324053a5463d18847c97c9": {
      "model_module": "@jupyter-widgets/base",
      "model_module_version": "1.2.0",
      "model_name": "LayoutModel",
      "state": {}
     },
     "1db861e2dd6645e899e146bf3ceffcd9": {
      "model_module": "@jupyter-widgets/base",
      "model_module_version": "1.2.0",
      "model_name": "LayoutModel",
      "state": {}
     },
     "1fe7cd7111f94158ba55593f352564e9": {
      "model_module": "@jupyter-widgets/controls",
      "model_module_version": "1.5.0",
      "model_name": "HBoxModel",
      "state": {
       "children": [
        "IPY_MODEL_8aedfc6941fe44f1af6cadf944f66954",
        "IPY_MODEL_905ff45dfb2a408182505d306193a2bf",
        "IPY_MODEL_dcb124792add4c509ee2c66d53757886"
       ],
       "layout": "IPY_MODEL_db6640b1135446daaf0a8a741dc8e1cc"
      }
     },
     "2168351207d047e9ab5f9e1ea8cc03b6": {
      "model_module": "@jupyter-widgets/base",
      "model_module_version": "1.2.0",
      "model_name": "LayoutModel",
      "state": {}
     },
     "2220668df7d94b0fbad2c4000aaefe89": {
      "model_module": "@jupyter-widgets/output",
      "model_module_version": "1.0.0",
      "model_name": "OutputModel",
      "state": {
       "layout": "IPY_MODEL_65e8d9605be9469ca6587ae7a996872b"
      }
     },
     "223ef24184204bc4a253b75d1615568e": {
      "model_module": "@jupyter-widgets/controls",
      "model_module_version": "1.5.0",
      "model_name": "HTMLModel",
      "state": {
       "layout": "IPY_MODEL_1db861e2dd6645e899e146bf3ceffcd9",
       "style": "IPY_MODEL_3328c0f47f7442628068d94509ed9635",
       "value": "Average across folds:"
      }
     },
     "22e113e8badf42909817bfbe58f1c898": {
      "model_module": "@jupyter-widgets/base",
      "model_module_version": "1.2.0",
      "model_name": "LayoutModel",
      "state": {}
     },
     "250dc9238fc7437493564ccad885f9b5": {
      "model_module": "@jupyter-widgets/output",
      "model_module_version": "1.0.0",
      "model_name": "OutputModel",
      "state": {
       "layout": "IPY_MODEL_44c0a1b4b18b4176be51ac68cc92a992",
       "outputs": [
        {
         "name": "stdout",
         "output_type": "stream",
         "text": "PercentageDisplacementMeasurement (test=129), fold=4\n----------------------------------------------------\n MAE: 20.05±2.46 95CI=(16.50, 23.86)\n MSE: 1097.15±233.75 95CI=(768.68, 1540.11)\n  R2: -0.57±0.07 95CI=(-0.69, -0.47)\nRMSE: 32.93±3.53 95CI=(27.72, 39.24)\n"
        },
        {
         "data": {
          "image/png": "iVBORw0KGgoAAAANSUhEUgAAASUAAAEWCAYAAAAgiYF0AAAAOXRFWHRTb2Z0d2FyZQBNYXRwbG90bGliIHZlcnNpb24zLjMuMiwgaHR0cHM6Ly9tYXRwbG90bGliLm9yZy8vihELAAAACXBIWXMAAAsTAAALEwEAmpwYAAAhgElEQVR4nO3debgcVbnv8e+PECDIkAQChCAEEUEEJRqRyQlQBj0SuaJwxBMVL0evE14cEuUqevTKuXhVvCiIoHAPinIQA+IAGFRABQyDMoQYJBAIgQQhEDBgCO/5Y61NKk333r337qG6+vd5nv1096ruqreqVr27hlWrFBGYmZXFet0OwMysyEnJzErFScnMSsVJycxKxUnJzErFScnMSsVJyQCQ9GpJC1ownrslHdSKmKw/dTQpSfqQpHmSnpJ0Ts2wvSVdIelhScsl/aekyYXh4yWdK2lZ/jtpkOlMlRSSHs9/d0ua1b45Gz5Jv5H0vg5N6yRJqyWtzH9/kXRacflGxNURsUsn4ukVkt4t6ZqasnNy3XpLTfnXc/m7Oxpkj8jL7YvNfLfTe0r3A18Evltn2ATgTGAqsAOwEvheYfjXgI3z8L2Ad0l6zxDTGx8RmwBHA5+VdMhwgpW0/nC+X3I/iohNgYnAW4FtgBuKicma9hdg5sCHXE+OBP7atYjq6Nn6GxEd/yMlpnOG+M7LgZWFzw8Bryx8/jRwdYPfTgUCWL9Q9kfg4/n9e4H5wCPAZcAOhe8F8EFgIbAolx0O3Aw8Rqp4h+TyzYGzgaXAkjxfY/KwdwPXAF/J01kEHJqHfQlYAzwJPA6clstPBe7N07kBeHUhrnHAuXlc84FPAvcVhm8L/BhYnqf1kcKwk4DzapbRGOBPwFfy59fVjO9TeZ5WAguAAwvjuhD4UR52I/Cywu/uBg7K7/cC/gCsyMvoNGCDwndfAlwBPAw8CHw6l68HzMrL+m/ABcDEmnX7nrysHgHeD7wS+HOe1mk18zrU+n5/Xt+PAN8EBLw4r581eR2tyN8/J6/TB4AJuezNwC/y+n53k9MdbF3vBczLwx4EvlpvHdVZ3gPr5rz82/cxdB39Hekf/grgLmDfXH4vsAyYWZjWhnneF+e4zgDGFWMDTsi/Wwq8Jw87DlgN/CMvy58Ouu2XOCkdD1xbk5T2Knz+DPDIUEkpV7D9gL8DBwIzgDtzpVsfOBH4fU0lvYK0RzEuV5BHgTeQNpYpwK75u3OAbwPPA7YCrgf+tbDCVwP/nZQAPkDaU1Qe/hvgfTVxHwNskeM6gVTxN8rDTgZ+S9qj3I60Ad5X2IhvAD4LbAC8IFewgxslpVz+BeC62goP7JIr5baF5blTYVyrgbcBY4GPk5Lg2DobySuAvfP8TCVtoMfnYZuSKu4JwEb586uK6z7P54Z5GZ9fs27PyL97Iyl5zMnrYAppo3ht/v4Mhl7flwLjge1JSf2Qwjq8pmaZnUOqv2cCH8hlF5D2xp9NSk1Md7B1/QfgXfn9JsDew0hKq/O01yPV3zkMXkefJiX4MXm+FpMS84Z52a4ENsnf/zpwCWnb2BT4KfDlQmxPk+rUWOAw0jY3objcmsoPZUxKwEtJ/z2L/z3OAy7KC+OFpP+iTw2RlFawds/iI3nYL4BjC99dLy+8HQqV9IDC8G8DX6szja2Bp8j/KXLZ0cCvCyv8zsKwjfO4t2mUlOpM4xHyXgiFJJM/v4+1SeRVwOKa384GvjdEUno/sLBOUnohacM+iJxsCr85iXX/WaxHSi6vrt1I6kzveOAnhWV1U4PvzSfvmeXPk0kb20ByC2BKYfjfgHcUPv+YtcmvmfW9f2H4BcCswjpslJT2JyWPzUl7DeNYNykNOt0h1vVVwOeBLWu+8+w6KpQ9u7zzurlqmHV0YWHYHnl5bF2zbPck/XN/gvzPKQ/bh7VHE68DVrHu0cky1ibUc2gyKZXu6pukF5JW6Ecj4urCoI+QZnohcDFwPml3cTBbRsSEiHhxRHwjl+0AnCpphaQVpOQn0n/YAfcW3j+f+ucKdiD9R1haGNe3Sf+NBjww8CYi/p7fbtIoWEknSJov6dE8vs2BLfPgbWviKr7fAdh2II7820+TKuVgppDmfx0RcScpgZwELJP0Q0nb1pt2RDxDWg/F4QPz8yJJl0p6QNJjwP8uzE+j5TowPz8pzMt80mFUcX4eLLxfVefzwHJuZn0/UHj/dwZZRwMi4hpgEmkP6NKIWFVnHhpOd4h1fSzwIuAOSX+U9Oah4imorRdD1dHa5UZE1FuWk0j/WG8ojOuXuXzA3yLi6cLnppZlrVIlJUk7AL8C/i0i/qM4LCIejoh3RsQ2EfESUuzXj2Ay95J2X8cX/sZFxO+Lk6v5/k4NxvMUKfENjGezHFszitNA0qtJ53HeTtrlHU86bFT+ylLS4cyA59fEsqhmnjaNiMMaTVzSesA/AVfXGx4RP4iI/UkVO4B/rzftPJ7tSIemtU4H7gB2jojNSIlyYH4aLdeBYYfWzM9GEbGk0fwMopn13UgMMfw80qHX/x/OdIda1xGxMCKOJiWPfwculPQ80p7KxgMTkDSGdZNCbcyjraNFD5ES1EsK49o80oWkZgy1LJ/V6SYB60vaiHT8OkbSRgNXCCRNAa4EvhkRZ9T57U6StpA0RtKhpJNnTV1irHEGMFvSS/J4N5d05CDfPxt4j6QDJa0naYqkXSNiKXA58H8lbZaH7STptU3G8SDp3M+ATUnH5MuB9SV9FtisMPyCHPeEvKw+VBh2PfCYpE9JGpeX0e6SXlk7UUljJb2YtKe5DfDVOt/ZRdIBkjYkna9ZRdpTGfAKSUfkdXc8qeJfW2ceNyWdcH1c0q6k82oDLgW2kXS8pA0lbSrpVXnYGcCX8j8pJE2SdHid8TdjuOu76EFgO0kbNBj+DdK5xquGOd1B17WkYyRNynuhK3LxGtJVv40kvUnSWNJe2oaNgm9BHS2O6xngO8DXJG2V45wi6eAmR1Fb3xvq9J7SiaQKPot0om9VLoN0juQFwOe0tn3R44XfvgK4hXTi7cvAOyPituEGEBE/If33+WE+pLgVOHSQ719POhH4NdJ/s9+S9h4A/oV0Yvl20jmBC0nnP5pxKvA2SY9I+gbp6swvSBXvHlIyKO6Kf4F0mLSItDd5ISkZEBFrSHs9e+bhDwFnkQ4JBrwjL88VpJOVfwNeERH19nA2JJ1Yf4h0aLMVaS9nwMXAO/I8vws4IiJW1xnPx4F/Jq2z75Cu2JFjXknaoP8pT2Mh8PrCsrkEuFzSSlLCexUjMNz1XeNK4DbgAUkP1Rn3wxExN/JJk2FMd6h1fQhwW15fpwJHRcSTEfEo8D9I63YJac9pqFMYo6mjtT5FOnl/bZ6nX5EuijTjbGC3fOg3Z7Avqs7ytB4g6QOkyjrs/3qjnO5JwAsj4phOTtf6R6nOKVljkiZL2i/vgu9COpfxk27HZdZqvdnisz9tQLpysiPpEOyHwLe6GZBZO/jwzcxKxYdvZlYqPX34tuWWW8bUqVO7HYZZJT30+FMsffRJ/vHAnQ9FRG17qLbp6aQ0depU5s2b1+0wzCrnrKvv4os/m897d9+GM941/Z5OTtuHb2a2jrOvWcQXfzafw/bYhm8cPa3j03dSMrNnnX3NIv7t0ts5bI9tOPWoaYwd0/kU0dOHb2bWOgOHbN1MSOA9JTNjbUI6dPfuJiRwUjLre8WE9I2ju5uQoI1JSdJ3lTr4v7VQNlHp4QAL8+uEwrDZku6UtGAYdx6b2SiULSFBe/eUziHd7Vw0C5gbETsDc/NnJO0GHEXqs/kQ4Fu5r5hRO3HOLew0++dMnfUzdpr9c06cc0srRmvW88qYkKCNSSkiruK5vRoeTur8nvw6o1D+w4h4KiIWkbpH2Gu0MZw45xbOu3Yxa/KtNGsiOO/axU5M1vfKmpCg8+eUts4dTw10QDXQLecU1u1P5j7W7a70WZKOU3p23Lzly5cPOrHvX7t4WOVm/aB4la1sCQnKc6Jbdcrq3ikcEWdGxPSImD5p0uAt3xvdauxbkK1fleWy/2A6HdGDyg8/zK/Lcvl9rNvndKM+n81shHohIUHnk9IlrH2y6ExSt6oD5Uflvpp3BHZmZA8FWMfzNqh/rrxRuVlV9UpCgvY2CTif9FysXSTdJ+lYUr/Pb5C0kNQ/88kAua/tC0j9CP8S+GDud3pUvvTWPViv5sBwPaVys35RpoaRzWjbbSb5ETH1HNjg+18iPc66pcZIPFPoyG6M6p2+MqumMl9la6T8EY7CKZctYPUz657WXv1McMplC7oUkVnn9GJCgoonpftX1D60dPBys6qo7X6kVxISVDwpbTt+3LDKzaqgDN2PjEZvRTtMnzh4F8aNXfdK27ixY/jEwc0+P8+st/R6QoKK96c0Y1pqFH7KZQu4f8Uqth0/jk8cvMuz5WZV0kuX/QfTm1Gb2TqqkpCg4ntKc25awuyLbmHV6tTkacmKVcy+KN2M670lq4pea4c0lN6OfginXLbg2YQ0YNXqNW4SYJXRq5f9B9P7czAINwmwKqtiQoKKJ6XNx40dVrlZryh79yOjUZ05qaPRHSW+08R6WbFhZBXOIdWq1tzUWPH31cMqNyu7KrRDGkr15qjAh29WJf2QkKDiTQJ8+GZVUaV2SEOp7pwBjzQ4TGtUblZG/ZSQoOJJqVHfSe5TyXpF1RpGNqPSc7gm6j8ioFG5WZlUtR3SUCo9l1MadFHSqNysLPo1IUHFk9Lrd63/CKZG5WZlUOWGkc2o9Nz++o76D6tsVG7WbVVvGNmMSs+x732zXtIv7ZCGUum5dne41iuckNaq9Jy7O1zrBWddfZcTUkGlW3S7O1wru35rGNmMSiclSInJScjKqB8bRjaj8kkJUre43luyMvFVtsYqn5TcT7eVjU9qD67yS8P9dFuZOCENrfJ7Sm6rZGXhk9rNqfxSadShm9sqWSc5ITWv0ktmzk1LeOIfTz+nfOx6clsl6xgnpOHpytKR9DFJt0m6VdL5kjaSNFHSFZIW5tcJo53OKZctYPWa53ZTsslG6/skt3WEL/sPX8eXkKQpwEeA6RGxOzAGOAqYBcyNiJ2BufnzqCxpcN7IPU9aJ/Rz9yOj0a2ltD4wTtL6wMbA/cDhwLl5+LnAjNFOxD1PWrc4IY1cx5dURCwBvgIsBpYCj0bE5cDWEbE0f2cpsFW930s6TtI8SfOWLx+8CxL3PGndUGwY6YQ0fN04fJtA2ivaEdgWeJ6kY5r9fUScGRHTI2L6pEmDd9bmniet09wOafS6scQOAhZFxPKIWA1cBOwLPChpMkB+XTbaCbmXAOskJ6TW6MZSWwzsLWljSQIOBOYDlwAz83dmAhePdkIzpk3hy0fswZTx4xBpD+nLR+zhK2/Wcu5+pHU63qI7Iq6TdCFwI/A0cBNwJrAJcIGkY0mJ68hWTM+9BFi7uR1Sa3XlNpOI+BzwuZrip0h7TS3lHgKsndwOqfUqfe+bewiwdvJl//ao9FJ0DwHWLk5I7VPpJekeAqwd+v25bO1W6aXpp5lYq7nHyPar9BJ1OyVrJbdD6oxKn+j200ysVZyQOqfSSQncTslGz+2QOstL12wQTkid5yVs1oAbRnaHl7JZHW6H1D1e0mY1nJC6y0vbrMANI7vPS9ws80ntcvBSN8MJqUy85K3vOSGVi5e+9TVf9i8frwHrW77KVk5eC9aXnJDKy2vC+o6fy1ZuXhvWV3y3f/l5jVjfcELqDZXvusQMfNm/l3jNWOU5IfUWrx2rNLdD6j2VP3zzwyj7ly/796ZKJyU/jLJ/OSH1rkqvKT+Msj+5+5HeVum1taTBQycblVvv83PZel+l19gYaVjl1tvcDqkaKr3W1kQMq9x6lxNSdXRlzUkaL+lCSXdImi9pH0kTJV0haWF+nTDa6Uxp8HjuRuXWm866+i4npArp1to7FfhlROwKvAyYD8wC5kbEzsDc/HlU/Nju6nPDyOrp+BqUtBnwGuBsgIj4R0SsAA4Hzs1fOxeYMdppzZg2hS8fsQdTxo9DpD2kLx+xh5sDVIQbRlaTYpDzK5JWAg2/EBGbDXuC0p7AmcDtpL2kG4CPAksiYnzhe49ExHMO4SQdBxwHsP3227/innvuGW4IVgFuh9Q5km6IiOmdmt6gazIiNs2J5+ukw6kpwHbAp4AvjnCa6wMvB06PiGnAEwzjUC0izoyI6RExfdKkSSMMwXqZE1K1Nbs2D46Ib0XEyoh4LCJOB/7bCKd5H3BfRFyXP19ISlIPSpoMkF+XjXD8VmFuGFl9za7RNZLeKWmMpPUkvRNYM+Sv6oiIB4B7JQ2cbT6QdCh3CTAzl80ELh7J+K263DCyPzR779s/k66YnUo6x/S7XDZSHwa+L2kD4C7gPaQEeYGkY4HFwJGjGL9VjNsh9Y+mklJE3E26OtYSEXEzUO/E2YGtmoZVhxNSf2lq7Up6kaS5km7Nn18q6cT2hmbmhpH9qNk1/B1gNrAaICL+DBzVrqDMwA0j+1Wza3njiLi+puzpVgdjNsANI/tXsye6H5K0E7khpaS3AUvbFlULuefJ3uOrbP2t2aT0QVIr7F0lLQEWAe9sW1Qt4p4ne49Paluza/yeiDgImATsGhH7R0Tp7+9wz5O9xQnJoPmktEjSmcDewONtjKel7m/Qw2SjcuseX2WzAc2u+V2AX5EO4xZJOk3S/u0LqzW2bdBvUqNy6w5fZbOiptZ+RKyKiAsi4ghgGrAZ8Nu2RtYC7k+p/JyQrFbTNUDSayV9C7gR2Ah4e9uiahH3p1Ruvuxv9TR19U3SIuBm4ALgExHxRDuDaqUZ06Y4CZWQux+xRoZMSpLGAN+LiC90IB7rA05INpgha0NErAFe34FYrA8UG0Y6IVk9zTae/L2k04AfkXqKBCAibmxLVFZJbodkzWg2Ke2bX4uHcAEc0NpwrKqckKxZzfan1LOHb773rft82d+Go9n+lLaWdLakX+TPu+UeIktt4N63JStWEay9923OTUu6HVrfcEKy4Wq2hpwDXAZsmz//BTi+DfG0lO996y63Q7KRaLaWbBkRFwDPAETE04zwwQGdtKTBPW6Nyq11fNnfRqrZmvKEpC1Y25/S3sCjbYuqRcZIwyq31nBCstFo9urb/yQ9AmknSb8jdWHytrZF1SJrGjz9t1G5jZ7PIdloNXv17UZJryX1FiBgQUSsbmtkLTBl/Li6h2pT3EtAW7jHSGuFZq++HQmMi4jbgBnAjyS9vJ2BtYJ7Cegct0OyVmm25vyviFiZ+1A6GDgXOL19YbWGewnoDCcka6VmzykNXGl7E3B6RFws6aT2hNRa7iWgvXwOyVqt2Rq0RNK3SX0o/VzShsP4rVWUE5K1Q7O16O2kxpOHRMQKYCLwiXYFZeXnhpHWLs12h/t34G7gUEkfBiZHxOXtDMzKy+2QrJ2avfr2WdLJ7S2ALYHvSTqxnYFZOTkhWbs1e6L7aGBaRDwJIOlkUl/dX2xXYK3iXgJax+eQrBOaTUp3kx4W8GT+vCHw13YE1Ep+Qm7rOCFZpwxasyT9P0nfAJ4CbpN0jqRzgFsZ5UMpJY2RdJOkS/PniZKukLQwv04YzfjBvQS0ihOSddJQe0rz8uvtwFxSLwFrgF+3YNofBeaTniEHMAuYGxEnS5qVP39qNBNwLwGj54RknTZUDfsB8BLSuaN3A+/L73fPw0ZE0nakhphnFYoPJ51MJ7/OGOn4B7iXgNHxZX/rhqFq2f8BJgA7RsQrImIa8AJgc+CUUUz368Anyf0zZVtHxFKA/LpVvR9KOk7SPEnzli9fPuhE3EvAyPkqm3XLUDXtzcBxEbFyoCAiHgM+QNrTGTZJbwaWRcQNI/l9RJwZEdMjYvqkSZMG/W6j3gDcS8DgnJCsm4aqbRHx3N2K/Cy4ke5u7Ae8RdLdwA+BAySdBzwoaTJAfl02wvE/y70EDJ+fy2bdNlSNu13Sv9QWSjoGuGMkE4yI2RGxXURMBY4CroyIY0idyM3MX5sJXDyS8Re5l4Dh8d3+VgZDXX37IHCRpPcCN5D2jl4JjAPe2uJYTgYuyE9JWQwc2YqRupeA5jghWVkMmpQiYgnwKkkHkK7CCfhFRMxtxcQj4jfAb/L7vwEHtmK8Njy+7G9l0mx3uFcCV7Y5FusCJyQrG9fAPuaEZGXkWtin3DDSyqrZG3J7lnsJeC63Q7Iyq3RSci8Bz+WEZGVX6RrpXgLW5YaR1gsqXSvvb9AbQKPyKnM7JOsVla6Z2za4x61ReVU5IVkvqXTt9L1v6RySE5L1kkrX0BnTpvDy7Tdfp+zl22/eNye53Q7JelGla+mJc27hd399eJ2y3/31YU6cc0uXIuoct0OyXlXpmnr+dfcOq7wqfNnfelmla2s/9jzphGS9zjW2QornkJyQrFe51lZEsWGkzyFZL6t0ze2XPrrdDsmqpNK1d+oW9ZNPo/Je5IRkVVPpG3KvveuRYZX3GrdDsiqqdC2u8tU3JySrKtfkHuSGkVZlrs09xt2PWNVVukaPkYZVXnY+qW39oNK1ukrnlJyQrF9UumZvPLb+7DUqLyt3P2L9pNK1e9XTzwyrvIx8lc36TaVreKOjtF45enNCsn7kWl5Svuxv/co1vYTc/Yj1M9f2knFCsn7nGl8ibhhp1oWkJOn5kn4tab6k2yR9NJdPlHSFpIX5dcJop9VLjSfdDsks6UbNfxo4ISJeDOwNfFDSbsAsYG5E7AzMzZ9HpVcaTzohma3V8dofEUsj4sb8fiUwH5gCHA6cm792LjCj07F1gxtGmq2rq1uApKnANOA6YOuIWAopcQFbNfjNcZLmSZq3fPnyjsXaDm6HZPZcXdsKJG0C/Bg4PiIea/Z3EXFmREyPiOmTJk1qX4Bt5oRkVl9XtgRJY0kJ6fsRcVEuflDS5Dx8MrCsG7F1ghtGmjXWjatvAs4G5kfEVwuDLgFm5vczgYs7HVsnuB2S2eC60Uf3fsC7gFsk3ZzLPg2cDFwg6VhgMXBkF2JrKycks6F1PClFxDVAo4ZCB3Yylk7yc9nMmuMtowPcDsmsed462swJyWx4Kv3ct27zZX+z4fNW0iZOSGYj4y2lDdwOyWzkvLW0mC/7m42Ot5gWckIyGz1vNS1SPIfkhGQ2ct5yWsAntc1ax1vPKDkhmbWWt6BRcEIyaz1vRSPky/5m7eEtaQR8lc2sfbw1DZMTkll7eYsaBj+Xzaz9vFU1yXf7m3WGt6wmOCGZdY67LhmCL/ubdZa3sEE4IZl1nreyBpyQzLrDW1odbhhp1j3e2mq4HZJZd3mLK3BCMus+b3WZG0aalYO3PNwOyaxM+n7rc0IyK5e+3gKdkMzKp9Jb4RipYbkTklk5VXpLXBPRsNwJyayc+nZrdEIyK6e+3SKdkMzKqXRbpaRDJC2QdKekWe2ajhOSWTmVasuUNAb4JnAosBtwtKTduhuVmXVSqZISsBdwZ0TcFRH/AH4IHN7lmMysg8qWlKYA9xY+35fLniXpOEnzJM1bvnx5R4Mzs/YrW1Kq17Bonev6EXFmREyPiOmTJk1qOKKzr1nU6tjMrAPKlpTuA55f+LwdcP9wRzLQMNLMek/ZktIfgZ0l7ShpA+Ao4JLhjKDYUnvhlw6t+527T37T6CM1s7Yo1YMDIuJpSR8CLgPGAN+NiNua/X29LmydgMx6S6mSEkBE/Bz4+XB/5z61zaqhEluuE5JZdfT81uuEZFYtPb0FP/T4U05IZhXT01vx0kef9GOQzCpG0aDPoV4gaTlwTxNf3RJ4qM3hjEaZ4ytzbFDu+MocGzQf3w4R0bilcov1dFJqlqR5ETG923E0Uub4yhwblDu+MscG5Y3PxzxmVipOSmZWKv2SlM7sdgBDKHN8ZY4Nyh1fmWODksbXF+eUzKx39Muekpn1CCclMyuVyielTj2IoMlYni/p15LmS7pN0kdz+URJV0hamF8ndDHGMZJuknRpCWMbL+lCSXfkZbhPyeL7WF6vt0o6X9JG3YpP0nclLZN0a6GsYSySZudtZIGkgzsRYyOVTkolfBDB08AJEfFiYG/ggzmeWcDciNgZmJs/d8tHgfmFz2WK7VTglxGxK/AyUpyliE/SFOAjwPSI2J3U9c5RXYzvHOCQmrK6seQ6eBTwkvybb+VtpzsiorJ/wD7AZYXPs4HZ3Y6rEM/FwBuABcDkXDYZWNCleLYjVdYDgEtzWVli2wxYRL44UygvS3wD/ctPJHUJdCnwxm7GB0wFbh1qWdVuF6T+zPbpxnKMiGrvKdHEgwi6RdJUYBpwHbB1RCwFyK9bdSmsrwOfBJ4plJUlthcAy4Hv5cPLsyQ9ryzxRcQS4CvAYmAp8GhEXF6W+LJGsZRqO6l6UhryQQTdIGkT4MfA8RHxWLfjAZD0ZmBZRNzQ7VgaWB94OXB6REwDnqC7h5LryOdnDgd2BLYFnifpmO5G1bRSbSdVT0oteRBBK0kaS0pI34+Ii3Lxg5Im5+GTgWVdCG0/4C2S7iY9b+8ASeeVJDZI6/K+iLguf76QlKTKEt9BwKKIWB4Rq4GLgH1LFB+DxFKq7aTqSWnUDyJoJUkCzgbmR8RXC4MuAWbm9zNJ55o6KiJmR8R2ETGVtJyujIhjyhBbju8B4F5Ju+SiA4HbKUl8pMO2vSVtnNfzgaQT8WWJj0FiuQQ4StKGknYEdgau70J8SbdOZnXwZN9hwF+AvwKf6XIs+5N2i/8M3Jz/DgO2IJ1gXphfJ3Y5ztex9kR3aWID9gTm5eU3B5hQsvg+D9wB3Ar8B7Bht+IDzied21pN2hM6drBYgM/kbWQBcGg3659vMzGzUqn64ZuZ9RgnJTMrFSclMysVJyUzKxUnJTMrFSclq0vSGkk35zve/1PSxqMY1zmS3pbfnzXYTdGSXidp3xFM425JW440RisPJyVrZFVE7Bnpjvd/AO8vDhzpXeQR8b6IuH2Qr7yO1BLa+pSTkjXjauCFeS/m15J+ANyS+146RdIfJf1Z0r9Carku6TRJt0v6GYWbUCX9RtL0/P4QSTdK+pOkufkm5fcDH8t7aa+WNEnSj/M0/ihpv/zbLSRdnm/O/Tb179+yHrR+twOwcpO0Pqk/ql/mor2A3SNikaTjSHfDv1LShsDvJF1O6v1gF2APYGvS7SDfrRnvJOA7wGvyuCZGxMOSzgAej4iv5O/9APhaRFwjaXtStxovBj4HXBMRX5D0JuC4ti4I6xgnJWtknKSb8/urSffs7QtcHxGLcvkbgZcOnC8CNifdN/Ua4PyIWAPcL+nKOuPfG7hqYFwR8XCDOA4Cdku3kwGwmaRN8zSOyL/9maRHRjabVjZOStbIqojYs1iQE8MTxSLgwxFxWc33DmPori/UxHcgnWLYJyJW1YnF90hVkM8p2WhcBnwgd8eCpBfljteuIt11PiZ3kfH6Or/9A/DafFc6kibm8pXApoXvXQ58aOCDpD3z26uAd+ayQ0k351oFOCnZaJxFOl90Y+6g/tukve+fkO5EvwU4Hfht7Q8jYjnpPNBFkv4E/CgP+inw1oET3eR+r/OJ9NtZexXw88BrJN1IOoxc3KZ5tA5zLwFmVireUzKzUnFSMrNScVIys1JxUjKzUnFSMrNScVIys1JxUjKzUvkv2DsmInClZ9kAAAAASUVORK5CYII=\n",
          "text/plain": "<Figure size 432x288 with 1 Axes>"
         },
         "metadata": {},
         "output_type": "display_data"
        },
        {
         "name": "stdout",
         "output_type": "stream",
         "text": " MAE: 20.06±2.27 95CI=(16.68, 23.63)\n MSE: 1094.40±218.37 95CI=(775.93, 1447.63)\n  R2: -0.57±0.07 95CI=(-0.68, -0.48)\nRMSE: 32.92±3.31 95CI=(27.86, 38.05)\n"
        }
       ]
      }
     },
     "29644dc56562475791ba53773b9bf9ca": {
      "model_module": "@jupyter-widgets/base",
      "model_module_version": "1.2.0",
      "model_name": "LayoutModel",
      "state": {}
     },
     "2afe15bb40c04b8b81326f6acf1b2ddd": {
      "model_module": "@jupyter-widgets/output",
      "model_module_version": "1.0.0",
      "model_name": "OutputModel",
      "state": {
       "layout": "IPY_MODEL_85eadfbe94e343e79a34f5e5f3c87907"
      }
     },
     "2ca93a1ef2c2466eae8cf0aeb7915f50": {
      "model_module": "@jupyter-widgets/controls",
      "model_module_version": "1.5.0",
      "model_name": "HTMLModel",
      "state": {
       "layout": "IPY_MODEL_67dd117fa0cf43aa8353d487b9618621",
       "style": "IPY_MODEL_03b2fd3bdd3846e588a88b1b385d50de",
       "value": "<h3>PercentageDisplacementMeasurement</h3>"
      }
     },
     "2dcceeed32c74fcfafdb67cdde9fdd31": {
      "model_module": "@jupyter-widgets/controls",
      "model_module_version": "1.5.0",
      "model_name": "DescriptionStyleModel",
      "state": {
       "description_width": ""
      }
     },
     "30ee2720317a4ab0a13492c9bd542135": {
      "model_module": "@jupyter-widgets/controls",
      "model_module_version": "1.5.0",
      "model_name": "HTMLModel",
      "state": {
       "layout": "IPY_MODEL_8888d8dd9397491aa5e1ae5e36c2c000",
       "style": "IPY_MODEL_e0f7779c1a1f4c518e56c78825b23435",
       "value": "Average across folds:"
      }
     },
     "3328c0f47f7442628068d94509ed9635": {
      "model_module": "@jupyter-widgets/controls",
      "model_module_version": "1.5.0",
      "model_name": "DescriptionStyleModel",
      "state": {
       "description_width": ""
      }
     },
     "37a78cf430bb4a06848484c19f402ae2": {
      "model_module": "@jupyter-widgets/output",
      "model_module_version": "1.0.0",
      "model_name": "OutputModel",
      "state": {
       "layout": "IPY_MODEL_3d7891cff6e54cba965acb19b439a5a2",
       "outputs": [
        {
         "name": "stdout",
         "output_type": "stream",
         "text": "PercentageDisplacementMeasurement (test=129), fold=4\n----------------------------------------------------\n MAE: 20.05±2.46 95CI=(16.50, 23.86)\n MSE: 1097.15±233.75 95CI=(768.68, 1540.11)\n  R2: -0.57±0.07 95CI=(-0.69, -0.47)\nRMSE: 32.93±3.53 95CI=(27.72, 39.24)\n"
        },
        {
         "data": {
          "image/png": "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\n",
          "text/plain": "<Figure size 432x288 with 1 Axes>"
         },
         "metadata": {},
         "output_type": "display_data"
        },
        {
         "name": "stdout",
         "output_type": "stream",
         "text": " MAE: 20.06±2.27 95CI=(16.68, 23.63)\n MSE: 1094.40±218.37 95CI=(775.93, 1447.63)\n  R2: -0.57±0.07 95CI=(-0.68, -0.48)\nRMSE: 32.92±3.31 95CI=(27.86, 38.05)\n"
        }
       ]
      }
     },
     "3d7891cff6e54cba965acb19b439a5a2": {
      "model_module": "@jupyter-widgets/base",
      "model_module_version": "1.2.0",
      "model_name": "LayoutModel",
      "state": {}
     },
     "3fb4a45d1abe400a839c60e538e56ac3": {
      "model_module": "@jupyter-widgets/controls",
      "model_module_version": "1.5.0",
      "model_name": "HTMLModel",
      "state": {
       "layout": "IPY_MODEL_9346ab15c99648d699fb18f3615eb344",
       "style": "IPY_MODEL_a63954b70db348259062f05748be5cfa",
       "value": "<h3>PercentageDisplacementMeasurement</h3>"
      }
     },
     "3fd02f61324a46abbaf2fa7458075d35": {
      "model_module": "@jupyter-widgets/controls",
      "model_module_version": "1.5.0",
      "model_name": "DescriptionStyleModel",
      "state": {
       "description_width": ""
      }
     },
     "44c0a1b4b18b4176be51ac68cc92a992": {
      "model_module": "@jupyter-widgets/base",
      "model_module_version": "1.2.0",
      "model_name": "LayoutModel",
      "state": {}
     },
     "46df76b06b3b4913a25d7ed055a4a2c7": {
      "model_module": "@jupyter-widgets/controls",
      "model_module_version": "1.5.0",
      "model_name": "HTMLModel",
      "state": {
       "layout": "IPY_MODEL_a154ceaad0c041a88ef6b2e51425e037",
       "style": "IPY_MODEL_2dcceeed32c74fcfafdb67cdde9fdd31",
       "value": "Average across folds:"
      }
     },
     "49dbc8faca3c4f7bae1f4c51e6307747": {
      "model_module": "@jupyter-widgets/controls",
      "model_module_version": "1.5.0",
      "model_name": "VBoxModel",
      "state": {
       "children": [
        "IPY_MODEL_dc5f573919fc41ffbdc9871dae2dc8c1",
        "IPY_MODEL_0c39c51098fb41a78f3838c77051f83b"
       ],
       "layout": "IPY_MODEL_87d63c38671449e388e2670e85966eea"
      }
     },
     "4de6c8286e274f18acbb6d7ce621c5a1": {
      "model_module": "@jupyter-widgets/base",
      "model_module_version": "1.2.0",
      "model_name": "LayoutModel",
      "state": {}
     },
     "4ef1340afc5c45898ad3cb9d7f9612d2": {
      "model_module": "@jupyter-widgets/output",
      "model_module_version": "1.0.0",
      "model_name": "OutputModel",
      "state": {
       "layout": "IPY_MODEL_eac910eec62b4c7f8f29fe72fb7db1c0",
       "outputs": [
        {
         "name": "stdout",
         "output_type": "stream",
         "text": "PercentageDisplacementMeasurement (test=129), fold=1\n----------------------------------------------------\n MAE: 20.53±2.83 95CI=(16.33, 25.52)\n MSE: 1157.40±257.53 95CI=(806.00, 1644.85)\n  R2: -0.56±0.08 95CI=(-0.70, -0.42)\nRMSE: 33.81±3.81 95CI=(28.39, 40.56)\n"
        },
        {
         "data": {
          "image/png": "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\n",
          "text/plain": "<Figure size 432x288 with 1 Axes>"
         },
         "metadata": {},
         "output_type": "display_data"
        },
        {
         "name": "stdout",
         "output_type": "stream",
         "text": " MAE: 20.63±2.63 95CI=(16.53, 25.01)\n MSE: 1164.88±239.03 95CI=(812.63, 1565.52)\n  R2: -0.57±0.08 95CI=(-0.68, -0.44)\nRMSE: 33.95±3.53 95CI=(28.51, 39.57)\n"
        }
       ]
      }
     },
     "4efd3ee83de843c3aa278ab045bd9c10": {
      "model_module": "@jupyter-widgets/base",
      "model_module_version": "1.2.0",
      "model_name": "LayoutModel",
      "state": {}
     },
     "503b07a67c884738855dac73d3c99df7": {
      "model_module": "@jupyter-widgets/controls",
      "model_module_version": "1.5.0",
      "model_name": "HTMLModel",
      "state": {
       "layout": "IPY_MODEL_7bb52f0158d84f9d876a2295ac5f05e1",
       "style": "IPY_MODEL_8a8dc0c1e7004c2e8108abc6d66b4d18",
       "value": "<h3>PercentageDisplacementMeasurement</h3>"
      }
     },
     "50ec27985fd54334ae4779e5275abcce": {
      "model_module": "@jupyter-widgets/output",
      "model_module_version": "1.0.0",
      "model_name": "OutputModel",
      "state": {
       "layout": "IPY_MODEL_ca54c6eae061402bbaab58a8ed711e59",
       "outputs": [
        {
         "name": "stdout",
         "output_type": "stream",
         "text": "PercentageDisplacementMeasurement (test=129), fold=3\n----------------------------------------------------\n MAE: 14.61±1.92 95CI=(11.51, 17.75)\n MSE: 574.86±150.28 95CI=(324.86, 797.25)\n  R2: -0.58±0.10 95CI=(-0.73, -0.44)\nRMSE: 23.77±3.15 95CI=(18.02, 28.24)\n"
        },
        {
         "data": {
          "image/png": "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\n",
          "text/plain": "<Figure size 432x288 with 1 Axes>"
         },
         "metadata": {},
         "output_type": "display_data"
        },
        {
         "name": "stdout",
         "output_type": "stream",
         "text": " MAE: 14.56±1.81 95CI=(11.66, 17.62)\n MSE: 569.50±145.18 95CI=(324.72, 786.56)\n  R2: -0.58±0.09 95CI=(-0.75, -0.44)\nRMSE: 23.67±3.06 95CI=(18.02, 28.04)\n"
        }
       ]
      }
     },
     "51d5ab1292774de79c1d12dd26d7c6c8": {
      "model_module": "@jupyter-widgets/controls",
      "model_module_version": "1.5.0",
      "model_name": "HBoxModel",
      "state": {
       "children": [
        "IPY_MODEL_9e2c45d680844a3db270dfa3e1c71c86",
        "IPY_MODEL_9cc6e6fba4ae4b6da54e1bb495e1535a",
        "IPY_MODEL_a040bf82898941368a8bb1b49a9d27b1"
       ],
       "layout": "IPY_MODEL_f61355f74b0f4d7bb3b76fd567b95e58"
      }
     },
     "51e6bd982b854fffa3d4ffe50d147747": {
      "model_module": "@jupyter-widgets/base",
      "model_module_version": "1.2.0",
      "model_name": "LayoutModel",
      "state": {}
     },
     "552e29fbacf543e096639ffdd5145628": {
      "model_module": "@jupyter-widgets/base",
      "model_module_version": "1.2.0",
      "model_name": "LayoutModel",
      "state": {}
     },
     "588b1ab020134db9bd2d4c6d7e48e685": {
      "model_module": "@jupyter-widgets/base",
      "model_module_version": "1.2.0",
      "model_name": "LayoutModel",
      "state": {}
     },
     "5f24eaddbb0f4ff0b32e30f35e97e225": {
      "model_module": "@jupyter-widgets/base",
      "model_module_version": "1.2.0",
      "model_name": "LayoutModel",
      "state": {}
     },
     "62cb403b6a904c5cbb383cb874ab57f7": {
      "model_module": "@jupyter-widgets/controls",
      "model_module_version": "1.5.0",
      "model_name": "HTMLModel",
      "state": {
       "layout": "IPY_MODEL_4de6c8286e274f18acbb6d7ce621c5a1",
       "style": "IPY_MODEL_3fd02f61324a46abbaf2fa7458075d35",
       "value": "<h3>PercentageDisplacementMeasurement</h3>"
      }
     },
     "65e8d9605be9469ca6587ae7a996872b": {
      "model_module": "@jupyter-widgets/base",
      "model_module_version": "1.2.0",
      "model_name": "LayoutModel",
      "state": {}
     },
     "65ef2690ff584f69a2bba8dbd75ed7bd": {
      "model_module": "@jupyter-widgets/base",
      "model_module_version": "1.2.0",
      "model_name": "LayoutModel",
      "state": {}
     },
     "67dd117fa0cf43aa8353d487b9618621": {
      "model_module": "@jupyter-widgets/base",
      "model_module_version": "1.2.0",
      "model_name": "LayoutModel",
      "state": {}
     },
     "6be641bbb59d40d4b71d48ff0c2f6185": {
      "model_module": "@jupyter-widgets/output",
      "model_module_version": "1.0.0",
      "model_name": "OutputModel",
      "state": {
       "layout": "IPY_MODEL_0abec894f51e459abf0bd1a56ff993bc",
       "outputs": [
        {
         "name": "stdout",
         "output_type": "stream",
         "text": "PercentageDisplacementMeasurement (test=129), fold=1\n----------------------------------------------------\n MAE: 20.53±2.83 95CI=(16.32, 25.51)\n MSE: 1156.54±257.38 95CI=(805.49, 1644.31)\n  R2: -0.56±0.08 95CI=(-0.69, -0.42)\nRMSE: 33.79±3.81 95CI=(28.38, 40.55)\n"
        },
        {
         "data": {
          "image/png": "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\n",
          "text/plain": "<Figure size 432x288 with 1 Axes>"
         },
         "metadata": {},
         "output_type": "display_data"
        },
        {
         "name": "stdout",
         "output_type": "stream",
         "text": " MAE: 20.62±2.62 95CI=(16.52, 25.00)\n MSE: 1164.02±238.88 95CI=(812.11, 1564.75)\n  R2: -0.56±0.08 95CI=(-0.68, -0.44)\nRMSE: 33.94±3.53 95CI=(28.50, 39.56)\n"
        }
       ]
      }
     },
     "6f2cb988b7f7400caaa93b7f918772dc": {
      "model_module": "@jupyter-widgets/base",
      "model_module_version": "1.2.0",
      "model_name": "LayoutModel",
      "state": {}
     },
     "703fa7b8f4db472bb0ccf0bf48ef0d90": {
      "model_module": "@jupyter-widgets/controls",
      "model_module_version": "1.5.0",
      "model_name": "HTMLModel",
      "state": {
       "layout": "IPY_MODEL_708bd863fcd445739e11d890b20965bf",
       "style": "IPY_MODEL_7c12d722d2d8490ba8cdf25a9a9ab4de",
       "value": "<h3>PercentageDisplacementMeasurement</h3>"
      }
     },
     "708bd863fcd445739e11d890b20965bf": {
      "model_module": "@jupyter-widgets/base",
      "model_module_version": "1.2.0",
      "model_name": "LayoutModel",
      "state": {}
     },
     "71af1d084b99466cb8ab07519fc77fb3": {
      "model_module": "@jupyter-widgets/base",
      "model_module_version": "1.2.0",
      "model_name": "LayoutModel",
      "state": {}
     },
     "77cfeb9c663b4f2899ee4f6f9b89a5cd": {
      "model_module": "@jupyter-widgets/output",
      "model_module_version": "1.0.0",
      "model_name": "OutputModel",
      "state": {
       "layout": "IPY_MODEL_a397f1ef29dc477db7559282e2fc9a86",
       "outputs": [
        {
         "name": "stdout",
         "output_type": "stream",
         "text": "PercentageDisplacementMeasurement (test=129), fold=0\n----------------------------------------------------\n MAE: 21.08±3.02 95CI=(16.16, 25.70)\n MSE: 1307.07±270.39 95CI=(883.77, 1711.71)\n  R2: -0.50±0.08 95CI=(-0.63, -0.39)\nRMSE: 35.95±3.85 95CI=(29.73, 41.37)\n"
        },
        {
         "data": {
          "image/png": "iVBORw0KGgoAAAANSUhEUgAAASUAAAEWCAYAAAAgiYF0AAAAOXRFWHRTb2Z0d2FyZQBNYXRwbG90bGliIHZlcnNpb24zLjMuMiwgaHR0cHM6Ly9tYXRwbG90bGliLm9yZy8vihELAAAACXBIWXMAAAsTAAALEwEAmpwYAAAhoUlEQVR4nO3debgcVbnv8e+PTQhhTiBACByCisigEomA8wDK4ED0iMIRT1S4HL044FWUKFfQg/dwDl4VLyoiKFxRFAED4hAwqAwKuBk0QIxRgoFNIBshEDRiiO/5Y62dVDbde/ceuru6+vd5nv3s7lXVVW9XrXq7hlWrFBGYmZXFRu0OwMysyEnJzErFScnMSsVJycxKxUnJzErFScnMSsVJyQCQ9DJJi8dhOvdKOng8YrLu1NKkJOl9knolPSnpgkHDDpR0jaRHJPVL+p6kaYXh20i6UNKK/HfaEPOZISkkPZH/7pV0cvO+2chJ+rmk41o0r9MkrZG0Kv/9XtLZxeUbEddHxB6tiKdTSHqnpBsGlV2Q69YbB5V/IZe/s6VBdoi83E5vZNxW7yk9AJwOfL3GsMnAucAMYFdgFfCNwvDPA5vl4fsD75D0rmHmt01EbAEcDXxS0qEjCVbSxiMZv+S+GxFbAlOANwE7ArcWE5M17PfAnIE3uZ4cCfyxbRHV0LH1NyJa/kdKTBcMM84LgFWF9w8DLyy8/zhwfZ3PzgAC2LhQ9mvgI/n1u4FFwKPAfGDXwngBnAAsAZbmsiOAO4DHSRXv0Fy+NXA+sBzoy9+rJw97J3AD8Nk8n6XAYXnYZ4C1wN+AJ4Czc/lZwH15PrcCLyvENQm4ME9rEfBR4P7C8J2Ay4D+PK8PFIadBlw0aBn1AL8BPpvfv3LQ9D6Wv9MqYDFwUGFalwLfzcNuA55f+Ny9wMH59f7Ar4CVeRmdDWxSGHdv4BrgEeAh4OO5fCPg5Lys/wxcAkwZtG7flZfVo8B7gBcCv83zOnvQdx1ufb8nr+9HgS8BAvbM62dtXkcr8/gX5HX6IDA5l70e+HFe3+9scL5Drev9gd487CHgc7XWUY3lPbBuLsqfPY7h6+iNpB/8lcA9wItz+X3ACmBOYV4T83dfluM6B5hUjA34cP7ccuBdedjxwBrg73lZ/mDIbb/ESelE4KZBSWn/wvtPAI8Ol5RyBXsJ8FfgIGA28Idc6TYGTgF+OaiSXkPao5iUK8hjwGtIG8t04Dl53HnAV4HNge2BW4B/K6zwNcD/ICWA95L2FJWH/xw4blDcxwDb5rg+TKr4m+ZhZwC/IO1R7kzaAO8vbMS3Ap8ENgGekSvYIfWSUi7/NHDz4AoP7JEr5U6F5fnMwrTWAG8BJgAfISXBCTU2kv2AA/P3mUHaQE/Mw7YkVdwPA5vm9wcU133+nhPzMr540Lo9J3/utaTkMS+vg+mkjeIVefzZDL++rwK2Af6JlNQPLazDGwYtswtI9fdc4L257BLS3vi6pNTAfIda178C3pFfbwEcOIKktCbPeyNS/Z3H0HX0KVKC78nfaxkpMU/My3YVsEUe/wvAlaRtY0vgB8B/FGJ7ilSnJgCHk7a5ycXl1lB+KGNSAp5H+vUs/npcBFyeF8azSL+iTw6TlFayfs/iA3nYj4FjC+NulBferoVK+urC8K8Cn68xjx2AJ8m/FLnsaOBnhRX+h8KwzfK0d6yXlGrM41HyXgiFJJPfH8f6JHIAsGzQZ+cC3xgmKb0HWFIjKT2LtGEfTE42hc+cxoY/FhuRksvLBm8kNeZ3IvD9wrK6vc54i8h7Zvn9NNLGNpDcApheGP5n4G2F95exPvk1sr5fWhh+CXByYR3WS0ovJSWPrUl7DZPYMCkNOd9h1vV1wKeA7QaNs24dFcrWLe+8bq4bYR1dUhj23Lw8dhi0bPcl/bj/hfzjlIe9iPVHE68EVrPh0ckK1ifUC2gwKZXu6pukZ5FW6Acj4vrCoA+QvvQS4ArgYtLu4lC2i4jJEbFnRHwxl+0KnCVppaSVpOQn0i/sgPsKr3eh9rmCXUm/CMsL0/oq6ddowIMDLyLir/nlFvWClfRhSYskPZantzWwXR6806C4iq93BXYaiCN/9uOkSjmU6aTvv4GI+AMpgZwGrJD0HUk71Zp3RPyDtB6Kwwe+z7MlXSXpQUmPA/+n8H3qLdeB7/P9wndZRDqMKn6fhwqvV9d4P7CcG1nfDxZe/5Uh1tGAiLgBmEraA7oqIlbX+A515zvMuj4WeDbwO0m/lvT64eIpGFwvhqujg5cbEVFrWU4l/bDeWpjWT3L5gD9HxFOF9w0ty8FKlZQk7Qr8FPj3iPhmcVhEPBIRb4+IHSNib1Lst4xiNveRdl+3KfxNiohfFmc3aPxn1pnOk6TENzCdrXJsjSjOA0kvI53HeStpl3cb0mGj8ijLSYczA3YZFMvSQd9py4g4vN7MJW0EvAG4vtbwiPh2RLyUVLED+M9a887T2Zl0aDrYV4DfAbtHxFakRDnwfeot14Fhhw36PptGRF+97zOERtZ3PTHM8ItIh17/fyTzHW5dR8SSiDialDz+E7hU0uakPZXNBmYgqYcNk8LgmMdaR4seJiWovQvT2jrShaRGDLcs12l1k4CNJW1KOn7tkbTpwBUCSdOBa4EvRcQ5NT77TEnbSuqRdBjp5FlDlxgHOQeYK2nvPN2tJR05xPjnA++SdJCkjSRNl/SciFgOXA38X0lb5WHPlPSKBuN4iHTuZ8CWpGPyfmBjSZ8EtioMvyTHPTkvq/cVht0CPC7pY5Im5WW0j6QXDp6ppAmS9iTtae4IfK7GOHtIerWkiaTzNatJeyoD9pP05rzuTiRV/JtqfMctSSdcn5D0HNJ5tQFXATtKOlHSRElbSjogDzsH+Ez+kULSVElH1Jh+I0a6voseAnaWtEmd4V8knWu8boTzHXJdSzpG0tS8F7oyF68lXfXbVNLrJE0g7aVNrBf8ONTR4rT+AXwN+Lyk7XOc0yUd0uAkBtf3ulq9p3QKqYKfTDrRtzqXQTpH8gzgVK1vX/RE4bP7AQtJJ97+A3h7RNw10gAi4vukX5/v5EOKO4HDhhj/FtKJwM+Tfs1+Qdp7APhX0onlu0nnBC4lnf9oxFnAWyQ9KumLpKszPyZVvD+RkkFxV/zTpMOkpaS9yUtJyYCIWEva69k3D38YOI90SDDgbXl5riSdrPwzsF9E1NrDmUg6sf4w6dBme9JezoArgLfl7/wO4M0RsabGdD4C/AtpnX2NdMWOHPMq0gb9hjyPJcCrCsvmSuBqSatICe8ARmGk63uQa4G7gAclPVxj2o9ExILIJ01GMN/h1vWhwF15fZ0FHBURf4uIx4D/SVq3faQ9p+FOYYyljg72MdLJ+5vyd/op6aJII84H9sqHfvOGGlE1lqd1AEnvJVXWEf/qjXG+pwHPiohjWjlf6x6lOqdk9UmaJukleRd8D9K5jO+3Oy6z8daZLT670yakKye7kQ7BvgN8uZ0BmTWDD9/MrFR8+GZmpdLRh2/bbbddzJgxo91hmFXSw088yfLH/sbfH/zDwxExuD1U03R0UpoxYwa9vb3tDsOscs67/h5O/+Ei3r3Pjpzzjll/auW8ffhmZhs4/4alnP7DRRz+3B354tEzWz5/JyUzW+f8G5by71fdzeHP3ZGzjprJhJ7Wp4iOPnwzs/EzcMjWzoQE3lMyM9YnpMP2aW9CAicls65XTEhfPLq9CQmaePgm6eukbkJXRMQ+uWwK6abMGaTOqd4aEY/mYXNJ/cisJXXINn884jhl3kIuvvk+1kbQI3H0Abtw+uznjsekzTpe2RISNHdP6QLS3c5FJwMLImJ3YEF+j6S9gKNIfTYfCnw59xUzJqfMW8hFNy1jbW61vjaCi25axinzFo510mYdr4wJCZqYlCLiOp7eq+ERpM7vyf9nF8q/ExFPRsRSUvcI+481hm/dtGxE5WbdoqwJCVp/TmmH3PHUQAdUA91yTmfD/mTuZ8PuSteRdLzSs+N6+/v7h5xZvbv6fLefdbPiVbayJSQoz4lu1SirmTsi4tyImBURs6ZObVnLd7NKKMtl/6G0OqKHlB9+mP+vyOX3s2Gf0/X6fDazUeqEhAStT0pXsv7JonNI3aoOlB+V+2reDdid0T0UYAOTN5swonKzquqUhARNTEqSLiY9F2sPSfdLOpbU7/NrJC0h9c98BkDua/sSUj/CPwFOyP1Oj8mpb9ibCT0bHhlO6BGnvmE0D3Mw60xlahjZiKa1U8qPiKnloDrjf4b0OOtxM3vmdHr/9MgG7ZTe9sJdmD2z5jl0s8op81W2esof4RjMu72Py27t26Cd0mW39jHv9tE8Psyss3RiQoKKJ6Uz5y9m9ZoNjwJXr1nLmfMXtykis9YY3P1IpyQkqHhS6ls5+EnKQ5ebVUEZuh8Zi86KdoR6VKv5U/1ys07X6QkJKt6f0to6T2qpV27WyTrpsv9QOjPqBk3fZtKIys06VVUSElQ8KZ10yB5MmrBhZwOTJvRw0iGNPv7crPw6rR3ScCp9+DbQHunM+Yt5YOVqdtpmEicdsofbKVlldOpl/6FUOilBSkxOQlZFVUxIUPHDN7OqKnv3I2NRnW9i1iWKDSOrcA5psGp9G7OKq0I7pOFU7xuZVVQ3JCToghPd827v89U363hVaoc0nEonpXm39zH38oXrbsrtW7mauZenJ5k4MVmn6KaEBBU/fHMvAdbpqtYwshGV/obuJcA6WVXbIQ2n0t/SvQRYp+rWhAQVT0ruJcA6UZUbRjai0t/WvQRYp6l6w8hGVPobu5cA6yTd0g5pOJVuEuBeAqxTOCGtV+mkBO4lwMqv29ohDae7v71ZmzkhPZ2XgFmbdGPDyEZU/vDN975ZGfkqW32VTkq+983KyCe1h1bppeF736xsnJCGV+k9pQfq3ONWr9ysmXxSuzGVXio71Wm5Xa/crFmckBpX6SUzY9vayadeuVkzOCGNTFuWjqQPSbpL0p2SLpa0qaQpkq6RtCT/nzzW+dx0z6MjKjcbb77sP3ItX0KSpgMfAGZFxD5AD3AUcDKwICJ2Bxbk92PiXgKsnbq5+5GxaNdS2hiYJGljYDPgAeAI4MI8/EJg9lhn4v6UrF2ckEav5UsqIvqAzwLLgOXAYxFxNbBDRCzP4ywHtq/1eUnHS+qV1Nvf3z/kvA58Ru0jwHrlZuOh2DDSCWnk2nH4Npm0V7QbsBOwuaRjGv18RJwbEbMiYtbUqVOHHPfeP9e+9F+v3Gys3A5p7NqxxA4GlkZEf0SsAS4HXgw8JGkaQP6/YqwzcjslayUnpPHRjqW2DDhQ0maSBBwELAKuBObkceYAV4x1Rm6nZK1y3vX3OCGNk3acU7oZuBS4DViYYzgXOAN4jaQlwGvy+zFxz5PWCm6HNL7acptJRJwKnDqo+EnSXtO4mT1zOt/rXcaNf3xkXdkL/mlr34xr48btkMZfpZfgKfMWbpCQAG784yOcMm9hmyKyKvFl/+ao9FK8+Ob7RlRu1ignpOap9JJ0i25rhm5/LluzVXppukW3jTf3GNl8lV6iRx+wy4jKzYbidkitUelO3k6f/VwgnUNaG0GPxNEH7LKu3KxRTkito+jg8yuzZs2K3t7edodhFdft7ZAk3RoRs1o1v0rvKYGfZmJj0+0JqR0qnZT8NBMbCzeMbI9KL2U/zcRGy+2Q2qfSS7qvTm8A9crNwAmp3Sq9tN1OyUbKDSPbr9JL3C26bSR8UrscKr3UvadkjXJCKo9KL3nvKVkjnJDKpdJL33tKNhxf9i+fSq8B7ynZUHyVrZwqvRam1+mLu165dQ8npPKq9Jo46ZA9mNCz4aHahB65j+4u5+eylVv118bgIzUfuXU13+1ffpVeI2fOX8yaf2yYhdb8I3ybSZdyQuoMlb4h17eZ2ABf9u8clV4zbhJg4ITUaSq9dtwkwNwOqfNUeg25SUB382X/zlTpteTHdncvJ6TOVek1NXvmdP55v+nrziH1SPzzftPd62TFufuRzlbptTXv9j4uu7Vv3TmktRFcdmsf827va3Nk1ix+Llvnq/Qac3e43cXtkKqh0mvN7ZS6hxNSdbRlzUnaRtKlkn4naZGkF0maIukaSUvy/8ljnY/bKXWH866/xwmpQtq19s4CfhIRzwGeDywCTgYWRMTuwIL8fkzcTqn63DCyelq+BiVtBbwcOB8gIv4eESuBI4AL82gXArPHOi+3U6o2N4yspiHXoqRVkh6v9zfKeT4D6Ae+Iel2SedJ2hzYISKWA+T/29eJ6XhJvZJ6+/v7h5yR2ylVl9shVdeQN+RGxJYAkj4NPAh8ExDwdmDLMczzBcD7I+JmSWcxgkO1iDgXOBdg1qxZQx6HDbRH8mO7q8UJqdoa7SXgkIg4oPD+K5JuBv5rFPO8H7g/Im7O7y8lJaWHJE2LiOWSpgErRjHtp5k9040lq8TnkKqv0TW6VtLbJfVI2kjS24G1w36qhoh4ELhP0sAx1EHA3cCVwJxcNge4YjTTt+pyw8ju0Oie0r+QrpidReq78cZcNlrvB74laRPgHuBdpAR5iaRjgWXAkWOYvlWM2yF1j4aSUkTcS7o6Ni4i4g5gVo1BB43XPKw6nJC6S0NrV9KzJS2QdGd+/zxJpzQ3NDM3jOxGja7hrwFzgTUAEfFb4KhmBWUGPqndrRpdy5tFxC2Dyp4a72DMBrhhZPdqdE0/LOmZ5AcUSXoLsLxpUVlX83PZulujV99OIDVYfI6kPmApqQGl2bjySW1rNCn9KSIOzreDbBQRq5oZlHUnJySDxg/flko6FzgQeKKJ8ViX8lU2G9Domt8D+CnpMG6ppLMlvbR5YVk38VU2K2po7UfE6oi4JCLeDMwEtgJ+0dTIrCs4IdlgDdcASa+Q9GXgNmBT4K1Ni8q6gi/7Wy0NneiWtBS4A7gEOCki/tLMoKz63P2I1TNsUpLUA3wjIj7dgnisCzgh2VCGrQ0RsRZ4VQtisS7ghpE2nEbbKf1S0tnAd4F1h24RcVtTorJKcjska0SjSenF+X/xEC6AV49vOFZVTkjWqEb7U/Lhm42aL/vbSDTan9IOks6X9OP8fq/cQ6TZkJyQbKQarSEXAPOBnfL73wMnNiEeqxC3Q7LRaLSWbBcRlwD/AIiIpxjlgwOsO/iyv41WozXlL5K2ZX1/SgcCjzUtKutoTkg2Fo1efftfpEcgPVPSjcBU4C1Ni8o6ls8h2Vg1evXtNkmvIPUWIGBxRKxpamTWcfxcNhsPjV59OxKYFBF3AbOB70p6QTMDs87idkg2XhqtOf87IlblPpQOAS4EvtK8sKyTOCHZeGr4sd35/+uAr0TEFcAmzQnJOol7jLTx1mgN6pP0VVIfSj+SNHEEn7WK8klta4ZGa9FbSY0nD42IlcAU4KRmBWXl54aR1iyNdof7V+Be4DBJ7wemRcTVzQzMysvtkKyZGr369knSye1tge2Ab0g6pZmBWTk5IVmzNdp48mhgZkT8DUDSGaS+uk9vVmBWPj6HZK3QaK26l/SwgAETgT+OezRWWk5I1ipD7ilJ+n+k+92eBO6SdE0edDBww1hmnPv+7gX6IuL1kqaQeracQUqCb42IR8cyDxsfTkjWSsMdvvXm/3cDC0i9BKwFfjYO8/4gsIj0DDmAk4EFEXGGpJPz+4+Nw3xsDJyQrNWGq2HfBvYmnTt6J3Bcfr1PHjYqknYmNcQ8r1B8BOlkOvn/7NFO38aHL/tbOwxXy/4LmAzsFhH7RcRM4BnA1sCZY5jvF4CPkvtnynaIiOUA+f/2tT4o6XhJvZJ6+/v7xxCCDcVX2axdhqtprweOj4hVAwUR8TjwXtKezohJej2wIiJuHc3nI+LciJgVEbOmTp06mknYMJyQrJ2GO6cUERE1CtdKelp5g14CvFHS4aQreltJugh4SNK0iFguaRqwYpTTtzFw9yPWbsPVuLsl/evgQknHAL8bzQwjYm5E7BwRM4CjgGsj4hhSJ3Jz8mhzgCtGM30bPd/tb2Uw3J7SCcDlkt4N3EpqHvBCYBLwpnGO5QzgkvyUlGXAkeM8fRuCE5KVxZBJKSL6gAMkvZp0FU7AjyNiwXjMPCJ+Dvw8v/4zcNB4TNdGxpf9rUwa7Q73WuDaJsdibeCEZGXjGtjFnJCsjFwLu5QbRlpZuSZ2IbdDsjJzbewyTkhWdq6RXaTYMNIJycrKtbJLuB2SdYpGe57sWPNu7+PM+Yt5YOVqdtpmEicdsgezZ05vd1gt5YRknaTSSWne7X3MvXwhq9ekx9b1rVzN3MsXAnRNYvJlf+s0la6hZ85fvC4hDVi9Zi1nzl/cpohaywnJOlGla2nfytUjKq8St0OyTlXpmtojjai8KnzZ3zpZpWvr2qd3BTVkeRU4IVmnq3SN7bY9peI5JCck61SVrrXdtKfkHiOtKlxzK8DtkKxKXHs7nBOSVU2lG09WndshWRW5FncoJySrKtfkDuSGkVZlrs0dxt2PWNW5RncQn9S2blDpWr379puPqLzMnJCsW1S6Zp/wqt1HVF5W511/jxOSdY1K1+56XZR0Utclvspm3abSNfyBOl2U1CsvGyck60aVruU7bTNpROVl4sv+1q0qXdNnbFs7+dQrLwt3P2LdrNK1/aZ7Hh1ReRk4IVm3q3SN77SuS9ww0qwNSUnSLpJ+JmmRpLskfTCXT5F0jaQl+f/kVsfWTm6HZJa0o+Y/BXw4IvYEDgROkLQXcDKwICJ2Bxbk913BCclsvZbX/ohYHhG35dergEXAdOAI4MI82oXA7FbH1g5uGGm2obZuAZJmADOBm4EdImI5pMQFbF/nM8dL6pXU29/f37JYm8HtkMyerm1bgaQtgMuAEyPi8UY/FxHnRsSsiJg1derUIcedXqc9Ur3yVnJCMqutLVuCpAmkhPStiLg8Fz8kaVoePg1YMdb5lLWdkhtGmtXXjqtvAs4HFkXE5wqDrgTm5NdzgCvGOq8ytlNyOySzobWjj+6XAO8AFkq6I5d9HDgDuETSscAy4Mixzqhs7ZSckMyG1/KkFBE3APWeBnnQeM6rR6qZgNrxMEo/l82sMZXeMrbbYsKIypvF7ZDMGlfpreOhVX8fUXkzOCGZjYyf+9ZEvuxvNnLeSprECclsdLylNIHbIZmNnreWcebL/mZj4y1mHDkhmY2dt5pxUjyH5IRkNnqV3nK2mtgzovLR8klts/FT6a3n8SfXjqh8NJyQzMaXt6AxcEIyG3/eikbJl/3NmsNb0ij4KptZ83hrGiEnJLPm8hY1An4um1nzeatqkO/2N2sNb1kNcEIyax13XTIMX/Y3ay1vYUNwQjJrPW9ldTghmbWHt7Qa3DDSrH28tQ3idkhm7eUtrsAJyaz9vNVlbhhpVg7e8nA7JLMy6fqtzwnJrFy6egt0QjIrn67dCp2QzMqpa7dEJySzcurardEJyaycunaLdEIyK6fSbZWSDpW0WNIfJJ3crPk4IZmVU6m2TEk9wJeAw4C9gKMl7dXeqMyslUqVlID9gT9ExD0R8XfgO8ARbY7JzFqobElpOnBf4f39uWwdScdL6pXU29/f39LgzKz5ypaUVKMsNngTcW5EzIqIWVOnTq07ofNvWDresZlZC5QtKd0P7FJ4vzPwwEgnMtAw0sw6T9mS0q+B3SXtJmkT4CjgypFMoNhSe8lnDqs5zr1nvG7skZpZU5TqwQER8ZSk9wHzgR7g6xFxV6Ofr9WFrROQWWcpVVICiIgfAT8a6efcp7ZZNVRiy3VCMquOjt96nZDMqqWjt+CHn3jSCcmsYjp6K17+2N/8GCSzilFEDD9WSUnqB/7UwKjbAQ83OZyxKHN8ZY4Nyh1fmWODxuPbNSLqt1QeZx2dlBolqTciZrU7jnrKHF+ZY4Nyx1fm2KC88fmYx8xKxUnJzEqlW5LSue0OYBhljq/MsUG54ytzbFDS+LrinJKZdY5u2VMysw7hpGRmpVL5pNSqBxE0GMsukn4maZGkuyR9MJdPkXSNpCX5/+Q2xtgj6XZJV5Uwtm0kXSrpd3kZvqhk8X0or9c7JV0sadN2xSfp65JWSLqzUFY3Fklz8zayWNIhrYixnkonpRI+iOAp4MMRsSdwIHBCjudkYEFE7A4syO/b5YPAosL7MsV2FvCTiHgO8HxSnKWIT9J04APArIjYh9T1zlFtjO8C4NBBZTVjyXXwKGDv/Jkv522nPSKisn/Ai4D5hfdzgbntjqsQzxXAa4DFwLRcNg1Y3KZ4diZV1lcDV+WyssS2FbCUfHGmUF6W+Ab6l59C6hLoKuC17YwPmAHcOdyyGrxdkPoze1E7lmNEVHtPiQYeRNAukmYAM4GbgR0iYjlA/r99m8L6AvBR4B+FsrLE9gygH/hGPrw8T9LmZYkvIvqAzwLLgOXAYxFxdVniy+rFUqrtpOpJadgHEbSDpC2Ay4ATI+LxdscDIOn1wIqIuLXdsdSxMfAC4CsRMRP4C+09lNxAPj9zBLAbsBOwuaRj2htVw0q1nVQ9KY3LgwjGk6QJpIT0rYi4PBc/JGlaHj4NWNGG0F4CvFHSvaTn7b1a0kUliQ3Surw/Im7O7y8lJamyxHcwsDQi+iNiDXA58OISxccQsZRqO6l6UhrzgwjGkyQB5wOLIuJzhUFXAnPy6zmkc00tFRFzI2LniJhBWk7XRsQxZYgtx/cgcJ+kPXLRQcDdlCQ+0mHbgZI2y+v5INKJ+LLExxCxXAkcJWmipN2A3YFb2hBf0q6TWS082Xc48Hvgj8An2hzLS0m7xb8F7sh/hwPbkk4wL8n/p7Q5zley/kR3aWID9gV68/KbB0wuWXyfAn4H3Al8E5jYrviAi0nnttaQ9oSOHSoW4BN5G1kMHNbO+ufbTMysVKp++GZmHcZJycxKxUnJzErFScnMSsVJycxKxUnJapK0VtId+Y7370nabAzTukDSW/Lr84a6KVrSKyW9eBTzuFfSdqON0crDScnqWR0R+0a64/3vwHuKA0d7F3lEHBcRdw8xyitJLaGtSzkpWSOuB56V92J+JunbwMLc99KZkn4t6beS/g1Sy3VJZ0u6W9IPKdyEKunnkmbl14dKuk3SbyQtyDcpvwf4UN5Le5mkqZIuy/P4taSX5M9uK+nqfHPuV6l9/5Z1oI3bHYCVm6SNSf1R/SQX7Q/sExFLJR1Puhv+hZImAjdKuprU+8EewHOBHUi3g3x90HSnAl8DXp6nNSUiHpF0DvBERHw2j/dt4PMRcYOkfyJ1q7EncCpwQ0R8WtLrgOObuiCsZZyUrJ5Jku7Ir68n3bP3YuCWiFiay18LPG/gfBGwNem+qZcDF0fEWuABSdfWmP6BwHUD04qIR+rEcTCwV7qdDICtJG2Z5/Hm/NkfSnp0dF/TysZJyepZHRH7FgtyYvhLsQh4f0TMHzTe4Qzf9YUaGAfSKYYXRcTqGrH4HqkK8jklG4v5wHtzdyxIenbueO060l3nPbmLjFfV+OyvgFfku9KRNCWXrwK2LIx3NfC+gTeS9s0vrwPenssOI92caxXgpGRjcR7pfNFtuYP6r5L2vr9PuhN9IfAV4BeDPxgR/aTzQJdL+g3w3TzoB8CbBk50k/u9zifS72b9VcBPAS+XdBvpMHJZk76jtZh7CTCzUvGekpmVipOSmZWKk5KZlYqTkpmVipOSmZWKk5KZlYqTkpmVyn8DulnnrSAJU4AAAAAASUVORK5CYII=\n",
          "text/plain": "<Figure size 432x288 with 1 Axes>"
         },
         "metadata": {},
         "output_type": "display_data"
        },
        {
         "name": "stdout",
         "output_type": "stream",
         "text": " MAE: 21.11±2.99 95CI=(16.14, 26.34)\n MSE: 1312.05±265.49 95CI=(868.72, 1750.15)\n  R2: -0.50±0.08 95CI=(-0.64, -0.38)\nRMSE: 36.03±3.74 95CI=(29.47, 41.83)\n"
        }
       ]
      }
     },
     "79c4f783f3b1482eb0fa21600e7dceb7": {
      "model_module": "@jupyter-widgets/base",
      "model_module_version": "1.2.0",
      "model_name": "LayoutModel",
      "state": {}
     },
     "7bb52f0158d84f9d876a2295ac5f05e1": {
      "model_module": "@jupyter-widgets/base",
      "model_module_version": "1.2.0",
      "model_name": "LayoutModel",
      "state": {}
     },
     "7c12d722d2d8490ba8cdf25a9a9ab4de": {
      "model_module": "@jupyter-widgets/controls",
      "model_module_version": "1.5.0",
      "model_name": "DescriptionStyleModel",
      "state": {
       "description_width": ""
      }
     },
     "80102e2fde014793a62e9c5ca48fa981": {
      "model_module": "@jupyter-widgets/base",
      "model_module_version": "1.2.0",
      "model_name": "LayoutModel",
      "state": {}
     },
     "810afc3495014cae9aeee0692c3140c5": {
      "model_module": "@jupyter-widgets/controls",
      "model_module_version": "1.5.0",
      "model_name": "VBoxModel",
      "state": {
       "children": [
        "IPY_MODEL_f896106d931b400ebf486685d5955699",
        "IPY_MODEL_f17fc088d6e04265bb8b4edc4d952b00"
       ],
       "layout": "IPY_MODEL_22e113e8badf42909817bfbe58f1c898"
      }
     },
     "82e94a636a0742249ee653c869646d32": {
      "model_module": "@jupyter-widgets/controls",
      "model_module_version": "1.5.0",
      "model_name": "HTMLModel",
      "state": {
       "layout": "IPY_MODEL_29644dc56562475791ba53773b9bf9ca",
       "style": "IPY_MODEL_b6158a08c2544c57939a2f1a6f003abc",
       "value": "<h3>PercentageDisplacementMeasurement</h3>"
      }
     },
     "85eadfbe94e343e79a34f5e5f3c87907": {
      "model_module": "@jupyter-widgets/base",
      "model_module_version": "1.2.0",
      "model_name": "LayoutModel",
      "state": {}
     },
     "86b4cd449d574db787773113997acc06": {
      "model_module": "@jupyter-widgets/base",
      "model_module_version": "1.2.0",
      "model_name": "LayoutModel",
      "state": {}
     },
     "87d63c38671449e388e2670e85966eea": {
      "model_module": "@jupyter-widgets/base",
      "model_module_version": "1.2.0",
      "model_name": "LayoutModel",
      "state": {}
     },
     "8888d8dd9397491aa5e1ae5e36c2c000": {
      "model_module": "@jupyter-widgets/base",
      "model_module_version": "1.2.0",
      "model_name": "LayoutModel",
      "state": {}
     },
     "8a8dc0c1e7004c2e8108abc6d66b4d18": {
      "model_module": "@jupyter-widgets/controls",
      "model_module_version": "1.5.0",
      "model_name": "DescriptionStyleModel",
      "state": {
       "description_width": ""
      }
     },
     "8aedfc6941fe44f1af6cadf944f66954": {
      "model_module": "@jupyter-widgets/output",
      "model_module_version": "1.0.0",
      "model_name": "OutputModel",
      "state": {
       "layout": "IPY_MODEL_e5a06b50b3f44d15bd1f3c9971c56b7e",
       "outputs": [
        {
         "name": "stdout",
         "output_type": "stream",
         "text": "PercentageDisplacementMeasurement (test=129), fold=0\n----------------------------------------------------\n MAE: 21.07±3.02 95CI=(16.15, 25.69)\n MSE: 1305.56±270.13 95CI=(883.04, 1709.72)\n  R2: -0.50±0.08 95CI=(-0.63, -0.38)\nRMSE: 35.93±3.85 95CI=(29.72, 41.35)\n"
        },
        {
         "data": {
          "image/png": "iVBORw0KGgoAAAANSUhEUgAAASUAAAEWCAYAAAAgiYF0AAAAOXRFWHRTb2Z0d2FyZQBNYXRwbG90bGliIHZlcnNpb24zLjMuMiwgaHR0cHM6Ly9tYXRwbG90bGliLm9yZy8vihELAAAACXBIWXMAAAsTAAALEwEAmpwYAAAhuklEQVR4nO3deZwdZZ3v8c+XJoSwJxAgBIagIsqiRiLgvoDD4kJ0XGDEiY5eRi8uzFWUOFx1HLzDDF4VLyoiKFxRlAEMiKOBCSrgCNgsyhJjHAKBJpBGCASNENrf/PE8nVSac7pPd5+lTp3v+/XqV5/zVJ2q36l66ndqeeopRQRmZmWxWacDMDMrclIys1JxUjKzUnFSMrNScVIys1JxUjKzUnFSMgAkvVzSsiZM525JhzUjJutNbU1Kkj4gqV/SE5LOGzHsEElXSXpY0qCkf5M0qzB8B0nnS1qd/z49ynzmSApJj+e/uyWd3LpvNn6SfirpvW2a16clrZe0Nv/9VtKZxeUbEddGxD7tiKdbSHqXpOtGlJ2X69YbR5R/MZe/q61Bdom83E5tZNx27yndD5wKfKPGsOnA2cAcYE9gLfDNwvAvAFvl4QcB75T07jHmt0NEbAMcC3xS0hHjCVbS5uMZv+S+FxHbAjOANwG7AjcVE5M17LfAguE3uZ68FfivjkVUQ9fW34ho+x8pMZ03xjgvBNYW3j8EvKjw/hPAtXU+OwcIYPNC2S+Bj+bXfwssBR4BFgN7FsYL4ARgObAilx0N3Ao8Rqp4R+Ty7YFzgVXAQP5efXnYu4DrgM/l+awAjszDPgsMAX8CHgfOzOVnAPfm+dwEvLwQ1zTg/DytpcDHgPsKw3cDLgEG87w+VBj2aeCCEcuoD/gV8Ln8/lUjpvfx/J3WAsuAQwvTuhj4Xh52M/D8wufuBg7Lrw8CfgGsycvoTGCLwrj7AVcBDwMPAp/I5ZsBJ+dl/XvgImDGiHX77rysHgHeB7wI+HWe15kjvutY6/t9eX0/AnwZEPDcvH6G8jpak8c/L6/TB4Dpuez1wI/y+n5Xg/MdbV0fBPTnYQ8Cn6+1jmos7+F1c0H+7HsZu47+nPSDvwa4C3hJLr8XWA0sKMxrav7uK3NcZwHTirEBH8mfWwW8Ow87HlgPPJmX5Q9G3fZLnJROBK4fkZQOKrz/B+CRsZJSrmAvBf4IHArMB36XK93mwCnAf46opFeR9iim5QryKPBa0sYyG3hOHncR8DVga2Bn4Ebg7worfD3wP0gJ4P2kPUXl4T8F3jsi7uOAHXNcHyFV/C3zsNOAn5H2KHcnbYD3FTbim4BPAlsAz8gV7PB6SSmXfwa4YWSFB/bJlXK3wvJ8ZmFa64G3AFOAj5KS4JQaG8mBwCH5+8whbaAn5mHbkiruR4At8/uDi+s+f8+peRlfOGLdnpU/95ek5LEor4PZpI3ilXn8+Yy9vq8AdgD+gpTUjyisw+tGLLPzSPX3bOD9uewi0t74hqTUwHxHW9e/AN6ZX28DHDKOpLQ+z3szUv1dxOh19ClSgu/L32slKTFPzct2LbBNHv+LwOWkbWNb4AfAPxdie4pUp6YAR5G2uenF5dZQfihjUgKeR/r1LP56XABcmhfGs0i/ok+MkZTWsHHP4kN52I+A9xTG3SwvvD0LlfQ1heFfA75QYx67AE+Qfyly2bHATwor/HeFYVvlae9aLynVmMcj5L0QCkkmv38vG5PIwcDKEZ9dCHxzjKT0PmB5jaT0LNKGfRg52RQ+82k2/bHYjJRcXj5yI6kxvxOB7xeW1S11xltK3jPL72eRNrbh5BbA7MLw3wNvL7y/hI3Jr5H1/bLC8IuAkwvrsF5SehkpeWxP2muYxqZJadT5jrGurwH+EdhpxDgb1lGhbMPyzuvmmnHW0eWFYQfk5bHLiGX7AtKP+x/IP0552IvZeDTxKmAdmx6drGZjQj2PBpNS6a6+SXoWaYV+OCKuLQz6EOlLLwcuAy4k7S6OZqeImB4Rz42IL+WyPYEzJK2RtIaU/ET6hR12b+H1HtQ+V7An6RdhVWFaXyP9Gg17YPhFRPwxv9ymXrCSPiJpqaRH8/S2B3bKg3cbEVfx9Z7AbsNx5M9+glQpRzOb9P03ERG/IyWQTwOrJX1X0m615h0Rfyath+Lw4e/zbElXSHpA0mPA/yl8n3rLdfj7fL/wXZaSDqOK3+fBwut1Nd4PL+dG1vcDhdd/ZJR1NCwirgNmkvaAroiIdTW+Q935jrGu3wM8G/iNpF9Kev1Y8RSMrBdj1dGRy42IqLUsZ5J+WG8qTOvHuXzY7yPiqcL7hpblSKVKSpL2BP4D+KeI+FZxWEQ8HBHviIhdI2I/Uuw3TmA295J2X3co/E2LiP8szm7E+M+sM50nSIlveDrb5dgaUZwHkl5OOo/zNtIu7w6kw0blUVaRDmeG7TEilhUjvtO2EXFUvZlL2gx4A3BtreER8Z2IeBmpYgfwL7XmnaezO+nQdKSvAr8B9o6I7UiJcvj71Fuuw8OOHPF9toyIgXrfZxSNrO96YozhF5AOvf7/eOY71rqOiOURcSwpefwLcLGkrUl7KlsNz0BSH5smhZExT7aOFj1ESlD7Faa1faQLSY0Ya1lu0O4mAZtL2pJ0/NonacvhKwSSZgNXA1+OiLNqfPaZknaU1CfpSNLJs4YuMY5wFrBQ0n55uttLeuso458LvFvSoZI2kzRb0nMiYhVwJfB/JW2Xhz1T0isbjONB0rmfYduSjskHgc0lfRLYrjD8ohz39LysPlAYdiPwmKSPS5qWl9H+kl40cqaSpkh6LmlPc1fg8zXG2UfSayRNJZ2vWUfaUxl2oKQ353V3IqniX1/jO25LOuH6uKTnkM6rDbsC2FXSiZKmStpW0sF52FnAZ/OPFJJmSjq6xvQbMd71XfQgsLukLeoM/xLpXOM145zvqOta0nGSZua90DW5eIh01W9LSa+TNIW0lza1XvBNqKPFaf0Z+DrwBUk75zhnSzq8wUmMrO91tXtP6RRSBT+ZdKJvXS6DdI7kGcCntLF90eOFzx4I3EY68fbPwDsi4o7xBhAR3yf9+nw3H1LcDhw5yvg3kk4EfoH0a/Yz0t4DwN+QTizfSToncDHp/EcjzgDeIukRSV8iXZ35Eani3UNKBsVd8c+QDpNWkPYmLyYlAyJiiLTX84I8/CHgHNIhwbC35+W5hnSy8vfAgRFRaw9nKunE+kOkQ5udSXs5wy4D3p6/8zuBN0fE+hrT+Sjw16R19nXSFTtyzGtJG/Qb8jyWA68uLJvLgSslrSUlvIOZgPGu7xGuBu4AHpD0UI1pPxwRSyKfNBnHfMda10cAd+T1dQZwTET8KSIeBf4nad0OkPacxjqFMZk6OtLHSSfvr8/f6T9IF0UacS6wbz70WzTaiKqxPK0LSHo/qbKO+1dvkvP9NPCsiDiunfO13lGqc0pWn6RZkl6ad8H3IZ3L+H6n4zJrtu5s8dmbtiBdOdmLdAj2XeArnQzIrBV8+GZmpeLDNzMrla4+fNtpp51izpw5nQ7DrJIeevwJVj36J5584HcPRcTI9lAt09VJac6cOfT393c6DLPKOefauzj1h0v52/135ax3zrunnfP24ZuZbeLc61Zw6g+XctQBu/KlY+e2ff5OSma2wbnXreCfrriTow7YlTOOmcuUvvaniK4+fDOz5hk+ZOtkQgLvKZkZGxPSkft3NiGBk5JZzysmpC8d29mEBC08fJP0DVI3oasjYv9cNoN0U+YcUudUb4uIR/KwhaR+ZIZIHbItbkYcpyy6jQtvuJehCPokjj14D06df0AzJm3W9cqWkKC1e0rnke52LjoZWBIRewNL8nsk7QscQ+qz+QjgK7mvmEk5ZdFtXHD9SoZyq/WhCC64fiWnLLptspM263plTEjQwqQUEdfw9F4NjyZ1fk/+P79Q/t2IeCIiVpC6RzhosjF8+/qV4yo36xVlTUjQ/nNKu+SOp4Y7oBrulnM2m/Yncx+bdle6gaTjlZ4d1z84ODjqzOrd1ee7/ayXFa+ylS0hQXlOdKtGWc3cERFnR8S8iJg3c2bbWr6bVUJZLvuPpt0RPaj88MP8f3Uuv49N+5yu1+ezmU1QNyQkaH9SupyNTxZdQOpWdbj8mNxX817A3kzsoQCbmL7VlHGVm1VVtyQkaGFSknQh6blY+0i6T9J7SP0+v1bSclL/zKcB5L62LyL1I/xj4ITc7/SkfOoN+zGlb9Mjwyl94lNvmMjDHMy6U5kaRjaiZe2U8iNiajm0zvifJT3Oumnmz51N/z0Pb9JO6e0v2oP5c2ueQzernDJfZaun/BFOwqJbBrjkpoFN2ildctMAi26ZyOPDzLpLNyYkqHhSOn3xMtat3/QocN36IU5fvKxDEZm1x8juR7olIUHFk9LAmpFPUh693KwKytD9yGR0V7Tj1KdazZ/ql5t1u25PSFDx/pSG6jyppV65WTfrpsv+o+nOqBs0e4dp4yo361ZVSUhQ8aR00uH7MG3Kpp0NTJvSx0mHN/r4c7Py67Z2SGOp9OHbcHuk0xcv4/4169hth2mcdPg+bqdkldGtl/1HU+mkBCkxOQlZFVUxIUHFD9/Mqqrs3Y9MRnW+iVmPKDaMrMI5pJGq9W3MKq4K7ZDGUr1vZFZRvZCQoAdOdC+6ZcBX36zrVakd0lgqnZQW3TLAwktv23BT7sCadSy8ND3JxInJukUvJSSo+OGbewmwble1hpGNqPQ3dC8B1s2q2g5pLJX+lu4lwLpVryYkqHhSci8B1o2q3DCyEZX+tu4lwLpN1RtGNqLS39i9BFg36ZV2SGOpdJMA9xJg3cIJaaNKJyVwLwFWfr3WDmksvf3tzTrMCenpvATMOqQXG0Y2ovKHb773zcrIV9nqq3RS8r1vVkY+qT26Si8N3/tmZeOENLZK7yndX+cet3rlZq3kk9qNqfRS2a1Oy+165Wat4oTUuEovmTk71k4+9crNWsEJaXw6snQk/b2kOyTdLulCSVtKmiHpKknL8//pk53P9Xc9Mq5ys2bzZf/xa/sSkjQb+BAwLyL2B/qAY4CTgSURsTewJL+fFPcSYJ3Uy92PTEanltLmwDRJmwNbAfcDRwPn5+HnA/MnO5N6/Sa5NyVrNSekiWv7koqIAeBzwEpgFfBoRFwJ7BIRq/I4q4Cda31e0vGS+iX1Dw4OjjqvYw/eo2b5ZpuJRbcMTPxLmI2i2DDSCWn8OnH4Np20V7QXsBuwtaTjGv18RJwdEfMiYt7MmTNHHffU+Qew9RZ9Tysf+nO4rZK1hNshTV4nlthhwIqIGIyI9cClwEuAByXNAsj/VzdjZn98cqhmudsqWbM5ITVHJ5baSuAQSVtJEnAosBS4HFiQx1kAXNaMmbmtkrXDOdfe5YTUJJ04p3QDcDFwM3BbjuFs4DTgtZKWA6/N7yfNvU9aq7kdUnN15DaTiPgU8KkRxU+Q9pqaqv+eh/lT4f63rbfo47NvOsA35FpTuB1S81V6CZ6y6DYuuH4lxVZJf3hyiP57Hu5YTFYdvuzfGpVeihfecO+4ys0a5YTUOpVekm7Rba3Q689la7VKL00/IdeazT1Gtl6ll2i9Ft31ys1G43ZI7VHpTt5OnX8AkM4hDUXQJ3HswXtsKDdrlBNS+yi6+PzKvHnzor+/v9NhWMX1ejskSTdFxLx2za/Se0rgp5nY5PR6QuqESiclP83EJsMNIzuj0kvZTzOxiXI7pM6p9JIeqNMTQL1yM3BC6rRKL223U7LxcsPIzqv0EneLbhsPn9Quh0ovde8pWaOckMqj0kvee0rWCCekcqn00veeko3Fl/3Lp9JrwHtKNhpfZSunSq+F2XX64a5Xbr3DCam8Kr0mTjp8H6b0bXqoNqVP7p+7x/m5bOVW/bUx8kjNR249zXf7l1+l18jpi5ex/s+bZqH1fhBlz3JC6g6VviHXt5nYMF/27x6VXjNuEmDghNRtKr123CTA3A6p+1R6DblJQG/zZf/uVOm15Ed29y4npO5V6TU1f+5s/urA2RvOIfVJ/NWBs93rZMW5+5HuVum1teiWAS65aWDDOaShCC65aYBFtwx0ODJrFT+XrftVeo25O9ze4nZI1VDpteZ2Sr3DCak6OrLmJO0g6WJJv5G0VNKLJc2QdJWk5fn/9MnOx+2UesM5197lhFQhnVp7ZwA/jojnAM8HlgInA0siYm9gSX4/KW6nVH1uGFk9bV+DkrYDXgGcCxART0bEGuBo4Pw82vnA/MnOy+2Uqs0NI6tp1LUoaa2kx+r9TXCezwAGgW9KukXSOZK2BnaJiFUA+f/OdWI6XlK/pP7BwcFRZ+R2StXldkjVNeoNuRGxLYCkzwAPAN8CBLwD2HYS83wh8MGIuEHSGYzjUC0izgbOBpg3b96ox2HD7ZH82O5qcUKqtkZ7CTg8Ig4uvP+qpBuAf53APO8D7ouIG/L7i0lJ6UFJsyJilaRZwOoJTPtp5s91Y8kq8Tmk6mt0jQ5JeoekPkmbSXoHMDTmp2qIiAeAeyUNH0MdCtwJXA4syGULgMsmMn2rLjeM7A2N7in9NemK2Rmkvht/nssm6oPAtyVtAdwFvJuUIC+S9B5gJfDWSUzfKsbtkHpHQ0kpIu4mXR1rioi4FZhXY9ChzZqHVYcTUm9paO1KerakJZJuz++fJ+mU1oZm5oaRvajRNfx1YCGwHiAifg0c06qgzMAntXtVo2t5q4i4cUTZU80OxmyYG0b2rkbX9EOSnkl+QJGktwCrWhaV9TQ/l623NXr17QRSg8XnSBoAVpAaUJo1lU9qW6NJ6Z6IOCzfDrJZRKxtZVDWm5yQDBo/fFsh6WzgEODxFsZjPcpX2WxYo2t+H+A/SIdxKySdKellrQvLeomvsllRQ2s/ItZFxEUR8WZgLrAd8LOWRmY9wQnJRmq4Bkh6paSvADcDWwJva1lU1hN82d9qaehEt6QVwK3ARcBJEfGHVgZl1efuR6yeMZOSpD7gmxHxmTbEYz3ACclGM2ZtiIgh4NVtiMV6gBtG2lgabaf0n5LOBL4HbDh0i4ibWxKVVZLbIVkjGk1KL8n/i4dwAbymueFYVTkhWaMa7U/Jh282Yb7sb+PRaH9Ku0g6V9KP8vt9cw+RZqNyQrLxarSGnAcsBnbL738LnNiCeKxC3A7JJqLRWrJTRFwE/BkgIp5igg8OsN7gy/42UY3WlD9I2pGN/SkdAjzasqisqzkh2WQ0evXtf5EegfRMST8HZgJvaVlU1rV8Dskmq9GrbzdLeiWptwAByyJifUsjs67j57JZMzR69e2twLSIuAOYD3xP0gtbGZh1F7dDsmZptOb874hYm/tQOhw4H/hq68KybuKEZM3U8GO78//XAV+NiMuALVoTknUT9xhpzdZoDRqQ9DVSH0r/LmnqOD5rFeWT2tYKjdait5EaTx4REWuAGcBJrQrKys8NI61VGu0O94/A3cCRkj4IzIqIK1sZmJWX2yFZKzV69e2TpJPbOwI7Ad+UdEorA7NyckKyVmu08eSxwNyI+BOApNNIfXWf2qrArHx8DsnaodFadTfpYQHDpgL/1fRorLSckKxdRt1TkvT/SPe7PQHcIemqPOgw4LrJzDj3/d0PDETE6yXNIPVsOYeUBN8WEY9MZh7WHE5I1k5jHb715/93AktIvQQMAT9pwrw/DCwlPUMO4GRgSUScJunk/P7jTZiPTYITkrXbWDXsO8B+pHNH7wLem1/vn4dNiKTdSQ0xzykUH006mU7+P3+i07fm8GV/64Sxatm/AtOBvSLiwIiYCzwD2B44fRLz/SLwMXL/TNkuEbEKIP/fudYHJR0vqV9S/+Dg4CRCsNH4Kpt1ylg17fXA8RGxdrggIh4D3k/a0xk3Sa8HVkfETRP5fEScHRHzImLezJkzJzIJG4MTknXSWOeUIiKiRuGQpKeVN+ilwBslHUW6oredpAuAByXNiohVkmYBqyc4fZsEdz9inTZWjbtT0t+MLJR0HPCbicwwIhZGxO4RMQc4Brg6Io4jdSK3II+2ALhsItO3ifPd/lYGY+0pnQBcKulvgZtIzQNeBEwD3tTkWE4DLspPSVkJvLXJ07dROCFZWYyalCJiADhY0mtIV+EE/CgiljRj5hHxU+Cn+fXvgUObMV0bH1/2tzJptDvcq4GrWxyLdYATkpWNa2APc0KyMnIt7FFuGGll5ZrYg9wOycrMtbHHOCFZ2blG9pBiw0gnJCsr18oe4XZI1i0a7Xmyay26ZYDTFy/j/jXr2G2HaZx0+D7Mnzu702G1lROSdZNKJ6VFtwyw8NLbWLc+PbZuYM06Fl56G0DPJCZf9rduU+kaevriZRsS0rB164c4ffGyDkXUXk5I1o0qXUsH1qwbV3mVuB2SdatK19Q+aVzlVeHL/tbNKl1bh57eFdSo5VXghGTdrtI1ttf2lIrnkJyQrFtVutb20p6Se4y0qnDNrQC3Q7Iqce3tck5IVjWVbjxZdW6HZFXkWtylnJCsqlyTu5AbRlqVuTZ3GXc/YlXnGt1FfFLbekGla/XeO289rvIyc0KyXlHpmn3Cq/ceV3lZnXPtXU5I1jMqXbvrdVHSTV2X+Cqb9ZpK1/D763RRUq+8bJyQrBdVupbvtsO0cZWXiS/7W6+qdE2fs2Pt5FOvvCzc/Yj1skrX9uvvemRc5WXghGS9rtI1vtu6LnHDSLMOJCVJe0j6iaSlku6Q9OFcPkPSVZKW5//T2x1bJ7kdklnSiZr/FPCRiHgucAhwgqR9gZOBJRGxN7Akv+8JTkhmG7W99kfEqoi4Ob9eCywFZgNHA+fn0c4H5rc7tk5ww0izTXV0C5A0B5gL3ADsEhGrICUuYOc6nzleUr+k/sHBwbbF2gpuh2T2dB3bCiRtA1wCnBgRjzX6uYg4OyLmRcS8mTNnjjru7DrtkeqVt5MTklltHdkSJE0hJaRvR8SlufhBSbPy8FnA6snOp6ztlNww0qy+Tlx9E3AusDQiPl8YdDmwIL9eAFw22XmVsZ2S2yGZja4TfXS/FHgncJukW3PZJ4DTgIskvQdYCbx1sjMqWzslJySzsbU9KUXEdUC9p0Ee2sx59Uk1E1AnHkbp57KZNabSW8ZO20wZV3mruB2SWeMqvXU8uPbJcZW3ghOS2fj4uW8t5Mv+ZuPnraRFnJDMJsZbSgu4HZLZxHlraTJf9jebHG8xTeSEZDZ53mqapHgOyQnJbOIqveVsN7VvXOUT5ZPaZs1T6a3nsSeGxlU+EU5IZs3lLWgSnJDMms9b0QT5sr9Za3hLmgBfZTNrHW9N4+SEZNZa3qLGwc9lM2s9b1UN8t3+Zu3hLasBTkhm7eOuS8bgy/5m7eUtbBROSGbt562sDicks87wllaDG0aadY63thHcDsmss7zFFTghmXWet7rMDSPNysFbHm6HZFYmPb/1OSGZlUtPb4FOSGbl07NboROSWTn17JbohGRWTj27NTohmZVTz26RTkhm5VS6rVLSEZKWSfqdpJNbNR8nJLNyKtWWKakP+DJwJLAvcKykfTsblZm1U6mSEnAQ8LuIuCsingS+Cxzd4ZjMrI3KlpRmA/cW3t+XyzaQdLykfkn9g4ODbQ3OzFqvbElJNcpikzcRZ0fEvIiYN3PmzLoTOve6Fc2OzczaoGxJ6T5gj8L73YH7xzuR4YaRZtZ9ypaUfgnsLWkvSVsAxwCXj2cCxZbayz97ZM1x7j7tdZOP1MxaolQPDoiIpyR9AFgM9AHfiIg7Gv18rS5snYDMukupkhJARPw78O/j/Zz71DarhkpsuU5IZtXR9VuvE5JZtXT1FvzQ4084IZlVTFdvxase/ZMfg2RWMYqIsccqKUmDwD0NjLoT8FCLw5mMMsdX5tig3PGVOTZoPL49I6J+S+Um6+qk1ChJ/RExr9Nx1FPm+MocG5Q7vjLHBuWNz8c8ZlYqTkpmViq9kpTO7nQAYyhzfGWODcodX5ljg5LG1xPnlMyse/TKnpKZdQknJTMrlconpXY9iKDBWPaQ9BNJSyXdIenDuXyGpKskLc//p3cwxj5Jt0i6ooSx7SDpYkm/ycvwxSWL7+/zer1d0oWStuxUfJK+IWm1pNsLZXVjkbQwbyPLJB3ejhjrqXRSKuGDCJ4CPhIRzwUOAU7I8ZwMLImIvYEl+X2nfBhYWnhfptjOAH4cEc8Bnk+KsxTxSZoNfAiYFxH7k7reOaaD8Z0HHDGirGYsuQ4eA+yXP/OVvO10RkRU9g94MbC48H4hsLDTcRXiuQx4LbAMmJXLZgHLOhTP7qTK+hrgilxWlti2A1aQL84UyssS33D/8jNIXQJdAfxlJ+MD5gC3j7WsRm4XpP7MXtyJ5RgR1d5TooEHEXSKpDnAXOAGYJeIWAWQ/+/cobC+CHwM+HOhrCyxPQMYBL6ZDy/PkbR1WeKLiAHgc8BKYBXwaERcWZb4snqxlGo7qXpSGvNBBJ0gaRvgEuDEiHis0/EASHo9sDoibup0LHVsDrwQ+GpEzAX+QGcPJTeRz88cDewF7AZsLem4zkbVsFJtJ1VPSk15EEEzSZpCSkjfjohLc/GDkmbl4bOA1R0I7aXAGyXdTXre3mskXVCS2CCty/si4ob8/mJSkipLfIcBKyJiMCLWA5cCLylRfIwSS6m2k6onpUk/iKCZJAk4F1gaEZ8vDLocWJBfLyCda2qriFgYEbtHxBzScro6Io4rQ2w5vgeAeyXtk4sOBe6kJPGRDtsOkbRVXs+Hkk7ElyU+RonlcuAYSVMl7QXsDdzYgfiSTp3MauPJvqOA3wL/BfxDh2N5GWm3+NfArfnvKGBH0gnm5fn/jA7H+So2nuguTWzAC4D+vPwWAdNLFt8/Ar8Bbge+BUztVHzAhaRzW+tJe0LvGS0W4B/yNrIMOLKT9c+3mZhZqVT98M3MuoyTkpmVipOSmZWKk5KZlYqTkpmVipOS1SRpSNKt+Y73f5O01SSmdZ6kt+TX54x2U7SkV0l6yQTmcbeknSYao5WHk5LVsy4iXhDpjvcngfcVB070LvKIeG9E3DnKKK8itYS2HuWkZI24FnhW3ov5iaTvALflvpdOl/RLSb+W9HeQWq5LOlPSnZJ+SOEmVEk/lTQvvz5C0s2SfiVpSb5J+X3A3+e9tJdLminpkjyPX0p6af7sjpKuzDfnfo3a929ZF9q80wFYuUnanNQf1Y9z0UHA/hGxQtLxpLvhXyRpKvBzSVeSej/YBzgA2IV0O8g3Rkx3JvB14BV5WjMi4mFJZwGPR8Tn8njfAb4QEddJ+gtStxrPBT4FXBcRn5H0OuD4li4IaxsnJatnmqRb8+trSffsvQS4MSJW5PK/BJ43fL4I2J5039QrgAsjYgi4X9LVNaZ/CHDN8LQi4uE6cRwG7JtuJwNgO0nb5nm8OX/2h5IemdjXtLJxUrJ61kXEC4oFOTH8oVgEfDAiFo8Y7yjG7vpCDYwD6RTDiyNiXY1YfI9UBfmckk3GYuD9uTsWJD07d7x2Demu877cRcara3z2F8Ar813pSJqRy9cC2xbGuxL4wPAbSS/IL68B3pHLjiTdnGsV4KRkk3EO6XzRzbmD+q+R9r6/T7oT/Tbgq8DPRn4wIgZJ54EulfQr4Ht50A+ANw2f6Cb3e51PpN/JxquA/wi8QtLNpMPIlS36jtZm7iXAzErFe0pmVipOSmZWKk5KZlYqTkpmVipOSmZWKk5KZlYqTkpmVir/Dcg37SDaW0WRAAAAAElFTkSuQmCC\n",
          "text/plain": "<Figure size 432x288 with 1 Axes>"
         },
         "metadata": {},
         "output_type": "display_data"
        },
        {
         "name": "stdout",
         "output_type": "stream",
         "text": " MAE: 21.10±2.99 95CI=(16.13, 26.32)\n MSE: 1310.54±265.25 95CI=(867.96, 1748.58)\n  R2: -0.50±0.08 95CI=(-0.64, -0.38)\nRMSE: 36.01±3.74 95CI=(29.46, 41.82)\n"
        }
       ]
      }
     },
     "8e2dc6ed49c148d9bd4df7660f4125a5": {
      "model_module": "@jupyter-widgets/base",
      "model_module_version": "1.2.0",
      "model_name": "LayoutModel",
      "state": {}
     },
     "905ff45dfb2a408182505d306193a2bf": {
      "model_module": "@jupyter-widgets/output",
      "model_module_version": "1.0.0",
      "model_name": "OutputModel",
      "state": {
       "layout": "IPY_MODEL_e5e35cbd7d4c43498355efd0cad1396a",
       "outputs": [
        {
         "name": "stdout",
         "output_type": "stream",
         "text": "PercentageDisplacementMeasurement (test=129), fold=1\n----------------------------------------------------\n MAE: 20.53±2.83 95CI=(16.32, 25.51)\n MSE: 1156.54±257.38 95CI=(805.49, 1644.31)\n  R2: -0.56±0.08 95CI=(-0.69, -0.42)\nRMSE: 33.79±3.81 95CI=(28.38, 40.55)\n"
        },
        {
         "data": {
          "image/png": "iVBORw0KGgoAAAANSUhEUgAAASUAAAEWCAYAAAAgiYF0AAAAOXRFWHRTb2Z0d2FyZQBNYXRwbG90bGliIHZlcnNpb24zLjMuMiwgaHR0cHM6Ly9tYXRwbG90bGliLm9yZy8vihELAAAACXBIWXMAAAsTAAALEwEAmpwYAAAh5UlEQVR4nO3debgcVbnv8e+PECDIkCABQkCCiiCDgmwBxRmODA4gisIRT1S8HL1OOAf1Knr0ilevihdlEBSuKMIBDIhHAQMKOICBoAwBg4RpG0hQAkEjhvieP9ZqUtl0791791Rd/fs8z3727lXVVW9XrXp31arVqxQRmJmVxTq9DsDMrMhJycxKxUnJzErFScnMSsVJycxKxUnJzErFSckAkPRiSbe3YTl3Sdq/HTHZYOpqUpL0HknzJT0m6cwR0/aRdLmkv0haJuk/Jc0oTJ8q6SxJS/PP8aOsZ5akkPRo/rlL0pzOfbLxk/RzSe/o0rqOl7RK0or88wdJJxW3b0RcHRE7diOefiHprZKuGVF2Zq5brx1R/rVc/tauBtkn8nb7XDPzdvtM6U/A54Bv15k2DTgNmAVsB6wAvlOY/lVgwzx9L+Atkt42xvqmRsRGwJHApyQdOJ5gJa07nvlL7tyI2BjYDHgdsBVwfTExWdP+AMyuvcj15HDgjz2LqI6+rb8R0fUfUmI6c4x5ngesKLx+EHh+4fXHgasbvHcWEMC6hbLfAh/Of78dWAg8BFwKbFeYL4B3A4uAxbnsEOBG4BFSxTswl28KnAEsAYbz55qUp70VuAb4cl7PYuCgPO3zwGrg78CjwEm5/ETg3rye64EXF+KaApyVl7UQ+ChwX2H61sAFwLK8rvcVph0PnD1iG00Cfgd8Ob9+2YjlfSx/phXA7cB+hWWdD5ybp90APLfwvruA/fPfewG/BpbnbXQSsF5h3l2Ay4G/AA8AH8/l6wBz8rb+M3AesNmIffu2vK0eAt4JPB/4fV7XSSM+61j7+515fz8EfAMQ8Oy8f1bnfbQ8z39m3qf3A9Ny2auBn+T9/dYm1zvavt4LmJ+nPQB8pd4+qrO9a/vm7PzedzB2Hf0l6R/+cuBO4IW5/F5gKTC7sK7182e/J8d1CjClGBvwofy+JcDb8rRjgFXAP/K2/NGox36Jk9KxwG9GJKW9Cq8/ATw0VlLKFWxf4G/AfsChwB250q0LfBL41YhKejnpjGJKriAPA/9COlhmAjvleecCpwJPAbYArgP+vbDDVwH/g5QA3kU6U1Se/nPgHSPiPgp4ao7rQ6SKv0GedgLwC9IZ5TakA/C+wkF8PfApYD3g6bmCHdAoKeXyzwLXjqzwwI65Um5d2J7PKCxrFfAGYDLwYVISnFznINkT2Cd/nlmkA/TYPG1jUsX9ELBBfr13cd/nz7l+3sbnjNi3p+T3vZKUPObmfTCTdFC8NM9/KGPv70uAqcDTSEn9wMI+vGbENjuTVH9PA96Vy84jnY0/kZSaWO9o+/rXwFvy3xsB+4wjKa3K616HVH/nMnodfZyU4Cflz3UPKTGvn7ftCmCjPP/XgItJx8bGwI+ALxRie5xUpyYDB5OOuWnF7dZUfihjUgKeQ/rvWfzvcTZwYd4YzyT9F31sjKS0nDVnFu/L034CHF2Yd5288bYrVNJXFKafCny1zjq2BB4j/6fIZUcCVxZ2+B2FaRvmZW/VKCnVWcdD5LMQCkkmv34Ha5LI3sA9I957HPCdMZLSO4FFdZLSM0kH9v7kZFN4z/Gs/c9iHVJyefHIg6TO+o4FfljYVgsazLeQfGaWX88gHWy15BbAzML0PwNvKry+gDXJr5n9/aLC9POAOYV92CgpvYiUPDYlnTVMYe2kNOp6x9jXVwGfATYfMc8T+6hQ9sT2zvvmqnHW0UWFabvl7bHliG27O+mf+1/J/5zytBew5mriZcBK1r46WcqahHomTSal0t19k/RM0g59f0RcXZj0PtKHXgRcBJxDOl0czeYRMS0inh0RX89l2wEnSlouaTkp+Yn0H7bm3sLf21K/rWA70n+EJYVlnUr6b1Rzf+2PiPhb/nOjRsFK+pCkhZIezsvbFNg8T956RFzFv7cDtq7Fkd/7cVKlHM1M0udfS0TcQUogxwNLJf1A0tb11h0R/yTth+L02ud5lqRLJN0v6RHgfxc+T6PtWvs8Pyx8loWky6ji53mg8PfKOq9r27mZ/X1/4e+/Mco+qomIa4DppDOgSyJiZZ3P0HC9Y+zro4FnAbdJ+q2kV48VT8HIejFWHR253YiIettyOukf6/WFZf00l9f8OSIeL7xualuOVKqkJGk74GfAf0TEd4vTIuIvEfHmiNgqInYhxX7dBFZzL+n0dWrhZ0pE/Kq4uhHzP6PBch4jJb7acjbJsTWjuA4kvZjUjvNG0invVNJlo/IsS0iXMzXbjohl8YjPtHFEHNxo5ZLWAV4DXF1vekR8PyJeRKrYAXyx3rrzcrYhXZqOdDJwG7BDRGxCSpS1z9Nou9amHTTi82wQEcONPs8omtnfjcQY088mXXr9//Gsd6x9HRGLIuJIUvL4InC+pKeQzlQ2rK1A0iTWTgojY261jhY9SEpQuxSWtWmkG0nNGGtbPqHbXQLWlbQB6fp1kqQNancIJM0ErgC+ERGn1HnvMyQ9VdIkSQeRGs+ausU4winAcZJ2ycvdVNLho8x/BvA2SftJWkfSTEk7RcQS4DLg/0raJE97hqSXNhnHA6S2n5qNSdfky4B1JX0K2KQw/bwc97S8rd5TmHYd8Iikj0makrfRrpKeP3KlkiZLejbpTHMr4Ct15tlR0iskrU9qr1lJOlOp2VPSYXnfHUuq+L+p8xk3JjW4PippJ1K7Ws0lwFaSjpW0vqSNJe2dp50CfD7/k0LSdEmH1Fl+M8a7v4seALaRtF6D6V8ntTVeNc71jrqvJR0laXo+C12ei1eT7vptIOlVkiaTztLWbxR8G+pocVn/BL4FfFXSFjnOmZIOaHIRI+t7Q90+U/okqYLPITX0rcxlkNpIng58Wmv6Fz1aeO+ewE2khrcvAG+OiFvGG0BE/JD03+cH+ZLiZuCgUea/jtQQ+FXSf7NfkM4eAP6N1LB8K6lN4HxS+0czTgTeIOkhSV8n3Z35Cani3U1KBsVT8c+SLpMWk84mzyclAyJiNemsZ/c8/UHgdNIlQc2b8vZcTmqs/DOwZ0TUO8NZn9Sw/iDp0mYL0llOzUXAm/JnfgtwWESsqrOcDwP/Stpn3yLdsSPHvIJ0QL8mr2MR8PLCtrkYuEzSClLC25sJGO/+HuEK4BbgfkkP1ln2XyJiXuRGk3Gsd6x9fSBwS95fJwJHRMTfI+Jh4H+S9u0w6cxprCaMVuroSB8jNd7/Jn+mn5FuijTjDGDnfOk3d7QZVWd7Wh+Q9C5SZR33f70W13s88MyIOKqb67XBUao2JWtM0gxJ++ZT8B1JbRk/7HVcZu3Wnz0+B9N6pDsn25MuwX4AfLOXAZl1gi/fzKxUfPlmZqXS15dvm2++ecyaNavXYZhV0oOPPsaSh//OP+6/48GIGNkfqmP6OinNmjWL+fPn9zoMs8o5/eo7+dyPF/L2XbfilLcM3d3NdfvyzczWcsY1i/ncjxdy8G5b8fUj9+j6+p2UzOwJZ1yzmP+45FYO3m0rTjxiDyZP6n6K6OvLNzNrn9olWy8TEvhMycxYk5AO2rW3CQmclMwGXjEhff3I3iYk6GBSkvRtpQH+by6Ubab0cIBF+fe0wrTjJN0h6fZxfPPYzFpQtoQEnT1TOpP0beeiOcC8iNgBmJdfI2ln4AjSmM0HAt/MY8W0bO6CYfY94Qq2n/Nj9j3hCuYumMiQPGbVU8aEBB1MShFxFU8e1fAQ0uD35N+HFsp/EBGPRcRi0vAIe7Uaw9wFw3zw3BsZXr6SAIaXr+SD597oxGQDr6wJCbrfprRlHniqNgBVbVjOmaw9nsx9rD1c6RMkHaP07Lj5y5YtG3Vlx134e/45ouyfudxsUBXvspUtIUF5GrpVp6zuN4Uj4rSIGIqIoenTR+/5vnLVyJQ0erlZ1ZXltv9ouh3RA8oPP8y/l+by+1h7zOlGYz6b2QT1Q0KC7ieli1nzZNHZpGFVa+VH5LGatwd2YGIPBTCzOvolIUEHe3RLOof0LKjNJd0HfJo07vN5ko4mPfTucICIuEXSeaRxhB8H3p3HnTazFpWpY2QzOpaU8iNi6tmvwfyfJz3Oum2mTF6nbvvRlMnl3ilm7VLmu2yNlD/CFnzhsOc86QOuk8vNqq4fExJU/Au5h+6RehV86dLb+dPylWw9dQofOWDHJ8rNqqo4/Eg/XLIVVTopQUpMTkI2SMow/Egr+itaMxtVvyckGIAzJbNB0U+3/UdT+aQ0d8Gw25Ss8qqSkKDiSWnugmGOu/AmVq5KXZ6Gl6/kuAtvAnBissrot35IY+nv6MfwpUtvfyIh1axctZovXXp7jyIya69+ve0/mv7/BKP40/KV4yo36ydVTEhQ8aS09dQp4yo36xdlH36kFdX5JHV85IAdmTJ57QEsp0yexEcO2LFHEZm1rp87Rjaj0g3d7tFtVVOFfkhjqXRSAvfotuoYhIQEA5CU3E/JqqBK/ZDGUumk5H5KVgWDlJCg4g3d7qdk/a5qHSObUelP6H5K1s+q2g9pLJX+lO6nZP1qUBMSVDwpuZ+S9aMqd4xsRqUbut1PyfpN1TtGNqPSSQncT8n6x6D0QxpL5ZOS+ylZP3BCWqPSScn9lKwfDFo/pLFU+tO7n5KVnRPSk1V6C7ifkpXZIHaMbEalt4L7KVlZFe+yDeJt/9FUeku4n5KVkRu1R1fphm73U7KycUIaW6WTErifkpWHG7WbU/mk5H5KVgZOSM2rdFJyPyUrAyek8enJ1pH0AUm3SLpZ0jmSNpC0maTLJS3Kv6e1uh73U7Je823/8ev6FpI0E3gfMBQRuwKTgCOAOcC8iNgBmJdft8T9lKyXBnn4kVb0aiutC0yRtC6wIfAn4BDgrDz9LODQVlfifkrWK05IE9f1LRURw8CXgXuAJcDDEXEZsGVELMnzLAG2qPd+ScdImi9p/rJly0Zdl/spWS+4Y2RrenH5No10VrQ9sDXwFElHNfv+iDgtIoYiYmj69OmjznvoHjN5/Z4zmSQBMEni9Xu6i4B1jvshta4XW2x/YHFELIuIVcCFwAuBByTNAMi/l7a6orkLhrng+mFWRwCwOoILrh9m7oLhVhdt9iROSO3Ri612D7CPpA0lCdgPWAhcDMzO88wGLmp1Rb77Zt1y+tV3OiG1Sdf7KUXEtZLOB24AHgcWAKcBGwHnSTqalLgOb3Vdvvtm3eB+SO3Vk86TEfFp4NMjih8jnTW1zdZTpzBcJwH57pu1i/shtV+lt6Dvvlkn+bZ/Z1T6ayYeJcA6xQmpcyqdlMCjBFj7uQ2psyqflDxKgLWTn8vWeZVOSh4lwNrJ/ZC6o9Jb1f2UrF2ckLqn0mdK7qdk7eA2pO6q9Nb1KAHWKiek7qv0FnY/JWuFO0b2RqUv39xPySbK/ZB6p9JJCdxPycbPCam3Kp+UPjn3Js659l5WRzBJ4si9t+Vzh+7W67CspNyG1HuVTkqfnHsTZ//mnider4544rUTk43khFQOld7q51x777jKbXA5IZVHpbd8bcTJZsttMDkhlUult35tbO5my23w+LZ/+VR6Dxy597bjKrfB4rts5VTphu5aY7bvvtlITkjlpejj9pWhoaGYP39+r8OwPuMv146PpOsjYqhb6/PesIHihFR+3iM2MJyQ+kOl25TManzbv394z1jlOSH1F+8dqzT3Q+o/3kNWWb7t35+8l6ySnJD6V+Ubuv2IpcHjNqT+Vumk5EcsDR4/l63/VXqP+RFLg8X9kKqh0nvNj1gaHE5I1dGTPSdpqqTzJd0maaGkF0jaTNLlkhbl39NaXY8fsTQYTr/6TiekCunV3jsR+GlE7AQ8F1gIzAHmRcQOwLz8uiV+xFL1uVG7erq+ByVtArwEOAMgIv4REcuBQ4Cz8mxnAYe2uq5D95jJFw7bjZlTpyBg5tQpfOGw3dzIXRHuGFlNow5dImkF0HCGiNhk3CuUdgdOA24lnSVdD7wfGI6IqYX5HoqIJ13CSToGOAbgaU972p533333eEOwCnA/pO7p9tAlo3YJiIiNASR9Frgf+C4g4M3Axi2s83nAeyPiWkknMo5LtYg4jZTUGBoaGnMwKPdTqh4npGprdm8eEBHfjIgVEfFIRJwMvH6C67wPuC8irs2vzyclqQckzQDIv5dOcPlPqPVTGl6+kmBNP6W5C4ZbXbT1SLENyQmpmprdo6slvVnSJEnrSHozsHrMd9UREfcD90qqtTbvR7qUuxiYnctmAxdNZPlF7qdULe4YORia7dH9r6Q7ZieS2ph+mcsm6r3A9yStB9wJvI2UIM+TdDRwD3B4C8sH0pnReMqtvNwPaXA0lZQi4i7S3bG2iIgbgXoNZ/u1ax2QHqVU7xlvfsRSf3FCGixN7V1Jz5I0T9LN+fVzJH2ys6G1zg+j7H/uGDl4mt3D3wKOA1YBRMTvgSM6FVS7zGzQc7tRuZWLO0YOpmb38oYRcd2IssfbHUy7vXyn6eMqt/Jwx8jB1eyeflDSM8gdKSW9AVjSsaja5Mrblo2r3MqheJfNt/0HT7N3395N6rC4k6RhYDGpA2Wp+e5b/3GjtjWblO6OiP0lPQVYJyJWdDKodml098333srJCcmg+cu3xZJOA/YBHu1gPG3V6C5bgHt1l4zvsllNs3t+R+BnpMu4xZJOkvSizoXVHqP1R3Kv7vLwXTYramrvR8TKiDgvIg4D9gA2AX7R0cjaYLT+SB59shyckGykpmuApJdK+iZwA7AB8MaORdUmo/VH8uiTvefb/lZPsz26FwPHAlcDu0bEGyPigk4G1g4fOWBHJq/z5Eu4yZPk0Sd7zMOPWCNj3n2TNAn4TkR8tgvxtFVt3KTjL76F5StXATBtw8l8+jW7eEylHnJCstGMmZQiYrWklwN9l5QgJSYnoPLw8CM2lmb7Kf1K0knAucBfa4URcUNHorJKcj8ka0azSemF+XfxbCmAV7Q3HKsqJyRrVrPjKb2804FYdfm2v41Hs3fftpR0hqSf5Nc75xEizUblhGTj1WwNORO4FNg6v/4DqYuAWUPuh2QT0Wwt2TwizgP+CRARjzPBBwfYYPBtf5uoZhu6/yrpqawZT2kf4OGORdVGfu5b9zkhWSuaTUofJD0C6RmSfglMB97QsajapPbct9pjlmrPfQOcmDrEbUjWqmbvvt0g6aWk0QIE3B4RqzoaWRuM9tw3J6X2c8dIa4dm774dDkyJiFuAQ4FzJT2vk4G1Q6ORADxCQPu5H5K1S7M1539FxIo8htIBwFnAyZ0Lqz0ajQTgEQLaywnJ2qnpx3bn368CTo6Ii4D1OhNS+3zkgB2ZMnnSWmVTJk/yCAFt5BEjrd2abegelnQqsD/wRUnrM46xmHql1m7ku2+d4UZt6wRFE0+LlbQhcCBwU0QskjQD2C0iLut0gKMZGhqK+fPn9zKEgeXb/oND0vURMdSt9TU7HO7fgLuAgyS9F5jR64RkveOEZJ3U7N23T5Eat58KbA58R9InOxmYlZMTknVas21KRwJ7RMTfASSdQBqr+3OdCszKx21I1g3N1qq7SA8LqFkf+GPbo7HSckKybhn1TEnS/yN93+0x4BZJl+dJ+wPXtLLiPPb3fGA4Il4taTPSyJazSEnwjRHxUCvrsPZwQrJuGuvyrXZr61ZgHmmUgNXAlW1Y9/uBhaRnyAHMAeZFxAmS5uTXH2vDeqwFTkjWbWPVsO8Du5Dajt4KvCP/vWueNiGStiF1xDy9UHwIqTGd/PvQiS7f2sPjIVkvjFXL/g8wDdg+IvaMiD2ApwObAl9qYb1fAz5KHp8p2zIilgDk31vUe6OkYyTNlzR/2bJlLYRgo/FdNuuVsWraq4FjImJFrSAiHgHeRTrTGTdJrwaWRsT1E3l/RJwWEUMRMTR9+vSJLMLG4IRkvTRWm1JEnS7f+VlwY3cFr29f4LWSDibd0dtE0tnAA5JmRMSS3GN86QSXby3w8CPWa2PVuFsl/dvIQklHAbdNZIURcVxEbBMRs4AjgCsi4ijSIHKz82yzgYsmsvyR5i4YZt8TrmD7OT9m3xOuYO6C4XYstpL8bX8rg7HOlN4NXCjp7cD1pO4BzwemAK9rcywnAOflp6TcAxze6gI98mTznJCsLEZNShExDOwt6RWku3ACfhIR89qx8oj4OfDz/Pefgf3asdwajzzZHN/2tzJpdjjcK4ArOhxL23nkybE5IVnZVLoGeuTJ0TkhWRlVuha+fKf6XQYalQ8Sd4y0sqp0TbzytvqdKxuVDwr3Q7Iyq3RtdJvSkzkhWdlVuka6TWltxY6RTkhWVpWulX6ayRruh2T9otmRJ/uSn2aSOCFZP6l0UoKUmAYtCRX5tr/1G9fQCnNCsn7kWlpR7odk/aryl29zFwwPXJuSb/tbP6t0UhrEUQKckKzfVbrGjjZKQBUV25CckKxfVbrWDlKPbo8YaVVR6Zo7KD263Q/JqqTStXcQRglwQrKqqXRDd9VHCXA/JKuiStfi4QZtR43K+4kTklWVa3IfcsdIqzLX5j7j4Ues6lyj+4gbtW0QuFb3CSckGxSVvvtWFW7UtkHi2l1yTkg2aFzDS8wJyQZRpWv5zAZfJ2lUXia+7W+DqtI1/fHVq8dVXhYefsQGWaVr+wMr/jGu8jJwQrJB5xpfIu4YadaDpCRpW0lXSloo6RZJ78/lm0m6XNKi/Htat2PrJfdDMkt6UfMfBz4UEc8G9gHeLWlnYA4wLyJ2AObl1wPBCclsja7X/ohYEhE35L9XAAuBmcAhwFl5trOAQ7sdWy+cfvWdTkhmBT09AiTNAvYArgW2jIglkBIXsEWD9xwjab6k+cuW9fe4SO6HZPZkPTsKJG0EXAAcGxGPNPu+iDgtIoYiYmj69P4dQdIJyay+nhwJkiaTEtL3IuLCXPyApBl5+gxgaS9i6wZ3jDRrrBd33wScASyMiK8UJl0MzM5/zwYu6nZs3eB+SGaj68UoAfsCbwFuknRjLvs4cAJwnqSjgXuAw3sQW0c5IZmNretJKSKuAdRg8n7djKWb/Fw2s+b4yOgC90Mya56Pjg5zQjIbH4882UG+7W82fj5KOsQJyWxifKR0gPshmU1cpY+WSap/k69ReTv4tr9Zayp9xGy+0eRxlbfKCcmsdZU+aro58mSxDckJyWzifOS0gRu1zdrHR0+LnJDM2stHUAuckMzaz0fRBPm2v1ln+EiaAN9lM+scH03j5IRk1lk+osbBz2Uz6zwfVU3yt/3NusNHVhOckMy6x0OXjMG3/c26y0fYKJyQzLrPR1kDTkhmveEjrQ53jDTrHR9tI7gfkllv+YgrcEIy6z0fdZk7RpqVg4883A/JrEwG/uhzQjIrl4E+Ap2QzMpnYI9CJySzchrYI9EJyaycBvZodEIyK6eBPSKdkMzKqXRHpaQDJd0u6Q5Jczq1Hicks3Iq1ZEpaRLwDeAgYGfgSEk79zYqM+umUiUlYC/gjoi4MyL+AfwAOKTHMZlZF5UtKc0E7i28vi+XPUHSMZLmS5q/bNmyrgZnZp1XtqSkOmWx1ouI0yJiKCKGpk+f3nBBZ1yzuN2xmVkXlC0p3QdsW3i9DfCn8S6k1jHSzPpP2ZLSb4EdJG0vaT3gCODi8Syg2FN70ecPqjvPXSe8qvVIzawjSvXggIh4XNJ7gEuBScC3I+KWZt9fbwhbJyCz/lKqpAQQEf8F/Nd43+cxtc2qoRJHrhOSWXX0/dHrhGRWLX19BD/46GNOSGYV09dH8ZKH/+7HIJlVjCJi7LlKStIy4O4mZt0ceLDD4bSizPGVOTYod3xljg2aj2+7iGjcU7nN+jopNUvS/IgY6nUcjZQ5vjLHBuWOr8yxQXnj8zWPmZWKk5KZlcqgJKXTeh3AGMocX5ljg3LHV+bYoKTxDUSbkpn1j0E5UzKzPuGkZGalUvmk1K0HETQZy7aSrpS0UNItkt6fyzeTdLmkRfn3tB7GOEnSAkmXlDC2qZLOl3Rb3oYvKFl8H8j79WZJ50jaoFfxSfq2pKWSbi6UNYxF0nH5GLld0gHdiLGRSielEj6I4HHgQxHxbGAf4N05njnAvIjYAZiXX/fK+4GFhddliu1E4KcRsRPwXFKcpYhP0kzgfcBQROxKGnrniB7GdyZw4IiyurHkOngEsEt+zzfzsdMbEVHZH+AFwKWF18cBx/U6rkI8FwH/AtwOzMhlM4DbexTPNqTK+grgklxWltg2ARaTb84UyssSX218+c1IQwJdAryyl/EBs4Cbx9pWI48L0nhmL+jFdoyIap8p0cSDCHpF0ixgD+BaYMuIWAKQf2/Ro7C+BnwU+GehrCyxPR1YBnwnX16eLukpZYkvIoaBLwP3AEuAhyPisrLElzWKpVTHSdWT0pgPIugFSRsBFwDHRsQjvY4HQNKrgaURcX2vY2lgXeB5wMkRsQfwV3p7KbmW3D5zCLA9sDXwFElH9TaqppXqOKl6UmrLgwjaSdJkUkL6XkRcmIsfkDQjT58BLO1BaPsCr5V0F+l5e6+QdHZJYoO0L++LiGvz6/NJSaos8e0PLI6IZRGxCrgQeGGJ4mOUWEp1nFQ9KbX8IIJ2kiTgDGBhRHylMOliYHb+ezapramrIuK4iNgmImaRttMVEXFUGWLL8d0P3Ctpx1y0H3ArJYmPdNm2j6QN837ej9QQX5b4GCWWi4EjJK0vaXtgB+C6HsSX9Koxq4uNfQcDfwD+CHyix7G8iHRa/HvgxvxzMPBUUgPzovx7sx7H+TLWNHSXJjZgd2B+3n5zgWkli+8zwG3AzcB3gfV7FR9wDqltaxXpTOjo0WIBPpGPkduBg3pZ//w1EzMrlapfvplZn3FSMrNScVIys1JxUjKzUnFSMrNScVKyuiStlnRj/sb7f0rasIVlnSnpDfnv00f7UrSkl0l64QTWcZekzScao5WHk5I1sjIido/0jfd/AO8sTpzot8gj4h0Rcesos7yM1BPaBpSTkjXjauCZ+SzmSknfB27KYy99SdJvJf1e0r9D6rku6SRJt0r6MYUvoUr6uaSh/PeBkm6Q9DtJ8/KXlN8JfCCfpb1Y0nRJF+R1/FbSvvm9T5V0Wf5y7qnU//6W9aF1ex2AlZukdUnjUf00F+0F7BoRiyUdQ/o2/PMlrQ/8UtJlpNEPdgR2A7YkfR3k2yOWOx34FvCSvKzNIuIvkk4BHo2IL+f5vg98NSKukfQ00rAazwY+DVwTEZ+V9CrgmI5uCOsaJyVrZIqkG/PfV5O+s/dC4LqIWJzLXwk8p9ZeBGxK+t7US4BzImI18CdJV9RZ/j7AVbVlRcRfGsSxP7Bz+joZAJtI2jiv47D83h9LemhiH9PKxknJGlkZEbsXC3Ji+GuxCHhvRFw6Yr6DGXvoCzUxD6QmhhdExMo6sfg7UhXkNiVrxaXAu/JwLEh6Vh547SrSt84n5SEyXl7nvb8GXpq/lY6kzXL5CmDjwnyXAe+pvZC0e/7zKuDNuewg0pdzrQKclKwVp5Pai27IA9SfSjr7/iHpm+g3AScDvxj5xohYRmoHulDS74Bz86QfAa+rNXSTx73ODem3suYu4GeAl0i6gXQZeU+HPqN1mUcJMLNS8ZmSmZWKk5KZlYqTkpmVipOSmZWKk5KZlYqTkpmVipOSmZXKfwMs48BKHyJ/nAAAAABJRU5ErkJggg==\n",
          "text/plain": "<Figure size 432x288 with 1 Axes>"
         },
         "metadata": {},
         "output_type": "display_data"
        },
        {
         "name": "stdout",
         "output_type": "stream",
         "text": " MAE: 20.62±2.62 95CI=(16.52, 25.00)\n MSE: 1164.02±238.88 95CI=(812.11, 1564.75)\n  R2: -0.56±0.08 95CI=(-0.68, -0.44)\nRMSE: 33.94±3.53 95CI=(28.50, 39.56)\n"
        }
       ]
      }
     },
     "90d3c34c809f4b15b3517f69bb49e235": {
      "model_module": "@jupyter-widgets/output",
      "model_module_version": "1.0.0",
      "model_name": "OutputModel",
      "state": {
       "layout": "IPY_MODEL_65ef2690ff584f69a2bba8dbd75ed7bd",
       "outputs": [
        {
         "name": "stdout",
         "output_type": "stream",
         "text": "PercentageDisplacementMeasurement (test=129), fold=3\n----------------------------------------------------\n MAE: 14.60±1.92 95CI=(11.51, 17.74)\n MSE: 574.85±150.35 95CI=(324.56, 797.62)\n  R2: -0.58±0.10 95CI=(-0.73, -0.43)\nRMSE: 23.77±3.15 95CI=(18.02, 28.24)\n"
        },
        {
         "data": {
          "image/png": "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\n",
          "text/plain": "<Figure size 432x288 with 1 Axes>"
         },
         "metadata": {},
         "output_type": "display_data"
        },
        {
         "name": "stdout",
         "output_type": "stream",
         "text": " MAE: 14.55±1.81 95CI=(11.65, 17.61)\n MSE: 569.49±145.26 95CI=(324.74, 786.12)\n  R2: -0.58±0.09 95CI=(-0.75, -0.44)\nRMSE: 23.67±3.06 95CI=(18.02, 28.04)\n"
        }
       ]
      }
     },
     "90d6074aca88403980953d1bb61f9b0a": {
      "model_module": "@jupyter-widgets/controls",
      "model_module_version": "1.5.0",
      "model_name": "VBoxModel",
      "state": {
       "children": [
        "IPY_MODEL_1fe7cd7111f94158ba55593f352564e9",
        "IPY_MODEL_c8bd851ae65f45a083519c99e937860a"
       ],
       "layout": "IPY_MODEL_d39e795447534994b28931529343d1a3"
      }
     },
     "9346ab15c99648d699fb18f3615eb344": {
      "model_module": "@jupyter-widgets/base",
      "model_module_version": "1.2.0",
      "model_name": "LayoutModel",
      "state": {}
     },
     "9cc6e6fba4ae4b6da54e1bb495e1535a": {
      "model_module": "@jupyter-widgets/output",
      "model_module_version": "1.0.0",
      "model_name": "OutputModel",
      "state": {
       "layout": "IPY_MODEL_ccd3ba8d87ad470eb64e3078c913a248",
       "outputs": [
        {
         "name": "stdout",
         "output_type": "stream",
         "text": "PercentageDisplacementMeasurement (test=129), fold=1\n----------------------------------------------------\n MAE: 20.53±2.83 95CI=(16.32, 25.51)\n MSE: 1156.54±257.38 95CI=(805.49, 1644.31)\n  R2: -0.56±0.08 95CI=(-0.69, -0.42)\nRMSE: 33.79±3.81 95CI=(28.38, 40.55)\n"
        },
        {
         "data": {
          "image/png": "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\n",
          "text/plain": "<Figure size 432x288 with 1 Axes>"
         },
         "metadata": {},
         "output_type": "display_data"
        },
        {
         "name": "stdout",
         "output_type": "stream",
         "text": " MAE: 20.62±2.62 95CI=(16.52, 25.00)\n MSE: 1164.02±238.88 95CI=(812.11, 1564.75)\n  R2: -0.56±0.08 95CI=(-0.68, -0.44)\nRMSE: 33.94±3.53 95CI=(28.50, 39.56)\n"
        }
       ]
      }
     },
     "9e2c45d680844a3db270dfa3e1c71c86": {
      "model_module": "@jupyter-widgets/output",
      "model_module_version": "1.0.0",
      "model_name": "OutputModel",
      "state": {
       "layout": "IPY_MODEL_8e2dc6ed49c148d9bd4df7660f4125a5",
       "outputs": [
        {
         "name": "stdout",
         "output_type": "stream",
         "text": "PercentageDisplacementMeasurement (test=129), fold=0\n----------------------------------------------------\n MAE: 21.07±3.02 95CI=(16.15, 25.69)\n MSE: 1305.56±270.13 95CI=(883.04, 1709.72)\n  R2: -0.50±0.08 95CI=(-0.63, -0.38)\nRMSE: 35.93±3.85 95CI=(29.72, 41.35)\n"
        },
        {
         "data": {
          "image/png": "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\n",
          "text/plain": "<Figure size 432x288 with 1 Axes>"
         },
         "metadata": {},
         "output_type": "display_data"
        },
        {
         "name": "stdout",
         "output_type": "stream",
         "text": " MAE: 21.10±2.99 95CI=(16.13, 26.32)\n MSE: 1310.54±265.25 95CI=(867.96, 1748.58)\n  R2: -0.50±0.08 95CI=(-0.64, -0.38)\nRMSE: 36.01±3.74 95CI=(29.46, 41.82)\n"
        }
       ]
      }
     },
     "a040bf82898941368a8bb1b49a9d27b1": {
      "model_module": "@jupyter-widgets/output",
      "model_module_version": "1.0.0",
      "model_name": "OutputModel",
      "state": {
       "layout": "IPY_MODEL_bfab4b13a84b49748cef6a51a8bdb44c",
       "outputs": [
        {
         "name": "stdout",
         "output_type": "stream",
         "text": "PercentageDisplacementMeasurement (test=129), fold=2\n----------------------------------------------------\n MAE: 16.59±2.64 95CI=(12.63, 21.15)\n MSE: 828.86±232.66 95CI=(473.95, 1241.63)\n  R2: -0.50±0.08 95CI=(-0.64, -0.37)\nRMSE: 28.51±4.01 95CI=(21.77, 35.24)\n"
        },
        {
         "data": {
          "image/png": "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\n",
          "text/plain": "<Figure size 432x288 with 1 Axes>"
         },
         "metadata": {},
         "output_type": "display_data"
        },
        {
         "name": "stdout",
         "output_type": "stream",
         "text": " MAE: 16.69±2.55 95CI=(12.91, 21.04)\n MSE: 836.37±225.65 95CI=(481.47, 1229.15)\n  R2: -0.50±0.08 95CI=(-0.65, -0.37)\nRMSE: 28.66±3.87 95CI=(21.94, 35.06)\n"
        }
       ]
      }
     },
     "a154ceaad0c041a88ef6b2e51425e037": {
      "model_module": "@jupyter-widgets/base",
      "model_module_version": "1.2.0",
      "model_name": "LayoutModel",
      "state": {}
     },
     "a23c53ecc1dd4861a29e215618b977dc": {
      "model_module": "@jupyter-widgets/output",
      "model_module_version": "1.0.0",
      "model_name": "OutputModel",
      "state": {
       "layout": "IPY_MODEL_80102e2fde014793a62e9c5ca48fa981",
       "outputs": [
        {
         "name": "stdout",
         "output_type": "stream",
         "text": "PercentageDisplacementMeasurement (test=129), fold=2\n----------------------------------------------------\n MAE: 16.59±2.64 95CI=(12.63, 21.15)\n MSE: 828.86±232.66 95CI=(473.95, 1241.63)\n  R2: -0.50±0.08 95CI=(-0.64, -0.37)\nRMSE: 28.51±4.01 95CI=(21.77, 35.24)\n"
        },
        {
         "data": {
          "image/png": "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\n",
          "text/plain": "<Figure size 432x288 with 1 Axes>"
         },
         "metadata": {},
         "output_type": "display_data"
        },
        {
         "name": "stdout",
         "output_type": "stream",
         "text": " MAE: 16.69±2.55 95CI=(12.91, 21.04)\n MSE: 836.37±225.65 95CI=(481.47, 1229.15)\n  R2: -0.50±0.08 95CI=(-0.65, -0.37)\nRMSE: 28.66±3.87 95CI=(21.94, 35.06)\n"
        }
       ]
      }
     },
     "a397f1ef29dc477db7559282e2fc9a86": {
      "model_module": "@jupyter-widgets/base",
      "model_module_version": "1.2.0",
      "model_name": "LayoutModel",
      "state": {}
     },
     "a51c78f559a14c39bb54c0f862e12698": {
      "model_module": "@jupyter-widgets/output",
      "model_module_version": "1.0.0",
      "model_name": "OutputModel",
      "state": {
       "layout": "IPY_MODEL_e7f7575a836f4ce081f847ca4ed6a82c",
       "outputs": [
        {
         "name": "stdout",
         "output_type": "stream",
         "text": "PercentageDisplacementMeasurement (test=129), fold=4\n----------------------------------------------------\n MAE: 20.05±2.46 95CI=(16.50, 23.86)\n MSE: 1097.15±233.75 95CI=(768.68, 1540.11)\n  R2: -0.57±0.07 95CI=(-0.69, -0.47)\nRMSE: 32.93±3.53 95CI=(27.72, 39.24)\n"
        },
        {
         "data": {
          "image/png": "iVBORw0KGgoAAAANSUhEUgAAASUAAAEWCAYAAAAgiYF0AAAAOXRFWHRTb2Z0d2FyZQBNYXRwbG90bGliIHZlcnNpb24zLjMuMiwgaHR0cHM6Ly9tYXRwbG90bGliLm9yZy8vihELAAAACXBIWXMAAAsTAAALEwEAmpwYAAAhgElEQVR4nO3debgcVbnv8e+PECDIkAQChCAEEUEEJRqRyQlQBj0SuaJwxBMVL0evE14cEuUqevTKuXhVvCiIoHAPinIQA+IAGFRABQyDMoQYJBAIgQQhEDBgCO/5Y61NKk333r337qG6+vd5nv1096ruqreqVr27hlWrFBGYmZXFet0OwMysyEnJzErFScnMSsVJycxKxUnJzErFScnMSsVJyQCQ9GpJC1ownrslHdSKmKw/dTQpSfqQpHmSnpJ0Ts2wvSVdIelhScsl/aekyYXh4yWdK2lZ/jtpkOlMlRSSHs9/d0ua1b45Gz5Jv5H0vg5N6yRJqyWtzH9/kXRacflGxNURsUsn4ukVkt4t6ZqasnNy3XpLTfnXc/m7Oxpkj8jL7YvNfLfTe0r3A18Evltn2ATgTGAqsAOwEvheYfjXgI3z8L2Ad0l6zxDTGx8RmwBHA5+VdMhwgpW0/nC+X3I/iohNgYnAW4FtgBuKicma9hdg5sCHXE+OBP7atYjq6Nn6GxEd/yMlpnOG+M7LgZWFzw8Bryx8/jRwdYPfTgUCWL9Q9kfg4/n9e4H5wCPAZcAOhe8F8EFgIbAolx0O3Aw8Rqp4h+TyzYGzgaXAkjxfY/KwdwPXAF/J01kEHJqHfQlYAzwJPA6clstPBe7N07kBeHUhrnHAuXlc84FPAvcVhm8L/BhYnqf1kcKwk4DzapbRGOBPwFfy59fVjO9TeZ5WAguAAwvjuhD4UR52I/Cywu/uBg7K7/cC/gCsyMvoNGCDwndfAlwBPAw8CHw6l68HzMrL+m/ABcDEmnX7nrysHgHeD7wS+HOe1mk18zrU+n5/Xt+PAN8EBLw4r581eR2tyN8/J6/TB4AJuezNwC/y+n53k9MdbF3vBczLwx4EvlpvHdVZ3gPr5rz82/cxdB39Hekf/grgLmDfXH4vsAyYWZjWhnneF+e4zgDGFWMDTsi/Wwq8Jw87DlgN/CMvy58Ouu2XOCkdD1xbk5T2Knz+DPDIUEkpV7D9gL8DBwIzgDtzpVsfOBH4fU0lvYK0RzEuV5BHgTeQNpYpwK75u3OAbwPPA7YCrgf+tbDCVwP/nZQAPkDaU1Qe/hvgfTVxHwNskeM6gVTxN8rDTgZ+S9qj3I60Ad5X2IhvAD4LbAC8IFewgxslpVz+BeC62goP7JIr5baF5blTYVyrgbcBY4GPk5Lg2DobySuAvfP8TCVtoMfnYZuSKu4JwEb586uK6z7P54Z5GZ9fs27PyL97Iyl5zMnrYAppo3ht/v4Mhl7flwLjge1JSf2Qwjq8pmaZnUOqv2cCH8hlF5D2xp9NSk1Md7B1/QfgXfn9JsDew0hKq/O01yPV3zkMXkefJiX4MXm+FpMS84Z52a4ENsnf/zpwCWnb2BT4KfDlQmxPk+rUWOAw0jY3objcmsoPZUxKwEtJ/z2L/z3OAy7KC+OFpP+iTw2RlFawds/iI3nYL4BjC99dLy+8HQqV9IDC8G8DX6szja2Bp8j/KXLZ0cCvCyv8zsKwjfO4t2mUlOpM4xHyXgiFJJM/v4+1SeRVwOKa384GvjdEUno/sLBOUnohacM+iJxsCr85iXX/WaxHSi6vrt1I6kzveOAnhWV1U4PvzSfvmeXPk0kb20ByC2BKYfjfgHcUPv+YtcmvmfW9f2H4BcCswjpslJT2JyWPzUl7DeNYNykNOt0h1vVVwOeBLWu+8+w6KpQ9u7zzurlqmHV0YWHYHnl5bF2zbPck/XN/gvzPKQ/bh7VHE68DVrHu0cky1ibUc2gyKZXu6pukF5JW6Ecj4urCoI+QZnohcDFwPml3cTBbRsSEiHhxRHwjl+0AnCpphaQVpOQn0n/YAfcW3j+f+ucKdiD9R1haGNe3Sf+NBjww8CYi/p7fbtIoWEknSJov6dE8vs2BLfPgbWviKr7fAdh2II7820+TKuVgppDmfx0RcScpgZwELJP0Q0nb1pt2RDxDWg/F4QPz8yJJl0p6QNJjwP8uzE+j5TowPz8pzMt80mFUcX4eLLxfVefzwHJuZn0/UHj/dwZZRwMi4hpgEmkP6NKIWFVnHhpOd4h1fSzwIuAOSX+U9Oah4imorRdD1dHa5UZE1FuWk0j/WG8ojOuXuXzA3yLi6cLnppZlrVIlJUk7AL8C/i0i/qM4LCIejoh3RsQ2EfESUuzXj2Ay95J2X8cX/sZFxO+Lk6v5/k4NxvMUKfENjGezHFszitNA0qtJ53HeTtrlHU86bFT+ylLS4cyA59fEsqhmnjaNiMMaTVzSesA/AVfXGx4RP4iI/UkVO4B/rzftPJ7tSIemtU4H7gB2jojNSIlyYH4aLdeBYYfWzM9GEbGk0fwMopn13UgMMfw80qHX/x/OdIda1xGxMCKOJiWPfwculPQ80p7KxgMTkDSGdZNCbcyjraNFD5ES1EsK49o80oWkZgy1LJ/V6SYB60vaiHT8OkbSRgNXCCRNAa4EvhkRZ9T57U6StpA0RtKhpJNnTV1irHEGMFvSS/J4N5d05CDfPxt4j6QDJa0naYqkXSNiKXA58H8lbZaH7STptU3G8SDp3M+ATUnH5MuB9SV9FtisMPyCHPeEvKw+VBh2PfCYpE9JGpeX0e6SXlk7UUljJb2YtKe5DfDVOt/ZRdIBkjYkna9ZRdpTGfAKSUfkdXc8qeJfW2ceNyWdcH1c0q6k82oDLgW2kXS8pA0lbSrpVXnYGcCX8j8pJE2SdHid8TdjuOu76EFgO0kbNBj+DdK5xquGOd1B17WkYyRNynuhK3LxGtJVv40kvUnSWNJe2oaNgm9BHS2O6xngO8DXJG2V45wi6eAmR1Fb3xvq9J7SiaQKPot0om9VLoN0juQFwOe0tn3R44XfvgK4hXTi7cvAOyPituEGEBE/If33+WE+pLgVOHSQ719POhH4NdJ/s9+S9h4A/oV0Yvl20jmBC0nnP5pxKvA2SY9I+gbp6swvSBXvHlIyKO6Kf4F0mLSItDd5ISkZEBFrSHs9e+bhDwFnkQ4JBrwjL88VpJOVfwNeERH19nA2JJ1Yf4h0aLMVaS9nwMXAO/I8vws4IiJW1xnPx4F/Jq2z75Cu2JFjXknaoP8pT2Mh8PrCsrkEuFzSSlLCexUjMNz1XeNK4DbgAUkP1Rn3wxExN/JJk2FMd6h1fQhwW15fpwJHRcSTEfEo8D9I63YJac9pqFMYo6mjtT5FOnl/bZ6nX5EuijTjbGC3fOg3Z7Avqs7ytB4g6QOkyjrs/3qjnO5JwAsj4phOTtf6R6nOKVljkiZL2i/vgu9COpfxk27HZdZqvdnisz9tQLpysiPpEOyHwLe6GZBZO/jwzcxKxYdvZlYqPX34tuWWW8bUqVO7HYZZJT30+FMsffRJ/vHAnQ9FRG17qLbp6aQ0depU5s2b1+0wzCrnrKvv4os/m897d9+GM941/Z5OTtuHb2a2jrOvWcQXfzafw/bYhm8cPa3j03dSMrNnnX3NIv7t0ts5bI9tOPWoaYwd0/kU0dOHb2bWOgOHbN1MSOA9JTNjbUI6dPfuJiRwUjLre8WE9I2ju5uQoI1JSdJ3lTr4v7VQNlHp4QAL8+uEwrDZku6UtGAYdx6b2SiULSFBe/eUziHd7Vw0C5gbETsDc/NnJO0GHEXqs/kQ4Fu5r5hRO3HOLew0++dMnfUzdpr9c06cc0srRmvW88qYkKCNSSkiruK5vRoeTur8nvw6o1D+w4h4KiIWkbpH2Gu0MZw45xbOu3Yxa/KtNGsiOO/axU5M1vfKmpCg8+eUts4dTw10QDXQLecU1u1P5j7W7a70WZKOU3p23Lzly5cPOrHvX7t4WOVm/aB4la1sCQnKc6Jbdcrq3ikcEWdGxPSImD5p0uAt3xvdauxbkK1fleWy/2A6HdGDyg8/zK/Lcvl9rNvndKM+n81shHohIUHnk9IlrH2y6ExSt6oD5Uflvpp3BHZmZA8FWMfzNqh/rrxRuVlV9UpCgvY2CTif9FysXSTdJ+lYUr/Pb5C0kNQ/88kAua/tC0j9CP8S+GDud3pUvvTWPViv5sBwPaVys35RpoaRzWjbbSb5ETH1HNjg+18iPc66pcZIPFPoyG6M6p2+MqumMl9la6T8EY7CKZctYPUz657WXv1McMplC7oUkVnn9GJCgoonpftX1D60dPBys6qo7X6kVxISVDwpbTt+3LDKzaqgDN2PjEZvRTtMnzh4F8aNXfdK27ixY/jEwc0+P8+st/R6QoKK96c0Y1pqFH7KZQu4f8Uqth0/jk8cvMuz5WZV0kuX/QfTm1Gb2TqqkpCg4ntKc25awuyLbmHV6tTkacmKVcy+KN2M670lq4pea4c0lN6OfginXLbg2YQ0YNXqNW4SYJXRq5f9B9P7czAINwmwKqtiQoKKJ6XNx40dVrlZryh79yOjUZ05qaPRHSW+08R6WbFhZBXOIdWq1tzUWPH31cMqNyu7KrRDGkr15qjAh29WJf2QkKDiTQJ8+GZVUaV2SEOp7pwBjzQ4TGtUblZG/ZSQoOJJqVHfSe5TyXpF1RpGNqPSc7gm6j8ioFG5WZlUtR3SUCo9l1MadFHSqNysLPo1IUHFk9Lrd63/CKZG5WZlUOWGkc2o9Nz++o76D6tsVG7WbVVvGNmMSs+x732zXtIv7ZCGUum5dne41iuckNaq9Jy7O1zrBWddfZcTUkGlW3S7O1wru35rGNmMSiclSInJScjKqB8bRjaj8kkJUre43luyMvFVtsYqn5TcT7eVjU9qD67yS8P9dFuZOCENrfJ7Sm6rZGXhk9rNqfxSadShm9sqWSc5ITWv0ktmzk1LeOIfTz+nfOx6clsl6xgnpOHpytKR9DFJt0m6VdL5kjaSNFHSFZIW5tcJo53OKZctYPWa53ZTsslG6/skt3WEL/sPX8eXkKQpwEeA6RGxOzAGOAqYBcyNiJ2BufnzqCxpcN7IPU9aJ/Rz9yOj0a2ltD4wTtL6wMbA/cDhwLl5+LnAjNFOxD1PWrc4IY1cx5dURCwBvgIsBpYCj0bE5cDWEbE0f2cpsFW930s6TtI8SfOWLx+8CxL3PGndUGwY6YQ0fN04fJtA2ivaEdgWeJ6kY5r9fUScGRHTI2L6pEmDd9bmniet09wOafS6scQOAhZFxPKIWA1cBOwLPChpMkB+XTbaCbmXAOskJ6TW6MZSWwzsLWljSQIOBOYDlwAz83dmAhePdkIzpk3hy0fswZTx4xBpD+nLR+zhK2/Wcu5+pHU63qI7Iq6TdCFwI/A0cBNwJrAJcIGkY0mJ68hWTM+9BFi7uR1Sa3XlNpOI+BzwuZrip0h7TS3lHgKsndwOqfUqfe+bewiwdvJl//ao9FJ0DwHWLk5I7VPpJekeAqwd+v25bO1W6aXpp5lYq7nHyPar9BJ1OyVrJbdD6oxKn+j200ysVZyQOqfSSQncTslGz+2QOstL12wQTkid5yVs1oAbRnaHl7JZHW6H1D1e0mY1nJC6y0vbrMANI7vPS9ws80ntcvBSN8MJqUy85K3vOSGVi5e+9TVf9i8frwHrW77KVk5eC9aXnJDKy2vC+o6fy1ZuXhvWV3y3f/l5jVjfcELqDZXvusQMfNm/l3jNWOU5IfUWrx2rNLdD6j2VP3zzwyj7ly/796ZKJyU/jLJ/OSH1rkqvKT+Msj+5+5HeVum1taTBQycblVvv83PZel+l19gYaVjl1tvcDqkaKr3W1kQMq9x6lxNSdXRlzUkaL+lCSXdImi9pH0kTJV0haWF+nTDa6Uxp8HjuRuXWm866+i4npArp1to7FfhlROwKvAyYD8wC5kbEzsDc/HlU/Nju6nPDyOrp+BqUtBnwGuBsgIj4R0SsAA4Hzs1fOxeYMdppzZg2hS8fsQdTxo9DpD2kLx+xh5sDVIQbRlaTYpDzK5JWAg2/EBGbDXuC0p7AmcDtpL2kG4CPAksiYnzhe49ExHMO4SQdBxwHsP3227/innvuGW4IVgFuh9Q5km6IiOmdmt6gazIiNs2J5+ukw6kpwHbAp4AvjnCa6wMvB06PiGnAEwzjUC0izoyI6RExfdKkSSMMwXqZE1K1Nbs2D46Ib0XEyoh4LCJOB/7bCKd5H3BfRFyXP19ISlIPSpoMkF+XjXD8VmFuGFl9za7RNZLeKWmMpPUkvRNYM+Sv6oiIB4B7JQ2cbT6QdCh3CTAzl80ELh7J+K263DCyPzR779s/k66YnUo6x/S7XDZSHwa+L2kD4C7gPaQEeYGkY4HFwJGjGL9VjNsh9Y+mklJE3E26OtYSEXEzUO/E2YGtmoZVhxNSf2lq7Up6kaS5km7Nn18q6cT2hmbmhpH9qNk1/B1gNrAaICL+DBzVrqDMwA0j+1Wza3njiLi+puzpVgdjNsANI/tXsye6H5K0E7khpaS3AUvbFlULuefJ3uOrbP2t2aT0QVIr7F0lLQEWAe9sW1Qt4p4ne49Paluza/yeiDgImATsGhH7R0Tp7+9wz5O9xQnJoPmktEjSmcDewONtjKel7m/Qw2SjcuseX2WzAc2u+V2AX5EO4xZJOk3S/u0LqzW2bdBvUqNy6w5fZbOiptZ+RKyKiAsi4ghgGrAZ8Nu2RtYC7k+p/JyQrFbTNUDSayV9C7gR2Ah4e9uiahH3p1Ruvuxv9TR19U3SIuBm4ALgExHxRDuDaqUZ06Y4CZWQux+xRoZMSpLGAN+LiC90IB7rA05INpgha0NErAFe34FYrA8UG0Y6IVk9zTae/L2k04AfkXqKBCAibmxLVFZJbodkzWg2Ke2bX4uHcAEc0NpwrKqckKxZzfan1LOHb773rft82d+Go9n+lLaWdLakX+TPu+UeIktt4N63JStWEay9923OTUu6HVrfcEKy4Wq2hpwDXAZsmz//BTi+DfG0lO996y63Q7KRaLaWbBkRFwDPAETE04zwwQGdtKTBPW6Nyq11fNnfRqrZmvKEpC1Y25/S3sCjbYuqRcZIwyq31nBCstFo9urb/yQ9AmknSb8jdWHytrZF1SJrGjz9t1G5jZ7PIdloNXv17UZJryX1FiBgQUSsbmtkLTBl/Li6h2pT3EtAW7jHSGuFZq++HQmMi4jbgBnAjyS9vJ2BtYJ7Cegct0OyVmm25vyviFiZ+1A6GDgXOL19YbWGewnoDCcka6VmzykNXGl7E3B6RFws6aT2hNRa7iWgvXwOyVqt2Rq0RNK3SX0o/VzShsP4rVWUE5K1Q7O16O2kxpOHRMQKYCLwiXYFZeXnhpHWLs12h/t34G7gUEkfBiZHxOXtDMzKy+2QrJ2avfr2WdLJ7S2ALYHvSTqxnYFZOTkhWbs1e6L7aGBaRDwJIOlkUl/dX2xXYK3iXgJax+eQrBOaTUp3kx4W8GT+vCHw13YE1Ep+Qm7rOCFZpwxasyT9P0nfAJ4CbpN0jqRzgFsZ5UMpJY2RdJOkS/PniZKukLQwv04YzfjBvQS0ihOSddJQe0rz8uvtwFxSLwFrgF+3YNofBeaTniEHMAuYGxEnS5qVP39qNBNwLwGj54RknTZUDfsB8BLSuaN3A+/L73fPw0ZE0nakhphnFYoPJ51MJ7/OGOn4B7iXgNHxZX/rhqFq2f8BJgA7RsQrImIa8AJgc+CUUUz368Anyf0zZVtHxFKA/LpVvR9KOk7SPEnzli9fPuhE3EvAyPkqm3XLUDXtzcBxEbFyoCAiHgM+QNrTGTZJbwaWRcQNI/l9RJwZEdMjYvqkSZMG/W6j3gDcS8DgnJCsm4aqbRHx3N2K/Cy4ke5u7Ae8RdLdwA+BAySdBzwoaTJAfl02wvE/y70EDJ+fy2bdNlSNu13Sv9QWSjoGuGMkE4yI2RGxXURMBY4CroyIY0idyM3MX5sJXDyS8Re5l4Dh8d3+VgZDXX37IHCRpPcCN5D2jl4JjAPe2uJYTgYuyE9JWQwc2YqRupeA5jghWVkMmpQiYgnwKkkHkK7CCfhFRMxtxcQj4jfAb/L7vwEHtmK8Njy+7G9l0mx3uFcCV7Y5FusCJyQrG9fAPuaEZGXkWtin3DDSyqrZG3J7lnsJeC63Q7Iyq3RSci8Bz+WEZGVX6RrpXgLW5YaR1gsqXSvvb9AbQKPyKnM7JOsVla6Z2za4x61ReVU5IVkvqXTt9L1v6RySE5L1kkrX0BnTpvDy7Tdfp+zl22/eNye53Q7JelGla+mJc27hd399eJ2y3/31YU6cc0uXIuoct0OyXlXpmnr+dfcOq7wqfNnfelmla2s/9jzphGS9zjW2QornkJyQrFe51lZEsWGkzyFZL6t0ze2XPrrdDsmqpNK1d+oW9ZNPo/Je5IRkVVPpG3KvveuRYZX3GrdDsiqqdC2u8tU3JySrKtfkHuSGkVZlrs09xt2PWNVVukaPkYZVXnY+qW39oNK1ukrnlJyQrF9UumZvPLb+7DUqLyt3P2L9pNK1e9XTzwyrvIx8lc36TaVreKOjtF45enNCsn7kWl5Svuxv/co1vYTc/Yj1M9f2knFCsn7nGl8ibhhp1oWkJOn5kn4tab6k2yR9NJdPlHSFpIX5dcJop9VLjSfdDsks6UbNfxo4ISJeDOwNfFDSbsAsYG5E7AzMzZ9HpVcaTzohma3V8dofEUsj4sb8fiUwH5gCHA6cm792LjCj07F1gxtGmq2rq1uApKnANOA6YOuIWAopcQFbNfjNcZLmSZq3fPnyjsXaDm6HZPZcXdsKJG0C/Bg4PiIea/Z3EXFmREyPiOmTJk1qX4Bt5oRkVl9XtgRJY0kJ6fsRcVEuflDS5Dx8MrCsG7F1ghtGmjXWjatvAs4G5kfEVwuDLgFm5vczgYs7HVsnuB2S2eC60Uf3fsC7gFsk3ZzLPg2cDFwg6VhgMXBkF2JrKycks6F1PClFxDVAo4ZCB3Yylk7yc9nMmuMtowPcDsmsed462swJyWx4Kv3ct27zZX+z4fNW0iZOSGYj4y2lDdwOyWzkvLW0mC/7m42Ot5gWckIyGz1vNS1SPIfkhGQ2ct5yWsAntc1ax1vPKDkhmbWWt6BRcEIyaz1vRSPky/5m7eEtaQR8lc2sfbw1DZMTkll7eYsaBj+Xzaz9vFU1yXf7m3WGt6wmOCGZdY67LhmCL/ubdZa3sEE4IZl1nreyBpyQzLrDW1odbhhp1j3e2mq4HZJZd3mLK3BCMus+b3WZG0aalYO3PNwOyaxM+n7rc0IyK5e+3gKdkMzKp9Jb4RipYbkTklk5VXpLXBPRsNwJyayc+nZrdEIyK6e+3SKdkMzKqXRbpaRDJC2QdKekWe2ajhOSWTmVasuUNAb4JnAosBtwtKTduhuVmXVSqZISsBdwZ0TcFRH/AH4IHN7lmMysg8qWlKYA9xY+35fLniXpOEnzJM1bvnx5R4Mzs/YrW1Kq17Bonev6EXFmREyPiOmTJk1qOKKzr1nU6tjMrAPKlpTuA55f+LwdcP9wRzLQMNLMek/ZktIfgZ0l7ShpA+Ao4JLhjKDYUnvhlw6t+527T37T6CM1s7Yo1YMDIuJpSR8CLgPGAN+NiNua/X29LmydgMx6S6mSEkBE/Bz4+XB/5z61zaqhEluuE5JZdfT81uuEZFYtPb0FP/T4U05IZhXT01vx0kef9GOQzCpG0aDPoV4gaTlwTxNf3RJ4qM3hjEaZ4ytzbFDu+MocGzQf3w4R0bilcov1dFJqlqR5ETG923E0Uub4yhwblDu+MscG5Y3PxzxmVipOSmZWKv2SlM7sdgBDKHN8ZY4Nyh1fmWODksbXF+eUzKx39Muekpn1CCclMyuVyielTj2IoMlYni/p15LmS7pN0kdz+URJV0hamF8ndDHGMZJuknRpCWMbL+lCSXfkZbhPyeL7WF6vt0o6X9JG3YpP0nclLZN0a6GsYSySZudtZIGkgzsRYyOVTkolfBDB08AJEfFiYG/ggzmeWcDciNgZmJs/d8tHgfmFz2WK7VTglxGxK/AyUpyliE/SFOAjwPSI2J3U9c5RXYzvHOCQmrK6seQ6eBTwkvybb+VtpzsiorJ/wD7AZYXPs4HZ3Y6rEM/FwBuABcDkXDYZWNCleLYjVdYDgEtzWVli2wxYRL44UygvS3wD/ctPJHUJdCnwxm7GB0wFbh1qWdVuF6T+zPbpxnKMiGrvKdHEgwi6RdJUYBpwHbB1RCwFyK9bdSmsrwOfBJ4plJUlthcAy4Hv5cPLsyQ9ryzxRcQS4CvAYmAp8GhEXF6W+LJGsZRqO6l6UhryQQTdIGkT4MfA8RHxWLfjAZD0ZmBZRNzQ7VgaWB94OXB6REwDnqC7h5LryOdnDgd2BLYFnifpmO5G1bRSbSdVT0oteRBBK0kaS0pI34+Ii3Lxg5Im5+GTgWVdCG0/4C2S7iY9b+8ASeeVJDZI6/K+iLguf76QlKTKEt9BwKKIWB4Rq4GLgH1LFB+DxFKq7aTqSWnUDyJoJUkCzgbmR8RXC4MuAWbm9zNJ55o6KiJmR8R2ETGVtJyujIhjyhBbju8B4F5Ju+SiA4HbKUl8pMO2vSVtnNfzgaQT8WWJj0FiuQQ4StKGknYEdgau70J8SbdOZnXwZN9hwF+AvwKf6XIs+5N2i/8M3Jz/DgO2IJ1gXphfJ3Y5ztex9kR3aWID9gTm5eU3B5hQsvg+D9wB3Ar8B7Bht+IDzied21pN2hM6drBYgM/kbWQBcGg3659vMzGzUqn64ZuZ9RgnJTMrFSclMysVJyUzKxUnJTMrFSclq0vSGkk35zve/1PSxqMY1zmS3pbfnzXYTdGSXidp3xFM425JW440RisPJyVrZFVE7Bnpjvd/AO8vDhzpXeQR8b6IuH2Qr7yO1BLa+pSTkjXjauCFeS/m15J+ANyS+146RdIfJf1Z0r9Carku6TRJt0v6GYWbUCX9RtL0/P4QSTdK+pOkufkm5fcDH8t7aa+WNEnSj/M0/ihpv/zbLSRdnm/O/Tb179+yHrR+twOwcpO0Pqk/ql/mor2A3SNikaTjSHfDv1LShsDvJF1O6v1gF2APYGvS7SDfrRnvJOA7wGvyuCZGxMOSzgAej4iv5O/9APhaRFwjaXtStxovBj4HXBMRX5D0JuC4ti4I6xgnJWtknKSb8/urSffs7QtcHxGLcvkbgZcOnC8CNifdN/Ua4PyIWAPcL+nKOuPfG7hqYFwR8XCDOA4Cdku3kwGwmaRN8zSOyL/9maRHRjabVjZOStbIqojYs1iQE8MTxSLgwxFxWc33DmPori/UxHcgnWLYJyJW1YnF90hVkM8p2WhcBnwgd8eCpBfljteuIt11PiZ3kfH6Or/9A/DafFc6kibm8pXApoXvXQ58aOCDpD3z26uAd+ayQ0k351oFOCnZaJxFOl90Y+6g/tukve+fkO5EvwU4Hfht7Q8jYjnpPNBFkv4E/CgP+inw1oET3eR+r/OJ9NtZexXw88BrJN1IOoxc3KZ5tA5zLwFmVireUzKzUnFSMrNScVIys1JxUjKzUnFSMrNScVIys1JxUjKzUvkv2DsmInClZ9kAAAAASUVORK5CYII=\n",
          "text/plain": "<Figure size 432x288 with 1 Axes>"
         },
         "metadata": {},
         "output_type": "display_data"
        },
        {
         "name": "stdout",
         "output_type": "stream",
         "text": " MAE: 20.06±2.27 95CI=(16.68, 23.63)\n MSE: 1094.40±218.37 95CI=(775.93, 1447.63)\n  R2: -0.57±0.07 95CI=(-0.68, -0.48)\nRMSE: 32.92±3.31 95CI=(27.86, 38.05)\n"
        }
       ]
      }
     },
     "a63954b70db348259062f05748be5cfa": {
      "model_module": "@jupyter-widgets/controls",
      "model_module_version": "1.5.0",
      "model_name": "DescriptionStyleModel",
      "state": {
       "description_width": ""
      }
     },
     "b191a20ca9a54f3192404384d11fee06": {
      "model_module": "@jupyter-widgets/controls",
      "model_module_version": "1.5.0",
      "model_name": "HTMLModel",
      "state": {
       "layout": "IPY_MODEL_eebe74ccd89f4e768a380a52e306d620",
       "style": "IPY_MODEL_dccfd3ce81a745c0b747a5208dd9410b",
       "value": "Average across folds:"
      }
     },
     "b6158a08c2544c57939a2f1a6f003abc": {
      "model_module": "@jupyter-widgets/controls",
      "model_module_version": "1.5.0",
      "model_name": "DescriptionStyleModel",
      "state": {
       "description_width": ""
      }
     },
     "b77e619c7f2548708b13c499c7fcb9ab": {
      "model_module": "@jupyter-widgets/output",
      "model_module_version": "1.0.0",
      "model_name": "OutputModel",
      "state": {
       "layout": "IPY_MODEL_1db05f71b9324053a5463d18847c97c9"
      }
     },
     "bd84ffdff1384bf383aa963dfb4fa096": {
      "model_module": "@jupyter-widgets/base",
      "model_module_version": "1.2.0",
      "model_name": "LayoutModel",
      "state": {}
     },
     "bfab4b13a84b49748cef6a51a8bdb44c": {
      "model_module": "@jupyter-widgets/base",
      "model_module_version": "1.2.0",
      "model_name": "LayoutModel",
      "state": {}
     },
     "c8bd851ae65f45a083519c99e937860a": {
      "model_module": "@jupyter-widgets/controls",
      "model_module_version": "1.5.0",
      "model_name": "HBoxModel",
      "state": {
       "children": [
        "IPY_MODEL_1b227a20168c495bb95e58678e5abac7",
        "IPY_MODEL_eb075f54c503421a9075135a9b34b177",
        "IPY_MODEL_b77e619c7f2548708b13c499c7fcb9ab"
       ],
       "layout": "IPY_MODEL_4efd3ee83de843c3aa278ab045bd9c10"
      }
     },
     "c96329464b614fcea9fec15bcbe46a92": {
      "model_module": "@jupyter-widgets/output",
      "model_module_version": "1.0.0",
      "model_name": "OutputModel",
      "state": {
       "layout": "IPY_MODEL_f902f01bfbfa454d9d09037dce3f506e"
      }
     },
     "ca54c6eae061402bbaab58a8ed711e59": {
      "model_module": "@jupyter-widgets/base",
      "model_module_version": "1.2.0",
      "model_name": "LayoutModel",
      "state": {}
     },
     "ccd3ba8d87ad470eb64e3078c913a248": {
      "model_module": "@jupyter-widgets/base",
      "model_module_version": "1.2.0",
      "model_name": "LayoutModel",
      "state": {}
     },
     "d09d33efc7be47c48a99bd3fd99e94e1": {
      "model_module": "@jupyter-widgets/output",
      "model_module_version": "1.0.0",
      "model_name": "OutputModel",
      "state": {
       "layout": "IPY_MODEL_2168351207d047e9ab5f9e1ea8cc03b6",
       "outputs": [
        {
         "name": "stdout",
         "output_type": "stream",
         "text": "PercentageDisplacementMeasurement (test=129), fold=2\n----------------------------------------------------\n MAE: 16.59±2.64 95CI=(12.64, 21.15)\n MSE: 829.04±232.73 95CI=(473.92, 1242.16)\n  R2: -0.50±0.08 95CI=(-0.64, -0.37)\nRMSE: 28.51±4.01 95CI=(21.77, 35.24)\n"
        },
        {
         "data": {
          "image/png": "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\n",
          "text/plain": "<Figure size 432x288 with 1 Axes>"
         },
         "metadata": {},
         "output_type": "display_data"
        },
        {
         "name": "stdout",
         "output_type": "stream",
         "text": " MAE: 16.69±2.55 95CI=(12.92, 21.04)\n MSE: 836.55±225.72 95CI=(481.81, 1229.58)\n  R2: -0.50±0.08 95CI=(-0.65, -0.37)\nRMSE: 28.66±3.88 95CI=(21.95, 35.07)\n"
        }
       ]
      }
     },
     "d3565ab13a704b3183fb1e9bc5d26ece": {
      "model_module": "@jupyter-widgets/output",
      "model_module_version": "1.0.0",
      "model_name": "OutputModel",
      "state": {
       "layout": "IPY_MODEL_79c4f783f3b1482eb0fa21600e7dceb7"
      }
     },
     "d39e795447534994b28931529343d1a3": {
      "model_module": "@jupyter-widgets/base",
      "model_module_version": "1.2.0",
      "model_name": "LayoutModel",
      "state": {}
     },
     "d9c424d9b54943e38355c7a19a21715b": {
      "model_module": "@jupyter-widgets/output",
      "model_module_version": "1.0.0",
      "model_name": "OutputModel",
      "state": {
       "layout": "IPY_MODEL_f96405a956284c2895ba796674672e0c",
       "outputs": [
        {
         "name": "stdout",
         "output_type": "stream",
         "text": "PercentageDisplacementMeasurement (test=129), fold=0\n----------------------------------------------------\n MAE: 21.07±3.02 95CI=(16.15, 25.69)\n MSE: 1305.56±270.13 95CI=(883.04, 1709.72)\n  R2: -0.50±0.08 95CI=(-0.63, -0.38)\nRMSE: 35.93±3.85 95CI=(29.72, 41.35)\n"
        },
        {
         "data": {
          "image/png": "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\n",
          "text/plain": "<Figure size 432x288 with 1 Axes>"
         },
         "metadata": {},
         "output_type": "display_data"
        },
        {
         "name": "stdout",
         "output_type": "stream",
         "text": " MAE: 21.10±2.99 95CI=(16.13, 26.32)\n MSE: 1310.54±265.25 95CI=(867.96, 1748.58)\n  R2: -0.50±0.08 95CI=(-0.64, -0.38)\nRMSE: 36.01±3.74 95CI=(29.46, 41.82)\n"
        }
       ]
      }
     },
     "db6640b1135446daaf0a8a741dc8e1cc": {
      "model_module": "@jupyter-widgets/base",
      "model_module_version": "1.2.0",
      "model_name": "LayoutModel",
      "state": {}
     },
     "dc5f573919fc41ffbdc9871dae2dc8c1": {
      "model_module": "@jupyter-widgets/controls",
      "model_module_version": "1.5.0",
      "model_name": "HBoxModel",
      "state": {
       "children": [
        "IPY_MODEL_d9c424d9b54943e38355c7a19a21715b",
        "IPY_MODEL_6be641bbb59d40d4b71d48ff0c2f6185",
        "IPY_MODEL_a23c53ecc1dd4861a29e215618b977dc"
       ],
       "layout": "IPY_MODEL_bd84ffdff1384bf383aa963dfb4fa096"
      }
     },
     "dcb124792add4c509ee2c66d53757886": {
      "model_module": "@jupyter-widgets/output",
      "model_module_version": "1.0.0",
      "model_name": "OutputModel",
      "state": {
       "layout": "IPY_MODEL_552e29fbacf543e096639ffdd5145628",
       "outputs": [
        {
         "name": "stdout",
         "output_type": "stream",
         "text": "PercentageDisplacementMeasurement (test=129), fold=2\n----------------------------------------------------\n MAE: 16.59±2.64 95CI=(12.63, 21.15)\n MSE: 828.86±232.66 95CI=(473.95, 1241.63)\n  R2: -0.50±0.08 95CI=(-0.64, -0.37)\nRMSE: 28.51±4.01 95CI=(21.77, 35.24)\n"
        },
        {
         "data": {
          "image/png": "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\n",
          "text/plain": "<Figure size 432x288 with 1 Axes>"
         },
         "metadata": {},
         "output_type": "display_data"
        },
        {
         "name": "stdout",
         "output_type": "stream",
         "text": " MAE: 16.69±2.55 95CI=(12.91, 21.04)\n MSE: 836.37±225.65 95CI=(481.47, 1229.15)\n  R2: -0.50±0.08 95CI=(-0.65, -0.37)\nRMSE: 28.66±3.87 95CI=(21.94, 35.06)\n"
        }
       ]
      }
     },
     "dccfd3ce81a745c0b747a5208dd9410b": {
      "model_module": "@jupyter-widgets/controls",
      "model_module_version": "1.5.0",
      "model_name": "DescriptionStyleModel",
      "state": {
       "description_width": ""
      }
     },
     "e0f7779c1a1f4c518e56c78825b23435": {
      "model_module": "@jupyter-widgets/controls",
      "model_module_version": "1.5.0",
      "model_name": "DescriptionStyleModel",
      "state": {
       "description_width": ""
      }
     },
     "e5a06b50b3f44d15bd1f3c9971c56b7e": {
      "model_module": "@jupyter-widgets/base",
      "model_module_version": "1.2.0",
      "model_name": "LayoutModel",
      "state": {}
     },
     "e5e35cbd7d4c43498355efd0cad1396a": {
      "model_module": "@jupyter-widgets/base",
      "model_module_version": "1.2.0",
      "model_name": "LayoutModel",
      "state": {}
     },
     "e7f7575a836f4ce081f847ca4ed6a82c": {
      "model_module": "@jupyter-widgets/base",
      "model_module_version": "1.2.0",
      "model_name": "LayoutModel",
      "state": {}
     },
     "eac910eec62b4c7f8f29fe72fb7db1c0": {
      "model_module": "@jupyter-widgets/base",
      "model_module_version": "1.2.0",
      "model_name": "LayoutModel",
      "state": {}
     },
     "eb075f54c503421a9075135a9b34b177": {
      "model_module": "@jupyter-widgets/output",
      "model_module_version": "1.0.0",
      "model_name": "OutputModel",
      "state": {
       "layout": "IPY_MODEL_71af1d084b99466cb8ab07519fc77fb3",
       "outputs": [
        {
         "name": "stdout",
         "output_type": "stream",
         "text": "PercentageDisplacementMeasurement (test=129), fold=4\n----------------------------------------------------\n MAE: 20.05±2.46 95CI=(16.50, 23.86)\n MSE: 1097.15±233.75 95CI=(768.68, 1540.11)\n  R2: -0.57±0.07 95CI=(-0.69, -0.47)\nRMSE: 32.93±3.53 95CI=(27.72, 39.24)\n"
        },
        {
         "data": {
          "image/png": "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\n",
          "text/plain": "<Figure size 432x288 with 1 Axes>"
         },
         "metadata": {},
         "output_type": "display_data"
        },
        {
         "name": "stdout",
         "output_type": "stream",
         "text": " MAE: 20.06±2.27 95CI=(16.68, 23.63)\n MSE: 1094.40±218.37 95CI=(775.93, 1447.63)\n  R2: -0.57±0.07 95CI=(-0.68, -0.48)\nRMSE: 32.92±3.31 95CI=(27.86, 38.05)\n"
        }
       ]
      }
     },
     "eebe74ccd89f4e768a380a52e306d620": {
      "model_module": "@jupyter-widgets/base",
      "model_module_version": "1.2.0",
      "model_name": "LayoutModel",
      "state": {}
     },
     "f03bc891cff94e0ab69d2fd3ae944cfa": {
      "model_module": "@jupyter-widgets/controls",
      "model_module_version": "1.5.0",
      "model_name": "DescriptionStyleModel",
      "state": {
       "description_width": ""
      }
     },
     "f0bf1803741c4abaafe8f94c789b8d7d": {
      "model_module": "@jupyter-widgets/controls",
      "model_module_version": "1.5.0",
      "model_name": "HTMLModel",
      "state": {
       "layout": "IPY_MODEL_51e6bd982b854fffa3d4ffe50d147747",
       "style": "IPY_MODEL_f03bc891cff94e0ab69d2fd3ae944cfa",
       "value": "<h3>PercentageDisplacementMeasurement</h3>"
      }
     },
     "f17fc088d6e04265bb8b4edc4d952b00": {
      "model_module": "@jupyter-widgets/controls",
      "model_module_version": "1.5.0",
      "model_name": "HBoxModel",
      "state": {
       "children": [
        "IPY_MODEL_50ec27985fd54334ae4779e5275abcce",
        "IPY_MODEL_37a78cf430bb4a06848484c19f402ae2",
        "IPY_MODEL_2220668df7d94b0fbad2c4000aaefe89"
       ],
       "layout": "IPY_MODEL_f8bf38f49d554f6a9db4b170a7617e4d"
      }
     },
     "f61355f74b0f4d7bb3b76fd567b95e58": {
      "model_module": "@jupyter-widgets/base",
      "model_module_version": "1.2.0",
      "model_name": "LayoutModel",
      "state": {}
     },
     "f896106d931b400ebf486685d5955699": {
      "model_module": "@jupyter-widgets/controls",
      "model_module_version": "1.5.0",
      "model_name": "HBoxModel",
      "state": {
       "children": [
        "IPY_MODEL_77cfeb9c663b4f2899ee4f6f9b89a5cd",
        "IPY_MODEL_4ef1340afc5c45898ad3cb9d7f9612d2",
        "IPY_MODEL_d09d33efc7be47c48a99bd3fd99e94e1"
       ],
       "layout": "IPY_MODEL_0d70c760ebc14069a3e68eca4077e131"
      }
     },
     "f8bf38f49d554f6a9db4b170a7617e4d": {
      "model_module": "@jupyter-widgets/base",
      "model_module_version": "1.2.0",
      "model_name": "LayoutModel",
      "state": {}
     },
     "f902f01bfbfa454d9d09037dce3f506e": {
      "model_module": "@jupyter-widgets/base",
      "model_module_version": "1.2.0",
      "model_name": "LayoutModel",
      "state": {}
     },
     "f96405a956284c2895ba796674672e0c": {
      "model_module": "@jupyter-widgets/base",
      "model_module_version": "1.2.0",
      "model_name": "LayoutModel",
      "state": {}
     },
     "fbe1aa3c194e4f7db1ecdf70af803533": {
      "model_module": "@jupyter-widgets/base",
      "model_module_version": "1.2.0",
      "model_name": "LayoutModel",
      "state": {}
     }
    },
    "version_major": 2,
    "version_minor": 0
   }
  }
 },
 "nbformat": 4,
 "nbformat_minor": 4
}
