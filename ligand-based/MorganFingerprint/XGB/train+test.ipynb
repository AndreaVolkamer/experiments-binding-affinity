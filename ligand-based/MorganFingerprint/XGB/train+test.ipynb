{
 "cells": [
  {
   "cell_type": "markdown",
   "metadata": {},
   "source": [
    "# Run the XGBoost model\n",
    "\n",
    "First, we have to create the XGBoost objects out of the NPZ files. NPZ files behave like dictionaries of arrays. In our case, they contain two keys:\n",
    "\n",
    "- `X`: the featurized systems\n",
    "- `y`: the associated measurements\n",
    "\n",
    "We can pass those dict-like arrays to an adapter class for Torch Datasets, which will be ingested by the DataLoaders. We also need the corresponding observation models."
   ]
  },
  {
   "cell_type": "code",
   "execution_count": 1,
   "metadata": {},
   "outputs": [],
   "source": [
    "%load_ext autoreload\n",
    "%autoreload 2"
   ]
  },
  {
   "cell_type": "code",
   "execution_count": 2,
   "metadata": {},
   "outputs": [],
   "source": [
    "DATASET = \"PKIS2\"\n",
    "N_ESTIMATORS = 100\n",
    "N_SPLITS = 5\n",
    "ITEMS_PER_ROW = 2"
   ]
  },
  {
   "cell_type": "code",
   "execution_count": 3,
   "metadata": {},
   "outputs": [],
   "source": [
    "MEASUREMENT_TYPES = {\n",
    "    \"ChEMBL\": [\"pKiMeasurement\", \"pIC50Measurement\", \"pKdMeasurement\"],\n",
    "    \"PKIS2\": [\"PercentageDisplacementMeasurement\"]\n",
    "}[DATASET]\n",
    "\n",
    "ONE_KINASE = {\n",
    "    \"ChEMBL\": \"P35968\",\n",
    "    \"PKIS2\": \"ABL2\",\n",
    "}[DATASET]"
   ]
  },
  {
   "cell_type": "code",
   "execution_count": 4,
   "metadata": {},
   "outputs": [
    {
     "data": {
      "application/vnd.jupyter.widget-view+json": {
       "model_id": "57f7677b6eac4a72b5137fee21b46a22",
       "version_major": 2,
       "version_minor": 0
      },
      "text/plain": []
     },
     "metadata": {},
     "output_type": "display_data"
    },
    {
     "name": "stdout",
     "output_type": "stream",
     "text": [
      "Reporting results at path: /home/jaime/devel/py/openkinome/experiments-binding-affinity/ligand-based/MorganFingerprint/XGB/_output/PKIS2/1605009078\n"
     ]
    }
   ],
   "source": [
    "from pathlib import Path\n",
    "from collections import defaultdict\n",
    "import numpy as np\n",
    "import shutil\n",
    "import time\n",
    "\n",
    "from kinoml.utils import seed_everything\n",
    "from kinoml.core import measurements as measurement_types\n",
    "\n",
    "HERE = Path(_dh[-1])\n",
    "_trial = 0\n",
    "OUT = HERE / \"_output\" / DATASET / f\"{time.time():.0f}\"\n",
    "OUT.mkdir(parents=True, exist_ok=True)\n",
    "print(\"Reporting results at path:\", OUT)\n",
    "# Fix the seed for reproducible random splits -- otherwise we get mixed train/test groups every time, biasing the model evaluation\n",
    "seed_everything()"
   ]
  },
  {
   "cell_type": "markdown",
   "metadata": {},
   "source": [
    "## Load featurized data and create observation models"
   ]
  },
  {
   "cell_type": "code",
   "execution_count": 5,
   "metadata": {},
   "outputs": [],
   "source": [
    "datasets = defaultdict(dict)\n",
    "for npz in HERE.glob(f\"../_output/{DATASET}__*.npz\"):\n",
    "    _, kinase, measurement_type = str(npz.stem).split(\"__\")\n",
    "    datasets[kinase][measurement_type] = ds = np.load(npz)"
   ]
  },
  {
   "cell_type": "code",
   "execution_count": 6,
   "metadata": {},
   "outputs": [
    {
     "data": {
      "text/plain": [
       "{'PercentageDisplacementMeasurement': <function kinoml.core.measurements.PercentageDisplacementMeasurement._loss_adapter_xgboost__mse(labels, dG_over_KT, inhibitor_conc=1, standard_conc=1, **kwargs)>}"
      ]
     },
     "execution_count": 6,
     "metadata": {},
     "output_type": "execute_result"
    }
   ],
   "source": [
    "obs_models = {k: getattr(measurement_types, k).observation_model(backend=\"numpy\") for k in MEASUREMENT_TYPES}\n",
    "objectives = {k: getattr(measurement_types, k).loss_adapter(backend=\"xgboost\", loss=\"mse\") for k in MEASUREMENT_TYPES}\n",
    "objectives"
   ]
  },
  {
   "cell_type": "markdown",
   "metadata": {},
   "source": [
    "Now that we have all the data-dependent objects, we can start with the model-specific definitions."
   ]
  },
  {
   "cell_type": "markdown",
   "metadata": {},
   "source": [
    "## Train the model"
   ]
  },
  {
   "cell_type": "code",
   "execution_count": 7,
   "metadata": {},
   "outputs": [],
   "source": [
    "from xgboost import XGBRegressor\n",
    "import pandas as pd\n",
    "from sklearn.model_selection import KFold\n",
    "from kinoml.analysis.plots import predicted_vs_observed\n",
    "from kinoml.analysis.metrics import performance\n",
    "from ipywidgets import HBox, VBox, Output, HTML\n",
    "from matplotlib import pyplot as plt"
   ]
  },
  {
   "cell_type": "code",
   "execution_count": 8,
   "metadata": {},
   "outputs": [
    {
     "data": {
      "application/vnd.jupyter.widget-view+json": {
       "model_id": "18a48b9e5cc940eaa24835e0d74f7583",
       "version_major": 2,
       "version_minor": 0
      },
      "text/plain": [
       "HTML(value='<h3>PercentageDisplacementMeasurement</h3>')"
      ]
     },
     "metadata": {},
     "output_type": "display_data"
    },
    {
     "name": "stderr",
     "output_type": "stream",
     "text": [
      "/home/jaime/.conda/envs/kinoml-ci/lib/python3.7/site-packages/xgboost/sklearn.py:390: UserWarning: objective is not saved in Scikit-Learn meta.\n",
      "  warnings.warn(str(k) + ' is not saved in Scikit-Learn meta.')\n",
      "/home/jaime/.conda/envs/kinoml-ci/lib/python3.7/site-packages/xgboost/sklearn.py:390: UserWarning: objective is not saved in Scikit-Learn meta.\n",
      "  warnings.warn(str(k) + ' is not saved in Scikit-Learn meta.')\n",
      "/home/jaime/.conda/envs/kinoml-ci/lib/python3.7/site-packages/xgboost/sklearn.py:390: UserWarning: objective is not saved in Scikit-Learn meta.\n",
      "  warnings.warn(str(k) + ' is not saved in Scikit-Learn meta.')\n",
      "/home/jaime/.conda/envs/kinoml-ci/lib/python3.7/site-packages/xgboost/sklearn.py:390: UserWarning: objective is not saved in Scikit-Learn meta.\n",
      "  warnings.warn(str(k) + ' is not saved in Scikit-Learn meta.')\n",
      "/home/jaime/.conda/envs/kinoml-ci/lib/python3.7/site-packages/xgboost/sklearn.py:390: UserWarning: objective is not saved in Scikit-Learn meta.\n",
      "  warnings.warn(str(k) + ' is not saved in Scikit-Learn meta.')\n"
     ]
    },
    {
     "data": {
      "application/vnd.jupyter.widget-view+json": {
       "model_id": "164978dd0e994d2aa625aec89a6bf0d1",
       "version_major": 2,
       "version_minor": 0
      },
      "text/plain": [
       "VBox(children=(HBox(children=(Output(), Output())), HBox(children=(Output(), Output())), HBox(children=(Output…"
      ]
     },
     "metadata": {},
     "output_type": "display_data"
    },
    {
     "data": {
      "application/vnd.jupyter.widget-view+json": {
       "model_id": "017f08339bc14f1287e57b142ed48cd0",
       "version_major": 2,
       "version_minor": 0
      },
      "text/plain": [
       "HTML(value='Average across folds:')"
      ]
     },
     "metadata": {},
     "output_type": "display_data"
    },
    {
     "data": {
      "text/html": [
       "<div>\n",
       "<style scoped>\n",
       "    .dataframe tbody tr th:only-of-type {\n",
       "        vertical-align: middle;\n",
       "    }\n",
       "\n",
       "    .dataframe tbody tr th {\n",
       "        vertical-align: top;\n",
       "    }\n",
       "\n",
       "    .dataframe thead th {\n",
       "        text-align: right;\n",
       "    }\n",
       "</style>\n",
       "<table border=\"1\" class=\"dataframe\">\n",
       "  <thead>\n",
       "    <tr style=\"text-align: right;\">\n",
       "      <th></th>\n",
       "      <th>mae</th>\n",
       "      <th>mse</th>\n",
       "      <th>r2</th>\n",
       "      <th>rmse</th>\n",
       "    </tr>\n",
       "  </thead>\n",
       "  <tbody>\n",
       "    <tr>\n",
       "      <th>mean</th>\n",
       "      <td>21.808096</td>\n",
       "      <td>745.027450</td>\n",
       "      <td>-0.439603</td>\n",
       "      <td>23.605678</td>\n",
       "    </tr>\n",
       "    <tr>\n",
       "      <th>std</th>\n",
       "      <td>12.155252</td>\n",
       "      <td>407.709545</td>\n",
       "      <td>0.661167</td>\n",
       "      <td>13.192836</td>\n",
       "    </tr>\n",
       "  </tbody>\n",
       "</table>\n",
       "</div>"
      ],
      "text/plain": [
       "            mae         mse        r2       rmse\n",
       "mean  21.808096  745.027450 -0.439603  23.605678\n",
       "std   12.155252  407.709545  0.661167  13.192836"
      ]
     },
     "metadata": {},
     "output_type": "display_data"
    }
   ],
   "source": [
    "_with_observation_model = True\n",
    "for mtype in MEASUREMENT_TYPES:\n",
    "    display(HTML(f\"<h3>{mtype}</h3>\"))\n",
    "    \n",
    "    kfold = KFold(n_splits=N_SPLITS)\n",
    "    mtype_class = getattr(measurement_types, mtype)\n",
    "    X = datasets[ONE_KINASE][mtype][\"X\"]\n",
    "    y = datasets[ONE_KINASE][mtype][\"y\"]\n",
    "\n",
    "    plots, metrics = [], []\n",
    "    for fold, (train, test) in enumerate(kfold.split(X)):\n",
    "        if _with_observation_model:\n",
    "            model = XGBRegressor(n_estimators=N_ESTIMATORS, objective=objectives[mtype])\n",
    "        else:\n",
    "            model = XGBRegressor(n_estimators=N_ESTIMATORS)\n",
    "        \n",
    "        model.fit(X[train], y[train])\n",
    "\n",
    "        output_train = Output()\n",
    "        with output_train:\n",
    "            title = f\"{mtype} (train={train.shape[0]}), fold={fold}\"\n",
    "            print(title)\n",
    "            print(\"-\"*(len(title)))\n",
    "            if _with_observation_model:\n",
    "                trained = obs_models[mtype](model.predict(X[train]))\n",
    "            else:\n",
    "                trained = model.predict(X[train])\n",
    "            display(predicted_vs_observed(trained, y[train], mtype_class, n_boot=100, sample_ratio=0.75))\n",
    "            metrics.append(performance(trained, y[train]))\n",
    "        plots.append(output_train)\n",
    "        \n",
    "        \n",
    "\n",
    "            \n",
    "        output_test = Output()\n",
    "        with output_test:\n",
    "            title = f\"{mtype} (test={test.shape[0]}), fold={fold}\"\n",
    "            print(title)\n",
    "            print(\"-\"*(len(title)))\n",
    "            \n",
    "            delta_g_over_kt = model.predict(X[test])\n",
    "            if _with_observation_model:\n",
    "                predicted = obs_models[mtype](delta_g_over_kt)\n",
    "            else:\n",
    "                predicted = delta_g_over_kt\n",
    "            display(predicted_vs_observed(predicted, y[test], mtype_class, n_boot=100, sample_ratio=0.75))\n",
    "            metrics.append(performance(predicted, y[test]))\n",
    "        plots.append(output_test)\n",
    "        \n",
    "        model.save_model(OUT / f\"XGBRegressor__fold{fold}.model\")\n",
    "\n",
    "    # Fill with empty objects until the next multiple of ITEMS_PER_ROW\n",
    "    for _ in range((ITEMS_PER_ROW - (len(plots) % ITEMS_PER_ROW)) % ITEMS_PER_ROW):\n",
    "        plots.append(Output())\n",
    "\n",
    "    # Plot in ITEMS_PER_ROW-column table\n",
    "    display(VBox([HBox(row) for row in np.reshape(plots, (-1, ITEMS_PER_ROW)).tolist()]))\n",
    "\n",
    "    # Average performances\n",
    "    average = {}\n",
    "    for key in metrics[0]:\n",
    "        values =  [fold[key] for fold in metrics]\n",
    "        average[key] = {\n",
    "            \"mean\": np.mean(values),\n",
    "            \"std\": np.std(values)\n",
    "        }\n",
    "    display(HTML(\"Average across folds:\"))\n",
    "    display(pd.DataFrame.from_dict(average))"
   ]
  },
  {
   "cell_type": "code",
   "execution_count": 9,
   "metadata": {},
   "outputs": [
    {
     "name": "stdout",
     "output_type": "stream",
     "text": [
      "Watermark\n",
      "---------\n",
      "numpy  1.19.2\n",
      "pandas 1.1.3\n",
      "last updated: 2020-11-10 12:51:23 CET 2020-11-10T12:51:23+01:00\n",
      "\n",
      "CPython 3.7.8\n",
      "IPython 7.18.1\n",
      "\n",
      "compiler   : GCC 7.5.0\n",
      "system     : Linux\n",
      "release    : 4.19.128-microsoft-standard\n",
      "machine    : x86_64\n",
      "processor  : x86_64\n",
      "CPU cores  : 8\n",
      "interpreter: 64bit\n",
      "host name  : jrodriguez\n",
      "Git hash   : 9b34d4daecf6a06b1a36c58d8753f31f7f784107\n",
      "watermark 2.0.2\n",
      "\n",
      "conda\n",
      "-----\n",
      "sys.version: 3.7.6 | packaged by conda-forge | (defau...\n",
      "sys.prefix: /opt/miniconda\n",
      "sys.executable: /opt/miniconda/bin/python\n",
      "conda location: /opt/miniconda/lib/python3.7/site-packages/conda\n",
      "conda-build: /opt/miniconda/bin/conda-build\n",
      "conda-convert: /opt/miniconda/bin/conda-convert\n",
      "conda-debug: /opt/miniconda/bin/conda-debug\n",
      "conda-develop: /opt/miniconda/bin/conda-develop\n",
      "conda-env: /opt/miniconda/bin/conda-env\n",
      "conda-index: /opt/miniconda/bin/conda-index\n",
      "conda-inspect: /opt/miniconda/bin/conda-inspect\n",
      "conda-metapackage: /opt/miniconda/bin/conda-metapackage\n",
      "conda-render: /opt/miniconda/bin/conda-render\n",
      "conda-server: /opt/miniconda/bin/conda-server\n",
      "conda-skeleton: /opt/miniconda/bin/conda-skeleton\n",
      "conda-smithy: /opt/miniconda/bin/conda-smithy\n",
      "user site dirs: ~/.local/lib/python3.8\n",
      "\n",
      "CIO_TEST: <not set>\n",
      "CONDA_DEFAULT_ENV: kinoml-ci\n",
      "CONDA_EXE: /opt/miniconda/bin/conda\n",
      "CONDA_PREFIX: /home/jaime/.conda/envs/kinoml-ci\n",
      "CONDA_PREFIX_1: /opt/miniconda\n",
      "CONDA_PROMPT_MODIFIER: (kinoml-ci) \n",
      "CONDA_PYTHON_EXE: /opt/miniconda/bin/python\n",
      "CONDA_ROOT: /opt/miniconda\n",
      "CONDA_SHLVL: 2\n",
      "CURL_CA_BUNDLE: <not set>\n",
      "PATH: /home/jaime/.conda/envs/kinoml-ci/bin:/opt/miniconda/condabin:/home/jaime/.local/bin:/usr/local/sbin:/usr/local/bin:/usr/sbin:/usr/bin:/sbin:/bin:/usr/games:/usr/local/games:/mnt/c/Program Files/NVIDIA GPU Computing Toolkit/CUDA/v11.0/bin:/mnt/c/Program Files/NVIDIA GPU Computing Toolkit/CUDA/v11.0/libnvvp:/mnt/c/Program Files/NVIDIA GPU Computing Toolkit/CUDA/v10.1/bin:/mnt/c/Program Files/NVIDIA GPU Computing Toolkit/CUDA/v10.1/libnvvp:/mnt/c/Windows/system32:/mnt/c/Windows:/mnt/c/Windows/System32/Wbem:/mnt/c/Windows/System32/WindowsPowerShell/v1.0:/mnt/c/Windows/System32/OpenSSH:/mnt/c/Program Files (x86)/NVIDIA Corporation/PhysX/Common:/mnt/c/WINDOWS/system32:/mnt/c/WINDOWS:/mnt/c/WINDOWS/System32/Wbem:/mnt/c/WINDOWS/System32/WindowsPowerShell/v1.0:/mnt/c/WINDOWS/System32/OpenSSH:/mnt/c/Program Files (x86)/Windows Kits/10/Windows Performance Toolkit:/mnt/c/Program Files/Intel/WiFi/bin:/mnt/c/Program Files/Common Files/Intel/WirelessCommon:/mnt/c/Android:/mnt/c/Program Files (x86)/Intel/Intel(R) Management Engine Components/DAL:/mnt/c/Program Files/Intel/Intel(R) Management Engine Components/DAL:/mnt/c/Program Files/Docker/Docker/resources/bin:/mnt/c/ProgramData/DockerDesktop/version-bin:/mnt/c/Program Files/NVIDIA Corporation/Nsight Compute 2020.1.2:/mnt/c/WINDOWS/system32:/mnt/c/WINDOWS:/mnt/c/WINDOWS/System32/Wbem:/mnt/c/WINDOWS/System32/WindowsPowerShell/v1.0:/mnt/c/WINDOWS/System32/OpenSSH:/mnt/c/Users/Jaime/AppData/Local/Microsoft/WindowsApps:/mnt/c/Users/Jaime/AppData/Local/Programs/Microsoft VS Code/bin:/mnt/c/Program Files (x86)/mingw-w64/i686-8.1.0-posix-dwarf-rt_v6-rev0/mingw32/bin:/mnt/c/G09W:/mnt/c/Program Files (x86)/FAHClient:/mnt/c/Program Files/7-Zip:/mnt/c/Users/Jaime/AppData/Local/atom/bin:/mnt/c/Users/Jaime/AppData/Local/Microsoft/WindowsApps\n",
      "PYTHONHASHSEED: 1234\n",
      "REQUESTS_CA_BUNDLE: <not set>\n",
      "SSL_CERT_FILE: <not set>\n",
      "\n",
      "\n",
      "# packages in environment at /home/jaime/.conda/envs/kinoml-ci:\n",
      "#\n",
      "# Name                    Version                   Build  Channel\n",
      "_libgcc_mutex             0.1                 conda_forge    conda-forge\n",
      "_openmp_mutex             4.5                       1_gnu    conda-forge\n",
      "_py-xgboost-mutex         2.0                       cpu_0    conda-forge\n",
      "absl-py                   0.10.0                   pypi_0    pypi\n",
      "alabaster                 0.7.12                   pypi_0    pypi\n",
      "amberlite                 16.0                     pypi_0    pypi\n",
      "ambertools                20.9                     pypi_0    pypi\n",
      "appdirs                   1.4.4              pyh9f0ad1d_0    conda-forge\n",
      "argon2-cffi               20.1.0           py37h8f50634_2    conda-forge\n",
      "arpack                    3.7.0                hc6cf775_2    conda-forge\n",
      "ase                       3.20.1                   pypi_0    pypi\n",
      "astroid                   2.4.2                    pypi_0    pypi\n",
      "async_generator           1.10                       py_0    conda-forge\n",
      "attrs                     20.2.0             pyh9f0ad1d_0    conda-forge\n",
      "babel                     2.8.0                    pypi_0    pypi\n",
      "backcall                  0.2.0              pyh9f0ad1d_0    conda-forge\n",
      "backports                 1.0                        py_2    conda-forge\n",
      "backports.functools_lru_cache 1.6.1                      py_0    conda-forge\n",
      "biopandas                 0.2.7                    pypi_0    pypi\n",
      "biopython                 1.78             py37h8f50634_1    conda-forge\n",
      "black                     20.8b1                   pypi_0    pypi\n",
      "blas                      1.0                         mkl    conda-forge\n",
      "bleach                    3.2.1              pyh9f0ad1d_0    conda-forge\n",
      "boost                     1.74.0           py37h48f8a5e_1    conda-forge\n",
      "boost-cpp                 1.74.0               h9359b55_0    conda-forge\n",
      "bravado                   11.0.2                   pypi_0    pypi\n",
      "bravado-core              5.17.0                   pypi_0    pypi\n",
      "brotlipy                  0.7.0           py37hb5d75c8_1001    conda-forge\n",
      "bson                      0.5.9                      py_0    conda-forge\n",
      "bzip2                     1.0.8                h516909a_3    conda-forge\n",
      "c-ares                    1.16.1               h516909a_3    conda-forge\n",
      "ca-certificates           2020.10.14                    0  \n",
      "cachetools                4.1.1                    pypi_0    pypi\n",
      "cairo                     1.16.0            h488836b_1006    conda-forge\n",
      "certifi                   2020.6.20        py37he5f6b98_2    conda-forge\n",
      "cffi                      1.14.3           py37h00ebd2e_1    conda-forge\n",
      "cftime                    1.2.1            py37h161383b_1    conda-forge\n",
      "chardet                   3.0.4           py37he5f6b98_1008    conda-forge\n",
      "click                     7.1.2                    pypi_0    pypi\n",
      "codecov                   2.1.10             pyh9f0ad1d_0    conda-forge\n",
      "coverage                  5.3              py37h8f50634_1    conda-forge\n",
      "cryptography              3.1.1            py37hff6837a_1    conda-forge\n",
      "cudatoolkit               10.2.89              hfd86e86_1  \n",
      "curl                      7.71.1               he644dc0_8    conda-forge\n",
      "cycler                    0.10.0                     py_2    conda-forge\n",
      "cython                    0.29.21          py37hb892b2f_1    conda-forge\n",
      "decorator                 4.4.2                      py_0    conda-forge\n",
      "defusedxml                0.6.0                      py_0    conda-forge\n",
      "docutils                  0.16                     pypi_0    pypi\n",
      "entrypoints               0.3             py37hc8dfbb8_1002    conda-forge\n",
      "fftw                      3.3.8           nompi_h7f3a6c3_1112    conda-forge\n",
      "fftw3f                    3.3.4                         2    omnia\n",
      "fontconfig                2.13.1            h1056068_1002    conda-forge\n",
      "freetype                  2.10.4               he06d7ca_0    conda-forge\n",
      "fsspec                    0.8.4                    pypi_0    pypi\n",
      "future                    0.18.2                   pypi_0    pypi\n",
      "gettext                   0.19.8.1          hf34092f_1004    conda-forge\n",
      "gitdb                     4.0.5                    pypi_0    pypi\n",
      "gitpython                 3.1.11                   pypi_0    pypi\n",
      "google-auth               1.22.1                   pypi_0    pypi\n",
      "google-auth-oauthlib      0.4.1                    pypi_0    pypi\n",
      "googledrivedownloader     0.4                      pypi_0    pypi\n",
      "griddataformats           0.5.0                      py_0    conda-forge\n",
      "grpcio                    1.33.1                   pypi_0    pypi\n",
      "gsd                       2.2.0            py37h161383b_1    conda-forge\n",
      "h5py                      2.10.0                   pypi_0    pypi\n",
      "hdf4                      4.2.13            hf30be14_1003    conda-forge\n",
      "hdf5                      1.10.6          nompi_h54c07f9_1110    conda-forge\n",
      "hdf5-1820                 1.8.20                        0    omnia\n",
      "htmlmin                   0.1.12                   pypi_0    pypi\n",
      "icu                       67.1                 he1b5a44_0    conda-forge\n",
      "idna                      2.10               pyh9f0ad1d_0    conda-forge\n",
      "imagesize                 1.2.0                    pypi_0    pypi\n",
      "importlib-metadata        2.0.0            py37hc8dfbb8_0    conda-forge\n",
      "importlib_metadata        2.0.0                         1    conda-forge\n",
      "importlib_resources       3.2.0            py37hc8dfbb8_0    conda-forge\n",
      "iniconfig                 1.1.1              pyh9f0ad1d_0    conda-forge\n",
      "intel-openmp              2020.2                      254  \n",
      "ipykernel                 5.3.4            py37hc6149b9_1    conda-forge\n",
      "ipython                   7.18.1           py37hc6149b9_1    conda-forge\n",
      "ipython_genutils          0.2.0                      py_1    conda-forge\n",
      "ipywidgets                7.5.1              pyh9f0ad1d_1    conda-forge\n",
      "isodate                   0.6.0                    pypi_0    pypi\n",
      "isort                     5.6.4                    pypi_0    pypi\n",
      "jedi                      0.17.2           py37hc8dfbb8_1    conda-forge\n",
      "jinja2                    2.11.2             pyh9f0ad1d_0    conda-forge\n",
      "joblib                    0.17.0                     py_0    conda-forge\n",
      "jpeg                      9d                   h516909a_0    conda-forge\n",
      "jsmin                     2.2.2                    pypi_0    pypi\n",
      "json5                     0.9.5              pyh9f0ad1d_0    conda-forge\n",
      "jsonpointer               2.0                      pypi_0    pypi\n",
      "jsonref                   0.2                      pypi_0    pypi\n",
      "jsonschema                3.2.0            py37hc8dfbb8_1    conda-forge\n",
      "jupyter_client            6.1.7                      py_0    conda-forge\n",
      "jupyter_core              4.6.3            py37hc8dfbb8_2    conda-forge\n",
      "jupyterlab                2.2.9                      py_0    conda-forge\n",
      "jupyterlab_pygments       0.1.2              pyh9f0ad1d_0    conda-forge\n",
      "jupyterlab_server         1.2.0                      py_0    conda-forge\n",
      "kinoml                    0+untagged.323.g6373931.dirty           dev_0    <develop>\n",
      "kiwisolver                1.2.0            py37h99015e2_1    conda-forge\n",
      "klifs-utils               0+unknown                pypi_0    pypi\n",
      "krb5                      1.17.1               hfafb76e_3    conda-forge\n",
      "lazy-object-proxy         1.4.3                    pypi_0    pypi\n",
      "lcms2                     2.11                 hbd6801e_0    conda-forge\n",
      "ld_impl_linux-64          2.35                 h769bd43_9    conda-forge\n",
      "libblas                   3.9.0           1_h6e990d7_netlib    conda-forge\n",
      "libcblas                  3.9.0           2_h6e990d7_netlib    conda-forge\n",
      "libcurl                   7.71.1               hcdd3856_8    conda-forge\n",
      "libedit                   3.1.20191231         he28a2e2_2    conda-forge\n",
      "libev                     4.33                 h516909a_1    conda-forge\n",
      "libffi                    3.2.1             he1b5a44_1007    conda-forge\n",
      "libgcc-ng                 9.3.0               h5dbcf3e_17    conda-forge\n",
      "libgfortran-ng            7.5.0               hae1eefd_17    conda-forge\n",
      "libgfortran4              7.5.0               hae1eefd_17    conda-forge\n",
      "libglib                   2.66.2               h0dae87d_0    conda-forge\n",
      "libgomp                   9.3.0               h5dbcf3e_17    conda-forge\n",
      "libiconv                  1.16                 h516909a_0    conda-forge\n",
      "liblapack                 3.9.0           2_h6e990d7_netlib    conda-forge\n",
      "libnetcdf                 4.7.4           nompi_hefab0ff_106    conda-forge\n",
      "libnghttp2                1.41.0               h8cfc5f6_2    conda-forge\n",
      "libpng                    1.6.37               hed695b0_2    conda-forge\n",
      "libsodium                 1.0.18               h516909a_1    conda-forge\n",
      "libssh2                   1.9.0                hab1572f_5    conda-forge\n",
      "libstdcxx-ng              9.3.0               h2ae2ef3_17    conda-forge\n",
      "libtiff                   4.1.0                hc7e4089_6    conda-forge\n",
      "libuuid                   2.32.1            h14c3975_1000    conda-forge\n",
      "libwebp-base              1.1.0                h516909a_3    conda-forge\n",
      "libxcb                    1.13              h14c3975_1002    conda-forge\n",
      "libxgboost                1.2.0                he1b5a44_0    conda-forge\n",
      "libxml2                   2.9.10               h68273f3_2    conda-forge\n",
      "livereload                2.6.3                    pypi_0    pypi\n",
      "llvmlite                  0.34.0                   pypi_0    pypi\n",
      "lz4-c                     1.9.2                he1b5a44_3    conda-forge\n",
      "markdown                  3.3.3                    pypi_0    pypi\n",
      "markupsafe                1.1.1            py37hb5d75c8_2    conda-forge\n",
      "matplotlib-base           3.3.2            py37hc9afd2a_1    conda-forge\n",
      "mccabe                    0.6.1                    pypi_0    pypi\n",
      "mdanalysis                1.0.0            py37h3340039_0    conda-forge\n",
      "mistune                   0.8.4           py37h8f50634_1002    conda-forge\n",
      "mkdocs                    1.0.4                    pypi_0    pypi\n",
      "mkdocs-git-revision-date-localized-plugin 0.5.0                    pypi_0    pypi\n",
      "mkdocs-material           4.6.3                    pypi_0    pypi\n",
      "mkdocs-minify-plugin      0.2.3                    pypi_0    pypi\n",
      "mkdocstrings              0.7.1                    pypi_0    pypi\n",
      "mkl                       2020.2                      256  \n",
      "mmpbsa-py                 16.0                     pypi_0    pypi\n",
      "mmtf-python               1.1.2                      py_0    conda-forge\n",
      "modeller                  9.20                     py37_1    omnia\n",
      "monotonic                 1.5                      pypi_0    pypi\n",
      "more-itertools            8.5.0                      py_0    conda-forge\n",
      "msgpack-python            1.0.0            py37h99015e2_2    conda-forge\n",
      "mypy-extensions           0.4.3                    pypi_0    pypi\n",
      "nbclient                  0.5.1                      py_0    conda-forge\n",
      "nbconvert                 6.0.7            py37hc8dfbb8_2    conda-forge\n",
      "nbformat                  5.0.8                      py_0    conda-forge\n",
      "ncurses                   6.2                  he1b5a44_2    conda-forge\n",
      "nest-asyncio              1.4.1                      py_0    conda-forge\n",
      "netcdf-fortran            4.5.3           nompi_hfef6a68_101    conda-forge\n",
      "netcdf4                   1.5.4           nompi_py37hcbfd489_103    conda-forge\n",
      "networkx                  2.5                        py_0    conda-forge\n",
      "nglview                   2.7.7              pyh5ca1d4c_1    conda-forge\n",
      "ninja                     1.10.1               hfc4b9b4_2    conda-forge\n",
      "notebook                  6.1.4            py37hc8dfbb8_1    conda-forge\n",
      "numba                     0.51.2                   pypi_0    pypi\n",
      "numpy                     1.19.2           py37h7008fea_1    conda-forge\n",
      "oauthlib                  3.1.0                    pypi_0    pypi\n",
      "olefile                   0.46               pyh9f0ad1d_1    conda-forge\n",
      "openeye-toolkits          2020.1.0                 py37_0    openeye\n",
      "openforcefield            refs-pull-583-head          pypi_0    pypi\n",
      "openforcefields           1.3.0                      py_0    omnia\n",
      "openmm                    7.4.2           py37_cuda101_rc_1    omnia\n",
      "openssl                   1.1.1h               h516909a_0    conda-forge\n",
      "packaging                 20.4               pyh9f0ad1d_0    conda-forge\n",
      "packmol-memgen            1.1.0rc0                 pypi_0    pypi\n",
      "pandas                    1.1.3            py37hb33c840_2    conda-forge\n",
      "pandoc                    2.11.0.4             hd18ef5c_0    conda-forge\n",
      "pandocfilters             1.4.2                      py_1    conda-forge\n",
      "parmed                    at20RC5+54.g5702a232fe.dirty          pypi_0    pypi\n",
      "parso                     0.7.1              pyh9f0ad1d_0    conda-forge\n",
      "pathspec                  0.8.0                    pypi_0    pypi\n",
      "patsy                     0.5.1                      py_0    conda-forge\n",
      "pcre                      8.44                 he1b5a44_0    conda-forge\n",
      "pdb4amber                 1.7.dev0                 pypi_0    pypi\n",
      "perl                      5.30.3               h516909a_1    conda-forge\n",
      "pexpect                   4.8.0            py37hc8dfbb8_1    conda-forge\n",
      "pickleshare               0.7.5           py37hc8dfbb8_1002    conda-forge\n",
      "pillow                    8.0.1            py37h718be6c_0    conda-forge\n",
      "pint                      0.16.1                     py_0    conda-forge\n",
      "pip                       20.2.4                     py_0    conda-forge\n",
      "pixman                    0.38.0            h516909a_1003    conda-forge\n",
      "pluggy                    0.13.1           py37he5f6b98_3    conda-forge\n",
      "prody                     1.10.11                  pypi_0    pypi\n",
      "prometheus_client         0.8.0              pyh9f0ad1d_0    conda-forge\n",
      "prompt-toolkit            3.0.8                      py_0    conda-forge\n",
      "protobuf                  3.13.0                   pypi_0    pypi\n",
      "pthread-stubs             0.4               h14c3975_1001    conda-forge\n",
      "ptyprocess                0.6.0                 py37_1000    conda-forge\n",
      "py                        1.9.0              pyh9f0ad1d_0    conda-forge\n",
      "py-xgboost                1.2.0            py37hc8dfbb8_0    conda-forge\n",
      "pyasn1                    0.4.8                    pypi_0    pypi\n",
      "pyasn1-modules            0.2.8                    pypi_0    pypi\n",
      "pycairo                   1.20.0           py37h01af8b0_1    conda-forge\n",
      "pycparser                 2.20               pyh9f0ad1d_2    conda-forge\n",
      "pygments                  2.7.2                      py_0    conda-forge\n",
      "pylint                    2.6.0                    pypi_0    pypi\n",
      "pymdown-extensions        6.3                      pypi_0    pypi\n",
      "pyopenssl                 19.1.0                   py37_0    conda-forge\n",
      "pyparsing                 2.4.7              pyh9f0ad1d_0    conda-forge\n",
      "pyrsistent                0.17.3           py37h8f50634_1    conda-forge\n",
      "pysocks                   1.7.1            py37he5f6b98_2    conda-forge\n",
      "pytest                    6.1.1            py37he5f6b98_1    conda-forge\n",
      "pytest-cov                2.10.1             pyh9f0ad1d_0    conda-forge\n",
      "python                    3.7.8           h425cb1d_1_cpython    conda-forge\n",
      "python-dateutil           2.8.1                      py_0    conda-forge\n",
      "python_abi                3.7                     1_cp37m    conda-forge\n",
      "pytorch                   1.6.0           py3.7_cuda10.2.89_cudnn7.6.5_0    pytorch\n",
      "pytorch-lightning         1.0.4                    pypi_0    pypi\n",
      "pytraj                    2.0.5                    pypi_0    pypi\n",
      "pytz                      2020.1             pyh9f0ad1d_0    conda-forge\n",
      "pyyaml                    5.3.1            py37hb5d75c8_1    conda-forge\n",
      "pyzmq                     19.0.2           py37hac76be4_2    conda-forge\n",
      "rdflib                    5.0.0                    pypi_0    pypi\n",
      "rdkit                     2020.09.1        py37h0c252aa_0    conda-forge\n",
      "readline                  8.0                  he28a2e2_2    conda-forge\n",
      "regex                     2020.10.23               pypi_0    pypi\n",
      "requests                  2.24.0             pyh9f0ad1d_0    conda-forge\n",
      "requests-oauthlib         1.3.0                    pypi_0    pypi\n",
      "rfc3987                   1.3.8                    pypi_0    pypi\n",
      "rsa                       4.6                      pypi_0    pypi\n",
      "sander                    16.0                     pypi_0    pypi\n",
      "scikit-learn              0.23.2           py37hbb8adca_1    conda-forge\n",
      "scipy                     1.5.2            py37hf97831b_2    conda-forge\n",
      "seaborn                   0.11.0                        0    conda-forge\n",
      "seaborn-base              0.11.0                     py_0    conda-forge\n",
      "send2trash                1.5.0                      py_0    conda-forge\n",
      "setuptools                49.6.0           py37he5f6b98_2    conda-forge\n",
      "simplejson                3.17.2                   pypi_0    pypi\n",
      "six                       1.15.0             pyh9f0ad1d_0    conda-forge\n",
      "sklearn-pytorch           0.1.0                    pypi_0    pypi\n",
      "smirnoff99frosst          1.1.0                    py37_1    omnia\n",
      "smmap                     3.0.4                    pypi_0    pypi\n",
      "snowballstemmer           2.0.0                    pypi_0    pypi\n",
      "sphinx                    3.2.1                    pypi_0    pypi\n",
      "sphinxcontrib-applehelp   1.0.2                    pypi_0    pypi\n",
      "sphinxcontrib-devhelp     1.0.2                    pypi_0    pypi\n",
      "sphinxcontrib-htmlhelp    1.0.3                    pypi_0    pypi\n",
      "sphinxcontrib-jsmath      1.0.1                    pypi_0    pypi\n",
      "sphinxcontrib-qthelp      1.0.3                    pypi_0    pypi\n",
      "sphinxcontrib-serializinghtml 1.1.4                    pypi_0    pypi\n",
      "sqlite                    3.33.0               h4cf870e_1    conda-forge\n",
      "statsmodels               0.12.0           py37h161383b_1    conda-forge\n",
      "strict-rfc3339            0.7                      pypi_0    pypi\n",
      "swagger-spec-validator    2.7.3                    pypi_0    pypi\n",
      "tensorboard               2.3.0                    pypi_0    pypi\n",
      "tensorboard-plugin-wit    1.7.0                    pypi_0    pypi\n",
      "terminado                 0.9.1            py37hc8dfbb8_1    conda-forge\n",
      "testpath                  0.4.4                      py_0    conda-forge\n",
      "threadpoolctl             2.1.0              pyh5ca1d4c_0    conda-forge\n",
      "tk                        8.6.10               hed695b0_1    conda-forge\n",
      "toml                      0.10.1             pyh9f0ad1d_0    conda-forge\n",
      "torch-cluster             1.5.7                    pypi_0    pypi\n",
      "torch-geometric           1.6.1                    pypi_0    pypi\n",
      "torch-scatter             2.0.5                    pypi_0    pypi\n",
      "torch-sparse              0.6.7                    pypi_0    pypi\n",
      "torch-spline-conv         1.2.0                    pypi_0    pypi\n",
      "torchvision               0.7.0                py37_cu102    pytorch\n",
      "tornado                   6.0.4            py37h8f50634_2    conda-forge\n",
      "tqdm                      4.51.0             pyh9f0ad1d_0    conda-forge\n",
      "traitlets                 5.0.5                      py_0    conda-forge\n",
      "typed-ast                 1.4.1                    pypi_0    pypi\n",
      "typing-extensions         3.7.4.3                  pypi_0    pypi\n",
      "urllib3                   1.25.11                    py_0    conda-forge\n",
      "watermark                 2.0.2                      py_0    conda-forge\n",
      "wcwidth                   0.2.5              pyh9f0ad1d_2    conda-forge\n",
      "webcolors                 1.11.1                   pypi_0    pypi\n",
      "webencodings              0.5.1                      py_1    conda-forge\n",
      "werkzeug                  1.0.1                    pypi_0    pypi\n",
      "wheel                     0.35.1             pyh9f0ad1d_0    conda-forge\n",
      "widgetsnbextension        3.5.1            py37hc8dfbb8_4    conda-forge\n",
      "wrapt                     1.12.1                   pypi_0    pypi\n",
      "xgboost                   1.2.0            py37h3340039_0    conda-forge\n",
      "xmltodict                 0.12.0                     py_0    conda-forge\n",
      "xorg-kbproto              1.0.7             h14c3975_1002    conda-forge\n",
      "xorg-libice               1.0.10               h516909a_0    conda-forge\n",
      "xorg-libsm                1.2.3             h84519dc_1000    conda-forge\n",
      "xorg-libx11               1.6.12               h516909a_0    conda-forge\n",
      "xorg-libxau               1.0.9                h14c3975_0    conda-forge\n",
      "xorg-libxdmcp             1.1.3                h516909a_0    conda-forge\n",
      "xorg-libxext              1.3.4                h516909a_0    conda-forge\n",
      "xorg-libxrender           0.9.10            h516909a_1002    conda-forge\n",
      "xorg-libxt                1.2.0                h516909a_0    conda-forge\n",
      "xorg-renderproto          0.11.1            h14c3975_1002    conda-forge\n",
      "xorg-xextproto            7.3.0             h14c3975_1002    conda-forge\n",
      "xorg-xproto               7.0.31            h14c3975_1007    conda-forge\n",
      "xz                        5.2.5                h516909a_1    conda-forge\n",
      "yaml                      0.2.5                h516909a_0    conda-forge\n",
      "zeromq                    4.3.3                he1b5a44_2    conda-forge\n",
      "zipp                      3.4.0                      py_0    conda-forge\n",
      "zlib                      1.2.11            h516909a_1010    conda-forge\n",
      "zstd                      1.4.5                h6597ccf_2    conda-forge\n",
      "\n"
     ]
    }
   ],
   "source": [
    "from kinoml.utils import watermark\n",
    "watermark()"
   ]
  }
 ],
 "metadata": {
  "kernelspec": {
   "display_name": "Python 3",
   "language": "python",
   "name": "python3"
  },
  "language_info": {
   "codemirror_mode": {
    "name": "ipython",
    "version": 3
   },
   "file_extension": ".py",
   "mimetype": "text/x-python",
   "name": "python",
   "nbconvert_exporter": "python",
   "pygments_lexer": "ipython3",
   "version": "3.7.8"
  },
  "widgets": {
   "application/vnd.jupyter.widget-state+json": {
    "state": {
     "017f08339bc14f1287e57b142ed48cd0": {
      "model_module": "@jupyter-widgets/controls",
      "model_module_version": "1.5.0",
      "model_name": "HTMLModel",
      "state": {
       "layout": "IPY_MODEL_84b4631b8d4d47f89f5b3c38591dcd83",
       "style": "IPY_MODEL_76881c07ff1c4394a15bfa45e9af7bce",
       "value": "Average across folds:"
      }
     },
     "0c3d11c21d91428d8220299df247ec7b": {
      "model_module": "@jupyter-widgets/output",
      "model_module_version": "1.0.0",
      "model_name": "OutputModel",
      "state": {
       "layout": "IPY_MODEL_eeb405d2e9644c6492fa6d656112dd17",
       "outputs": [
        {
         "name": "stdout",
         "output_type": "stream",
         "text": "PercentageDisplacementMeasurement (train=516), fold=3\n-----------------------------------------------------\n MAE: 29.16±0.60 95CI=(28.23, 30.24)\n MSE: 1001.30±37.51 95CI=(943.39, 1059.25)\n  R2: -0.38±0.11 95CI=(-0.61, -0.23)\nRMSE: 31.64±0.59 95CI=(30.71, 32.55)\n"
        },
        {
         "data": {
          "image/png": "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\n",
          "text/plain": "<Figure size 432x288 with 1 Axes>"
         },
         "metadata": {},
         "output_type": "display_data"
        },
        {
         "name": "stdout",
         "output_type": "stream",
         "text": " MAE: 29.13±0.60 95CI=(28.18, 30.05)\n MSE: 999.57±37.14 95CI=(942.74, 1057.72)\n  R2: -0.38±0.11 95CI=(-0.62, -0.24)\nRMSE: 31.61±0.59 95CI=(30.70, 32.52)\n"
        }
       ]
      }
     },
     "0ea244331c4e49ce8f16005cd6101ba8": {
      "model_module": "@jupyter-widgets/output",
      "model_module_version": "1.0.0",
      "model_name": "OutputModel",
      "state": {
       "layout": "IPY_MODEL_80e3ebf256724b2db7ca66a819ed8bb3",
       "outputs": [
        {
         "name": "stdout",
         "output_type": "stream",
         "text": "PercentageDisplacementMeasurement (train=516), fold=1\n-----------------------------------------------------\n MAE: 28.59±0.61 95CI=(27.69, 29.61)\n MSE: 963.29±36.53 95CI=(905.94, 1015.50)\n  R2: -0.54±0.16 95CI=(-0.91, -0.36)\nRMSE: 31.03±0.59 95CI=(30.10, 31.87)\n"
        },
        {
         "data": {
          "image/png": "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\n",
          "text/plain": "<Figure size 432x288 with 1 Axes>"
         },
         "metadata": {},
         "output_type": "display_data"
        },
        {
         "name": "stdout",
         "output_type": "stream",
         "text": " MAE: 28.57±0.61 95CI=(27.72, 29.43)\n MSE: 962.32±36.67 95CI=(905.37, 1019.08)\n  R2: -0.54±0.16 95CI=(-0.93, -0.37)\nRMSE: 31.02±0.59 95CI=(30.09, 31.92)\n"
        }
       ]
      }
     },
     "164978dd0e994d2aa625aec89a6bf0d1": {
      "model_module": "@jupyter-widgets/controls",
      "model_module_version": "1.5.0",
      "model_name": "VBoxModel",
      "state": {
       "children": [
        "IPY_MODEL_b0476703e199451986e11d23b2701594",
        "IPY_MODEL_ab09113e1651442db61b39eafcacfe04",
        "IPY_MODEL_81dbb503beb743d4b587d9443abf4d6b",
        "IPY_MODEL_269ff09f2c4947378564012c776261fd",
        "IPY_MODEL_6537a5b32bcc41689060f65a45859739"
       ],
       "layout": "IPY_MODEL_ccb0627abea1470fbe75c86594711769"
      }
     },
     "18a48b9e5cc940eaa24835e0d74f7583": {
      "model_module": "@jupyter-widgets/controls",
      "model_module_version": "1.5.0",
      "model_name": "HTMLModel",
      "state": {
       "layout": "IPY_MODEL_fa0512888c98428b9fd6f131e2ca8800",
       "style": "IPY_MODEL_2ac04c77dc6641e89f30daddb22bd654",
       "value": "<h3>PercentageDisplacementMeasurement</h3>"
      }
     },
     "269ff09f2c4947378564012c776261fd": {
      "model_module": "@jupyter-widgets/controls",
      "model_module_version": "1.5.0",
      "model_name": "HBoxModel",
      "state": {
       "children": [
        "IPY_MODEL_0c3d11c21d91428d8220299df247ec7b",
        "IPY_MODEL_52f469f770b04f5ebe8d163508e8e9ca"
       ],
       "layout": "IPY_MODEL_29d5b81bd0fb44a9867821e72fdcb482"
      }
     },
     "28529cd4958e42c0b522371d1105c03c": {
      "model_module": "@jupyter-widgets/output",
      "model_module_version": "1.0.0",
      "model_name": "OutputModel",
      "state": {
       "layout": "IPY_MODEL_85260ce1f94f48cb8cb5e12410aa97ce",
       "outputs": [
        {
         "name": "stdout",
         "output_type": "stream",
         "text": "PercentageDisplacementMeasurement (train=516), fold=2\n-----------------------------------------------------\n MAE: 28.82±0.64 95CI=(27.65, 29.71)\n MSE: 974.34±38.75 95CI=(907.72, 1032.34)\n  R2: -0.44±0.13 95CI=(-0.68, -0.28)\nRMSE: 31.21±0.62 95CI=(30.13, 32.13)\n"
        },
        {
         "data": {
          "image/png": "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\n",
          "text/plain": "<Figure size 432x288 with 1 Axes>"
         },
         "metadata": {},
         "output_type": "display_data"
        },
        {
         "name": "stdout",
         "output_type": "stream",
         "text": " MAE: 28.80±0.63 95CI=(27.71, 29.67)\n MSE: 973.08±38.08 95CI=(904.89, 1026.09)\n  R2: -0.45±0.13 95CI=(-0.65, -0.29)\nRMSE: 31.19±0.61 95CI=(30.08, 32.03)\n"
        }
       ]
      }
     },
     "29d5b81bd0fb44a9867821e72fdcb482": {
      "model_module": "@jupyter-widgets/base",
      "model_module_version": "1.2.0",
      "model_name": "LayoutModel",
      "state": {}
     },
     "2ac04c77dc6641e89f30daddb22bd654": {
      "model_module": "@jupyter-widgets/controls",
      "model_module_version": "1.5.0",
      "model_name": "DescriptionStyleModel",
      "state": {
       "description_width": ""
      }
     },
     "4e40e3d8a16c410c84dd2f31c83dc0b9": {
      "model_module": "@jupyter-widgets/base",
      "model_module_version": "1.2.0",
      "model_name": "LayoutModel",
      "state": {}
     },
     "52f469f770b04f5ebe8d163508e8e9ca": {
      "model_module": "@jupyter-widgets/output",
      "model_module_version": "1.0.0",
      "model_name": "OutputModel",
      "state": {
       "layout": "IPY_MODEL_a4f3ad59644f4597a077259debb4983c",
       "outputs": [
        {
         "name": "stdout",
         "output_type": "stream",
         "text": "PercentageDisplacementMeasurement (test=129), fold=3\n----------------------------------------------------\n MAE: 27.16±1.01 95CI=(25.58, 28.79)\n MSE: 858.05±53.70 95CI=(775.60, 948.46)\n  R2: -1.53±0.74 95CI=(-3.15, -0.73)\nRMSE: 29.28±0.92 95CI=(27.85, 30.80)\n"
        },
        {
         "data": {
          "image/png": "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\n",
          "text/plain": "<Figure size 432x288 with 1 Axes>"
         },
         "metadata": {},
         "output_type": "display_data"
        },
        {
         "name": "stdout",
         "output_type": "stream",
         "text": " MAE: 27.16±0.99 95CI=(25.59, 28.68)\n MSE: 856.69±53.58 95CI=(773.69, 956.26)\n  R2: -1.54±0.73 95CI=(-3.24, -0.77)\nRMSE: 29.25±0.91 95CI=(27.82, 30.92)\n"
        }
       ]
      }
     },
     "5b30f06460764794a2a2a2851502ec31": {
      "model_module": "@jupyter-widgets/output",
      "model_module_version": "1.0.0",
      "model_name": "OutputModel",
      "state": {
       "layout": "IPY_MODEL_bc837a031b1744f3b54bb8502e8f6569",
       "outputs": [
        {
         "name": "stdout",
         "output_type": "stream",
         "text": "PercentageDisplacementMeasurement (test=129), fold=0\n----------------------------------------------------\n MAE: 31.36±1.35 95CI=(29.36, 33.51)\n MSE: 1125.34±85.80 95CI=(998.56, 1275.73)\n  R2: -0.33±0.21 95CI=(-0.68, -0.11)\nRMSE: 33.52±1.28 95CI=(31.60, 35.72)\n"
        },
        {
         "data": {
          "image/png": "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\n",
          "text/plain": "<Figure size 432x288 with 1 Axes>"
         },
         "metadata": {},
         "output_type": "display_data"
        },
        {
         "name": "stdout",
         "output_type": "stream",
         "text": " MAE: 31.41±1.29 95CI=(29.27, 33.44)\n MSE: 1128.25±82.79 95CI=(990.77, 1274.08)\n  R2: -0.33±0.20 95CI=(-0.69, -0.10)\nRMSE: 33.57±1.23 95CI=(31.48, 35.69)\n"
        }
       ]
      }
     },
     "60e1420179e3420dac76f85d1e5e26e5": {
      "model_module": "@jupyter-widgets/output",
      "model_module_version": "1.0.0",
      "model_name": "OutputModel",
      "state": {
       "layout": "IPY_MODEL_bda07c3341004e8aaa07671ab3488a54",
       "outputs": [
        {
         "name": "stdout",
         "output_type": "stream",
         "text": "PercentageDisplacementMeasurement (test=129), fold=1\n----------------------------------------------------\n MAE: 29.24±1.16 95CI=(27.45, 30.71)\n MSE: 1001.10±76.57 95CI=(871.32, 1116.00)\n  R2: -0.40±0.23 95CI=(-0.75, -0.11)\nRMSE: 31.62±1.22 95CI=(29.52, 33.41)\n"
        },
        {
         "data": {
          "image/png": "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\n",
          "text/plain": "<Figure size 432x288 with 1 Axes>"
         },
         "metadata": {},
         "output_type": "display_data"
        },
        {
         "name": "stdout",
         "output_type": "stream",
         "text": " MAE: 29.23±1.13 95CI=(27.25, 30.64)\n MSE: 1001.47±74.39 95CI=(883.29, 1093.08)\n  R2: -0.39±0.22 95CI=(-0.70, -0.13)\nRMSE: 31.62±1.19 95CI=(29.72, 33.06)\n"
        }
       ]
      }
     },
     "6537a5b32bcc41689060f65a45859739": {
      "model_module": "@jupyter-widgets/controls",
      "model_module_version": "1.5.0",
      "model_name": "HBoxModel",
      "state": {
       "children": [
        "IPY_MODEL_66a9c0129a7f46e18b8f383bc9d53f63",
        "IPY_MODEL_d4f849e165dc4dc688af25dc8ac3ed30"
       ],
       "layout": "IPY_MODEL_94055b04d8ca4fecbda81d1d0a5cb9b3"
      }
     },
     "66a9c0129a7f46e18b8f383bc9d53f63": {
      "model_module": "@jupyter-widgets/output",
      "model_module_version": "1.0.0",
      "model_name": "OutputModel",
      "state": {
       "layout": "IPY_MODEL_81edc2d4e28b4d4e9f2862ecb4271613",
       "outputs": [
        {
         "name": "stdout",
         "output_type": "stream",
         "text": "PercentageDisplacementMeasurement (train=516), fold=4\n-----------------------------------------------------\n MAE: 28.74±0.61 95CI=(27.74, 29.65)\n MSE: 969.37±36.24 95CI=(909.83, 1027.63)\n  R2: -0.51±0.14 95CI=(-0.76, -0.33)\nRMSE: 31.13±0.58 95CI=(30.16, 32.06)\n"
        },
        {
         "data": {
          "image/png": "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\n",
          "text/plain": "<Figure size 432x288 with 1 Axes>"
         },
         "metadata": {},
         "output_type": "display_data"
        },
        {
         "name": "stdout",
         "output_type": "stream",
         "text": " MAE: 28.73±0.63 95CI=(27.53, 29.65)\n MSE: 969.03±37.19 95CI=(906.66, 1023.95)\n  R2: -0.51±0.14 95CI=(-0.75, -0.32)\nRMSE: 31.12±0.60 95CI=(30.11, 32.00)\n"
        }
       ]
      }
     },
     "76881c07ff1c4394a15bfa45e9af7bce": {
      "model_module": "@jupyter-widgets/controls",
      "model_module_version": "1.5.0",
      "model_name": "DescriptionStyleModel",
      "state": {
       "description_width": ""
      }
     },
     "80e3ebf256724b2db7ca66a819ed8bb3": {
      "model_module": "@jupyter-widgets/base",
      "model_module_version": "1.2.0",
      "model_name": "LayoutModel",
      "state": {}
     },
     "81dbb503beb743d4b587d9443abf4d6b": {
      "model_module": "@jupyter-widgets/controls",
      "model_module_version": "1.5.0",
      "model_name": "HBoxModel",
      "state": {
       "children": [
        "IPY_MODEL_28529cd4958e42c0b522371d1105c03c",
        "IPY_MODEL_f3c5fbdd400b4fd19b157a16ae1a4e33"
       ],
       "layout": "IPY_MODEL_f323e8a1327540e48834346a714db9bb"
      }
     },
     "81edc2d4e28b4d4e9f2862ecb4271613": {
      "model_module": "@jupyter-widgets/base",
      "model_module_version": "1.2.0",
      "model_name": "LayoutModel",
      "state": {}
     },
     "84b4631b8d4d47f89f5b3c38591dcd83": {
      "model_module": "@jupyter-widgets/base",
      "model_module_version": "1.2.0",
      "model_name": "LayoutModel",
      "state": {}
     },
     "85260ce1f94f48cb8cb5e12410aa97ce": {
      "model_module": "@jupyter-widgets/base",
      "model_module_version": "1.2.0",
      "model_name": "LayoutModel",
      "state": {}
     },
     "91a74af669024f2db9eaf90ae3f5ee7d": {
      "model_module": "@jupyter-widgets/output",
      "model_module_version": "1.0.0",
      "model_name": "OutputModel",
      "state": {
       "layout": "IPY_MODEL_95cb1774aa664cc093003576e070d3ee",
       "outputs": [
        {
         "name": "stdout",
         "output_type": "stream",
         "text": "PercentageDisplacementMeasurement (train=516), fold=0\n-----------------------------------------------------\n MAE: 28.15±0.58 95CI=(27.26, 29.16)\n MSE: 936.66±36.18 95CI=(886.84, 1003.02)\n  R2: -0.58±0.18 95CI=(-0.88, -0.35)\nRMSE: 30.60±0.59 95CI=(29.78, 31.67)\n"
        },
        {
         "data": {
          "image/png": "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\n",
          "text/plain": "<Figure size 432x288 with 1 Axes>"
         },
         "metadata": {},
         "output_type": "display_data"
        },
        {
         "name": "stdout",
         "output_type": "stream",
         "text": " MAE: 28.14±0.57 95CI=(27.22, 29.03)\n MSE: 935.94±35.78 95CI=(880.13, 993.99)\n  R2: -0.59±0.18 95CI=(-0.87, -0.37)\nRMSE: 30.59±0.58 95CI=(29.67, 31.53)\n"
        }
       ]
      }
     },
     "94055b04d8ca4fecbda81d1d0a5cb9b3": {
      "model_module": "@jupyter-widgets/base",
      "model_module_version": "1.2.0",
      "model_name": "LayoutModel",
      "state": {}
     },
     "95cb1774aa664cc093003576e070d3ee": {
      "model_module": "@jupyter-widgets/base",
      "model_module_version": "1.2.0",
      "model_name": "LayoutModel",
      "state": {}
     },
     "9e251cfdab874cffa2552ef702988d16": {
      "model_module": "@jupyter-widgets/base",
      "model_module_version": "1.2.0",
      "model_name": "LayoutModel",
      "state": {}
     },
     "a4f3ad59644f4597a077259debb4983c": {
      "model_module": "@jupyter-widgets/base",
      "model_module_version": "1.2.0",
      "model_name": "LayoutModel",
      "state": {}
     },
     "ab09113e1651442db61b39eafcacfe04": {
      "model_module": "@jupyter-widgets/controls",
      "model_module_version": "1.5.0",
      "model_name": "HBoxModel",
      "state": {
       "children": [
        "IPY_MODEL_0ea244331c4e49ce8f16005cd6101ba8",
        "IPY_MODEL_60e1420179e3420dac76f85d1e5e26e5"
       ],
       "layout": "IPY_MODEL_4e40e3d8a16c410c84dd2f31c83dc0b9"
      }
     },
     "ac940a2417cd427688158e6e0bacc6f9": {
      "model_module": "@jupyter-widgets/base",
      "model_module_version": "1.2.0",
      "model_name": "LayoutModel",
      "state": {}
     },
     "b0476703e199451986e11d23b2701594": {
      "model_module": "@jupyter-widgets/controls",
      "model_module_version": "1.5.0",
      "model_name": "HBoxModel",
      "state": {
       "children": [
        "IPY_MODEL_91a74af669024f2db9eaf90ae3f5ee7d",
        "IPY_MODEL_5b30f06460764794a2a2a2851502ec31"
       ],
       "layout": "IPY_MODEL_ac940a2417cd427688158e6e0bacc6f9"
      }
     },
     "b989e04342e0428c9f3c827e221b8f6d": {
      "model_module": "@jupyter-widgets/base",
      "model_module_version": "1.2.0",
      "model_name": "LayoutModel",
      "state": {}
     },
     "bc837a031b1744f3b54bb8502e8f6569": {
      "model_module": "@jupyter-widgets/base",
      "model_module_version": "1.2.0",
      "model_name": "LayoutModel",
      "state": {}
     },
     "bda07c3341004e8aaa07671ab3488a54": {
      "model_module": "@jupyter-widgets/base",
      "model_module_version": "1.2.0",
      "model_name": "LayoutModel",
      "state": {}
     },
     "ccb0627abea1470fbe75c86594711769": {
      "model_module": "@jupyter-widgets/base",
      "model_module_version": "1.2.0",
      "model_name": "LayoutModel",
      "state": {}
     },
     "d4f849e165dc4dc688af25dc8ac3ed30": {
      "model_module": "@jupyter-widgets/output",
      "model_module_version": "1.0.0",
      "model_name": "OutputModel",
      "state": {
       "layout": "IPY_MODEL_b989e04342e0428c9f3c827e221b8f6d",
       "outputs": [
        {
         "name": "stdout",
         "output_type": "stream",
         "text": "PercentageDisplacementMeasurement (test=129), fold=4\n----------------------------------------------------\n MAE: 28.72±1.30 95CI=(26.77, 30.82)\n MSE: 976.43±82.48 95CI=(851.96, 1106.30)\n  R2: -0.44±0.22 95CI=(-0.80, -0.16)\nRMSE: 31.22±1.32 95CI=(29.19, 33.26)\n"
        },
        {
         "data": {
          "image/png": "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\n",
          "text/plain": "<Figure size 432x288 with 1 Axes>"
         },
         "metadata": {},
         "output_type": "display_data"
        },
        {
         "name": "stdout",
         "output_type": "stream",
         "text": " MAE: 28.66±1.22 95CI=(26.93, 30.67)\n MSE: 972.88±77.83 95CI=(859.98, 1098.84)\n  R2: -0.43±0.21 95CI=(-0.80, -0.19)\nRMSE: 31.17±1.24 95CI=(29.33, 33.15)\n"
        }
       ]
      }
     },
     "eeb405d2e9644c6492fa6d656112dd17": {
      "model_module": "@jupyter-widgets/base",
      "model_module_version": "1.2.0",
      "model_name": "LayoutModel",
      "state": {}
     },
     "f323e8a1327540e48834346a714db9bb": {
      "model_module": "@jupyter-widgets/base",
      "model_module_version": "1.2.0",
      "model_name": "LayoutModel",
      "state": {}
     },
     "f3c5fbdd400b4fd19b157a16ae1a4e33": {
      "model_module": "@jupyter-widgets/output",
      "model_module_version": "1.0.0",
      "model_name": "OutputModel",
      "state": {
       "layout": "IPY_MODEL_9e251cfdab874cffa2552ef702988d16",
       "outputs": [
        {
         "name": "stdout",
         "output_type": "stream",
         "text": "PercentageDisplacementMeasurement (test=129), fold=2\n----------------------------------------------------\n MAE: 28.47±1.22 95CI=(26.27, 30.26)\n MSE: 961.65±76.50 95CI=(827.61, 1068.61)\n  R2: -0.85±0.46 95CI=(-1.79, -0.30)\nRMSE: 30.99±1.24 95CI=(28.77, 32.69)\n"
        },
        {
         "data": {
          "image/png": "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\n",
          "text/plain": "<Figure size 432x288 with 1 Axes>"
         },
         "metadata": {},
         "output_type": "display_data"
        },
        {
         "name": "stdout",
         "output_type": "stream",
         "text": " MAE: 28.45±1.22 95CI=(26.28, 30.24)\n MSE: 961.54±76.49 95CI=(818.35, 1081.42)\n  R2: -0.82±0.44 95CI=(-1.77, -0.29)\nRMSE: 30.98±1.24 95CI=(28.61, 32.88)\n"
        }
       ]
      }
     },
     "fa0512888c98428b9fd6f131e2ca8800": {
      "model_module": "@jupyter-widgets/base",
      "model_module_version": "1.2.0",
      "model_name": "LayoutModel",
      "state": {}
     },
     "fc15d32601b24ea79f34eb8e1afbc540": {
      "model_module": "@jupyter-widgets/base",
      "model_module_version": "1.2.0",
      "model_name": "LayoutModel",
      "state": {}
     }
    },
    "version_major": 2,
    "version_minor": 0
   }
  }
 },
 "nbformat": 4,
 "nbformat_minor": 4
}
