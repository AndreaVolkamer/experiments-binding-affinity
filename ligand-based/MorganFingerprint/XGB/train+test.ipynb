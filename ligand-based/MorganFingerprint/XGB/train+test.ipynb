{
 "cells": [
  {
   "cell_type": "markdown",
   "metadata": {},
   "source": [
    "# Run the XGBoost model\n",
    "\n",
    "First, we have to create the XGBoost objects out of the NPZ files. NPZ files behave like dictionaries of arrays. In our case, they contain two keys:\n",
    "\n",
    "- `X`: the featurized systems\n",
    "- `y`: the associated measurements\n",
    "\n",
    "We can pass those dict-like arrays to an adapter class for Torch Datasets, which will be ingested by the DataLoaders. We also need the corresponding observation models."
   ]
  },
  {
   "cell_type": "code",
   "execution_count": null,
   "metadata": {},
   "outputs": [],
   "source": [
    "%load_ext autoreload\n",
    "%autoreload 2"
   ]
  },
  {
   "cell_type": "code",
   "execution_count": null,
   "metadata": {},
   "outputs": [],
   "source": [
    "DATASET = \"PKIS2\"\n",
    "N_ESTIMATORS = 100\n",
    "N_SPLITS = 5\n",
    "ITEMS_PER_ROW = 2"
   ]
  },
  {
   "cell_type": "code",
   "execution_count": null,
   "metadata": {},
   "outputs": [],
   "source": [
    "MEASUREMENT_TYPES = {\n",
    "    \"ChEMBL\": [\"pKiMeasurement\", \"pIC50Measurement\", \"pKdMeasurement\"],\n",
    "    \"PKIS2\": [\"PercentageDisplacementMeasurement\"]\n",
    "}[DATASET]\n",
    "\n",
    "ONE_KINASE = {\n",
    "    \"ChEMBL\": \"P35968\",\n",
    "    \"PKIS2\": \"ABL2\",\n",
    "}[DATASET]"
   ]
  },
  {
   "cell_type": "code",
   "execution_count": 4,
   "metadata": {},
   "outputs": [
    {
     "data": {
      "application/vnd.jupyter.widget-view+json": {
       "model_id": "34ab90ce436e47e0b9047c561eefcc4d",
       "version_major": 2,
       "version_minor": 0
      },
      "text/plain": []
     },
     "metadata": {},
     "output_type": "display_data"
    },
    {
     "name": "stdout",
     "output_type": "stream",
     "text": [
      "Reporting results at path: /home/jaime/devel/py/openkinome/experiments-binding-affinity/ligand-based/MorganFingerprint/XGB/_output/PKIS2/1605030797\n"
     ]
    }
   ],
   "source": [
    "from pathlib import Path\n",
    "from collections import defaultdict\n",
    "import numpy as np\n",
    "import shutil\n",
    "import time\n",
    "\n",
    "from kinoml.utils import seed_everything\n",
    "from kinoml.core import measurements as measurement_types\n",
    "\n",
    "HERE = Path(_dh[-1])\n",
    "_trial = 0\n",
    "OUT = HERE / \"_output\" / DATASET / f\"{time.time():.0f}\"\n",
    "OUT.mkdir(parents=True, exist_ok=True)\n",
    "print(\"Reporting results at path:\", OUT)\n",
    "# Fix the seed for reproducible random splits -- otherwise we get mixed train/test groups every time, biasing the model evaluation\n",
    "seed_everything()"
   ]
  },
  {
   "cell_type": "markdown",
   "metadata": {},
   "source": [
    "## Load featurized data and create observation models"
   ]
  },
  {
   "cell_type": "code",
   "execution_count": 5,
   "metadata": {},
   "outputs": [],
   "source": [
    "datasets = defaultdict(dict)\n",
    "for npz in HERE.glob(f\"../_output/{DATASET}__*.npz\"):\n",
    "    _, kinase, measurement_type = str(npz.stem).split(\"__\")\n",
    "    datasets[kinase][measurement_type] = ds = np.load(npz)"
   ]
  },
  {
   "cell_type": "code",
   "execution_count": 6,
   "metadata": {},
   "outputs": [
    {
     "data": {
      "text/plain": [
       "{'PercentageDisplacementMeasurement': <function kinoml.core.measurements.PercentageDisplacementMeasurement._loss_adapter_xgboost__mse(labels, dG_over_KT, inhibitor_conc=1, standard_conc=1, **kwargs)>}"
      ]
     },
     "execution_count": 6,
     "metadata": {},
     "output_type": "execute_result"
    }
   ],
   "source": [
    "obs_models = {k: getattr(measurement_types, k).observation_model(backend=\"numpy\") for k in MEASUREMENT_TYPES}\n",
    "objectives = {k: getattr(measurement_types, k).loss_adapter(backend=\"xgboost\", loss=\"mse\") for k in MEASUREMENT_TYPES}\n",
    "objectives"
   ]
  },
  {
   "cell_type": "markdown",
   "metadata": {},
   "source": [
    "Now that we have all the data-dependent objects, we can start with the model-specific definitions."
   ]
  },
  {
   "cell_type": "markdown",
   "metadata": {},
   "source": [
    "## Train the model"
   ]
  },
  {
   "cell_type": "code",
   "execution_count": 7,
   "metadata": {},
   "outputs": [],
   "source": [
    "from xgboost import XGBRegressor\n",
    "import pandas as pd\n",
    "from sklearn.model_selection import KFold\n",
    "from kinoml.analysis.plots import predicted_vs_observed\n",
    "from kinoml.analysis.metrics import performance\n",
    "from ipywidgets import HBox, VBox, Output, HTML\n",
    "from matplotlib import pyplot as plt"
   ]
  },
  {
   "cell_type": "code",
   "execution_count": 8,
   "metadata": {},
   "outputs": [
    {
     "data": {
      "application/vnd.jupyter.widget-view+json": {
       "model_id": "0e1c2ff5efd54fcd8bddaa5a0b946d64",
       "version_major": 2,
       "version_minor": 0
      },
      "text/plain": [
       "HTML(value='<h3>PercentageDisplacementMeasurement</h3>')"
      ]
     },
     "metadata": {},
     "output_type": "display_data"
    },
    {
     "name": "stderr",
     "output_type": "stream",
     "text": [
      "/home/jaime/.conda/envs/kinoml-ci/lib/python3.7/site-packages/xgboost/sklearn.py:390: UserWarning: objective is not saved in Scikit-Learn meta.\n",
      "  warnings.warn(str(k) + ' is not saved in Scikit-Learn meta.')\n",
      "/home/jaime/.conda/envs/kinoml-ci/lib/python3.7/site-packages/xgboost/sklearn.py:390: UserWarning: objective is not saved in Scikit-Learn meta.\n",
      "  warnings.warn(str(k) + ' is not saved in Scikit-Learn meta.')\n",
      "/home/jaime/.conda/envs/kinoml-ci/lib/python3.7/site-packages/xgboost/sklearn.py:390: UserWarning: objective is not saved in Scikit-Learn meta.\n",
      "  warnings.warn(str(k) + ' is not saved in Scikit-Learn meta.')\n",
      "/home/jaime/.conda/envs/kinoml-ci/lib/python3.7/site-packages/xgboost/sklearn.py:390: UserWarning: objective is not saved in Scikit-Learn meta.\n",
      "  warnings.warn(str(k) + ' is not saved in Scikit-Learn meta.')\n",
      "/home/jaime/.conda/envs/kinoml-ci/lib/python3.7/site-packages/xgboost/sklearn.py:390: UserWarning: objective is not saved in Scikit-Learn meta.\n",
      "  warnings.warn(str(k) + ' is not saved in Scikit-Learn meta.')\n"
     ]
    },
    {
     "data": {
      "application/vnd.jupyter.widget-view+json": {
       "model_id": "977db37cdd314f35af2d395a47245523",
       "version_major": 2,
       "version_minor": 0
      },
      "text/plain": [
       "VBox(children=(HBox(children=(Output(), Output())), HBox(children=(Output(), Output())), HBox(children=(Output…"
      ]
     },
     "metadata": {},
     "output_type": "display_data"
    },
    {
     "data": {
      "application/vnd.jupyter.widget-view+json": {
       "model_id": "f8ce34b67f8640eda397c48001f8815a",
       "version_major": 2,
       "version_minor": 0
      },
      "text/plain": [
       "HTML(value='Average across folds:')"
      ]
     },
     "metadata": {},
     "output_type": "display_data"
    },
    {
     "data": {
      "text/html": [
       "<div>\n",
       "<style scoped>\n",
       "    .dataframe tbody tr th:only-of-type {\n",
       "        vertical-align: middle;\n",
       "    }\n",
       "\n",
       "    .dataframe tbody tr th {\n",
       "        vertical-align: top;\n",
       "    }\n",
       "\n",
       "    .dataframe thead th {\n",
       "        text-align: right;\n",
       "    }\n",
       "</style>\n",
       "<table border=\"1\" class=\"dataframe\">\n",
       "  <thead>\n",
       "    <tr style=\"text-align: right;\">\n",
       "      <th></th>\n",
       "      <th>mae</th>\n",
       "      <th>mse</th>\n",
       "      <th>r2</th>\n",
       "      <th>rmse</th>\n",
       "    </tr>\n",
       "  </thead>\n",
       "  <tbody>\n",
       "    <tr>\n",
       "      <th>mean</th>\n",
       "      <td>7.729395</td>\n",
       "      <td>341.740942</td>\n",
       "      <td>0.281785</td>\n",
       "      <td>14.337720</td>\n",
       "    </tr>\n",
       "    <tr>\n",
       "      <th>std</th>\n",
       "      <td>7.469318</td>\n",
       "      <td>372.046492</td>\n",
       "      <td>0.563114</td>\n",
       "      <td>10.562434</td>\n",
       "    </tr>\n",
       "  </tbody>\n",
       "</table>\n",
       "</div>"
      ],
      "text/plain": [
       "           mae         mse        r2       rmse\n",
       "mean  7.729395  341.740942  0.281785  14.337720\n",
       "std   7.469318  372.046492  0.563114  10.562434"
      ]
     },
     "metadata": {},
     "output_type": "display_data"
    }
   ],
   "source": [
    "_with_observation_model = True\n",
    "for mtype in MEASUREMENT_TYPES:\n",
    "    display(HTML(f\"<h3>{mtype}</h3>\"))\n",
    "    \n",
    "    kfold = KFold(n_splits=N_SPLITS)\n",
    "    mtype_class = getattr(measurement_types, mtype)\n",
    "    X = datasets[ONE_KINASE][mtype][\"X\"].astype(\"float64\")\n",
    "    y = datasets[ONE_KINASE][mtype][\"y\"].astype(\"float64\")\n",
    "\n",
    "    plots, metrics = [], []\n",
    "    for fold, (train, test) in enumerate(kfold.split(X)):\n",
    "        if _with_observation_model:\n",
    "            model = XGBRegressor(n_estimators=N_ESTIMATORS, objective=objectives[mtype])\n",
    "        else:\n",
    "            model = XGBRegressor(n_estimators=N_ESTIMATORS)\n",
    "        \n",
    "        model.fit(X[train], y[train])\n",
    "        \n",
    "        # TRAIN PERFORMANCE\n",
    "        output_train = Output()\n",
    "        with output_train:\n",
    "            title = f\"{mtype} (train={train.shape[0]}), fold={fold}\"\n",
    "            print(title)\n",
    "            print(\"-\"*(len(title)))\n",
    "            if _with_observation_model:\n",
    "                trained = obs_models[mtype](model.predict(X[train]))\n",
    "            else:\n",
    "                trained = model.predict(X[train])\n",
    "            display(predicted_vs_observed(trained, y[train], mtype_class, n_boot=100, sample_ratio=0.75))\n",
    "            metrics.append(performance(trained, y[train]))\n",
    "        plots.append(output_train)\n",
    "        \n",
    "        # TEST PERFORMANCE\n",
    "        output_test = Output()\n",
    "        with output_test:\n",
    "            title = f\"{mtype} (test={test.shape[0]}), fold={fold}\"\n",
    "            print(title)\n",
    "            print(\"-\"*(len(title)))\n",
    "            \n",
    "            delta_g_over_kt = model.predict(X[test])\n",
    "            if _with_observation_model:\n",
    "                predicted = obs_models[mtype](delta_g_over_kt)\n",
    "            else:\n",
    "                predicted = delta_g_over_kt\n",
    "            display(predicted_vs_observed(predicted, y[test], mtype_class, n_boot=100, sample_ratio=0.75))\n",
    "            metrics.append(performance(predicted, y[test]))\n",
    "        plots.append(output_test)\n",
    "        \n",
    "        model.save_model(OUT / f\"XGBRegressor__fold{fold}.model\")\n",
    "\n",
    "    # Fill with empty objects until the next multiple of ITEMS_PER_ROW\n",
    "    for _ in range((ITEMS_PER_ROW - (len(plots) % ITEMS_PER_ROW)) % ITEMS_PER_ROW):\n",
    "        plots.append(Output())\n",
    "\n",
    "    # Plot in ITEMS_PER_ROW-column table\n",
    "    display(VBox([HBox(row) for row in np.reshape(plots, (-1, ITEMS_PER_ROW)).tolist()]))\n",
    "\n",
    "    # Average performances\n",
    "    average = {}\n",
    "    for key in metrics[0]:\n",
    "        values =  [fold[key] for fold in metrics]\n",
    "        average[key] = {\n",
    "            \"mean\": np.mean(values),\n",
    "            \"std\": np.std(values)\n",
    "        }\n",
    "    display(HTML(\"Average across folds:\"))\n",
    "    display(pd.DataFrame.from_dict(average))"
   ]
  },
  {
   "cell_type": "code",
   "execution_count": 9,
   "metadata": {},
   "outputs": [
    {
     "name": "stdout",
     "output_type": "stream",
     "text": [
      "Watermark\n",
      "---------\n",
      "numpy  1.19.2\n",
      "pandas 1.1.3\n",
      "last updated: 2020-11-10 18:53:22 CET 2020-11-10T18:53:22+01:00\n",
      "\n",
      "CPython 3.7.8\n",
      "IPython 7.18.1\n",
      "\n",
      "compiler   : GCC 7.5.0\n",
      "system     : Linux\n",
      "release    : 4.19.128-microsoft-standard\n",
      "machine    : x86_64\n",
      "processor  : x86_64\n",
      "CPU cores  : 8\n",
      "interpreter: 64bit\n",
      "host name  : jrodriguez\n",
      "Git hash   : 789f970086b8117fd53f4367393bfc6d041aaeba\n",
      "watermark 2.0.2\n",
      "\n",
      "conda\n",
      "-----\n",
      "sys.version: 3.7.6 | packaged by conda-forge | (defau...\n",
      "sys.prefix: /opt/miniconda\n",
      "sys.executable: /opt/miniconda/bin/python\n",
      "conda location: /opt/miniconda/lib/python3.7/site-packages/conda\n",
      "conda-build: /opt/miniconda/bin/conda-build\n",
      "conda-convert: /opt/miniconda/bin/conda-convert\n",
      "conda-debug: /opt/miniconda/bin/conda-debug\n",
      "conda-develop: /opt/miniconda/bin/conda-develop\n",
      "conda-env: /opt/miniconda/bin/conda-env\n",
      "conda-index: /opt/miniconda/bin/conda-index\n",
      "conda-inspect: /opt/miniconda/bin/conda-inspect\n",
      "conda-metapackage: /opt/miniconda/bin/conda-metapackage\n",
      "conda-render: /opt/miniconda/bin/conda-render\n",
      "conda-server: /opt/miniconda/bin/conda-server\n",
      "conda-skeleton: /opt/miniconda/bin/conda-skeleton\n",
      "conda-smithy: /opt/miniconda/bin/conda-smithy\n",
      "user site dirs: ~/.local/lib/python3.8\n",
      "\n",
      "CIO_TEST: <not set>\n",
      "CONDA_DEFAULT_ENV: kinoml-ci\n",
      "CONDA_EXE: /opt/miniconda/bin/conda\n",
      "CONDA_PREFIX: /home/jaime/.conda/envs/kinoml-ci\n",
      "CONDA_PREFIX_1: /opt/miniconda\n",
      "CONDA_PROMPT_MODIFIER: (kinoml-ci) \n",
      "CONDA_PYTHON_EXE: /opt/miniconda/bin/python\n",
      "CONDA_ROOT: /opt/miniconda\n",
      "CONDA_SHLVL: 2\n",
      "CURL_CA_BUNDLE: <not set>\n",
      "PATH: /home/jaime/.conda/envs/kinoml-ci/bin:/opt/miniconda/condabin:/home/jaime/.local/bin:/usr/local/sbin:/usr/local/bin:/usr/sbin:/usr/bin:/sbin:/bin:/usr/games:/usr/local/games:/mnt/c/Program Files/NVIDIA GPU Computing Toolkit/CUDA/v11.0/bin:/mnt/c/Program Files/NVIDIA GPU Computing Toolkit/CUDA/v11.0/libnvvp:/mnt/c/Program Files/NVIDIA GPU Computing Toolkit/CUDA/v10.1/bin:/mnt/c/Program Files/NVIDIA GPU Computing Toolkit/CUDA/v10.1/libnvvp:/mnt/c/Windows/system32:/mnt/c/Windows:/mnt/c/Windows/System32/Wbem:/mnt/c/Windows/System32/WindowsPowerShell/v1.0:/mnt/c/Windows/System32/OpenSSH:/mnt/c/Program Files (x86)/NVIDIA Corporation/PhysX/Common:/mnt/c/WINDOWS/system32:/mnt/c/WINDOWS:/mnt/c/WINDOWS/System32/Wbem:/mnt/c/WINDOWS/System32/WindowsPowerShell/v1.0:/mnt/c/WINDOWS/System32/OpenSSH:/mnt/c/Program Files (x86)/Windows Kits/10/Windows Performance Toolkit:/mnt/c/Program Files/Intel/WiFi/bin:/mnt/c/Program Files/Common Files/Intel/WirelessCommon:/mnt/c/Android:/mnt/c/Program Files (x86)/Intel/Intel(R) Management Engine Components/DAL:/mnt/c/Program Files/Intel/Intel(R) Management Engine Components/DAL:/mnt/c/Program Files/Docker/Docker/resources/bin:/mnt/c/ProgramData/DockerDesktop/version-bin:/mnt/c/Program Files/NVIDIA Corporation/Nsight Compute 2020.1.2:/mnt/c/WINDOWS/system32:/mnt/c/WINDOWS:/mnt/c/WINDOWS/System32/Wbem:/mnt/c/WINDOWS/System32/WindowsPowerShell/v1.0:/mnt/c/WINDOWS/System32/OpenSSH:/mnt/c/Users/Jaime/AppData/Local/Microsoft/WindowsApps:/mnt/c/Users/Jaime/AppData/Local/Programs/Microsoft VS Code/bin:/mnt/c/Program Files (x86)/mingw-w64/i686-8.1.0-posix-dwarf-rt_v6-rev0/mingw32/bin:/mnt/c/G09W:/mnt/c/Program Files (x86)/FAHClient:/mnt/c/Program Files/7-Zip:/mnt/c/Users/Jaime/AppData/Local/atom/bin:/mnt/c/Users/Jaime/AppData/Local/Microsoft/WindowsApps:/snap/bin\n",
      "PYTHONHASHSEED: 1234\n",
      "REQUESTS_CA_BUNDLE: <not set>\n",
      "SSL_CERT_FILE: <not set>\n",
      "\n",
      "\n",
      "# packages in environment at /home/jaime/.conda/envs/kinoml-ci:\n",
      "#\n",
      "# Name                    Version                   Build  Channel\n",
      "_libgcc_mutex             0.1                 conda_forge    conda-forge\n",
      "_openmp_mutex             4.5                       1_gnu    conda-forge\n",
      "_py-xgboost-mutex         2.0                       cpu_0    conda-forge\n",
      "absl-py                   0.10.0                   pypi_0    pypi\n",
      "alabaster                 0.7.12                   pypi_0    pypi\n",
      "amberlite                 16.0                     pypi_0    pypi\n",
      "ambertools                20.9                     pypi_0    pypi\n",
      "appdirs                   1.4.4              pyh9f0ad1d_0    conda-forge\n",
      "argon2-cffi               20.1.0           py37h8f50634_2    conda-forge\n",
      "arpack                    3.7.0                hc6cf775_2    conda-forge\n",
      "ase                       3.20.1                   pypi_0    pypi\n",
      "astroid                   2.4.2                    pypi_0    pypi\n",
      "async_generator           1.10                       py_0    conda-forge\n",
      "attrs                     20.2.0             pyh9f0ad1d_0    conda-forge\n",
      "babel                     2.8.0                    pypi_0    pypi\n",
      "backcall                  0.2.0              pyh9f0ad1d_0    conda-forge\n",
      "backports                 1.0                        py_2    conda-forge\n",
      "backports.functools_lru_cache 1.6.1                      py_0    conda-forge\n",
      "biopandas                 0.2.7                    pypi_0    pypi\n",
      "biopython                 1.78             py37h8f50634_1    conda-forge\n",
      "black                     20.8b1                   pypi_0    pypi\n",
      "blas                      1.0                         mkl    conda-forge\n",
      "bleach                    3.2.1              pyh9f0ad1d_0    conda-forge\n",
      "boost                     1.74.0           py37h48f8a5e_1    conda-forge\n",
      "boost-cpp                 1.74.0               h9359b55_0    conda-forge\n",
      "bravado                   11.0.2                   pypi_0    pypi\n",
      "bravado-core              5.17.0                   pypi_0    pypi\n",
      "brotlipy                  0.7.0           py37hb5d75c8_1001    conda-forge\n",
      "bson                      0.5.9                      py_0    conda-forge\n",
      "bzip2                     1.0.8                h516909a_3    conda-forge\n",
      "c-ares                    1.16.1               h516909a_3    conda-forge\n",
      "ca-certificates           2020.10.14                    0  \n",
      "cachetools                4.1.1                    pypi_0    pypi\n",
      "cairo                     1.16.0            h488836b_1006    conda-forge\n",
      "certifi                   2020.6.20        py37he5f6b98_2    conda-forge\n",
      "cffi                      1.14.3           py37h00ebd2e_1    conda-forge\n",
      "cftime                    1.2.1            py37h161383b_1    conda-forge\n",
      "chardet                   3.0.4           py37he5f6b98_1008    conda-forge\n",
      "click                     7.1.2                    pypi_0    pypi\n",
      "codecov                   2.1.10             pyh9f0ad1d_0    conda-forge\n",
      "coverage                  5.3              py37h8f50634_1    conda-forge\n",
      "cryptography              3.1.1            py37hff6837a_1    conda-forge\n",
      "cudatoolkit               10.2.89              hfd86e86_1  \n",
      "curl                      7.71.1               he644dc0_8    conda-forge\n",
      "cycler                    0.10.0                     py_2    conda-forge\n",
      "cython                    0.29.21          py37hb892b2f_1    conda-forge\n",
      "decorator                 4.4.2                      py_0    conda-forge\n",
      "defusedxml                0.6.0                      py_0    conda-forge\n",
      "docutils                  0.16                     pypi_0    pypi\n",
      "entrypoints               0.3             py37hc8dfbb8_1002    conda-forge\n",
      "fftw                      3.3.8           nompi_h7f3a6c3_1112    conda-forge\n",
      "fftw3f                    3.3.4                         2    omnia\n",
      "fontconfig                2.13.1            h1056068_1002    conda-forge\n",
      "freetype                  2.10.4               he06d7ca_0    conda-forge\n",
      "fsspec                    0.8.4                    pypi_0    pypi\n",
      "future                    0.18.2                   pypi_0    pypi\n",
      "gettext                   0.19.8.1          hf34092f_1004    conda-forge\n",
      "gitdb                     4.0.5                    pypi_0    pypi\n",
      "gitpython                 3.1.11                   pypi_0    pypi\n",
      "google-auth               1.22.1                   pypi_0    pypi\n",
      "google-auth-oauthlib      0.4.1                    pypi_0    pypi\n",
      "googledrivedownloader     0.4                      pypi_0    pypi\n",
      "griddataformats           0.5.0                      py_0    conda-forge\n",
      "grpcio                    1.33.1                   pypi_0    pypi\n",
      "gsd                       2.2.0            py37h161383b_1    conda-forge\n",
      "h5py                      2.10.0                   pypi_0    pypi\n",
      "hdf4                      4.2.13            hf30be14_1003    conda-forge\n",
      "hdf5                      1.10.6          nompi_h54c07f9_1110    conda-forge\n",
      "hdf5-1820                 1.8.20                        0    omnia\n",
      "htmlmin                   0.1.12                   pypi_0    pypi\n",
      "icu                       67.1                 he1b5a44_0    conda-forge\n",
      "idna                      2.10               pyh9f0ad1d_0    conda-forge\n",
      "imagesize                 1.2.0                    pypi_0    pypi\n",
      "importlib-metadata        2.0.0            py37hc8dfbb8_0    conda-forge\n",
      "importlib_metadata        2.0.0                         1    conda-forge\n",
      "importlib_resources       3.2.0            py37hc8dfbb8_0    conda-forge\n",
      "iniconfig                 1.1.1              pyh9f0ad1d_0    conda-forge\n",
      "intel-openmp              2020.2                      254  \n",
      "ipykernel                 5.3.4            py37hc6149b9_1    conda-forge\n",
      "ipython                   7.18.1           py37hc6149b9_1    conda-forge\n",
      "ipython_genutils          0.2.0                      py_1    conda-forge\n",
      "ipywidgets                7.5.1              pyh9f0ad1d_1    conda-forge\n",
      "isodate                   0.6.0                    pypi_0    pypi\n",
      "isort                     5.6.4                    pypi_0    pypi\n",
      "jedi                      0.17.2           py37hc8dfbb8_1    conda-forge\n",
      "jinja2                    2.11.2             pyh9f0ad1d_0    conda-forge\n",
      "joblib                    0.17.0                     py_0    conda-forge\n",
      "jpeg                      9d                   h516909a_0    conda-forge\n",
      "jsmin                     2.2.2                    pypi_0    pypi\n",
      "json5                     0.9.5              pyh9f0ad1d_0    conda-forge\n",
      "jsonpointer               2.0                      pypi_0    pypi\n",
      "jsonref                   0.2                      pypi_0    pypi\n",
      "jsonschema                3.2.0            py37hc8dfbb8_1    conda-forge\n",
      "jupyter_client            6.1.7                      py_0    conda-forge\n",
      "jupyter_core              4.6.3            py37hc8dfbb8_2    conda-forge\n",
      "jupyterlab                2.2.9                      py_0    conda-forge\n",
      "jupyterlab_pygments       0.1.2              pyh9f0ad1d_0    conda-forge\n",
      "jupyterlab_server         1.2.0                      py_0    conda-forge\n",
      "kinoml                    0+untagged.323.g6373931.dirty           dev_0    <develop>\n",
      "kiwisolver                1.2.0            py37h99015e2_1    conda-forge\n",
      "klifs-utils               0+unknown                pypi_0    pypi\n",
      "krb5                      1.17.1               hfafb76e_3    conda-forge\n",
      "lazy-object-proxy         1.4.3                    pypi_0    pypi\n",
      "lcms2                     2.11                 hbd6801e_0    conda-forge\n",
      "ld_impl_linux-64          2.35                 h769bd43_9    conda-forge\n",
      "libblas                   3.9.0           1_h6e990d7_netlib    conda-forge\n",
      "libcblas                  3.9.0           2_h6e990d7_netlib    conda-forge\n",
      "libcurl                   7.71.1               hcdd3856_8    conda-forge\n",
      "libedit                   3.1.20191231         he28a2e2_2    conda-forge\n",
      "libev                     4.33                 h516909a_1    conda-forge\n",
      "libffi                    3.2.1             he1b5a44_1007    conda-forge\n",
      "libgcc-ng                 9.3.0               h5dbcf3e_17    conda-forge\n",
      "libgfortran-ng            7.5.0               hae1eefd_17    conda-forge\n",
      "libgfortran4              7.5.0               hae1eefd_17    conda-forge\n",
      "libglib                   2.66.2               h0dae87d_0    conda-forge\n",
      "libgomp                   9.3.0               h5dbcf3e_17    conda-forge\n",
      "libiconv                  1.16                 h516909a_0    conda-forge\n",
      "liblapack                 3.9.0           2_h6e990d7_netlib    conda-forge\n",
      "libnetcdf                 4.7.4           nompi_hefab0ff_106    conda-forge\n",
      "libnghttp2                1.41.0               h8cfc5f6_2    conda-forge\n",
      "libpng                    1.6.37               hed695b0_2    conda-forge\n",
      "libsodium                 1.0.18               h516909a_1    conda-forge\n",
      "libssh2                   1.9.0                hab1572f_5    conda-forge\n",
      "libstdcxx-ng              9.3.0               h2ae2ef3_17    conda-forge\n",
      "libtiff                   4.1.0                hc7e4089_6    conda-forge\n",
      "libuuid                   2.32.1            h14c3975_1000    conda-forge\n",
      "libwebp-base              1.1.0                h516909a_3    conda-forge\n",
      "libxcb                    1.13              h14c3975_1002    conda-forge\n",
      "libxgboost                1.2.0                he1b5a44_0    conda-forge\n",
      "libxml2                   2.9.10               h68273f3_2    conda-forge\n",
      "livereload                2.6.3                    pypi_0    pypi\n",
      "llvmlite                  0.34.0                   pypi_0    pypi\n",
      "lz4-c                     1.9.2                he1b5a44_3    conda-forge\n",
      "markdown                  3.3.3                    pypi_0    pypi\n",
      "markupsafe                1.1.1            py37hb5d75c8_2    conda-forge\n",
      "matplotlib-base           3.3.2            py37hc9afd2a_1    conda-forge\n",
      "mccabe                    0.6.1                    pypi_0    pypi\n",
      "mdanalysis                1.0.0            py37h3340039_0    conda-forge\n",
      "mistune                   0.8.4           py37h8f50634_1002    conda-forge\n",
      "mkdocs                    1.0.4                    pypi_0    pypi\n",
      "mkdocs-git-revision-date-localized-plugin 0.5.0                    pypi_0    pypi\n",
      "mkdocs-material           4.6.3                    pypi_0    pypi\n",
      "mkdocs-minify-plugin      0.2.3                    pypi_0    pypi\n",
      "mkdocstrings              0.7.1                    pypi_0    pypi\n",
      "mkl                       2020.2                      256  \n",
      "mmpbsa-py                 16.0                     pypi_0    pypi\n",
      "mmtf-python               1.1.2                      py_0    conda-forge\n",
      "modeller                  9.20                     py37_1    omnia\n",
      "monotonic                 1.5                      pypi_0    pypi\n",
      "more-itertools            8.5.0                      py_0    conda-forge\n",
      "msgpack-python            1.0.0            py37h99015e2_2    conda-forge\n",
      "mypy-extensions           0.4.3                    pypi_0    pypi\n",
      "nbclient                  0.5.1                      py_0    conda-forge\n",
      "nbconvert                 6.0.7            py37hc8dfbb8_2    conda-forge\n",
      "nbformat                  5.0.8                      py_0    conda-forge\n",
      "ncurses                   6.2                  he1b5a44_2    conda-forge\n",
      "nest-asyncio              1.4.1                      py_0    conda-forge\n",
      "netcdf-fortran            4.5.3           nompi_hfef6a68_101    conda-forge\n",
      "netcdf4                   1.5.4           nompi_py37hcbfd489_103    conda-forge\n",
      "networkx                  2.5                        py_0    conda-forge\n",
      "nglview                   2.7.7              pyh5ca1d4c_1    conda-forge\n",
      "ninja                     1.10.1               hfc4b9b4_2    conda-forge\n",
      "notebook                  6.1.4            py37hc8dfbb8_1    conda-forge\n",
      "numba                     0.51.2                   pypi_0    pypi\n",
      "numpy                     1.19.2           py37h7008fea_1    conda-forge\n",
      "oauthlib                  3.1.0                    pypi_0    pypi\n",
      "olefile                   0.46               pyh9f0ad1d_1    conda-forge\n",
      "openeye-toolkits          2020.1.0                 py37_0    openeye\n",
      "openforcefield            refs-pull-583-head          pypi_0    pypi\n",
      "openforcefields           1.3.0                      py_0    omnia\n",
      "openmm                    7.4.2           py37_cuda101_rc_1    omnia\n",
      "openssl                   1.1.1h               h516909a_0    conda-forge\n",
      "packaging                 20.4               pyh9f0ad1d_0    conda-forge\n",
      "packmol-memgen            1.1.0rc0                 pypi_0    pypi\n",
      "pandas                    1.1.3            py37hb33c840_2    conda-forge\n",
      "pandoc                    2.11.0.4             hd18ef5c_0    conda-forge\n",
      "pandocfilters             1.4.2                      py_1    conda-forge\n",
      "parmed                    at20RC5+54.g5702a232fe.dirty          pypi_0    pypi\n",
      "parso                     0.7.1              pyh9f0ad1d_0    conda-forge\n",
      "pathspec                  0.8.0                    pypi_0    pypi\n",
      "patsy                     0.5.1                      py_0    conda-forge\n",
      "pcre                      8.44                 he1b5a44_0    conda-forge\n",
      "pdb4amber                 1.7.dev0                 pypi_0    pypi\n",
      "perl                      5.30.3               h516909a_1    conda-forge\n",
      "pexpect                   4.8.0            py37hc8dfbb8_1    conda-forge\n",
      "pickleshare               0.7.5           py37hc8dfbb8_1002    conda-forge\n",
      "pillow                    8.0.1            py37h718be6c_0    conda-forge\n",
      "pint                      0.16.1                     py_0    conda-forge\n",
      "pip                       20.2.4                     py_0    conda-forge\n",
      "pixman                    0.38.0            h516909a_1003    conda-forge\n",
      "pluggy                    0.13.1           py37he5f6b98_3    conda-forge\n",
      "prody                     1.10.11                  pypi_0    pypi\n",
      "prometheus_client         0.8.0              pyh9f0ad1d_0    conda-forge\n",
      "prompt-toolkit            3.0.8                      py_0    conda-forge\n",
      "protobuf                  3.13.0                   pypi_0    pypi\n",
      "pthread-stubs             0.4               h14c3975_1001    conda-forge\n",
      "ptyprocess                0.6.0                 py37_1000    conda-forge\n",
      "py                        1.9.0              pyh9f0ad1d_0    conda-forge\n",
      "py-xgboost                1.2.0            py37hc8dfbb8_0    conda-forge\n",
      "pyasn1                    0.4.8                    pypi_0    pypi\n",
      "pyasn1-modules            0.2.8                    pypi_0    pypi\n",
      "pycairo                   1.20.0           py37h01af8b0_1    conda-forge\n",
      "pycparser                 2.20               pyh9f0ad1d_2    conda-forge\n",
      "pygments                  2.7.2                      py_0    conda-forge\n",
      "pylint                    2.6.0                    pypi_0    pypi\n",
      "pymdown-extensions        6.3                      pypi_0    pypi\n",
      "pyopenssl                 19.1.0                   py37_0    conda-forge\n",
      "pyparsing                 2.4.7              pyh9f0ad1d_0    conda-forge\n",
      "pyrsistent                0.17.3           py37h8f50634_1    conda-forge\n",
      "pysocks                   1.7.1            py37he5f6b98_2    conda-forge\n",
      "pytest                    6.1.1            py37he5f6b98_1    conda-forge\n",
      "pytest-cov                2.10.1             pyh9f0ad1d_0    conda-forge\n",
      "python                    3.7.8           h425cb1d_1_cpython    conda-forge\n",
      "python-dateutil           2.8.1                      py_0    conda-forge\n",
      "python_abi                3.7                     1_cp37m    conda-forge\n",
      "pytorch                   1.6.0           py3.7_cuda10.2.89_cudnn7.6.5_0    pytorch\n",
      "pytorch-lightning         1.0.4                    pypi_0    pypi\n",
      "pytraj                    2.0.5                    pypi_0    pypi\n",
      "pytz                      2020.1             pyh9f0ad1d_0    conda-forge\n",
      "pyyaml                    5.3.1            py37hb5d75c8_1    conda-forge\n",
      "pyzmq                     19.0.2           py37hac76be4_2    conda-forge\n",
      "rdflib                    5.0.0                    pypi_0    pypi\n",
      "rdkit                     2020.09.1        py37h0c252aa_0    conda-forge\n",
      "readline                  8.0                  he28a2e2_2    conda-forge\n",
      "regex                     2020.10.23               pypi_0    pypi\n",
      "requests                  2.24.0             pyh9f0ad1d_0    conda-forge\n",
      "requests-oauthlib         1.3.0                    pypi_0    pypi\n",
      "rfc3987                   1.3.8                    pypi_0    pypi\n",
      "rsa                       4.6                      pypi_0    pypi\n",
      "sander                    16.0                     pypi_0    pypi\n",
      "scikit-learn              0.23.2           py37hbb8adca_1    conda-forge\n",
      "scipy                     1.5.2            py37hf97831b_2    conda-forge\n",
      "seaborn                   0.11.0                        0    conda-forge\n",
      "seaborn-base              0.11.0                     py_0    conda-forge\n",
      "send2trash                1.5.0                      py_0    conda-forge\n",
      "setuptools                49.6.0           py37he5f6b98_2    conda-forge\n",
      "simplejson                3.17.2                   pypi_0    pypi\n",
      "six                       1.15.0             pyh9f0ad1d_0    conda-forge\n",
      "sklearn-pytorch           0.1.0                    pypi_0    pypi\n",
      "smirnoff99frosst          1.1.0                    py37_1    omnia\n",
      "smmap                     3.0.4                    pypi_0    pypi\n",
      "snowballstemmer           2.0.0                    pypi_0    pypi\n",
      "sphinx                    3.2.1                    pypi_0    pypi\n",
      "sphinxcontrib-applehelp   1.0.2                    pypi_0    pypi\n",
      "sphinxcontrib-devhelp     1.0.2                    pypi_0    pypi\n",
      "sphinxcontrib-htmlhelp    1.0.3                    pypi_0    pypi\n",
      "sphinxcontrib-jsmath      1.0.1                    pypi_0    pypi\n",
      "sphinxcontrib-qthelp      1.0.3                    pypi_0    pypi\n",
      "sphinxcontrib-serializinghtml 1.1.4                    pypi_0    pypi\n",
      "sqlite                    3.33.0               h4cf870e_1    conda-forge\n",
      "statsmodels               0.12.0           py37h161383b_1    conda-forge\n",
      "strict-rfc3339            0.7                      pypi_0    pypi\n",
      "swagger-spec-validator    2.7.3                    pypi_0    pypi\n",
      "tensorboard               2.3.0                    pypi_0    pypi\n",
      "tensorboard-plugin-wit    1.7.0                    pypi_0    pypi\n",
      "terminado                 0.9.1            py37hc8dfbb8_1    conda-forge\n",
      "testpath                  0.4.4                      py_0    conda-forge\n",
      "threadpoolctl             2.1.0              pyh5ca1d4c_0    conda-forge\n",
      "tk                        8.6.10               hed695b0_1    conda-forge\n",
      "toml                      0.10.1             pyh9f0ad1d_0    conda-forge\n",
      "torch-cluster             1.5.7                    pypi_0    pypi\n",
      "torch-geometric           1.6.1                    pypi_0    pypi\n",
      "torch-scatter             2.0.5                    pypi_0    pypi\n",
      "torch-sparse              0.6.7                    pypi_0    pypi\n",
      "torch-spline-conv         1.2.0                    pypi_0    pypi\n",
      "torchvision               0.7.0                py37_cu102    pytorch\n",
      "tornado                   6.0.4            py37h8f50634_2    conda-forge\n",
      "tqdm                      4.51.0             pyh9f0ad1d_0    conda-forge\n",
      "traitlets                 5.0.5                      py_0    conda-forge\n",
      "typed-ast                 1.4.1                    pypi_0    pypi\n",
      "typing-extensions         3.7.4.3                  pypi_0    pypi\n",
      "urllib3                   1.25.11                    py_0    conda-forge\n",
      "watermark                 2.0.2                      py_0    conda-forge\n",
      "wcwidth                   0.2.5              pyh9f0ad1d_2    conda-forge\n",
      "webcolors                 1.11.1                   pypi_0    pypi\n",
      "webencodings              0.5.1                      py_1    conda-forge\n",
      "werkzeug                  1.0.1                    pypi_0    pypi\n",
      "wheel                     0.35.1             pyh9f0ad1d_0    conda-forge\n",
      "widgetsnbextension        3.5.1            py37hc8dfbb8_4    conda-forge\n",
      "wrapt                     1.12.1                   pypi_0    pypi\n",
      "xgboost                   1.2.0            py37h3340039_0    conda-forge\n",
      "xmltodict                 0.12.0                     py_0    conda-forge\n",
      "xorg-kbproto              1.0.7             h14c3975_1002    conda-forge\n",
      "xorg-libice               1.0.10               h516909a_0    conda-forge\n",
      "xorg-libsm                1.2.3             h84519dc_1000    conda-forge\n",
      "xorg-libx11               1.6.12               h516909a_0    conda-forge\n",
      "xorg-libxau               1.0.9                h14c3975_0    conda-forge\n",
      "xorg-libxdmcp             1.1.3                h516909a_0    conda-forge\n",
      "xorg-libxext              1.3.4                h516909a_0    conda-forge\n",
      "xorg-libxrender           0.9.10            h516909a_1002    conda-forge\n",
      "xorg-libxt                1.2.0                h516909a_0    conda-forge\n",
      "xorg-renderproto          0.11.1            h14c3975_1002    conda-forge\n",
      "xorg-xextproto            7.3.0             h14c3975_1002    conda-forge\n",
      "xorg-xproto               7.0.31            h14c3975_1007    conda-forge\n",
      "xz                        5.2.5                h516909a_1    conda-forge\n",
      "yaml                      0.2.5                h516909a_0    conda-forge\n",
      "zeromq                    4.3.3                he1b5a44_2    conda-forge\n",
      "zipp                      3.4.0                      py_0    conda-forge\n",
      "zlib                      1.2.11            h516909a_1010    conda-forge\n",
      "zstd                      1.4.5                h6597ccf_2    conda-forge\n",
      "\n"
     ]
    }
   ],
   "source": [
    "from kinoml.utils import watermark\n",
    "watermark()"
   ]
  }
 ],
 "metadata": {
  "kernelspec": {
   "display_name": "Python 3",
   "language": "python",
   "name": "python3"
  },
  "language_info": {
   "codemirror_mode": {
    "name": "ipython",
    "version": 3
   },
   "file_extension": ".py",
   "mimetype": "text/x-python",
   "name": "python",
   "nbconvert_exporter": "python",
   "pygments_lexer": "ipython3",
   "version": "3.7.8"
  },
  "widgets": {
   "application/vnd.jupyter.widget-state+json": {
    "state": {
     "0bee35236b134420af7a7bd30d032358": {
      "model_module": "@jupyter-widgets/base",
      "model_module_version": "1.2.0",
      "model_name": "LayoutModel",
      "state": {}
     },
     "0e1c2ff5efd54fcd8bddaa5a0b946d64": {
      "model_module": "@jupyter-widgets/controls",
      "model_module_version": "1.5.0",
      "model_name": "HTMLModel",
      "state": {
       "layout": "IPY_MODEL_0bee35236b134420af7a7bd30d032358",
       "style": "IPY_MODEL_78e011f8d8014c2186d444299a161c93",
       "value": "<h3>PercentageDisplacementMeasurement</h3>"
      }
     },
     "2225eac1316f4af48cfe69ff9f450e90": {
      "model_module": "@jupyter-widgets/base",
      "model_module_version": "1.2.0",
      "model_name": "LayoutModel",
      "state": {}
     },
     "2b5b51772c61455db5df4efdf6233e57": {
      "model_module": "@jupyter-widgets/base",
      "model_module_version": "1.2.0",
      "model_name": "LayoutModel",
      "state": {}
     },
     "2c157d85babb440c894b80c675bbb053": {
      "model_module": "@jupyter-widgets/base",
      "model_module_version": "1.2.0",
      "model_name": "LayoutModel",
      "state": {}
     },
     "301398d0380648d58e3732daddb74409": {
      "model_module": "@jupyter-widgets/controls",
      "model_module_version": "1.5.0",
      "model_name": "HBoxModel",
      "state": {
       "children": [
        "IPY_MODEL_41a59f66e5ab40309d5b51ff5f26d189",
        "IPY_MODEL_75dddb6e232f478a80bce6fa8965f79b"
       ],
       "layout": "IPY_MODEL_2c157d85babb440c894b80c675bbb053"
      }
     },
     "3a6bfe3bd6124741923e9f311a6a7139": {
      "model_module": "@jupyter-widgets/base",
      "model_module_version": "1.2.0",
      "model_name": "LayoutModel",
      "state": {}
     },
     "3af326ae673a48d1b8e2990f39210793": {
      "model_module": "@jupyter-widgets/controls",
      "model_module_version": "1.5.0",
      "model_name": "DescriptionStyleModel",
      "state": {
       "description_width": ""
      }
     },
     "41a59f66e5ab40309d5b51ff5f26d189": {
      "model_module": "@jupyter-widgets/output",
      "model_module_version": "1.0.0",
      "model_name": "OutputModel",
      "state": {
       "layout": "IPY_MODEL_ceaba664b92f4e80ada6d0d8f41fe86d",
       "outputs": [
        {
         "name": "stdout",
         "output_type": "stream",
         "text": "PercentageDisplacementMeasurement (train=516), fold=2\n-----------------------------------------------------\n MAE: 3.92±0.58 95CI=(2.97, 4.75)\n MSE: 164.49±39.80 95CI=(104.63, 233.81)\n  R2: 0.76±0.06 95CI=(0.64, 0.86)\nRMSE: 12.73±1.54 95CI=(10.23, 15.29)\n"
        },
        {
         "data": {
          "image/png": "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\n",
          "text/plain": "<Figure size 432x288 with 1 Axes>"
         },
         "metadata": {},
         "output_type": "display_data"
        },
        {
         "name": "stdout",
         "output_type": "stream",
         "text": " MAE: 3.95±0.55 95CI=(2.99, 4.91)\n MSE: 166.57±37.95 95CI=(104.12, 234.38)\n  R2: 0.75±0.06 95CI=(0.65, 0.86)\nRMSE: 12.82±1.46 95CI=(10.20, 15.31)\n"
        }
       ]
      }
     },
     "451286de46a94208b75e87c2c6c9f44b": {
      "model_module": "@jupyter-widgets/base",
      "model_module_version": "1.2.0",
      "model_name": "LayoutModel",
      "state": {}
     },
     "5425f9df5dbe4f0685fdaa62a2c9d1f8": {
      "model_module": "@jupyter-widgets/base",
      "model_module_version": "1.2.0",
      "model_name": "LayoutModel",
      "state": {}
     },
     "5d1aec5d54424441874aa6f871d9a412": {
      "model_module": "@jupyter-widgets/controls",
      "model_module_version": "1.5.0",
      "model_name": "HBoxModel",
      "state": {
       "children": [
        "IPY_MODEL_8d776d69094c4ee3920defe2f8d95251",
        "IPY_MODEL_f962ac1038aa48cab671ebe831be7336"
       ],
       "layout": "IPY_MODEL_71cd0a6536d2403ab515f128820c7225"
      }
     },
     "5f5695092ab0415587e4b3916f51b75b": {
      "model_module": "@jupyter-widgets/base",
      "model_module_version": "1.2.0",
      "model_name": "LayoutModel",
      "state": {}
     },
     "64aa2d09d6cf471893593c0a9868600e": {
      "model_module": "@jupyter-widgets/base",
      "model_module_version": "1.2.0",
      "model_name": "LayoutModel",
      "state": {}
     },
     "67fdd3d8d8ce422f8f7fb8694beb85a8": {
      "model_module": "@jupyter-widgets/output",
      "model_module_version": "1.0.0",
      "model_name": "OutputModel",
      "state": {
       "layout": "IPY_MODEL_5f5695092ab0415587e4b3916f51b75b",
       "outputs": [
        {
         "name": "stdout",
         "output_type": "stream",
         "text": "PercentageDisplacementMeasurement (train=516), fold=3\n-----------------------------------------------------\n MAE: 2.95±0.50 95CI=(2.17, 3.85)\n MSE: 116.98±34.85 95CI=(66.91, 181.97)\n  R2: 0.84±0.05 95CI=(0.76, 0.91)\nRMSE: 10.69±1.63 95CI=(8.18, 13.49)\n"
        },
        {
         "data": {
          "image/png": "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\n",
          "text/plain": "<Figure size 432x288 with 1 Axes>"
         },
         "metadata": {},
         "output_type": "display_data"
        },
        {
         "name": "stdout",
         "output_type": "stream",
         "text": " MAE: 2.96±0.52 95CI=(2.14, 3.93)\n MSE: 117.48±35.65 95CI=(62.99, 175.89)\n  R2: 0.84±0.05 95CI=(0.76, 0.91)\nRMSE: 10.71±1.68 95CI=(7.94, 13.26)\n"
        }
       ]
      }
     },
     "6c51e03f5af24f968fa1a912d7932a6c": {
      "model_module": "@jupyter-widgets/controls",
      "model_module_version": "1.5.0",
      "model_name": "HBoxModel",
      "state": {
       "children": [
        "IPY_MODEL_81448281c85041b8a38599d4c73a0294",
        "IPY_MODEL_811b40617e4b48fdb39f8db75c95d4ab"
       ],
       "layout": "IPY_MODEL_2225eac1316f4af48cfe69ff9f450e90"
      }
     },
     "70dbe3d7c64542e7a0b101e226b11e48": {
      "model_module": "@jupyter-widgets/base",
      "model_module_version": "1.2.0",
      "model_name": "LayoutModel",
      "state": {}
     },
     "71cd0a6536d2403ab515f128820c7225": {
      "model_module": "@jupyter-widgets/base",
      "model_module_version": "1.2.0",
      "model_name": "LayoutModel",
      "state": {}
     },
     "75dddb6e232f478a80bce6fa8965f79b": {
      "model_module": "@jupyter-widgets/output",
      "model_module_version": "1.0.0",
      "model_name": "OutputModel",
      "state": {
       "layout": "IPY_MODEL_ec7137cf3cb3471baddea7d5143d1fde",
       "outputs": [
        {
         "name": "stdout",
         "output_type": "stream",
         "text": "PercentageDisplacementMeasurement (test=129), fold=2\n----------------------------------------------------\n MAE: 17.65±2.44 95CI=(14.23, 21.36)\n MSE: 874.69±208.64 95CI=(545.98, 1230.93)\n  R2: -0.67±0.55 95CI=(-1.66, -0.01)\nRMSE: 29.35±3.64 95CI=(23.37, 35.08)\n"
        },
        {
         "data": {
          "image/png": "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\n",
          "text/plain": "<Figure size 432x288 with 1 Axes>"
         },
         "metadata": {},
         "output_type": "display_data"
        },
        {
         "name": "stdout",
         "output_type": "stream",
         "text": " MAE: 17.68±2.44 95CI=(14.19, 21.52)\n MSE: 877.21±209.24 95CI=(527.93, 1254.31)\n  R2: -0.65±0.54 95CI=(-1.56, -0.02)\nRMSE: 29.39±3.64 95CI=(22.98, 35.42)\n"
        }
       ]
      }
     },
     "77f5a5ae1e56494aa80484f3081052c1": {
      "model_module": "@jupyter-widgets/output",
      "model_module_version": "1.0.0",
      "model_name": "OutputModel",
      "state": {
       "layout": "IPY_MODEL_8ceefbd391c94468879f7a75ed6e26cd",
       "outputs": [
        {
         "name": "stdout",
         "output_type": "stream",
         "text": "PercentageDisplacementMeasurement (test=129), fold=0\n----------------------------------------------------\n MAE: 22.93±2.76 95CI=(18.38, 27.42)\n MSE: 1166.93±216.86 95CI=(839.31, 1518.21)\n  R2: -0.36±0.20 95CI=(-0.66, -0.10)\nRMSE: 34.01±3.18 95CI=(28.97, 38.96)\n"
        },
        {
         "data": {
          "image/png": "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\n",
          "text/plain": "<Figure size 432x288 with 1 Axes>"
         },
         "metadata": {},
         "output_type": "display_data"
        },
        {
         "name": "stdout",
         "output_type": "stream",
         "text": " MAE: 23.01±2.74 95CI=(18.14, 27.73)\n MSE: 1170.95±216.90 95CI=(849.61, 1530.34)\n  R2: -0.36±0.19 95CI=(-0.68, -0.06)\nRMSE: 34.07±3.16 95CI=(29.15, 39.12)\n"
        }
       ]
      }
     },
     "78e011f8d8014c2186d444299a161c93": {
      "model_module": "@jupyter-widgets/controls",
      "model_module_version": "1.5.0",
      "model_name": "DescriptionStyleModel",
      "state": {
       "description_width": ""
      }
     },
     "811b40617e4b48fdb39f8db75c95d4ab": {
      "model_module": "@jupyter-widgets/output",
      "model_module_version": "1.0.0",
      "model_name": "OutputModel",
      "state": {
       "layout": "IPY_MODEL_64aa2d09d6cf471893593c0a9868600e",
       "outputs": [
        {
         "name": "stdout",
         "output_type": "stream",
         "text": "PercentageDisplacementMeasurement (test=129), fold=4\n----------------------------------------------------\n MAE: 14.36±1.73 95CI=(11.62, 17.13)\n MSE: 549.47±142.77 95CI=(325.44, 791.40)\n  R2: 0.21±0.14 95CI=(0.01, 0.49)\nRMSE: 23.24±3.05 95CI=(18.04, 28.13)\n"
        },
        {
         "data": {
          "image/png": "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\n",
          "text/plain": "<Figure size 432x288 with 1 Axes>"
         },
         "metadata": {},
         "output_type": "display_data"
        },
        {
         "name": "stdout",
         "output_type": "stream",
         "text": " MAE: 14.33±1.67 95CI=(11.75, 16.97)\n MSE: 547.14±137.86 95CI=(335.14, 770.88)\n  R2: 0.21±0.14 95CI=(0.01, 0.46)\nRMSE: 23.20±2.97 95CI=(18.31, 27.76)\n"
        }
       ]
      }
     },
     "81448281c85041b8a38599d4c73a0294": {
      "model_module": "@jupyter-widgets/output",
      "model_module_version": "1.0.0",
      "model_name": "OutputModel",
      "state": {
       "layout": "IPY_MODEL_8a1a9352ee2841f0aaebbe65b41912e0",
       "outputs": [
        {
         "name": "stdout",
         "output_type": "stream",
         "text": "PercentageDisplacementMeasurement (train=516), fold=4\n-----------------------------------------------------\n MAE: 3.26±0.57 95CI=(2.41, 4.28)\n MSE: 119.66±38.63 95CI=(64.86, 186.10)\n  R2: 0.82±0.05 95CI=(0.73, 0.89)\nRMSE: 10.79±1.77 95CI=(8.05, 13.64)\n"
        },
        {
         "data": {
          "image/png": "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\n",
          "text/plain": "<Figure size 432x288 with 1 Axes>"
         },
         "metadata": {},
         "output_type": "display_data"
        },
        {
         "name": "stdout",
         "output_type": "stream",
         "text": " MAE: 3.28±0.54 95CI=(2.47, 4.24)\n MSE: 121.17±36.71 95CI=(68.54, 183.74)\n  R2: 0.81±0.05 95CI=(0.73, 0.89)\nRMSE: 10.88±1.69 95CI=(8.28, 13.56)\n"
        }
       ]
      }
     },
     "8a1a9352ee2841f0aaebbe65b41912e0": {
      "model_module": "@jupyter-widgets/base",
      "model_module_version": "1.2.0",
      "model_name": "LayoutModel",
      "state": {}
     },
     "8ceefbd391c94468879f7a75ed6e26cd": {
      "model_module": "@jupyter-widgets/base",
      "model_module_version": "1.2.0",
      "model_name": "LayoutModel",
      "state": {}
     },
     "8d776d69094c4ee3920defe2f8d95251": {
      "model_module": "@jupyter-widgets/output",
      "model_module_version": "1.0.0",
      "model_name": "OutputModel",
      "state": {
       "layout": "IPY_MODEL_5425f9df5dbe4f0685fdaa62a2c9d1f8",
       "outputs": [
        {
         "name": "stdout",
         "output_type": "stream",
         "text": "PercentageDisplacementMeasurement (train=516), fold=1\n-----------------------------------------------------\n MAE: 3.06±0.60 95CI=(2.21, 4.18)\n MSE: 117.08±42.41 95CI=(62.33, 199.65)\n  R2: 0.81±0.06 95CI=(0.70, 0.90)\nRMSE: 10.65±1.93 95CI=(7.89, 14.13)\n"
        },
        {
         "data": {
          "image/png": "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\n",
          "text/plain": "<Figure size 432x288 with 1 Axes>"
         },
         "metadata": {},
         "output_type": "display_data"
        },
        {
         "name": "stdout",
         "output_type": "stream",
         "text": " MAE: 3.06±0.56 95CI=(2.35, 4.01)\n MSE: 116.45±39.43 95CI=(60.55, 195.93)\n  R2: 0.81±0.06 95CI=(0.71, 0.91)\nRMSE: 10.64±1.83 95CI=(7.78, 14.00)\n"
        }
       ]
      }
     },
     "977db37cdd314f35af2d395a47245523": {
      "model_module": "@jupyter-widgets/controls",
      "model_module_version": "1.5.0",
      "model_name": "VBoxModel",
      "state": {
       "children": [
        "IPY_MODEL_f6d3373151e24be9861ca5046398826c",
        "IPY_MODEL_5d1aec5d54424441874aa6f871d9a412",
        "IPY_MODEL_301398d0380648d58e3732daddb74409",
        "IPY_MODEL_d24ef0b810b64697a03cf9e21caa61f8",
        "IPY_MODEL_6c51e03f5af24f968fa1a912d7932a6c"
       ],
       "layout": "IPY_MODEL_2b5b51772c61455db5df4efdf6233e57"
      }
     },
     "a32569c6a6dc409192502a71c2a8817f": {
      "model_module": "@jupyter-widgets/output",
      "model_module_version": "1.0.0",
      "model_name": "OutputModel",
      "state": {
       "layout": "IPY_MODEL_b12b2a80b8bc4bf7a5649828d1529298",
       "outputs": [
        {
         "name": "stdout",
         "output_type": "stream",
         "text": "PercentageDisplacementMeasurement (test=129), fold=3\n----------------------------------------------------\n MAE: 12.72±1.54 95CI=(10.59, 16.12)\n MSE: 397.35±110.39 95CI=(250.35, 632.94)\n  R2: -0.17±0.46 95CI=(-1.05, 0.38)\nRMSE: 19.74±2.74 95CI=(15.82, 25.16)\n"
        },
        {
         "data": {
          "image/png": "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\n",
          "text/plain": "<Figure size 432x288 with 1 Axes>"
         },
         "metadata": {},
         "output_type": "display_data"
        },
        {
         "name": "stdout",
         "output_type": "stream",
         "text": " MAE: 12.67±1.49 95CI=(10.42, 15.78)\n MSE: 393.34±106.30 95CI=(243.95, 602.02)\n  R2: -0.17±0.48 95CI=(-0.94, 0.41)\nRMSE: 19.65±2.67 95CI=(15.62, 24.54)\n"
        }
       ]
      }
     },
     "b12b2a80b8bc4bf7a5649828d1529298": {
      "model_module": "@jupyter-widgets/base",
      "model_module_version": "1.2.0",
      "model_name": "LayoutModel",
      "state": {}
     },
     "c33ec8167a354109b978ee9599fbe1d4": {
      "model_module": "@jupyter-widgets/base",
      "model_module_version": "1.2.0",
      "model_name": "LayoutModel",
      "state": {}
     },
     "c95afac101a8463d93953bc7d4022a62": {
      "model_module": "@jupyter-widgets/base",
      "model_module_version": "1.2.0",
      "model_name": "LayoutModel",
      "state": {}
     },
     "ceaba664b92f4e80ada6d0d8f41fe86d": {
      "model_module": "@jupyter-widgets/base",
      "model_module_version": "1.2.0",
      "model_name": "LayoutModel",
      "state": {}
     },
     "d24ef0b810b64697a03cf9e21caa61f8": {
      "model_module": "@jupyter-widgets/controls",
      "model_module_version": "1.5.0",
      "model_name": "HBoxModel",
      "state": {
       "children": [
        "IPY_MODEL_67fdd3d8d8ce422f8f7fb8694beb85a8",
        "IPY_MODEL_a32569c6a6dc409192502a71c2a8817f"
       ],
       "layout": "IPY_MODEL_70dbe3d7c64542e7a0b101e226b11e48"
      }
     },
     "e05aaa635097449dbe837ba7a12c3e95": {
      "model_module": "@jupyter-widgets/base",
      "model_module_version": "1.2.0",
      "model_name": "LayoutModel",
      "state": {}
     },
     "e23c8555dce84c559726f968fe80366b": {
      "model_module": "@jupyter-widgets/output",
      "model_module_version": "1.0.0",
      "model_name": "OutputModel",
      "state": {
       "layout": "IPY_MODEL_3a6bfe3bd6124741923e9f311a6a7139",
       "outputs": [
        {
         "name": "stdout",
         "output_type": "stream",
         "text": "PercentageDisplacementMeasurement (train=516), fold=0\n-----------------------------------------------------\n MAE: 2.41±0.41 95CI=(1.76, 3.11)\n MSE: 64.00±26.00 95CI=(27.86, 114.24)\n  R2: 0.89±0.04 95CI=(0.82, 0.95)\nRMSE: 7.83±1.64 95CI=(5.28, 10.69)\n"
        },
        {
         "data": {
          "image/png": "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\n",
          "text/plain": "<Figure size 432x288 with 1 Axes>"
         },
         "metadata": {},
         "output_type": "display_data"
        },
        {
         "name": "stdout",
         "output_type": "stream",
         "text": " MAE: 2.41±0.39 95CI=(1.85, 3.05)\n MSE: 63.89±24.30 95CI=(27.72, 107.69)\n  R2: 0.89±0.04 95CI=(0.83, 0.95)\nRMSE: 7.84±1.55 95CI=(5.27, 10.38)\n"
        }
       ]
      }
     },
     "ec7137cf3cb3471baddea7d5143d1fde": {
      "model_module": "@jupyter-widgets/base",
      "model_module_version": "1.2.0",
      "model_name": "LayoutModel",
      "state": {}
     },
     "f6d3373151e24be9861ca5046398826c": {
      "model_module": "@jupyter-widgets/controls",
      "model_module_version": "1.5.0",
      "model_name": "HBoxModel",
      "state": {
       "children": [
        "IPY_MODEL_e23c8555dce84c559726f968fe80366b",
        "IPY_MODEL_77f5a5ae1e56494aa80484f3081052c1"
       ],
       "layout": "IPY_MODEL_e05aaa635097449dbe837ba7a12c3e95"
      }
     },
     "f8ce34b67f8640eda397c48001f8815a": {
      "model_module": "@jupyter-widgets/controls",
      "model_module_version": "1.5.0",
      "model_name": "HTMLModel",
      "state": {
       "layout": "IPY_MODEL_451286de46a94208b75e87c2c6c9f44b",
       "style": "IPY_MODEL_3af326ae673a48d1b8e2990f39210793",
       "value": "Average across folds:"
      }
     },
     "f962ac1038aa48cab671ebe831be7336": {
      "model_module": "@jupyter-widgets/output",
      "model_module_version": "1.0.0",
      "model_name": "OutputModel",
      "state": {
       "layout": "IPY_MODEL_c95afac101a8463d93953bc7d4022a62",
       "outputs": [
        {
         "name": "stdout",
         "output_type": "stream",
         "text": "PercentageDisplacementMeasurement (test=129), fold=1\n----------------------------------------------------\n MAE: 14.66±1.82 95CI=(12.03, 17.84)\n MSE: 569.41±145.58 95CI=(377.17, 837.29)\n  R2: 0.22±0.17 95CI=(-0.13, 0.47)\nRMSE: 23.67±3.06 95CI=(19.42, 28.94)\n"
        },
        {
         "data": {
          "image/png": "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\n",
          "text/plain": "<Figure size 432x288 with 1 Axes>"
         },
         "metadata": {},
         "output_type": "display_data"
        },
        {
         "name": "stdout",
         "output_type": "stream",
         "text": " MAE: 14.75±1.72 95CI=(12.27, 17.74)\n MSE: 575.01±139.85 95CI=(372.59, 827.93)\n  R2: 0.22±0.16 95CI=(-0.12, 0.44)\nRMSE: 23.80±2.94 95CI=(19.30, 28.77)\n"
        }
       ]
      }
     }
    },
    "version_major": 2,
    "version_minor": 0
   }
  }
 },
 "nbformat": 4,
 "nbformat_minor": 4
}
