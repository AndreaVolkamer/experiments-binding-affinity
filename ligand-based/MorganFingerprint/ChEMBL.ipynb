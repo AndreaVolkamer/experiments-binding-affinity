{
 "cells": [
  {
   "cell_type": "markdown",
   "metadata": {},
   "source": [
    "# Ligand-based experiments to predict binding affinities in ChEMBL\n",
    "\n",
    "This notebook featurizes the ChEMBL dataset with `MorganFingerprintFeaturizer` and provides in-disk `npz` files for each kinase and measurement type.\n",
    "\n",
    "Output files are written to `_output/`, as in:\n",
    "\n",
    "* `_output/ChEMBL__O00141__pIC50Measurement.npz`\n",
    "* `_output/ChEMBL__O00141__pKdMeasurement.npz`\n",
    "* `_output/ChEMBL__O00141__pKiMeasurement.npz`\n",
    "* `_output/ChEMBL__O00238__pIC50Measurement.npz`\n",
    "* `_output/ChEMBL__O00238__pKdMeasurement.npz`\n",
    "\n",
    "Each `npz` will contain two `np.ndarray` objects: `X` (featurized systems) and `y` (associated measurements)."
   ]
  },
  {
   "cell_type": "code",
   "execution_count": 1,
   "metadata": {},
   "outputs": [
    {
     "name": "stderr",
     "output_type": "stream",
     "text": [
      "\u001b[34m\u001b[1mwandb\u001b[0m: Offline run mode, not syncing to the cloud.\n",
      "\u001b[34m\u001b[1mwandb\u001b[0m: Tracking run with wandb version 0.10.2\n",
      "\u001b[34m\u001b[1mwandb\u001b[0m: W&B is disabled in this directory.  Run `wandb on` to enable cloud syncing.\n",
      "\u001b[34m\u001b[1mwandb\u001b[0m: Run data is saved locally in _output/wandb/offline-run-20200923_150633-2dqlw5cp\n"
     ]
    },
    {
     "name": "stdout",
     "output_type": "stream",
     "text": [
      "\n"
     ]
    }
   ],
   "source": [
    "# automated logging to weights&biases\n",
    "WITH_WANDB = True\n",
    "if WITH_WANDB:\n",
    "    import os\n",
    "    os.environ[\"WANDB_MODE\"] = \"dryrun\"\n",
    "    import wandb\n",
    "    wandb.login()\n",
    "    wandb.init(entity=\"kinoml-experiments\", project=\"ligand-based\", \n",
    "               name=\"ChEMBL/MorganFingerprint\", job_type=\"featurization\", \n",
    "               dir=\"_output/\")"
   ]
  },
  {
   "cell_type": "code",
   "execution_count": 2,
   "metadata": {},
   "outputs": [],
   "source": [
    "# Filter out some warnings thrown by openforcefield and rdkit\n",
    "import warnings\n",
    "warnings.simplefilter(\"ignore\")\n",
    "import logging\n",
    "logging.basicConfig(level=logging.ERROR)\n",
    "\n",
    "import numpy as np\n",
    "import os\n",
    "from pathlib import Path"
   ]
  },
  {
   "cell_type": "code",
   "execution_count": 3,
   "metadata": {},
   "outputs": [],
   "source": [
    "HERE = Path(_dh[-1])"
   ]
  },
  {
   "cell_type": "code",
   "execution_count": 4,
   "metadata": {},
   "outputs": [
    {
     "data": {
      "application/vnd.jupyter.widget-view+json": {
       "model_id": "608f70591ec94943b90457769f555a38",
       "version_major": 2,
       "version_minor": 0
      },
      "text/plain": []
     },
     "metadata": {},
     "output_type": "display_data"
    },
    {
     "data": {
      "application/vnd.jupyter.widget-view+json": {
       "model_id": "b217ede372b842a09fee699e36e8a043",
       "version_major": 2,
       "version_minor": 0
      },
      "text/plain": [
       "HBox(children=(FloatProgress(value=0.0, max=203380.0), HTML(value='')))"
      ]
     },
     "metadata": {},
     "output_type": "display_data"
    },
    {
     "name": "stdout",
     "output_type": "stream",
     "text": [
      "\n"
     ]
    }
   ],
   "source": [
    "from kinoml.datasets.chembl import ChEMBLDatasetProvider\n",
    "chembl = ChEMBLDatasetProvider.from_source()"
   ]
  },
  {
   "cell_type": "code",
   "execution_count": 4,
   "metadata": {},
   "outputs": [
    {
     "data": {
      "text/plain": [
       "<ChEMBLDatasetProvider with 203380 measurements (pIC50Measurement=170121, pKdMeasurement=17050, pKiMeasurement=16209), and 162584 systems (AminoAcidSequence=422, SmilesLigand=103097)>"
      ]
     },
     "execution_count": 4,
     "metadata": {},
     "output_type": "execute_result"
    }
   ],
   "source": [
    "chembl"
   ]
  },
  {
   "cell_type": "code",
   "execution_count": 5,
   "metadata": {},
   "outputs": [
    {
     "data": {
      "text/html": [
       "<div>\n",
       "<style scoped>\n",
       "    .dataframe tbody tr th:only-of-type {\n",
       "        vertical-align: middle;\n",
       "    }\n",
       "\n",
       "    .dataframe tbody tr th {\n",
       "        vertical-align: top;\n",
       "    }\n",
       "\n",
       "    .dataframe thead th {\n",
       "        text-align: right;\n",
       "    }\n",
       "</style>\n",
       "<table border=\"1\" class=\"dataframe\">\n",
       "  <thead>\n",
       "    <tr style=\"text-align: right;\">\n",
       "      <th></th>\n",
       "      <th>Systems</th>\n",
       "      <th>n_components</th>\n",
       "      <th>Measurement</th>\n",
       "      <th>MeasurementType</th>\n",
       "    </tr>\n",
       "  </thead>\n",
       "  <tbody>\n",
       "    <tr>\n",
       "      <th>0</th>\n",
       "      <td>P00533 &amp; Cc1cc(C)c(/C=C2\\C(=O)Nc3ncnc(Nc4ccc(F...</td>\n",
       "      <td>2</td>\n",
       "      <td>7.387216</td>\n",
       "      <td>pIC50Measurement</td>\n",
       "    </tr>\n",
       "    <tr>\n",
       "      <th>1</th>\n",
       "      <td>P35968 &amp; Cc1cc(C)c(/C=C2\\C(=O)Nc3ncnc(Nc4ccc(F...</td>\n",
       "      <td>2</td>\n",
       "      <td>4.782516</td>\n",
       "      <td>pIC50Measurement</td>\n",
       "    </tr>\n",
       "    <tr>\n",
       "      <th>2</th>\n",
       "      <td>P00533 &amp; Cc1cc(C(=O)N2CCOCC2)[nH]c1/C=C1\\C(=O)...</td>\n",
       "      <td>2</td>\n",
       "      <td>6.769551</td>\n",
       "      <td>pIC50Measurement</td>\n",
       "    </tr>\n",
       "    <tr>\n",
       "      <th>3</th>\n",
       "      <td>P06239 &amp; Nc1ncnc2c1c(-c1cccc(Oc3ccccc3)c1)cn2C...</td>\n",
       "      <td>2</td>\n",
       "      <td>6.853872</td>\n",
       "      <td>pIC50Measurement</td>\n",
       "    </tr>\n",
       "    <tr>\n",
       "      <th>4</th>\n",
       "      <td>P06239 &amp; Nc1ncnc2c1c(-c1cccc(Oc3ccccc3)c1)cn2C...</td>\n",
       "      <td>2</td>\n",
       "      <td>5.928118</td>\n",
       "      <td>pIC50Measurement</td>\n",
       "    </tr>\n",
       "    <tr>\n",
       "      <th>...</th>\n",
       "      <td>...</td>\n",
       "      <td>...</td>\n",
       "      <td>...</td>\n",
       "      <td>...</td>\n",
       "    </tr>\n",
       "    <tr>\n",
       "      <th>203375</th>\n",
       "      <td>P42345 &amp; Nc1cc(C(F)F)c(-c2nc(N3CCOCC3)cc(N3CCO...</td>\n",
       "      <td>2</td>\n",
       "      <td>7.376751</td>\n",
       "      <td>pKiMeasurement</td>\n",
       "    </tr>\n",
       "    <tr>\n",
       "      <th>203376</th>\n",
       "      <td>P42345 &amp; Nc1cc(C(F)(F)F)c(-c2cc(N3C4CCC3COC4)n...</td>\n",
       "      <td>2</td>\n",
       "      <td>7.522879</td>\n",
       "      <td>pKiMeasurement</td>\n",
       "    </tr>\n",
       "    <tr>\n",
       "      <th>203377</th>\n",
       "      <td>P42345 &amp; Nc1cc(C(F)F)c(-c2cc(N3C4CCC3COC4)nc(N...</td>\n",
       "      <td>2</td>\n",
       "      <td>7.920819</td>\n",
       "      <td>pKiMeasurement</td>\n",
       "    </tr>\n",
       "    <tr>\n",
       "      <th>203378</th>\n",
       "      <td>P42345 &amp; Nc1cc(C(F)(F)F)c(-c2nc(N3C4CCC3COC4)c...</td>\n",
       "      <td>2</td>\n",
       "      <td>6.361511</td>\n",
       "      <td>pKiMeasurement</td>\n",
       "    </tr>\n",
       "    <tr>\n",
       "      <th>203379</th>\n",
       "      <td>P42345 &amp; Nc1cc(C(F)F)c(-c2nc(N3C4CCC3COC4)cc(N...</td>\n",
       "      <td>2</td>\n",
       "      <td>7.221849</td>\n",
       "      <td>pKiMeasurement</td>\n",
       "    </tr>\n",
       "  </tbody>\n",
       "</table>\n",
       "<p>203380 rows × 4 columns</p>\n",
       "</div>"
      ],
      "text/plain": [
       "                                                  Systems  n_components  \\\n",
       "0       P00533 & Cc1cc(C)c(/C=C2\\C(=O)Nc3ncnc(Nc4ccc(F...             2   \n",
       "1       P35968 & Cc1cc(C)c(/C=C2\\C(=O)Nc3ncnc(Nc4ccc(F...             2   \n",
       "2       P00533 & Cc1cc(C(=O)N2CCOCC2)[nH]c1/C=C1\\C(=O)...             2   \n",
       "3       P06239 & Nc1ncnc2c1c(-c1cccc(Oc3ccccc3)c1)cn2C...             2   \n",
       "4       P06239 & Nc1ncnc2c1c(-c1cccc(Oc3ccccc3)c1)cn2C...             2   \n",
       "...                                                   ...           ...   \n",
       "203375  P42345 & Nc1cc(C(F)F)c(-c2nc(N3CCOCC3)cc(N3CCO...             2   \n",
       "203376  P42345 & Nc1cc(C(F)(F)F)c(-c2cc(N3C4CCC3COC4)n...             2   \n",
       "203377  P42345 & Nc1cc(C(F)F)c(-c2cc(N3C4CCC3COC4)nc(N...             2   \n",
       "203378  P42345 & Nc1cc(C(F)(F)F)c(-c2nc(N3C4CCC3COC4)c...             2   \n",
       "203379  P42345 & Nc1cc(C(F)F)c(-c2nc(N3C4CCC3COC4)cc(N...             2   \n",
       "\n",
       "        Measurement   MeasurementType  \n",
       "0          7.387216  pIC50Measurement  \n",
       "1          4.782516  pIC50Measurement  \n",
       "2          6.769551  pIC50Measurement  \n",
       "3          6.853872  pIC50Measurement  \n",
       "4          5.928118  pIC50Measurement  \n",
       "...             ...               ...  \n",
       "203375     7.376751    pKiMeasurement  \n",
       "203376     7.522879    pKiMeasurement  \n",
       "203377     7.920819    pKiMeasurement  \n",
       "203378     6.361511    pKiMeasurement  \n",
       "203379     7.221849    pKiMeasurement  \n",
       "\n",
       "[203380 rows x 4 columns]"
      ]
     },
     "execution_count": 5,
     "metadata": {},
     "output_type": "execute_result"
    }
   ],
   "source": [
    "df = chembl.to_dataframe()\n",
    "df"
   ]
  },
  {
   "cell_type": "markdown",
   "metadata": {},
   "source": [
    "This featurization pipeline consists of:\n",
    "\n",
    "- Promoting the Smiles wrapper objects returned by ChEMBL to a full OpenForceField molecule\n",
    "- Converting to RDKit molecule\n",
    "- Generating the Morgan fingerprint with nbits=1024, radius=2"
   ]
  },
  {
   "cell_type": "code",
   "execution_count": 6,
   "metadata": {},
   "outputs": [],
   "source": [
    "from kinoml.features.ligand import SmilesToLigandFeaturizer, MorganFingerprintFeaturizer\n",
    "from kinoml.features.protein import AminoAcidCompositionFeaturizer\n",
    "from kinoml.features.core import ScaleFeaturizer, Concatenated, Pipeline\n",
    "\n",
    "morgan_featurizer = Pipeline([SmilesToLigandFeaturizer(), MorganFingerprintFeaturizer(nbits=1024, radius=2)])"
   ]
  },
  {
   "cell_type": "code",
   "execution_count": 7,
   "metadata": {},
   "outputs": [
    {
     "data": {
      "application/vnd.jupyter.widget-view+json": {
       "model_id": "05d5d586a1da4f7094158f8cb8b9d04f",
       "version_major": 2,
       "version_minor": 0
      },
      "text/plain": [
       "HBox(children=(FloatProgress(value=0.0, max=162584.0), HTML(value='')))"
      ]
     },
     "metadata": {},
     "output_type": "display_data"
    },
    {
     "name": "stderr",
     "output_type": "stream",
     "text": [
      "RDKit WARNING: [15:49:20] Conflicting single bond directions around double bond at index 14.\n",
      "RDKit WARNING: [15:49:20]   BondStereo set to STEREONONE and single bond directions set to NONE.\n",
      "RDKit WARNING: [15:49:20] Conflicting single bond directions around double bond at index 14.\n",
      "RDKit WARNING: [15:49:20]   BondStereo set to STEREONONE and single bond directions set to NONE.\n",
      "RDKit WARNING: [15:57:42] Conflicting single bond directions around double bond at index 17.\n",
      "RDKit WARNING: [15:57:42]   BondStereo set to STEREONONE and single bond directions set to NONE.\n",
      "RDKit WARNING: [16:13:07] Conflicting single bond directions around double bond at index 17.\n",
      "RDKit WARNING: [16:13:07]   BondStereo set to STEREONONE and single bond directions set to NONE.\n"
     ]
    },
    {
     "name": "stdout",
     "output_type": "stream",
     "text": [
      "\n"
     ]
    }
   ],
   "source": [
    "# prefeaturize everything\n",
    "chembl.featurize(morgan_featurizer, processes=6);"
   ]
  },
  {
   "cell_type": "markdown",
   "metadata": {},
   "source": [
    "Remove systems that couldn't be featurized"
   ]
  },
  {
   "cell_type": "code",
   "execution_count": 8,
   "metadata": {},
   "outputs": [
    {
     "data": {
      "application/vnd.jupyter.widget-view+json": {
       "model_id": "154e00bdee4f4fdbb36dda10163bd55e",
       "version_major": 2,
       "version_minor": 0
      },
      "text/plain": [
       "HBox(children=(FloatProgress(value=1.0, bar_style='info', layout=Layout(width='20px'), max=1.0), HTML(value=''…"
      ]
     },
     "metadata": {},
     "output_type": "display_data"
    },
    {
     "name": "stdout",
     "output_type": "stream",
     "text": [
      "\n"
     ]
    },
    {
     "data": {
      "text/plain": [
       "(203378, 2)"
      ]
     },
     "execution_count": 8,
     "metadata": {},
     "output_type": "execute_result"
    }
   ],
   "source": [
    "from kinoml.datasets.groups import CallableGrouper\n",
    "grouper = CallableGrouper(lambda measurement: 'invalid' if 'last' not in measurement.system.featurizations else 'valid')\n",
    "grouper.assign(chembl, overwrite=True)\n",
    "groups = chembl.split_by_groups()\n",
    "len(groups.get('valid', [])), len(groups.get('invalid', []))"
   ]
  },
  {
   "cell_type": "markdown",
   "metadata": {},
   "source": [
    "Split by kinase name, since these models are ligand-based (so one model per kinase)."
   ]
  },
  {
   "cell_type": "code",
   "execution_count": 12,
   "metadata": {},
   "outputs": [
    {
     "data": {
      "application/vnd.jupyter.widget-view+json": {
       "model_id": "2460258c74da4bc4818876c1b9f5b488",
       "version_major": 2,
       "version_minor": 0
      },
      "text/plain": [
       "HBox(children=(FloatProgress(value=1.0, bar_style='info', layout=Layout(width='20px'), max=1.0), HTML(value=''…"
      ]
     },
     "metadata": {},
     "output_type": "display_data"
    },
    {
     "name": "stdout",
     "output_type": "stream",
     "text": [
      "\n"
     ]
    }
   ],
   "source": [
    "grouper = CallableGrouper(lambda measurement: measurement.system.protein.name)\n",
    "grouper.assign(groups['valid'], overwrite=True)\n",
    "groups_by_kinase = groups['valid'].split_by_groups()"
   ]
  },
  {
   "cell_type": "markdown",
   "metadata": {},
   "source": [
    "Split each kinase group by measurement type too. We need to for-loops for that:"
   ]
  },
  {
   "cell_type": "code",
   "execution_count": null,
   "metadata": {},
   "outputs": [],
   "source": [
    "type_grouper = CallableGrouper(lambda measurement: type(measurement).__name__)\n",
    "\n",
    "output = HERE / \"_output/\"\n",
    "output.mkdir(parents=True, exist_ok=True)\n",
    "\n",
    "for kinase, ds in sorted(groups_by_kinase.items(), key=lambda kv: len(kv[1]), reverse=True):\n",
    "    type_grouper.assign(ds, overwrite=True)\n",
    "    types = ds.split_by_groups()\n",
    "    for mtype, ds_ in types.items():\n",
    "        X = np.asarray(ds_.featurized_systems())\n",
    "        y = ds_.measurements_as_array()\n",
    "        np.savez(output / f\"ChEMBL__{kinase}__{mtype}.npz\", X=X, y=y.astype('float32'))"
   ]
  },
  {
   "cell_type": "markdown",
   "metadata": {},
   "source": [
    "Annotate observation models for `pytorch` and `xgboost` (we will need this in next notebooks)"
   ]
  },
  {
   "cell_type": "code",
   "execution_count": 14,
   "metadata": {},
   "outputs": [
    {
     "data": {
      "text/plain": [
       "<function kinoml.core.measurements.pIC50Measurement._observation_model_pytorch(dG_over_KT, substrate_conc=1e-06, michaelis_constant=1, standard_conc=1, **kwargs)>"
      ]
     },
     "metadata": {},
     "output_type": "display_data"
    },
    {
     "data": {
      "text/plain": [
       "<function kinoml.core.measurements.pKdMeasurement._observation_model_pytorch(dG_over_KT, standard_conc=1, **kwargs)>"
      ]
     },
     "metadata": {},
     "output_type": "display_data"
    },
    {
     "data": {
      "text/plain": [
       "<function kinoml.core.measurements.pKiMeasurement._observation_model_pytorch(dG_over_KT, standard_conc=1, **kwargs)>"
      ]
     },
     "metadata": {},
     "output_type": "display_data"
    },
    {
     "name": "stdout",
     "output_type": "stream",
     "text": [
      "\n"
     ]
    },
    {
     "data": {
      "text/plain": [
       "<function kinoml.core.measurements.pIC50Measurement._loss_adapter_xgboost__mse(dG_over_KT, dmatrix, substrate_conc=1e-06, michaelis_constant=1, standard_conc=1, **kwargs)>"
      ]
     },
     "metadata": {},
     "output_type": "display_data"
    },
    {
     "data": {
      "text/plain": [
       "<function kinoml.core.measurements.pKdMeasurement._loss_adapter_xgboost__mse(dG_over_KT, dmatrix, standard_conc=1, **kwargs)>"
      ]
     },
     "metadata": {},
     "output_type": "display_data"
    },
    {
     "data": {
      "text/plain": [
       "<function kinoml.core.measurements.pKiMeasurement._loss_adapter_xgboost__mse(dG_over_KT, dmatrix, standard_conc=1, **kwargs)>"
      ]
     },
     "metadata": {},
     "output_type": "display_data"
    }
   ],
   "source": [
    "observation_models_pytorch = chembl.observation_models(backend=\"pytorch\")\n",
    "loss_adapters_xgboost = chembl.loss_adapters(backend=\"xgboost\")\n",
    "display(*observation_models_pytorch)\n",
    "print()\n",
    "display(*loss_adapters_xgboost)"
   ]
  }
 ],
 "metadata": {
  "kernelspec": {
   "display_name": "Python 3",
   "language": "python",
   "name": "python3"
  },
  "language_info": {
   "codemirror_mode": {
    "name": "ipython",
    "version": 3
   },
   "file_extension": ".py",
   "mimetype": "text/x-python",
   "name": "python",
   "nbconvert_exporter": "python",
   "pygments_lexer": "ipython3",
   "version": "3.7.8"
  }
 },
 "nbformat": 4,
 "nbformat_minor": 4
}
