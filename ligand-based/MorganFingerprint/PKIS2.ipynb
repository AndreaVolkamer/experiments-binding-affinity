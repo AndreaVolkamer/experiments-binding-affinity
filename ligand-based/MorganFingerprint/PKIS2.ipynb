{
 "cells": [
  {
   "cell_type": "markdown",
   "metadata": {},
   "source": [
    "# Ligand-based experiments to predict binding affinities in pkis2\n",
    "\n",
    "This notebook featurizes the pkis2 dataset with `MorganFingerprintFeaturizer` and provides in-disk `npz` files for each kinase and measurement type.\n",
    "\n",
    "Output files are written to `_output/`, as in:\n",
    "\n",
    "* `_output/PKIS2__YES__PercentageDisplacementMeasurement.npz`\n",
    "* `_output/PKIS2__YSK1__PercentageDisplacementMeasurement.npz`\n",
    "* `_output/PKIS2__YSK4__PercentageDisplacementMeasurement.npz`\n",
    "* `_output/PKIS2__ZAK__PercentageDisplacementMeasurement.npz`\n",
    "\n",
    "\n",
    "Each `npz` will contain two `np.ndarray` objects: `X` (featurized systems) and `y` (associated measurements), plus the train/test/validation indices."
   ]
  },
  {
   "cell_type": "code",
   "execution_count": 1,
   "metadata": {},
   "outputs": [],
   "source": [
    "# Filter out some warnings thrown by openforcefield and rdkit\n",
    "import warnings\n",
    "warnings.simplefilter(\"ignore\")\n",
    "import logging\n",
    "logging.basicConfig(level=logging.ERROR)\n",
    "\n",
    "import numpy as np\n",
    "import os\n",
    "from pathlib import Path\n",
    "\n",
    "import pytorch_lightning as pl\n",
    "pl.seed_everything(1234);"
   ]
  },
  {
   "cell_type": "code",
   "execution_count": 2,
   "metadata": {},
   "outputs": [],
   "source": [
    "HERE = Path(_dh[-1])"
   ]
  },
  {
   "cell_type": "code",
   "execution_count": 3,
   "metadata": {},
   "outputs": [
    {
     "data": {
      "application/vnd.jupyter.widget-view+json": {
       "model_id": "061ed4c7f0324736bcaafdde5d5eb977",
       "version_major": 2,
       "version_minor": 0
      },
      "text/plain": []
     },
     "metadata": {},
     "output_type": "display_data"
    }
   ],
   "source": [
    "from kinoml.datasets.kinomescan.pkis2 import PKIS2DatasetProvider\n",
    "pkis2 = PKIS2DatasetProvider.from_source()"
   ]
  },
  {
   "cell_type": "code",
   "execution_count": 4,
   "metadata": {},
   "outputs": [
    {
     "data": {
      "text/plain": [
       "<PKIS2DatasetProvider with 261870 PercentageDisplacementMeasurement measurements and 257920 systems (AminoAcidSequence=403, SmilesLigand=640)>"
      ]
     },
     "execution_count": 4,
     "metadata": {},
     "output_type": "execute_result"
    }
   ],
   "source": [
    "pkis2"
   ]
  },
  {
   "cell_type": "code",
   "execution_count": 5,
   "metadata": {},
   "outputs": [
    {
     "data": {
      "text/html": [
       "<div>\n",
       "<style scoped>\n",
       "    .dataframe tbody tr th:only-of-type {\n",
       "        vertical-align: middle;\n",
       "    }\n",
       "\n",
       "    .dataframe tbody tr th {\n",
       "        vertical-align: top;\n",
       "    }\n",
       "\n",
       "    .dataframe thead th {\n",
       "        text-align: right;\n",
       "    }\n",
       "</style>\n",
       "<table border=\"1\" class=\"dataframe\">\n",
       "  <thead>\n",
       "    <tr style=\"text-align: right;\">\n",
       "      <th></th>\n",
       "      <th>Systems</th>\n",
       "      <th>n_components</th>\n",
       "      <th>PercentageDisplacementMeasurement</th>\n",
       "    </tr>\n",
       "  </thead>\n",
       "  <tbody>\n",
       "    <tr>\n",
       "      <th>0</th>\n",
       "      <td>AAK1 &amp; Clc1cccc(Cn2c(nn3c2nc(cc3=O)N2CCOCC2)C2...</td>\n",
       "      <td>2</td>\n",
       "      <td>14.0</td>\n",
       "    </tr>\n",
       "    <tr>\n",
       "      <th>1</th>\n",
       "      <td>ABL1-nonphosphorylated &amp; Clc1cccc(Cn2c(nn3c2nc...</td>\n",
       "      <td>2</td>\n",
       "      <td>28.0</td>\n",
       "    </tr>\n",
       "    <tr>\n",
       "      <th>2</th>\n",
       "      <td>ABL1-nonphosphorylated &amp; Clc1cccc(Cn2c(nn3c2nc...</td>\n",
       "      <td>2</td>\n",
       "      <td>20.0</td>\n",
       "    </tr>\n",
       "    <tr>\n",
       "      <th>3</th>\n",
       "      <td>ABL2 &amp; Clc1cccc(Cn2c(nn3c2nc(cc3=O)N2CCOCC2)C2...</td>\n",
       "      <td>2</td>\n",
       "      <td>5.0</td>\n",
       "    </tr>\n",
       "    <tr>\n",
       "      <th>4</th>\n",
       "      <td>ACVR1 &amp; Clc1cccc(Cn2c(nn3c2nc(cc3=O)N2CCOCC2)C...</td>\n",
       "      <td>2</td>\n",
       "      <td>0.0</td>\n",
       "    </tr>\n",
       "    <tr>\n",
       "      <th>...</th>\n",
       "      <td>...</td>\n",
       "      <td>...</td>\n",
       "      <td>...</td>\n",
       "    </tr>\n",
       "    <tr>\n",
       "      <th>261865</th>\n",
       "      <td>ZAP70 &amp; CCn1c(nc2c(nc(OC[C@H](N)c3ccccc3)cc12)...</td>\n",
       "      <td>2</td>\n",
       "      <td>0.0</td>\n",
       "    </tr>\n",
       "    <tr>\n",
       "      <th>261866</th>\n",
       "      <td>p38-alpha &amp; CCn1c(nc2c(nc(OC[C@H](N)c3ccccc3)c...</td>\n",
       "      <td>2</td>\n",
       "      <td>0.0</td>\n",
       "    </tr>\n",
       "    <tr>\n",
       "      <th>261867</th>\n",
       "      <td>p38-beta &amp; CCn1c(nc2c(nc(OC[C@H](N)c3ccccc3)cc...</td>\n",
       "      <td>2</td>\n",
       "      <td>0.0</td>\n",
       "    </tr>\n",
       "    <tr>\n",
       "      <th>261868</th>\n",
       "      <td>p38-delta &amp; CCn1c(nc2c(nc(OC[C@H](N)c3ccccc3)c...</td>\n",
       "      <td>2</td>\n",
       "      <td>0.0</td>\n",
       "    </tr>\n",
       "    <tr>\n",
       "      <th>261869</th>\n",
       "      <td>p38-gamma &amp; CCn1c(nc2c(nc(OC[C@H](N)c3ccccc3)c...</td>\n",
       "      <td>2</td>\n",
       "      <td>34.0</td>\n",
       "    </tr>\n",
       "  </tbody>\n",
       "</table>\n",
       "<p>261870 rows × 3 columns</p>\n",
       "</div>"
      ],
      "text/plain": [
       "                                                  Systems  n_components  \\\n",
       "0       AAK1 & Clc1cccc(Cn2c(nn3c2nc(cc3=O)N2CCOCC2)C2...             2   \n",
       "1       ABL1-nonphosphorylated & Clc1cccc(Cn2c(nn3c2nc...             2   \n",
       "2       ABL1-nonphosphorylated & Clc1cccc(Cn2c(nn3c2nc...             2   \n",
       "3       ABL2 & Clc1cccc(Cn2c(nn3c2nc(cc3=O)N2CCOCC2)C2...             2   \n",
       "4       ACVR1 & Clc1cccc(Cn2c(nn3c2nc(cc3=O)N2CCOCC2)C...             2   \n",
       "...                                                   ...           ...   \n",
       "261865  ZAP70 & CCn1c(nc2c(nc(OC[C@H](N)c3ccccc3)cc12)...             2   \n",
       "261866  p38-alpha & CCn1c(nc2c(nc(OC[C@H](N)c3ccccc3)c...             2   \n",
       "261867  p38-beta & CCn1c(nc2c(nc(OC[C@H](N)c3ccccc3)cc...             2   \n",
       "261868  p38-delta & CCn1c(nc2c(nc(OC[C@H](N)c3ccccc3)c...             2   \n",
       "261869  p38-gamma & CCn1c(nc2c(nc(OC[C@H](N)c3ccccc3)c...             2   \n",
       "\n",
       "        PercentageDisplacementMeasurement  \n",
       "0                                    14.0  \n",
       "1                                    28.0  \n",
       "2                                    20.0  \n",
       "3                                     5.0  \n",
       "4                                     0.0  \n",
       "...                                   ...  \n",
       "261865                                0.0  \n",
       "261866                                0.0  \n",
       "261867                                0.0  \n",
       "261868                                0.0  \n",
       "261869                               34.0  \n",
       "\n",
       "[261870 rows x 3 columns]"
      ]
     },
     "execution_count": 5,
     "metadata": {},
     "output_type": "execute_result"
    }
   ],
   "source": [
    "df = pkis2.to_dataframe()\n",
    "df"
   ]
  },
  {
   "cell_type": "markdown",
   "metadata": {},
   "source": [
    "This featurization pipeline consists of:\n",
    "\n",
    "- Converting the OFF molecule to RDKit molecule\n",
    "- Generating the Morgan fingerprint with nbits=512, radius=2"
   ]
  },
  {
   "cell_type": "code",
   "execution_count": 6,
   "metadata": {},
   "outputs": [],
   "source": [
    "from kinoml.features.ligand import SmilesToLigandFeaturizer, MorganFingerprintFeaturizer\n",
    "from kinoml.features.protein import AminoAcidCompositionFeaturizer\n",
    "from kinoml.features.core import ScaleFeaturizer, Concatenated, Pipeline\n",
    "\n",
    "morgan_featurizer = Pipeline([SmilesToLigandFeaturizer(style=\"rdkit\"), MorganFingerprintFeaturizer(nbits=512, radius=2)])"
   ]
  },
  {
   "cell_type": "code",
   "execution_count": 7,
   "metadata": {},
   "outputs": [
    {
     "data": {
      "application/vnd.jupyter.widget-view+json": {
       "model_id": "6fb2d6e9bdb344528bbcec55ed19db25",
       "version_major": 2,
       "version_minor": 0
      },
      "text/plain": [
       "HBox(children=(HTML(value=''), FloatProgress(value=0.0, max=257920.0), HTML(value='')))"
      ]
     },
     "metadata": {},
     "output_type": "display_data"
    },
    {
     "name": "stdout",
     "output_type": "stream",
     "text": [
      "\n"
     ]
    }
   ],
   "source": [
    "# prefeaturize everything -- use single process for this dataset to benefit from the LRU cache!\n",
    "pkis2.featurize(morgan_featurizer, processes=1);"
   ]
  },
  {
   "cell_type": "markdown",
   "metadata": {},
   "source": [
    "Remove systems that couldn't be featurized"
   ]
  },
  {
   "cell_type": "code",
   "execution_count": 13,
   "metadata": {},
   "outputs": [
    {
     "data": {
      "application/vnd.jupyter.widget-view+json": {
       "model_id": "849d244371ad4a5b830e12fa0036d052",
       "version_major": 2,
       "version_minor": 0
      },
      "text/plain": [
       "HBox(children=(HTML(value=''), FloatProgress(value=1.0, bar_style='info', layout=Layout(width='20px'), max=1.0…"
      ]
     },
     "metadata": {},
     "output_type": "display_data"
    },
    {
     "name": "stdout",
     "output_type": "stream",
     "text": [
      "\n"
     ]
    },
    {
     "data": {
      "text/plain": [
       "(261870, 0)"
      ]
     },
     "execution_count": 13,
     "metadata": {},
     "output_type": "execute_result"
    }
   ],
   "source": [
    "from kinoml.datasets.groups import CallableGrouper, RandomGrouper\n",
    "grouper = CallableGrouper(lambda measurement: 'invalid' if 'last' not in measurement.system.featurizations else 'valid')\n",
    "grouper.assign(pkis2, overwrite=True)\n",
    "groups = pkis2.split_by_groups()\n",
    "len(groups.get('valid', [])), len(groups.get('invalid', []))"
   ]
  },
  {
   "cell_type": "markdown",
   "metadata": {},
   "source": [
    "Split by kinase name, since these models are ligand-based (so one model per kinase)."
   ]
  },
  {
   "cell_type": "code",
   "execution_count": 14,
   "metadata": {},
   "outputs": [
    {
     "data": {
      "application/vnd.jupyter.widget-view+json": {
       "model_id": "f7a019b47b4f46c6a6816536f0340e9f",
       "version_major": 2,
       "version_minor": 0
      },
      "text/plain": [
       "HBox(children=(HTML(value=''), FloatProgress(value=1.0, bar_style='info', layout=Layout(width='20px'), max=1.0…"
      ]
     },
     "metadata": {},
     "output_type": "display_data"
    },
    {
     "name": "stdout",
     "output_type": "stream",
     "text": [
      "\n"
     ]
    }
   ],
   "source": [
    "grouper = CallableGrouper(lambda measurement: measurement.system.protein.name)\n",
    "grouper.assign(groups['valid'], overwrite=True)\n",
    "groups_by_kinase = groups['valid'].split_by_groups()"
   ]
  },
  {
   "cell_type": "markdown",
   "metadata": {},
   "source": [
    "Split each kinase group by measurement type too. We need to for-loops for that:"
   ]
  },
  {
   "cell_type": "code",
   "execution_count": null,
   "metadata": {},
   "outputs": [],
   "source": [
    "type_grouper = CallableGrouper(lambda measurement: type(measurement).__name__)\n",
    "random_grouper = RandomGrouper({\"idx_train\": 0.75, \"idx_test\": 0.25}) #, \"idx_val\": 0.1})\n",
    "\n",
    "output = HERE / \"_output/\"\n",
    "output.mkdir(parents=True, exist_ok=True)\n",
    "\n",
    "for kinase, ds in sorted(groups_by_kinase.items(), key=lambda kv: len(kv[1]), reverse=True):\n",
    "    type_grouper.assign(ds, overwrite=True)\n",
    "    types = ds.split_by_groups()\n",
    "    for mtype, ds_ in types.items():\n",
    "        indices = random_grouper._assign(ds)\n",
    "        X = np.asarray(ds_.featurized_systems())\n",
    "        y = ds_.measurements_as_array()\n",
    "        np.savez(output / f\"PKIS2__{kinase}__{mtype}.npz\", X=X, y=y.astype('float32'), **indices)"
   ]
  },
  {
   "cell_type": "markdown",
   "metadata": {},
   "source": [
    "Annotate observation models for `pytorch` and `xgboost` (we will need this in next notebooks)"
   ]
  },
  {
   "cell_type": "code",
   "execution_count": 20,
   "metadata": {},
   "outputs": [
    {
     "data": {
      "text/plain": [
       "<function kinoml.core.measurements.PercentageDisplacementMeasurement._observation_model_pytorch(dG_over_KT, inhibitor_conc=1, standard_conc=1, **kwargs)>"
      ]
     },
     "metadata": {},
     "output_type": "display_data"
    },
    {
     "name": "stdout",
     "output_type": "stream",
     "text": [
      "\n"
     ]
    }
   ],
   "source": [
    "observation_model_pytorch = pkis2.observation_model(backend=\"pytorch\")\n",
    "display(observation_model_pytorch)"
   ]
  },
  {
   "cell_type": "markdown",
   "metadata": {},
   "source": [
    "# Reproducibility logs"
   ]
  },
  {
   "cell_type": "code",
   "execution_count": 23,
   "metadata": {},
   "outputs": [
    {
     "name": "stdout",
     "output_type": "stream",
     "text": [
      "Watermark\n",
      "---------\n",
      "pytorch_lightning 0.9.0\n",
      "logging           0.5.1.2\n",
      "numpy             1.19.1\n",
      "kinoml            0+untagged.194.ga840398.dirty\n",
      "last updated: 2020-10-01 21:39:02 CEST 2020-10-01T21:39:02+02:00\n",
      "\n",
      "CPython 3.7.8\n",
      "IPython 7.17.0\n",
      "\n",
      "compiler   : GCC 7.5.0\n",
      "system     : Linux\n",
      "release    : 4.19.128-microsoft-standard\n",
      "machine    : x86_64\n",
      "processor  : x86_64\n",
      "CPU cores  : 8\n",
      "interpreter: 64bit\n",
      "host name  : jrodriguez\n",
      "Git hash   : 17e0526faa2b817814304742ac61ee3bd12d7abd\n",
      "watermark 2.0.2\n",
      "\n",
      "conda\n",
      "-----\n",
      "sys.version: 3.7.6 | packaged by conda-forge | (defau...\n",
      "sys.prefix: /opt/miniconda\n",
      "sys.executable: /opt/miniconda/bin/python\n",
      "conda location: /opt/miniconda/lib/python3.7/site-packages/conda\n",
      "conda-build: /opt/miniconda/bin/conda-build\n",
      "conda-convert: /opt/miniconda/bin/conda-convert\n",
      "conda-debug: /opt/miniconda/bin/conda-debug\n",
      "conda-develop: /opt/miniconda/bin/conda-develop\n",
      "conda-env: /opt/miniconda/bin/conda-env\n",
      "conda-index: /opt/miniconda/bin/conda-index\n",
      "conda-inspect: /opt/miniconda/bin/conda-inspect\n",
      "conda-metapackage: /opt/miniconda/bin/conda-metapackage\n",
      "conda-render: /opt/miniconda/bin/conda-render\n",
      "conda-server: /opt/miniconda/bin/conda-server\n",
      "conda-skeleton: /opt/miniconda/bin/conda-skeleton\n",
      "conda-smithy: /opt/miniconda/bin/conda-smithy\n",
      "user site dirs: ~/.local/lib/python3.8\n",
      "\n",
      "CIO_TEST: <not set>\n",
      "CONDA_DEFAULT_ENV: kinoml-ci\n",
      "CONDA_EXE: /opt/miniconda/bin/conda\n",
      "CONDA_PREFIX: /home/jaime/.conda/envs/kinoml-ci\n",
      "CONDA_PREFIX_1: /opt/miniconda\n",
      "CONDA_PROMPT_MODIFIER: (kinoml-ci) \n",
      "CONDA_PYTHON_EXE: /opt/miniconda/bin/python\n",
      "CONDA_ROOT: /opt/miniconda\n",
      "CONDA_SHLVL: 2\n",
      "CURL_CA_BUNDLE: <not set>\n",
      "PATH: /home/jaime/.conda/envs/kinoml-ci/bin:/opt/miniconda/condabin:/home/jaime/.local/bin:/usr/local/sbin:/usr/local/bin:/usr/sbin:/usr/bin:/sbin:/bin:/usr/games:/usr/local/games:/mnt/c/Program Files/NVIDIA GPU Computing Toolkit/CUDA/v10.1/bin:/mnt/c/Program Files/NVIDIA GPU Computing Toolkit/CUDA/v10.1/libnvvp:/mnt/c/Windows/system32:/mnt/c/Windows:/mnt/c/Windows/System32/Wbem:/mnt/c/Windows/System32/WindowsPowerShell/v1.0:/mnt/c/Windows/System32/OpenSSH:/mnt/c/Program Files (x86)/NVIDIA Corporation/PhysX/Common:/mnt/c/WINDOWS/system32:/mnt/c/WINDOWS:/mnt/c/WINDOWS/System32/Wbem:/mnt/c/WINDOWS/System32/WindowsPowerShell/v1.0:/mnt/c/WINDOWS/System32/OpenSSH:/mnt/c/Program Files (x86)/Windows Kits/10/Windows Performance Toolkit:/mnt/c/Program Files/NVIDIA Corporation/Nsight Compute 2019.3.0:/mnt/c/Program Files/Intel/WiFi/bin:/mnt/c/Program Files/Common Files/Intel/WirelessCommon:/mnt/c/Program Files/NVIDIA Corporation/NVIDIA NvDLISR:/mnt/c/Android:/mnt/c/WINDOWS/system32:/mnt/c/WINDOWS:/mnt/c/WINDOWS/System32/Wbem:/mnt/c/WINDOWS/System32/WindowsPowerShell/v1.0:/mnt/c/WINDOWS/System32/OpenSSH:/mnt/c/Program Files (x86)/Intel/Intel(R) Management Engine Components/DAL:/mnt/c/Program Files/Intel/Intel(R) Management Engine Components/DAL:/mnt/c/Program Files/Docker/Docker/resources/bin:/mnt/c/ProgramData/DockerDesktop/version-bin:/mnt/c/Users/Jaime/AppData/Local/Microsoft/WindowsApps:/mnt/c/Users/Jaime/AppData/Local/Programs/Microsoft VS Code/bin:/mnt/c/Program Files (x86)/mingw-w64/i686-8.1.0-posix-dwarf-rt_v6-rev0/mingw32/bin:/mnt/c/G09W:/mnt/c/Program Files (x86)/FAHClient:/mnt/c/Program Files/7-Zip:/mnt/c/Users/Jaime/AppData/Local/atom/bin:/mnt/c/Users/Jaime/AppData/Local/Microsoft/WindowsApps\n",
      "PYTHONHASHSEED: 1234\n",
      "REQUESTS_CA_BUNDLE: <not set>\n",
      "SSL_CERT_FILE: <not set>\n",
      "\n",
      "\n",
      "# packages in environment at /home/jaime/.conda/envs/kinoml-ci:\n",
      "#\n",
      "# Name                    Version                   Build  Channel\n",
      "_libgcc_mutex             0.1                 conda_forge    conda-forge\n",
      "_openmp_mutex             4.5                      1_llvm    conda-forge\n",
      "_py-xgboost-mutex         2.0                       cpu_0    conda-forge\n",
      "absl-py                   0.10.0           py37hc8dfbb8_0    conda-forge\n",
      "aiohttp                   3.6.2            py37h516909a_0    conda-forge\n",
      "alabaster                 0.7.12                   pypi_0    pypi\n",
      "amberlite                 16.0                     pypi_0    pypi\n",
      "ambertools                17.0                     pypi_0    pypi\n",
      "appdirs                   1.4.3                      py_1    conda-forge\n",
      "argh                      0.26.2                py37_1001    conda-forge\n",
      "argon2-cffi               20.1.0           py37h8f50634_1    conda-forge\n",
      "arpack                    3.7.0                hc6cf775_1    conda-forge\n",
      "ase                       3.20.1                   pypi_0    pypi\n",
      "astroid                   2.4.2            py37hc8dfbb8_0    conda-forge\n",
      "async-timeout             3.0.1                   py_1000    conda-forge\n",
      "attrs                     19.3.0                     py_0    conda-forge\n",
      "babel                     2.8.0                    pypi_0    pypi\n",
      "backcall                  0.2.0              pyh9f0ad1d_0    conda-forge\n",
      "backports                 1.0                        py_2    conda-forge\n",
      "backports.functools_lru_cache 1.6.1                      py_0    conda-forge\n",
      "black                     19.10b0                  py37_0    conda-forge\n",
      "blas                      2.16                        mkl    conda-forge\n",
      "bleach                    3.1.5              pyh9f0ad1d_0    conda-forge\n",
      "blinker                   1.4                        py_1    conda-forge\n",
      "boost                     1.72.0           py37h9de70de_0    conda-forge\n",
      "boost-cpp                 1.72.0               h7b93d67_2    conda-forge\n",
      "brotlipy                  0.7.0           py37h8f50634_1000    conda-forge\n",
      "bson                      0.5.9                      py_0    conda-forge\n",
      "bzip2                     1.0.8                h516909a_2    conda-forge\n",
      "c-ares                    1.16.1               h516909a_0    conda-forge\n",
      "ca-certificates           2020.7.22                     0  \n",
      "cachetools                4.1.1                      py_0    conda-forge\n",
      "cairo                     1.16.0            h3fc0475_1005    conda-forge\n",
      "certifi                   2020.6.20        py37hc8dfbb8_0    conda-forge\n",
      "cffi                      1.14.1           py37h2b28604_0    conda-forge\n",
      "chardet                   3.0.4           py37hc8dfbb8_1006    conda-forge\n",
      "click                     7.1.2              pyh9f0ad1d_0    conda-forge\n",
      "codecov                   2.1.8              pyh9f0ad1d_0    conda-forge\n",
      "configparser              5.0.0                      py_0    conda-forge\n",
      "coverage                  5.2.1            py37h8f50634_0    conda-forge\n",
      "cryptography              3.0              py37hb09aad4_0    conda-forge\n",
      "cudatoolkit               10.2.89              hfd86e86_1  \n",
      "curl                      7.71.1               he644dc0_4    conda-forge\n",
      "cycler                    0.10.0                     py_2    conda-forge\n",
      "cython                    0.29.21          py37h3340039_0    conda-forge\n",
      "decorator                 4.4.2                      py_0    conda-forge\n",
      "defusedxml                0.6.0                      py_0    conda-forge\n",
      "docker-pycreds            0.4.0                      py_0    conda-forge\n",
      "docutils                  0.16                     pypi_0    pypi\n",
      "entrypoints               0.3             py37hc8dfbb8_1001    conda-forge\n",
      "fftw                      3.3.8           nompi_h7f3a6c3_1111    conda-forge\n",
      "fftw3f                    3.3.4                         2    omnia\n",
      "fontconfig                2.13.1            h1056068_1002    conda-forge\n",
      "freetype                  2.10.2               he06d7ca_0    conda-forge\n",
      "future                    0.18.2           py37hc8dfbb8_1    conda-forge\n",
      "gettext                   0.19.8.1          hc5be6a0_1002    conda-forge\n",
      "gitdb                     4.0.5                      py_0    conda-forge\n",
      "gitpython                 3.1.7                    pypi_0    pypi\n",
      "glib                      2.65.0               h6f030ca_0    conda-forge\n",
      "google-auth               1.22.0                     py_0    conda-forge\n",
      "google-auth-oauthlib      0.4.1                      py_2    conda-forge\n",
      "googledrivedownloader     0.4                      pypi_0    pypi\n",
      "gql                       2.0.0              pyh9f0ad1d_0    conda-forge\n",
      "graphql-core              2.3.2              pyh9f0ad1d_0    conda-forge\n",
      "grpcio                    1.31.0           py37hb0870dc_0    conda-forge\n",
      "h5py                      2.10.0                   pypi_0    pypi\n",
      "hdf4                      4.2.13            hf30be14_1003    conda-forge\n",
      "hdf5                      1.10.6          nompi_h3c11f04_101    conda-forge\n",
      "htmlmin                   0.1.12                   pypi_0    pypi\n",
      "icu                       67.1                 he1b5a44_0    conda-forge\n",
      "idna                      2.10               pyh9f0ad1d_0    conda-forge\n",
      "imagesize                 1.2.0                    pypi_0    pypi\n",
      "importlib-metadata        1.7.0            py37hc8dfbb8_0    conda-forge\n",
      "importlib_metadata        1.7.0                         0    conda-forge\n",
      "iniconfig                 1.0.1              pyh9f0ad1d_0    conda-forge\n",
      "ipykernel                 5.3.4            py37h43977f1_0    conda-forge\n",
      "ipython                   7.17.0           py37hc6149b9_0    conda-forge\n",
      "ipython_genutils          0.2.0                      py_1    conda-forge\n",
      "ipywidgets                7.5.1                      py_0    conda-forge\n",
      "isodate                   0.6.0                    pypi_0    pypi\n",
      "isort                     5.5.0            py37hc8dfbb8_0    conda-forge\n",
      "jedi                      0.17.2           py37hc8dfbb8_0    conda-forge\n",
      "jinja2                    2.11.2             pyh9f0ad1d_0    conda-forge\n",
      "joblib                    0.16.0                     py_0    conda-forge\n",
      "jpeg                      9d                   h516909a_0    conda-forge\n",
      "jsmin                     2.2.2                    pypi_0    pypi\n",
      "json5                     0.9.4              pyh9f0ad1d_0    conda-forge\n",
      "jsonschema                3.2.0            py37hc8dfbb8_1    conda-forge\n",
      "jupyter_client            6.1.6                      py_0    conda-forge\n",
      "jupyter_core              4.6.3            py37hc8dfbb8_1    conda-forge\n",
      "jupyterlab                2.2.6                      py_0    conda-forge\n",
      "jupyterlab_server         1.2.0                      py_0    conda-forge\n",
      "kinoml                    0+untagged.159.g0a9783a.dirty           dev_0    <develop>\n",
      "kiwisolver                1.2.0            py37h99015e2_0    conda-forge\n",
      "krb5                      1.17.1               hfafb76e_2    conda-forge\n",
      "lazy-object-proxy         1.4.3            py37h8f50634_2    conda-forge\n",
      "lcms2                     2.11                 hbd6801e_0    conda-forge\n",
      "ld_impl_linux-64          2.34                 hc38a660_9    conda-forge\n",
      "libblas                   3.8.0                    16_mkl    conda-forge\n",
      "libcblas                  3.8.0                    16_mkl    conda-forge\n",
      "libcurl                   7.71.1               hcdd3856_4    conda-forge\n",
      "libedit                   3.1.20191231         h46ee950_1    conda-forge\n",
      "libev                     4.33                 h516909a_0    conda-forge\n",
      "libffi                    3.2.1             he1b5a44_1007    conda-forge\n",
      "libgcc-ng                 9.3.0               h24d8f2e_14    conda-forge\n",
      "libgfortran-ng            7.5.0               hdf63c60_14    conda-forge\n",
      "libgomp                   9.3.0               h24d8f2e_14    conda-forge\n",
      "libiconv                  1.15              h516909a_1006    conda-forge\n",
      "liblapack                 3.8.0                    16_mkl    conda-forge\n",
      "liblapacke                3.8.0                    16_mkl    conda-forge\n",
      "libnetcdf                 4.7.4           nompi_h84807e1_105    conda-forge\n",
      "libnghttp2                1.41.0               hab1572f_1    conda-forge\n",
      "libpng                    1.6.37               hed695b0_1    conda-forge\n",
      "libprotobuf               3.13.0               h8b12597_0    conda-forge\n",
      "libsodium                 1.0.18               h516909a_0    conda-forge\n",
      "libssh2                   1.9.0                hab1572f_5    conda-forge\n",
      "libstdcxx-ng              9.3.0               hdf63c60_14    conda-forge\n",
      "libtiff                   4.1.0                hc7e4089_6    conda-forge\n",
      "libuuid                   2.32.1            h14c3975_1000    conda-forge\n",
      "libwebp-base              1.1.0                h516909a_3    conda-forge\n",
      "libxcb                    1.13              h14c3975_1002    conda-forge\n",
      "libxgboost                1.2.0                he1b5a44_0    conda-forge\n",
      "libxml2                   2.9.10               h72b56ed_2    conda-forge\n",
      "livereload                2.6.2                    pypi_0    pypi\n",
      "llvm-openmp               10.0.1               hc9558a2_0    conda-forge\n",
      "llvmlite                  0.33.0                   pypi_0    pypi\n",
      "lz4-c                     1.9.2                he1b5a44_1    conda-forge\n",
      "markdown                  3.2.2                      py_0    conda-forge\n",
      "markupsafe                1.1.1            py37h8f50634_1    conda-forge\n",
      "matplotlib-base           3.3.0            py37hd478181_1    conda-forge\n",
      "mccabe                    0.6.1                      py_1    conda-forge\n",
      "mistune                   0.8.4           py37h8f50634_1001    conda-forge\n",
      "mkdocs                    1.0.4                    pypi_0    pypi\n",
      "mkdocs-git-revision-date-localized-plugin 0.5.0                    pypi_0    pypi\n",
      "mkdocs-material           4.6.3                    pypi_0    pypi\n",
      "mkdocs-minify-plugin      0.2.3                    pypi_0    pypi\n",
      "mkdocstrings              0.7.1                    pypi_0    pypi\n",
      "mkl                       2020.2                      256    conda-forge\n",
      "mmpbsa-py                 16.0                     pypi_0    pypi\n",
      "more-itertools            8.4.0                      py_0    conda-forge\n",
      "msgpack-python            1.0.0            py37h99015e2_1    conda-forge\n",
      "multidict                 4.7.6            py37h7b6447c_1  \n",
      "mypy_extensions           0.4.3            py37hc8dfbb8_1    conda-forge\n",
      "nbconvert                 5.6.1            py37hc8dfbb8_1    conda-forge\n",
      "nbformat                  5.0.7                      py_0    conda-forge\n",
      "ncurses                   6.2                  he1b5a44_1    conda-forge\n",
      "netcdf-fortran            4.5.3           nompi_hfef6a68_100    conda-forge\n",
      "networkx                  2.4                        py_1    conda-forge\n",
      "nglview                   2.7.7              pyh5ca1d4c_1    conda-forge\n",
      "ninja                     1.10.0               hc9558a2_0    conda-forge\n",
      "notebook                  6.1.3            py37hc8dfbb8_0    conda-forge\n",
      "numba                     0.50.1                   pypi_0    pypi\n",
      "numpy                     1.19.1           py37h8960a57_0    conda-forge\n",
      "nvidia-ml                 7.352.0                    py_0    conda-forge\n",
      "oauthlib                  3.1.0                      py_0  \n",
      "olefile                   0.46                       py_0    conda-forge\n",
      "openforcefield            refs-pull-583-head          pypi_0    pypi\n",
      "openforcefields           1.2.0                    py37_0    omnia\n",
      "openmm                    7.4.2           py37_cuda101_rc_1    omnia\n",
      "openssl                   1.1.1h               h516909a_0    conda-forge\n",
      "packaging                 20.4               pyh9f0ad1d_0    conda-forge\n",
      "packmol-memgen            1.1.0rc0                 pypi_0    pypi\n",
      "pandas                    1.1.0            py37h3340039_0    conda-forge\n",
      "pandoc                    2.10.1               h516909a_0    conda-forge\n",
      "pandocfilters             1.4.2                      py_1    conda-forge\n",
      "parmed                    at20RC5+54.g5702a232fe.dirty          pypi_0    pypi\n",
      "parso                     0.7.1              pyh9f0ad1d_0    conda-forge\n",
      "pathspec                  0.8.0              pyh9f0ad1d_0    conda-forge\n",
      "pathtools                 0.1.2                      py_1    conda-forge\n",
      "pcre                      8.44                 he1b5a44_0    conda-forge\n",
      "pdb4amber                 1.7.dev0                 pypi_0    pypi\n",
      "perl                      5.26.2            h516909a_1006    conda-forge\n",
      "pexpect                   4.8.0            py37hc8dfbb8_1    conda-forge\n",
      "pickleshare               0.7.5           py37hc8dfbb8_1001    conda-forge\n",
      "pillow                    7.2.0            py37h718be6c_1    conda-forge\n",
      "pint                      0.14                       py_0    conda-forge\n",
      "pip                       20.2.2                     py_0    conda-forge\n",
      "pixman                    0.38.0            h516909a_1003    conda-forge\n",
      "pluggy                    0.13.1           py37hc8dfbb8_2    conda-forge\n",
      "prometheus_client         0.8.0              pyh9f0ad1d_0    conda-forge\n",
      "promise                   2.3              py37hc8dfbb8_1    conda-forge\n",
      "prompt-toolkit            3.0.6                      py_0    conda-forge\n",
      "protobuf                  3.13.0           py37h3340039_0    conda-forge\n",
      "psutil                    5.7.2            py37h8f50634_0    conda-forge\n",
      "pthread-stubs             0.4               h14c3975_1001    conda-forge\n",
      "ptyprocess                0.6.0                   py_1001    conda-forge\n",
      "py                        1.9.0              pyh9f0ad1d_0    conda-forge\n",
      "py-xgboost                1.2.0            py37hc8dfbb8_0    conda-forge\n",
      "pyasn1                    0.4.8                      py_0    conda-forge\n",
      "pyasn1-modules            0.2.8                      py_0  \n",
      "pycairo                   1.19.1           py37h01af8b0_3    conda-forge\n",
      "pycparser                 2.20               pyh9f0ad1d_2    conda-forge\n",
      "pygments                  2.6.1                      py_0    conda-forge\n",
      "pyjwt                     1.7.1                      py_0    conda-forge\n",
      "pylint                    2.6.0            py37hc8dfbb8_0    conda-forge\n",
      "pymdown-extensions        6.3                      pypi_0    pypi\n",
      "pyopenssl                 19.1.0                     py_1    conda-forge\n",
      "pyparsing                 2.4.7              pyh9f0ad1d_0    conda-forge\n",
      "pyrsistent                0.16.0           py37h8f50634_0    conda-forge\n",
      "pysocks                   1.7.1            py37hc8dfbb8_1    conda-forge\n",
      "pytest                    6.0.1            py37hc8dfbb8_0    conda-forge\n",
      "pytest-cov                2.10.0             pyh9f0ad1d_0    conda-forge\n",
      "python                    3.7.8           h6f2ec95_1_cpython    conda-forge\n",
      "python-dateutil           2.8.1                      py_0    conda-forge\n",
      "python_abi                3.7                     1_cp37m    conda-forge\n",
      "pytorch                   1.6.0           py3.7_cuda10.2.89_cudnn7.6.5_0    pytorch\n",
      "pytorch-lightning         0.9.0                      py_0    conda-forge\n",
      "pytraj                    2.0.5                    pypi_0    pypi\n",
      "pytz                      2020.1             pyh9f0ad1d_0    conda-forge\n",
      "pyyaml                    5.3.1            py37h8f50634_0    conda-forge\n",
      "pyzmq                     19.0.2           py37hac76be4_0    conda-forge\n",
      "rdflib                    5.0.0                    pypi_0    pypi\n",
      "rdkit                     2020.03.5        py37h3f38cc2_0    conda-forge\n",
      "readline                  8.0                  he28a2e2_2    conda-forge\n",
      "regex                     2020.7.14        py37h8f50634_0    conda-forge\n",
      "requests                  2.24.0             pyh9f0ad1d_0    conda-forge\n",
      "requests-oauthlib         1.3.0              pyh9f0ad1d_0    conda-forge\n",
      "rsa                       4.6                pyh9f0ad1d_0    conda-forge\n",
      "rx                        1.6.1                      py_0    conda-forge\n",
      "sander                    16.0                     pypi_0    pypi\n",
      "scikit-learn              0.23.2           py37h6785257_0    conda-forge\n",
      "scipy                     1.5.2            py37hb14ef9d_0    conda-forge\n",
      "send2trash                1.5.0                      py_0    conda-forge\n",
      "sentry-sdk                0.17.6             pyh9f0ad1d_0    conda-forge\n",
      "setuptools                49.3.2           py37hc8dfbb8_0    conda-forge\n",
      "shortuuid                 1.0.1            py37hc8dfbb8_2    conda-forge\n",
      "six                       1.15.0             pyh9f0ad1d_0    conda-forge\n",
      "sklearn-pytorch           0.1.0                    pypi_0    pypi\n",
      "smirnoff99frosst          1.1.0                    py37_1    omnia\n",
      "smmap                     3.0.4              pyh9f0ad1d_0    conda-forge\n",
      "snowballstemmer           2.0.0                    pypi_0    pypi\n",
      "sphinx                    3.2.0                    pypi_0    pypi\n",
      "sphinxcontrib-applehelp   1.0.2                    pypi_0    pypi\n",
      "sphinxcontrib-devhelp     1.0.2                    pypi_0    pypi\n",
      "sphinxcontrib-htmlhelp    1.0.3                    pypi_0    pypi\n",
      "sphinxcontrib-jsmath      1.0.1                    pypi_0    pypi\n",
      "sphinxcontrib-qthelp      1.0.3                    pypi_0    pypi\n",
      "sphinxcontrib-serializinghtml 1.1.4                    pypi_0    pypi\n",
      "sqlite                    3.32.3               hcee41ef_1    conda-forge\n",
      "subprocess32              3.5.4                    pypi_0    pypi\n",
      "tensorboard               2.2.0                      py_0    conda-forge\n",
      "tensorboard-plugin-wit    1.6.0              pyh9f0ad1d_0    conda-forge\n",
      "terminado                 0.8.3            py37hc8dfbb8_1    conda-forge\n",
      "testpath                  0.4.4                      py_0    conda-forge\n",
      "threadpoolctl             2.1.0              pyh5ca1d4c_0    conda-forge\n",
      "tk                        8.6.10               hed695b0_0    conda-forge\n",
      "toml                      0.10.1             pyh9f0ad1d_0    conda-forge\n",
      "torch-cluster             1.5.7                    pypi_0    pypi\n",
      "torch-geometric           1.6.1                    pypi_0    pypi\n",
      "torch-scatter             2.0.5                    pypi_0    pypi\n",
      "torch-sparse              0.6.7                    pypi_0    pypi\n",
      "torch-spline-conv         1.2.0                    pypi_0    pypi\n",
      "torchvision               0.7.0                py37_cu102    pytorch\n",
      "tornado                   6.0.4            py37h8f50634_1    conda-forge\n",
      "tqdm                      4.48.2             pyh9f0ad1d_0    conda-forge\n",
      "traitlets                 4.3.3            py37hc8dfbb8_1    conda-forge\n",
      "typed-ast                 1.4.1            py37h516909a_0    conda-forge\n",
      "typing_extensions         3.7.4.3                    py_0  \n",
      "urllib3                   1.25.10                    py_0    conda-forge\n",
      "wandb                     0.10.2                   pypi_0    pypi\n",
      "watchdog                  0.10.3           py37hc8dfbb8_1    conda-forge\n",
      "watermark                 2.0.2                      py_0    conda-forge\n",
      "wcwidth                   0.2.5              pyh9f0ad1d_1    conda-forge\n",
      "webencodings              0.5.1                      py_1    conda-forge\n",
      "werkzeug                  1.0.1              pyh9f0ad1d_0    conda-forge\n",
      "wheel                     0.34.2                     py_1    conda-forge\n",
      "widgetsnbextension        3.5.1            py37hc8dfbb8_1    conda-forge\n",
      "wrapt                     1.11.2           py37h516909a_0    conda-forge\n",
      "xgboost                   1.2.0            py37h3340039_0    conda-forge\n",
      "xmltodict                 0.12.0                     py_0    conda-forge\n",
      "xorg-kbproto              1.0.7             h14c3975_1002    conda-forge\n",
      "xorg-libice               1.0.10               h516909a_0    conda-forge\n",
      "xorg-libsm                1.2.3             h84519dc_1000    conda-forge\n",
      "xorg-libx11               1.6.11               h516909a_0    conda-forge\n",
      "xorg-libxau               1.0.9                h14c3975_0    conda-forge\n",
      "xorg-libxdmcp             1.1.3                h516909a_0    conda-forge\n",
      "xorg-libxext              1.3.4                h516909a_0    conda-forge\n",
      "xorg-libxrender           0.9.10            h516909a_1002    conda-forge\n",
      "xorg-libxt                1.2.0                h516909a_0    conda-forge\n",
      "xorg-renderproto          0.11.1            h14c3975_1002    conda-forge\n",
      "xorg-xextproto            7.3.0             h14c3975_1002    conda-forge\n",
      "xorg-xproto               7.0.31            h14c3975_1007    conda-forge\n",
      "xz                        5.2.5                h516909a_1    conda-forge\n",
      "yaml                      0.2.5                h516909a_0    conda-forge\n",
      "yarl                      1.5.1            py37h7b6447c_0  \n",
      "zeromq                    4.3.2                he1b5a44_3    conda-forge\n",
      "zipp                      3.1.0                      py_0    conda-forge\n",
      "zlib                      1.2.11            h516909a_1007    conda-forge\n",
      "zstd                      1.4.5                h6597ccf_2    conda-forge\n",
      "\n"
     ]
    }
   ],
   "source": [
    "from kinoml.utils import watermark\n",
    "watermark()"
   ]
  }
 ],
 "metadata": {
  "kernelspec": {
   "display_name": "Python 3",
   "language": "python",
   "name": "python3"
  },
  "language_info": {
   "codemirror_mode": {
    "name": "ipython",
    "version": 3
   },
   "file_extension": ".py",
   "mimetype": "text/x-python",
   "name": "python",
   "nbconvert_exporter": "python",
   "pygments_lexer": "ipython3",
   "version": "3.7.8"
  }
 },
 "nbformat": 4,
 "nbformat_minor": 4
}
